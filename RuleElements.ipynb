{
 "cells": [
  {
   "cell_type": "code",
   "execution_count": 1,
   "id": "handled-fairy",
   "metadata": {
    "scrolled": false,
    "tags": [
     "hide-input"
    ]
   },
   "outputs": [
    {
     "data": {
      "text/html": [
       "<style>\n",
       "    .widget-label { min-width: 25ex !important; }\n",
       "</style>"
      ],
      "text/plain": [
       "<IPython.core.display.HTML object>"
      ]
     },
     "metadata": {},
     "output_type": "display_data"
    },
    {
     "data": {
      "application/vnd.jupyter.widget-view+json": {
       "model_id": "f3d7895cac8b402fa51a16000f983acd",
       "version_major": 2,
       "version_minor": 0
      },
      "text/plain": [
       "Dropdown(description='Key:', options=('Flat Modifier', 'Damage Dice', 'Weapon Potency', 'Striking rune', 'Mult…"
      ]
     },
     "metadata": {},
     "output_type": "display_data"
    },
    {
     "data": {
      "application/vnd.jupyter.widget-view+json": {
       "model_id": "5ae81ce5619b430dafd1ce99631e62f9",
       "version_major": 2,
       "version_minor": 0
      },
      "text/plain": [
       "Button(description='Select Key', style=ButtonStyle())"
      ]
     },
     "metadata": {},
     "output_type": "display_data"
    },
    {
     "data": {
      "application/vnd.jupyter.widget-view+json": {
       "model_id": "12241e23803e48e3b27e729950814840",
       "version_major": 2,
       "version_minor": 0
      },
      "text/plain": [
       "Dropdown(description='Selector', disabled=True, options=('all', 'str-based', 'dex-based', 'con-based', 'int-ba…"
      ]
     },
     "metadata": {},
     "output_type": "display_data"
    },
    {
     "data": {
      "application/vnd.jupyter.widget-view+json": {
       "model_id": "0b968fcd662d42e7870d03f2dea7da64",
       "version_major": 2,
       "version_minor": 0
      },
      "text/plain": [
       "Dropdown(description='Advanced Selector', disabled=True, options=(('no advanced selector', ''), ('Only this it…"
      ]
     },
     "metadata": {},
     "output_type": "display_data"
    },
    {
     "data": {
      "application/vnd.jupyter.widget-view+json": {
       "model_id": "1ef1f9869c154512aa6ad4ab5a4e44e8",
       "version_major": 2,
       "version_minor": 0
      },
      "text/plain": [
       "Button(description='Set Selectors', disabled=True, style=ButtonStyle())"
      ]
     },
     "metadata": {},
     "output_type": "display_data"
    },
    {
     "data": {
      "application/vnd.jupyter.widget-view+json": {
       "model_id": "eddf040ed17a4c24b611115e55b3ffdd",
       "version_major": 2,
       "version_minor": 0
      },
      "text/plain": [
       "Dropdown(description='Damage type', disabled=True, options=('', 'slashing', 'piercing', 'bludgeoning', 'precis…"
      ]
     },
     "metadata": {},
     "output_type": "display_data"
    },
    {
     "data": {
      "application/vnd.jupyter.widget-view+json": {
       "model_id": "45f8f586f26c468f9a6cdc778ec65708",
       "version_major": 2,
       "version_minor": 0
      },
      "text/plain": [
       "IntText(value=0, description='Value:', disabled=True)"
      ]
     },
     "metadata": {},
     "output_type": "display_data"
    },
    {
     "data": {
      "application/vnd.jupyter.widget-view+json": {
       "model_id": "cc83be39f3fb4103b1c2012b42ed9d35",
       "version_major": 2,
       "version_minor": 0
      },
      "text/plain": [
       "IntText(value=0, description='Number of dice:', disabled=True)"
      ]
     },
     "metadata": {},
     "output_type": "display_data"
    },
    {
     "data": {
      "application/vnd.jupyter.widget-view+json": {
       "model_id": "49448a6b48b543aa9fd94439540cc369",
       "version_major": 2,
       "version_minor": 0
      },
      "text/plain": [
       "Dropdown(description='Die size:', disabled=True, options=('', 'd4', 'd6', 'd8', 'd10', 'd12'), value='')"
      ]
     },
     "metadata": {},
     "output_type": "display_data"
    },
    {
     "data": {
      "application/vnd.jupyter.widget-view+json": {
       "model_id": "d9c2a4821afc49d4bea63546e87763a6",
       "version_major": 2,
       "version_minor": 0
      },
      "text/plain": [
       "Checkbox(value=False, description='Override base die?', disabled=True)"
      ]
     },
     "metadata": {},
     "output_type": "display_data"
    },
    {
     "data": {
      "application/vnd.jupyter.widget-view+json": {
       "model_id": "736d499484df4e23a92ff34ac13cafce",
       "version_major": 2,
       "version_minor": 0
      },
      "text/plain": [
       "Dropdown(description='Type', disabled=True, options=('', 'circumstance', 'item', 'status'), value='')"
      ]
     },
     "metadata": {},
     "output_type": "display_data"
    },
    {
     "data": {
      "application/vnd.jupyter.widget-view+json": {
       "model_id": "f2e07068e37044349a547e0a905bb397",
       "version_major": 2,
       "version_minor": 0
      },
      "text/plain": [
       "Box(children=(SelectMultiple(description='Predicate:All', disabled=True, options=('agile', 'attached', 'backst…"
      ]
     },
     "metadata": {},
     "output_type": "display_data"
    },
    {
     "data": {
      "application/vnd.jupyter.widget-view+json": {
       "model_id": "b9eef6cce185449b8c61011a88fcca78",
       "version_major": 2,
       "version_minor": 0
      },
      "text/plain": [
       "Dropdown(description='Show note on outcome:', disabled=True, options=('', 'Success', 'CriticalSuccess'), value…"
      ]
     },
     "metadata": {},
     "output_type": "display_data"
    },
    {
     "data": {
      "application/vnd.jupyter.widget-view+json": {
       "model_id": "e7feb6a03dfe436c9f0c10c5713cc465",
       "version_major": 2,
       "version_minor": 0
      },
      "text/plain": [
       "Checkbox(value=False, description='Add a label?', disabled=True)"
      ]
     },
     "metadata": {},
     "output_type": "display_data"
    },
    {
     "data": {
      "application/vnd.jupyter.widget-view+json": {
       "model_id": "7b9bfaf1933d467598fef49b92e7fd59",
       "version_major": 2,
       "version_minor": 0
      },
      "text/plain": [
       "Checkbox(value=False, description='Add a Name?', disabled=True)"
      ]
     },
     "metadata": {},
     "output_type": "display_data"
    },
    {
     "data": {
      "application/vnd.jupyter.widget-view+json": {
       "model_id": "eefae9fd4c8f4cd38da878f7fd8b657d",
       "version_major": 2,
       "version_minor": 0
      },
      "text/plain": [
       "Button(description='Create Rule Element', disabled=True, style=ButtonStyle())"
      ]
     },
     "metadata": {},
     "output_type": "display_data"
    },
    {
     "data": {
      "application/vnd.jupyter.widget-view+json": {
       "model_id": "7433bde37b59448b8a4f44c6b4afe779",
       "version_major": 2,
       "version_minor": 0
      },
      "text/plain": [
       "Button(description='Reset', style=ButtonStyle())"
      ]
     },
     "metadata": {},
     "output_type": "display_data"
    }
   ],
   "source": [
    "# Import packages\n",
    "import pandas as pd\n",
    "import ipywidgets as widgets\n",
    "import csv\n",
    "from IPython.display import HTML, display\n",
    "\n",
    "# Change the display style to allow the full descriptions to be shown\n",
    "display(HTML('''<style>\n",
    "    .widget-label { min-width: 25ex !important; }\n",
    "</style>'''))\n",
    "\n",
    "\n",
    "# Read in the datasets SelectorList and OptionList could be moved here but for ease of adding new ones I went with csv files\n",
    "ElementDF = pd.read_csv('RuleElements.csv')\n",
    "SelectorList = pd.read_csv('selectors.csv').columns.to_list()\n",
    "OptionList = pd.read_csv('options.csv').columns.to_list()\n",
    "\n",
    "# A list of common traits used as predicates\n",
    "CommonPredicates = ['agile','attached','backstabber','backswing','brutal','climbing',\n",
    "                    'concealable','deadly','disarm','fatal','finesse','forceful','free-hand','grapple',\n",
    "                    'halfling','hampering','jousting','modular','monk','nonlethal','parry','propulsive','range',\n",
    "                    'ranged','trip','reach','reload','shove','sweep','tethered','thrown','trip','twin','two-hand',\n",
    "                    'unarmed','versatile','volley','fear','mental','arcane','divine','occult','primal','abjuration','conjuration',\n",
    "                    'divination','enchantment','evocation','illusion','necromancy','transmutation','auditory',\n",
    "                    'olfactory','visual','acid','cold','electricity','fire','force','negative','positive','sonic',\n",
    "                    'alchemical','contact','ingested','inhaled','injury','poison']\n",
    "\n",
    "# A list of all damage types.\n",
    "DamageTypes = ['','slashing','piercing','bludgeoning','precision','fire','cold','electricity','acid','poison',\n",
    "               'sonic','force','mental','lawful','chaotic','good','evil','positive','negative']\n",
    "\n",
    "# Make functions.\n",
    "def MakeRuleElement(Key,Options):\n",
    "    ####################################################################\n",
    "    # This takes in a key and options for that key and builds a rule element.\n",
    "    #\n",
    "    # key -- A string giving the key for the rule element.\n",
    "    # options -- An array of strings containing the options for the rule element\n",
    "    ####################################################################\n",
    "    \n",
    "    RuleElement = '{\"key\\\":\\\"' + Key + '\"'\n",
    "    \n",
    "    for Option in Options:\n",
    "        RuleElement += ',' + Option\n",
    "    \n",
    "    RuleElement += '}'\n",
    "    \n",
    "    return print(RuleElement)\n",
    "\n",
    "def GetPropertyList(row):\n",
    "    ####################################################################\n",
    "    # This returns a list of the applicable rule elements.\n",
    "    #\n",
    "    # To be used with df.apply(), this is a utility function and just\n",
    "    # helps to store values.  It does not need to be run except to add \n",
    "    # new properties.\n",
    "    ####################################################################\n",
    "    \n",
    "    row = row[PropertyList]\n",
    "    \n",
    "    passed = row[row == 'y'].index.tolist()\n",
    "    return(passed)\n",
    "\n",
    "def PreparePredicates(All, Any, Not):\n",
    "    ####################################################################\n",
    "    # This puts the predacate lists together into a single entity\n",
    "    #\n",
    "    # All -- List containing predicates which must all be satisfied\n",
    "    # Any -- List containing predicates where one must be satified.\n",
    "    # Not -- !All\n",
    "    ####################################################################\n",
    "    \n",
    "    Predicate = str()\n",
    "    \n",
    "    if len(All + Any + Not) > 0:\n",
    "        Predicate += '\\\"predicate\\\":{'\n",
    "    \n",
    "    if len(All) > 0:\n",
    "        Predicate += '\\\"all\\\":[\\\"'\n",
    "        i = 1\n",
    "        for each in All:\n",
    "            if i == len(All):\n",
    "                Predicate += each + '\\\"'\n",
    "            else:\n",
    "                Predicate += each + '\\\",\\\"'\n",
    "                i += 1\n",
    "        Predicate += ']'\n",
    "        \n",
    "        if len(Any + Not) > 0:\n",
    "            Predicate += ','\n",
    "            \n",
    "    if len(Any) > 0:\n",
    "        Predicate += '\\\"any\\\":[\\\"'\n",
    "        i = 1\n",
    "        for each in Any:\n",
    "            if i == len(Any):\n",
    "                Predicate += each + '\\\"'\n",
    "            else:\n",
    "                Predicate += each + '\\\",\\\"'\n",
    "                i += 1\n",
    "        Predicate += ']'\n",
    "        \n",
    "        if len(Not) > 0:\n",
    "            Predicate += ','\n",
    "            \n",
    "    if len(Not) > 0:\n",
    "        Predicate += '\\\"not\\\":[\\\"'\n",
    "        i = 1\n",
    "        for each in Not:\n",
    "            if i == len(Not):\n",
    "                Predicate += each + '\\\"'\n",
    "            else:\n",
    "                Predicate += each + '\\\",\\\"'\n",
    "                i += 1\n",
    "        Predicate += ']'\n",
    "\n",
    "    if len(All + Any + Not) > 0:\n",
    "        Predicate += '}'\n",
    "        \n",
    "    return Predicate\n",
    "\n",
    "\n",
    "def PrepareOptions(Selector, AdvancedSelector, Value, Type, DamageType, DieSize, DiceNumber, Predicate, Label, Name, Override, Outcome):\n",
    "    ####################################################################\n",
    "    # This brings each option together and puts them into a single string.\n",
    "    #\n",
    "    # All inputs are strings with the exception of Value and DiceNumber\n",
    "    # which are integers.\n",
    "    #\n",
    "    # As new options are added this must be modified.\n",
    "    ####################################################################\n",
    "    \n",
    "    # Create an empty list\n",
    "    Options = []\n",
    "    \n",
    "    # Check if each option has a value set and add it to the options list.\n",
    "    ## --------------------------------------------------------------------------------\n",
    "    if len(Selector) > 0:\n",
    "        Options += ['\"selector\":\"' + AdvancedSelector + Selector + '\"']\n",
    "    \n",
    "    if len(DamageType) > 0:\n",
    "        if DamageType == 'precision':\n",
    "            Options += ['\"damageCategory\":\"' + DamageType + '\"']\n",
    "        else:\n",
    "            Options += ['\"damageType\":\"' + DamageType + '\"']\n",
    "\n",
    "    if len(DieSize) > 0:\n",
    "        if Override:\n",
    "            Options += ['\"override\":{\"dieSize\":\"' + DieSize + '\"}']\n",
    "        else:\n",
    "            Options += ['\"dieSize\":\"' + DieSize + '\"']\n",
    "        \n",
    "    if DiceNumber > 0:\n",
    "        Options += ['\"diceNumber\":' + str(DiceNumber)]\n",
    "    \n",
    "    if abs(Value) > 0:\n",
    "        Options += ['\"value\":' + str(Value)]\n",
    "        \n",
    "    if len(Type) > 0:\n",
    "        Options += ['\"type\":\"' + Type + '\"']\n",
    "        \n",
    "    if len(Predicate) >0:\n",
    "        Options += [Predicate]\n",
    "        \n",
    "    if Key.value == 'Note':\n",
    "        Options += ['\"text\":\"YOUR TEXT HERE\"']\n",
    "\n",
    "    if len(Outcome) > 0:\n",
    "         Options += ['\"outcome\":[\"' + Outcome + '\"]']\n",
    "    \n",
    "    if Label:\n",
    "        Options += ['\"label\":\"YOUR LABEL HERE\"']\n",
    "    \n",
    "    if Name:\n",
    "        Options += ['\"name\":\"SET NAME HERE\"']\n",
    "    ## --------------------------------------------------------------------------------\n",
    "        \n",
    "    return Options\n",
    "\n",
    "def ResetState(b):\n",
    "    ####################################################################\n",
    "    # Resets all options to the defaults again.\n",
    "    #\n",
    "    # b -- button input, to enable it to be used with the buttons.\n",
    "    #      can be ignored or passed a dummy if you want to call it.\n",
    "    #\n",
    "    # As new options are added this must be modified.\n",
    "    ####################################################################\n",
    "    Selector.options = ElementDF.ValidSelectors[ElementDF.FriendlyName == Key.value].values[0]\n",
    "    Selector.value = ElementDF.ValidSelectors[ElementDF.FriendlyName == Key.value].values[0][0]\n",
    "    \n",
    "    AdvancedSelector.value=''\n",
    "    \n",
    "    Selector.disabled=True\n",
    "    AdvancedSelector.disabled=True\n",
    "    \n",
    "    DamageType.disabled=True\n",
    "    Value.disabled=True\n",
    "    DiceNumber.disabled=True\n",
    "    DieSize.disabled=True\n",
    "    Override.disabled=True\n",
    "    Type.disabled=True\n",
    "    All.disabled=True\n",
    "    Any.disabled=True\n",
    "    Not.disabled=True\n",
    "    Outcome.disabled=True\n",
    "    Label.disabled=True\n",
    "    Name.disabled=True\n",
    "    FinishButton.disabled=True\n",
    "    \n",
    "    Label.value=False\n",
    "    Name.value=False\n",
    "    DamageType.value=''\n",
    "    Value.value=0\n",
    "    DiceNumber.value=0\n",
    "    DieSize.value=''\n",
    "    Override.value=False\n",
    "    Type.value=''\n",
    "    Outcome.value=''\n",
    "    \n",
    "    return\n",
    "\n",
    "def SetKey(b):\n",
    "    ####################################################################\n",
    "    # Sets the key to be used, resets and enables the selector fields.\n",
    "    #\n",
    "    # b -- button input, to enable it to be used with the buttons.\n",
    "    #      can be ignored or passed a dummy if you want to call it.\n",
    "    ####################################################################\n",
    "    \n",
    "    \n",
    "    ResetState(1)\n",
    "    \n",
    "    Selector.disabled=False\n",
    "    AdvancedSelector.disabled=False\n",
    "    SelectorButton.disabled=False\n",
    "    \n",
    "    return \n",
    "\n",
    "def SetSelector(b):\n",
    "    ####################################################################\n",
    "    # Sets the selector and advanced selector to be used, enables the\n",
    "    # options fields.\n",
    "    #\n",
    "    # b -- button input, to enable it to be used with the buttons.\n",
    "    #      can be ignored or passed a dummy if you want to call it.\n",
    "    #\n",
    "    # As new options are added this must be modified.\n",
    "    ####################################################################\n",
    "    \n",
    "    # Reset the values for all options when picking a new selector.\n",
    "    Label.value=False\n",
    "    Name.value=False\n",
    "    DamageType.value=''\n",
    "    Value.value=0\n",
    "    DiceNumber.value=0\n",
    "    DieSize.value=''\n",
    "    Override.value=False\n",
    "    Type.value=''\n",
    "    Outcome.value=''\n",
    "    \n",
    "    # This set of conditionals handle the determining which options show up.\n",
    "    ## --------------------------------------------------------------------------------\n",
    "    if (('damage' in Selector.value) and (Key.value != 'Striking rune') & (Key.value != 'Note')):\n",
    "        DamageType.disabled=False\n",
    "\n",
    "    if 'value' in ElementDF.ValidOptions[ElementDF.FriendlyName == Key.value].values[0]:\n",
    "        Value.disabled=False\n",
    "\n",
    "    if 'diceNumber' in ElementDF.ValidOptions[ElementDF.FriendlyName == Key.value].values[0]:\n",
    "        DiceNumber.disabled=False\n",
    "\n",
    "    if 'dieSize' in ElementDF.ValidOptions[ElementDF.FriendlyName == Key.value].values[0]:\n",
    "        DieSize.disabled=False\n",
    "        Override.disabled=False\n",
    "\n",
    "    if 'type' in ElementDF.ValidOptions[ElementDF.FriendlyName == Key.value].values[0]:\n",
    "        Type.disabled=False\n",
    "\n",
    "    if 'outcome' in ElementDF.ValidOptions[ElementDF.FriendlyName == Key.value].values[0]:\n",
    "        Outcome.disabled=False\n",
    "        \n",
    "    if 'predicate' in ElementDF.ValidOptions[ElementDF.FriendlyName == Key.value].values[0]:\n",
    "        All.disabled=False\n",
    "        Any.disabled=False\n",
    "        Not.disabled=False\n",
    "    ## --------------------------------------------------------------------------------\n",
    "        \n",
    "    # These option are always valid.\n",
    "    Label.disabled=False\n",
    "    Name.disabled=False\n",
    "    \n",
    "    FinishButton.disabled=False\n",
    "    \n",
    "    return\n",
    "\n",
    "def FinishElement(b):\n",
    "    ####################################################################\n",
    "    # Creates a rule element based on current selections.\n",
    "    #\n",
    "    # b -- button input, to enable it to be used with the buttons.\n",
    "    #      can be ignored or passed a dummy if you want to call it.\n",
    "    ####################################################################\n",
    "\n",
    "    Predicate = PreparePredicates(All.value, Any.value, Not.value)\n",
    "    Options = PrepareOptions(Selector.value, AdvancedSelector.value, Value.value, Type.value, DamageType.value, DieSize.value, DiceNumber.value, Predicate, Label.value, Name.value, Override.value, Outcome.value)\n",
    "\n",
    "    MakeRuleElement(ElementDF.Key[ElementDF.FriendlyName == Key.value].values[0],Options)\n",
    "    \n",
    "    return\n",
    "\n",
    "# Generate possible selectors and properties for each key\n",
    "PropertyList = SelectorList\n",
    "ElementDF['ValidSelectors'] = ElementDF.apply(GetPropertyList,axis = 1)\n",
    "\n",
    "PropertyList = OptionList\n",
    "ElementDF['ValidOptions'] = ElementDF.apply(GetPropertyList,axis = 1)\n",
    "\n",
    "\n",
    "# Define the iPython widgets being used.\n",
    "# If new options are added they must be added here.\n",
    "## ----------------------------------------------------------------------\n",
    "Key = widgets.Dropdown(\n",
    "options=ElementDF.FriendlyName.tolist(),\n",
    "value=ElementDF.FriendlyName.tolist()[0],\n",
    "description='Key:',\n",
    "disabled=False\n",
    ")\n",
    "\n",
    "All = widgets.SelectMultiple(\n",
    "options=CommonPredicates,\n",
    "value=[],\n",
    "rows=15,\n",
    "description='Predicate:All',\n",
    "disabled=True )\n",
    "\n",
    "Any = widgets.SelectMultiple(\n",
    "options=CommonPredicates,\n",
    "value=[],\n",
    "rows=15,\n",
    "description='Any',\n",
    "disabled=True )\n",
    "\n",
    "Not = widgets.SelectMultiple(\n",
    "options=CommonPredicates,\n",
    "value=[],\n",
    "rows=15,\n",
    "description='Not',\n",
    "disabled=True )\n",
    "\n",
    "Selector = widgets.Dropdown(\n",
    "options=ElementDF.ValidSelectors[ElementDF.FriendlyName == Key.value].values[0],\n",
    "value='all',\n",
    "description='Selector',\n",
    "disabled=True)\n",
    "\n",
    "AdvancedSelector = widgets.Dropdown(\n",
    "options=[('no advanced selector',''),('Only this item','{item|_id}-'),('swords','sword-weapon-group-'),('bows','bow-weapon-group-'),('knives','knife-weapon-group-'),('spears','spear-weapon-group-'),('axes','axe-weapon-group-'),('hammers','hammer-weapon-group-'),('picks','pick-weapon-group-'),('flails','flail-weapon-group-'),('brawling','brawling-weapon-group-'),('polearms','polearm-weapon-group-'),('sling','sling-weapon-group-'),('bombs','bomb-weapon-group-'),('shields','shield-weapon-group-'),('darts','dart-weapon-group-'),('clubs','clubs-weapon-group-')],\n",
    "value='',\n",
    "description='Advanced Selector',\n",
    "disabled=True )\n",
    "\n",
    "Label = widgets.Checkbox(\n",
    "value=False,\n",
    "description='Add a label?',\n",
    "disabled=True,\n",
    "indent=True\n",
    ")\n",
    "\n",
    "Name = widgets.Checkbox(\n",
    "value=False,\n",
    "description='Add a Name?',\n",
    "disabled=True,\n",
    "indent=True\n",
    ")\n",
    "\n",
    "DamageType = widgets.Dropdown(\n",
    "options=DamageTypes,\n",
    "value='',\n",
    "description='Damage type',\n",
    "disabled=True )\n",
    "\n",
    "Value = widgets.IntText(\n",
    "value=0,\n",
    "description='Value:',\n",
    "disabled=True)\n",
    "\n",
    "DiceNumber = widgets.IntText(\n",
    "value=0,\n",
    "description='Number of dice:',\n",
    "disabled=True )\n",
    "\n",
    "DieSize = widgets.Dropdown(\n",
    "options=['','d4','d6','d8','d10','d12'],\n",
    "value='',\n",
    "description='Die size:',\n",
    "disabled=True )\n",
    "\n",
    "Override = widgets.Checkbox(\n",
    "value=False,\n",
    "description='Override base die?',\n",
    "disabled=True,\n",
    "indent=True )\n",
    "\n",
    "Type = widgets.Dropdown(\n",
    "options=['','circumstance','item','status'],\n",
    "value='',\n",
    "description='Type',\n",
    "disabled=True )\n",
    "\n",
    "Outcome = widgets.Dropdown(\n",
    "options=['','Success','CriticalSuccess'],\n",
    "value='',\n",
    "description='Show note on outcome:',\n",
    "disabled=True\n",
    ")\n",
    "## ----------------------------------------------------------------------\n",
    "\n",
    "# Create buttons\n",
    "KeyButton = widgets.Button(description = \"Select Key\")\n",
    "SelectorButton = widgets.Button(description = \"Set Selectors\", disabled=True)\n",
    "FinishButton = widgets.Button(description = \"Create Rule Element\", disabled=True)\n",
    "ResetButton = widgets.Button(description = \"Reset\")\n",
    "\n",
    "# Define what happens when clicking each button.\n",
    "KeyButton.on_click(SetKey)\n",
    "SelectorButton.on_click(SetSelector)\n",
    "FinishButton.on_click(FinishElement)\n",
    "ResetButton.on_click(ResetState)\n",
    "\n",
    "# Display all fields and buttons.\n",
    "# If new options are added they must be displayed.\n",
    "## ----------------------------------------------------------------------\n",
    "display(Key)\n",
    "display(KeyButton)\n",
    "\n",
    "display(Selector)\n",
    "display(AdvancedSelector)\n",
    "display(SelectorButton)\n",
    "\n",
    "display(DamageType)\n",
    "display(Value)\n",
    "display(DiceNumber)\n",
    "display(DieSize)\n",
    "display(Override)\n",
    "display(Type)\n",
    "PredicateBox = widgets.Box(children=[All,Any,Not])\n",
    "print('Control-click to select multiple / deselect predicates')\n"
    "display(PredicateBox)\n",
    "display(Outcome)\n",
    "display(Label)\n",
    "display(Name)\n",
    "display(FinishButton)\n",
    "display(ResetButton)\n",
    "## ----------------------------------------------------------------------"
   ]
  },
  {
   "cell_type": "markdown",
   "id": "boolean-cheese",
   "metadata": {},
   "source": [
    "Notes:\n",
    "* For general questions about rule elements or to learn the more advanced features please visit the PF2e system wiki (https://gitlab.com/hooking/foundry-vtt---pathfinder-2e/-/wikis/Quickstart-guide-for-rule-elements) or the PF2e channel on the Foundry Discord (https://discord.gg/foundryvtt).\n",
    "* If you cannot enter a value in a cell that cell is disabled by choices you made earlier.  For example a bonus to intimidation checks will not have a damage type field, so this input is disabled unless you have a rule that supports it.\n",
    "* The \"Create Rule Element\" button takes the current selections in all fields, the \"Set\" buttons just determine which fields to enable. So if you change the key or selector you can end up with an invalid rule element.\n",
    "* Advanced selectors always display, but most combinations of selector and advanced selector don't make sense.\n",
    "* When using override remember that the number of dice will be bonus dice.  So if you just want to change the base damage to d12 without adding dice the dice number should be 0.\n",
    "* The trait list is far from exhaustive, but it's already incredibly long.  This will probably be cut down from where it is to just be the most common traits.  These can always be edited after you create the rule element to use any trait or custom traits.\n",
    "* If you encounter an issue please submit an Issue on the github page (https://github.com/TikaelSol/RuleElementGenerator/issues) or ping me on Discord (Tikael#6851)."
   ]
  },
  {
   "cell_type": "code",
   "execution_count": null,
   "id": "weighted-synthetic",
   "metadata": {},
   "outputs": [],
   "source": [
    "# The code is ugly and by neccesity must come before the output so we hide it.\n",
    "HTML('''<script>\n",
    "code_show=true; \n",
    "function code_toggle() {\n",
    " if (code_show){\n",
    " $('div.input').hide();\n",
    " } else {\n",
    " $('div.input').show();\n",
    " }\n",
    " code_show = !code_show\n",
    "} \n",
    "$( document ).ready(code_toggle);\n",
    "</script>\n",
    "<form action=\"javascript:code_toggle()\"><input type=\"submit\" value=\"Click here to toggle on/off the raw code.\"></form>''')"
   ]
  }
 ],
 "metadata": {
  "kernelspec": {
   "display_name": "Python 3",
   "language": "python",
   "name": "python3"
  },
  "language_info": {
   "codemirror_mode": {
    "name": "ipython",
    "version": 3
   },
   "file_extension": ".py",
   "mimetype": "text/x-python",
   "name": "python",
   "nbconvert_exporter": "python",
   "pygments_lexer": "ipython3",
   "version": "3.7.9"
  },
  "widgets": {
   "application/vnd.jupyter.widget-state+json": {
    "state": {
     "00542181536543e8acfb87c633483f97": {
      "model_module": "@jupyter-widgets/controls",
      "model_module_version": "1.5.0",
      "model_name": "DescriptionStyleModel",
      "state": {
       "description_width": ""
      }
     },
     "00ff1209315d4cfe9619f1cd37c2140f": {
      "model_module": "@jupyter-widgets/controls",
      "model_module_version": "1.5.0",
      "model_name": "DescriptionStyleModel",
      "state": {
       "description_width": ""
      }
     },
     "012ae43987e3478594ffdcdd11283484": {
      "model_module": "@jupyter-widgets/controls",
      "model_module_version": "1.5.0",
      "model_name": "SelectMultipleModel",
      "state": {
       "_options_labels": [
        "agile",
        "finesse",
        "rage",
        "unarmed",
        "fear",
        "mental",
        "poison",
        "disease",
        "fear",
        "sweep"
       ],
       "description": "Not",
       "disabled": true,
       "index": [],
       "layout": "IPY_MODEL_a4a22c8f0fd34e10b06e1bbe0497a90a",
       "rows": 5,
       "style": "IPY_MODEL_88eac859c6c94985a464fd85799f0e41"
      }
     },
     "012ddf29144242c681a2416d7af237aa": {
      "model_module": "@jupyter-widgets/controls",
      "model_module_version": "1.5.0",
      "model_name": "IntTextModel",
      "state": {
       "description": "Value:",
       "disabled": true,
       "layout": "IPY_MODEL_0ee49b2fdc8b4610af3cf6176ea4dd8e",
       "step": 1,
       "style": "IPY_MODEL_b92c24c52c9444b29f45402f5f15fcfd"
      }
     },
     "01511e82e6fa4c98b9efb11f38a52712": {
      "model_module": "@jupyter-widgets/controls",
      "model_module_version": "1.5.0",
      "model_name": "DescriptionStyleModel",
      "state": {
       "description_width": ""
      }
     },
     "015d2da2d0a9490994469766ba54edb6": {
      "model_module": "@jupyter-widgets/controls",
      "model_module_version": "1.5.0",
      "model_name": "DropdownModel",
      "state": {
       "_options_labels": [
        "Flat Modifier",
        "Damage Dice",
        "Weapon Potency",
        "Striking rune",
        "Multi Attack Penalty"
       ],
       "description": "Key:",
       "index": 0,
       "layout": "IPY_MODEL_f635ab2175454ae4956e615f073a68a4",
       "style": "IPY_MODEL_9aafa239952546d09baa93fb91b457a7"
      }
     },
     "018adc67b3f74f0c8ea4b525a4f46880": {
      "model_module": "@jupyter-widgets/controls",
      "model_module_version": "1.5.0",
      "model_name": "CheckboxModel",
      "state": {
       "description": "Add a label?",
       "disabled": true,
       "indent": false,
       "layout": "IPY_MODEL_faaeb0dfc1f84a14a270ddffa8a44784",
       "style": "IPY_MODEL_e11f12f105514cb19ec075f56c57cec3",
       "value": false
      }
     },
     "019a23d594c3491ab47070fbdf6bf018": {
      "model_module": "@jupyter-widgets/controls",
      "model_module_version": "1.5.0",
      "model_name": "DescriptionStyleModel",
      "state": {
       "description_width": ""
      }
     },
     "019b80f27c414ed59beb480bb0f93c9b": {
      "model_module": "@jupyter-widgets/controls",
      "model_module_version": "1.5.0",
      "model_name": "DropdownModel",
      "state": {
       "_options_labels": [
        "",
        "circumstance",
        "item",
        "status"
       ],
       "description": "Type",
       "disabled": true,
       "index": 0,
       "layout": "IPY_MODEL_e4be5fcfbafe46e790cef8af93a7339b",
       "style": "IPY_MODEL_16496eea81dd4e359e96cb8ef8372dda"
      }
     },
     "02a4562fd347436c8e136905aaebaa7b": {
      "model_module": "@jupyter-widgets/controls",
      "model_module_version": "1.5.0",
      "model_name": "DescriptionStyleModel",
      "state": {
       "description_width": ""
      }
     },
     "034e1be8d7c14635abc6a852b7cbc8cd": {
      "model_module": "@jupyter-widgets/controls",
      "model_module_version": "1.5.0",
      "model_name": "DescriptionStyleModel",
      "state": {
       "description_width": ""
      }
     },
     "03ac1780a0f140059cd73992fae1241f": {
      "model_module": "@jupyter-widgets/controls",
      "model_module_version": "1.5.0",
      "model_name": "DescriptionStyleModel",
      "state": {
       "description_width": ""
      }
     },
     "03c9b9244fb04cba9b5bec74346eadc3": {
      "model_module": "@jupyter-widgets/base",
      "model_module_version": "1.2.0",
      "model_name": "LayoutModel",
      "state": {}
     },
     "03f18a86c79149f296e21477baa5a0cd": {
      "model_module": "@jupyter-widgets/controls",
      "model_module_version": "1.5.0",
      "model_name": "DescriptionStyleModel",
      "state": {
       "description_width": ""
      }
     },
     "04197216ba3141e7b61c9cfa7e063e86": {
      "model_module": "@jupyter-widgets/controls",
      "model_module_version": "1.5.0",
      "model_name": "ButtonStyleModel",
      "state": {}
     },
     "045fd484e80a4dacae1e0fcc5541fc79": {
      "model_module": "@jupyter-widgets/base",
      "model_module_version": "1.2.0",
      "model_name": "LayoutModel",
      "state": {}
     },
     "04893a57e6ca4f8d9441760b41b0b408": {
      "model_module": "@jupyter-widgets/controls",
      "model_module_version": "1.5.0",
      "model_name": "DescriptionStyleModel",
      "state": {
       "description_width": ""
      }
     },
     "05055da4982144fe807bf10978f46e80": {
      "model_module": "@jupyter-widgets/controls",
      "model_module_version": "1.5.0",
      "model_name": "DescriptionStyleModel",
      "state": {
       "description_width": ""
      }
     },
     "050a638859594c8dba690ad4194b173d": {
      "model_module": "@jupyter-widgets/controls",
      "model_module_version": "1.5.0",
      "model_name": "DescriptionStyleModel",
      "state": {
       "description_width": ""
      }
     },
     "0519161ec24e44e39c524870400309b4": {
      "model_module": "@jupyter-widgets/controls",
      "model_module_version": "1.5.0",
      "model_name": "DescriptionStyleModel",
      "state": {
       "description_width": ""
      }
     },
     "054c857a08a04a9a8537e3b2d28a7810": {
      "model_module": "@jupyter-widgets/controls",
      "model_module_version": "1.5.0",
      "model_name": "ButtonModel",
      "state": {
       "description": "Create Rule Element",
       "disabled": true,
       "layout": "IPY_MODEL_702663bbd3bc4a73add06bb0e88b8e25",
       "style": "IPY_MODEL_6b8a0548b02b4b7c88ead1b909cfac52"
      }
     },
     "05d7b77f870e4a698f2183919dc01a8c": {
      "model_module": "@jupyter-widgets/controls",
      "model_module_version": "1.5.0",
      "model_name": "DropdownModel",
      "state": {
       "_options_labels": [
        "no advanced selector",
        "Only this item",
        "swords",
        "bows",
        "knives",
        "spears",
        "axes",
        "hammers",
        "picks",
        "flails",
        "brawling",
        "polearms",
        "sling",
        "bombs",
        "shields",
        "darts",
        "clubs"
       ],
       "description": "Advanced Selector",
       "disabled": true,
       "index": 0,
       "layout": "IPY_MODEL_ddd7ade677894c10b59fea6ba0719915",
       "style": "IPY_MODEL_c8ead30990e1464ba1d8a1fd7ee4602c"
      }
     },
     "064788cdf9154f2e864c4b76ff79618b": {
      "model_module": "@jupyter-widgets/controls",
      "model_module_version": "1.5.0",
      "model_name": "DropdownModel",
      "state": {
       "_options_labels": [
        "",
        "d4",
        "d6",
        "d8",
        "d10",
        "d12"
       ],
       "description": "Die size:",
       "disabled": true,
       "index": 0,
       "layout": "IPY_MODEL_0b62263e91f84dfb9647c87ed941c1f1",
       "style": "IPY_MODEL_00542181536543e8acfb87c633483f97"
      }
     },
     "0692de08ab4140fc8b7aad47ed053a16": {
      "model_module": "@jupyter-widgets/controls",
      "model_module_version": "1.5.0",
      "model_name": "ButtonModel",
      "state": {
       "description": "Reset",
       "layout": "IPY_MODEL_d2b775175f344243904c568f1542aa27",
       "style": "IPY_MODEL_c412742cc0b14b1dac6e24dbf1c72736"
      }
     },
     "06e076614c5a44e186b6a01dfac2eb3d": {
      "model_module": "@jupyter-widgets/controls",
      "model_module_version": "1.5.0",
      "model_name": "ButtonStyleModel",
      "state": {}
     },
     "06f85fbf16a74ea08952a6f25467c91f": {
      "model_module": "@jupyter-widgets/controls",
      "model_module_version": "1.5.0",
      "model_name": "ButtonStyleModel",
      "state": {}
     },
     "07f3a268bab341788b1e61455f5e7283": {
      "model_module": "@jupyter-widgets/base",
      "model_module_version": "1.2.0",
      "model_name": "LayoutModel",
      "state": {}
     },
     "08434fd78db24252b3f4855048298206": {
      "model_module": "@jupyter-widgets/controls",
      "model_module_version": "1.5.0",
      "model_name": "DescriptionStyleModel",
      "state": {
       "description_width": ""
      }
     },
     "08794538753a4dd4801f269bc0504820": {
      "model_module": "@jupyter-widgets/controls",
      "model_module_version": "1.5.0",
      "model_name": "ButtonStyleModel",
      "state": {}
     },
     "087ddf87654346a4935abb681d132258": {
      "model_module": "@jupyter-widgets/base",
      "model_module_version": "1.2.0",
      "model_name": "LayoutModel",
      "state": {}
     },
     "094dc281c8d34c18a99d1e88b920ecf6": {
      "model_module": "@jupyter-widgets/controls",
      "model_module_version": "1.5.0",
      "model_name": "IntTextModel",
      "state": {
       "description": "Value:",
       "disabled": true,
       "layout": "IPY_MODEL_49ce3071b33548fbb8a295dfb1f77c1d",
       "step": 1,
       "style": "IPY_MODEL_c18c86945598453d9cb56c9f3ff04820"
      }
     },
     "09c6ca003a8448e3b1ce1b98dc74d690": {
      "model_module": "@jupyter-widgets/base",
      "model_module_version": "1.2.0",
      "model_name": "LayoutModel",
      "state": {}
     },
     "0a1b8b8e41a24195b0453c9677b31e34": {
      "model_module": "@jupyter-widgets/controls",
      "model_module_version": "1.5.0",
      "model_name": "DescriptionStyleModel",
      "state": {
       "description_width": ""
      }
     },
     "0a47cf84e55543a4ba1cde3f61dc8112": {
      "model_module": "@jupyter-widgets/base",
      "model_module_version": "1.2.0",
      "model_name": "LayoutModel",
      "state": {}
     },
     "0a8f57aef5f4489483bbd9e1d702fd03": {
      "model_module": "@jupyter-widgets/controls",
      "model_module_version": "1.5.0",
      "model_name": "DropdownModel",
      "state": {
       "_options_labels": [
        "",
        "slashing",
        "piercing",
        "bludgeoning",
        "precision",
        "fire",
        "cold",
        "electricity",
        "acid",
        "poison",
        "sonic",
        "force",
        "mental",
        "lawful",
        "chaotic",
        "good",
        "evil",
        "positive",
        "negative"
       ],
       "description": "Damage type",
       "disabled": true,
       "index": 0,
       "layout": "IPY_MODEL_e6dc9bab900f470794f901f31dad02f8",
       "style": "IPY_MODEL_72e7461d3e9e46779aec547893e3bd20"
      }
     },
     "0b1bfaf437c44eda863a1423d2df642f": {
      "model_module": "@jupyter-widgets/base",
      "model_module_version": "1.2.0",
      "model_name": "LayoutModel",
      "state": {}
     },
     "0b62263e91f84dfb9647c87ed941c1f1": {
      "model_module": "@jupyter-widgets/base",
      "model_module_version": "1.2.0",
      "model_name": "LayoutModel",
      "state": {}
     },
     "0c1f74334878445fa1420baac93f368e": {
      "model_module": "@jupyter-widgets/base",
      "model_module_version": "1.2.0",
      "model_name": "LayoutModel",
      "state": {}
     },
     "0c677c32d8484528b60020db5b1a009b": {
      "model_module": "@jupyter-widgets/controls",
      "model_module_version": "1.5.0",
      "model_name": "DropdownModel",
      "state": {
       "_options_labels": [
        "all",
        "str-based",
        "dex-based",
        "con-based",
        "int-based",
        "wis-based",
        "cha-based",
        "attack",
        "spell-attack",
        "attack-roll",
        "str-attack",
        "dex-attack",
        "con-attack",
        "int-attack",
        "wis-attack",
        "cha-attack",
        "damage",
        "saving-throw",
        "fortitude",
        "reflex",
        "will",
        "initiative",
        "perception",
        "class",
        "ac",
        "hp",
        "hp-per-level",
        "speed",
        "land-speed",
        "burrow-speed",
        "climb-speed",
        "fly-speed",
        "swim-speed",
        "skill-check",
        "acrobatics",
        "arcana",
        "athletics",
        "crafting",
        "deception",
        "diplomacy",
        "intimidation",
        "medicine",
        "nature",
        "occultism",
        "performance",
        "religion",
        "society",
        "stealth",
        "survival",
        "thievery"
       ],
       "description": "Selector",
       "disabled": true,
       "index": 0,
       "layout": "IPY_MODEL_8ab057d73e4c4cf084a388a7eb0a75c3",
       "style": "IPY_MODEL_187ac51a62a44392a716988ada8088ae"
      }
     },
     "0c787e311f804f9e9e67ba9ee3e0f62c": {
      "model_module": "@jupyter-widgets/controls",
      "model_module_version": "1.5.0",
      "model_name": "DescriptionStyleModel",
      "state": {
       "description_width": ""
      }
     },
     "0c8c810b2da74ac28c38ae75386178a4": {
      "model_module": "@jupyter-widgets/controls",
      "model_module_version": "1.5.0",
      "model_name": "DescriptionStyleModel",
      "state": {
       "description_width": ""
      }
     },
     "0d37499ff2b14be899474c51635696f9": {
      "model_module": "@jupyter-widgets/controls",
      "model_module_version": "1.5.0",
      "model_name": "ButtonStyleModel",
      "state": {}
     },
     "0d3764ad430a43788841b8206c252c4c": {
      "model_module": "@jupyter-widgets/controls",
      "model_module_version": "1.5.0",
      "model_name": "ButtonStyleModel",
      "state": {}
     },
     "0d5dc26574a443fea76f98dd0aeef8a2": {
      "model_module": "@jupyter-widgets/controls",
      "model_module_version": "1.5.0",
      "model_name": "BoxModel",
      "state": {
       "children": [
        "IPY_MODEL_abeaf6256f5a4b51aa3f1fe213ce6d84",
        "IPY_MODEL_65ee2db50a30480da38099a731eafac3",
        "IPY_MODEL_294943568f7b4d788ebe66a90ec3d92c"
       ],
       "layout": "IPY_MODEL_cc8e095d598b4f098ac7e34e40918035"
      }
     },
     "0daf608a73444d4f927f208c09bee4fb": {
      "model_module": "@jupyter-widgets/base",
      "model_module_version": "1.2.0",
      "model_name": "LayoutModel",
      "state": {}
     },
     "0dc2cc590b194813963e054d30b8e34f": {
      "model_module": "@jupyter-widgets/controls",
      "model_module_version": "1.5.0",
      "model_name": "DescriptionStyleModel",
      "state": {
       "description_width": ""
      }
     },
     "0dce81d646d34fcb8eaa22c530a7221c": {
      "model_module": "@jupyter-widgets/base",
      "model_module_version": "1.2.0",
      "model_name": "LayoutModel",
      "state": {}
     },
     "0e0f0f4b27e64b82a5f79cb8116e34f0": {
      "model_module": "@jupyter-widgets/controls",
      "model_module_version": "1.5.0",
      "model_name": "DescriptionStyleModel",
      "state": {
       "description_width": ""
      }
     },
     "0e990675ad8547619f555714c3b6e472": {
      "model_module": "@jupyter-widgets/base",
      "model_module_version": "1.2.0",
      "model_name": "LayoutModel",
      "state": {}
     },
     "0ecae781271a47639d4f79327a183754": {
      "model_module": "@jupyter-widgets/controls",
      "model_module_version": "1.5.0",
      "model_name": "DescriptionStyleModel",
      "state": {
       "description_width": ""
      }
     },
     "0ee49b2fdc8b4610af3cf6176ea4dd8e": {
      "model_module": "@jupyter-widgets/base",
      "model_module_version": "1.2.0",
      "model_name": "LayoutModel",
      "state": {}
     },
     "0f6114255d194b7ab8580e5d4fbd48b7": {
      "model_module": "@jupyter-widgets/controls",
      "model_module_version": "1.5.0",
      "model_name": "DescriptionStyleModel",
      "state": {
       "description_width": ""
      }
     },
     "0f8a6947c17d4c6fbb8b7d57f9da6f6a": {
      "model_module": "@jupyter-widgets/controls",
      "model_module_version": "1.5.0",
      "model_name": "DescriptionStyleModel",
      "state": {
       "description_width": ""
      }
     },
     "0fea41d239fe4ab8a0d18fb453dac1c1": {
      "model_module": "@jupyter-widgets/base",
      "model_module_version": "1.2.0",
      "model_name": "LayoutModel",
      "state": {}
     },
     "0feff4d754664804b3b015d4ca12d4aa": {
      "model_module": "@jupyter-widgets/controls",
      "model_module_version": "1.5.0",
      "model_name": "DropdownModel",
      "state": {
       "_options_labels": [
        "all",
        "str-based",
        "dex-based",
        "con-based",
        "int-based",
        "wis-based",
        "cha-based",
        "attack",
        "spell-attack",
        "attack-roll",
        "str-attack",
        "dex-attack",
        "con-attack",
        "int-attack",
        "wis-attack",
        "cha-attack",
        "damage",
        "saving-throw",
        "fortitude",
        "reflex",
        "will",
        "initiative",
        "perception",
        "class",
        "ac",
        "hp",
        "hp-per-level",
        "speed",
        "land-speed",
        "burrow-speed",
        "climb-speed",
        "fly-speed",
        "swim-speed",
        "skill-check",
        "acrobatics",
        "arcana",
        "athletics",
        "crafting",
        "deception",
        "diplomacy",
        "intimidation",
        "medicine",
        "nature",
        "occultism",
        "performance",
        "religion",
        "society",
        "stealth",
        "survival",
        "thievery"
       ],
       "description": "Selector",
       "disabled": true,
       "index": 0,
       "layout": "IPY_MODEL_dafc39c5aeb345a4a5e271815bb9746e",
       "style": "IPY_MODEL_c8b822721ec442348b7fa7886159784c"
      }
     },
     "0ffa1112008448bbb83f861b91f188b5": {
      "model_module": "@jupyter-widgets/base",
      "model_module_version": "1.2.0",
      "model_name": "LayoutModel",
      "state": {}
     },
     "10167bcda5aa4cc483ae19e5d426302f": {
      "model_module": "@jupyter-widgets/controls",
      "model_module_version": "1.5.0",
      "model_name": "DropdownModel",
      "state": {
       "_options_labels": [
        "",
        "d4",
        "d6",
        "d8",
        "d10",
        "d12"
       ],
       "description": "Die size:",
       "disabled": true,
       "index": 0,
       "layout": "IPY_MODEL_4a68ee8ec37c426cac33c11020faabbe",
       "style": "IPY_MODEL_8f1d25c08e7e436f9b4c021825257d02"
      }
     },
     "109786b61a36466cb7ce2f082d74f670": {
      "model_module": "@jupyter-widgets/base",
      "model_module_version": "1.2.0",
      "model_name": "LayoutModel",
      "state": {}
     },
     "10f725dd7ed140ebacb2cea548e7af69": {
      "model_module": "@jupyter-widgets/controls",
      "model_module_version": "1.5.0",
      "model_name": "DropdownModel",
      "state": {
       "_options_labels": [
        "",
        "d4",
        "d6",
        "d8",
        "d10",
        "d12"
       ],
       "description": "Die size:",
       "disabled": true,
       "index": 0,
       "layout": "IPY_MODEL_1b03630f78474142b5865cf98dd589c6",
       "style": "IPY_MODEL_e2607ea4372f465d8af6a8f2e4521be1"
      }
     },
     "115207386f6849a182bee159b4a267c8": {
      "model_module": "@jupyter-widgets/controls",
      "model_module_version": "1.5.0",
      "model_name": "ButtonModel",
      "state": {
       "description": "Set Selectors",
       "disabled": true,
       "layout": "IPY_MODEL_6ec53b6cefb5432fb8213f355d57dc2f",
       "style": "IPY_MODEL_40e774eaa0b4427f9671e546df4e4426"
      }
     },
     "1159ccafed9048da85027d225bb3283a": {
      "model_module": "@jupyter-widgets/controls",
      "model_module_version": "1.5.0",
      "model_name": "IntTextModel",
      "state": {
       "description": "Value:",
       "disabled": true,
       "layout": "IPY_MODEL_78d3b29bf93c41c0a0d5079a2f308c17",
       "step": 1,
       "style": "IPY_MODEL_c5dce920fd6841cc82cef9dcc8053862"
      }
     },
     "117699a9a8e34f36b0808087afd5a365": {
      "model_module": "@jupyter-widgets/controls",
      "model_module_version": "1.5.0",
      "model_name": "DescriptionStyleModel",
      "state": {
       "description_width": ""
      }
     },
     "11a86b94fde44fe1a808cc8b5927b3ef": {
      "model_module": "@jupyter-widgets/base",
      "model_module_version": "1.2.0",
      "model_name": "LayoutModel",
      "state": {}
     },
     "125df6d5a38042f6b742e55182c0f5c4": {
      "model_module": "@jupyter-widgets/controls",
      "model_module_version": "1.5.0",
      "model_name": "SelectMultipleModel",
      "state": {
       "_options_labels": [
        "agile",
        "attached",
        "backstabber",
        "backswing",
        "brutal",
        "climbing",
        "concealable",
        "conrasu",
        "deadly",
        "disarm",
        "fatal",
        "finesse",
        "forceful",
        "free-hand",
        "grapple",
        "halfling",
        "hampering",
        "jousting",
        "modular",
        "monk",
        "nonlethal",
        "parry",
        "propulsive",
        "range",
        "ranged",
        "trip",
        "reach",
        "reload",
        "shove",
        "sweep",
        "tethered",
        "thrown",
        "trip",
        "twin",
        "two-hand",
        "unarmed",
        "versatile",
        "volley",
        "fear",
        "mental",
        "arcane",
        "divine",
        "occult",
        "primal",
        "abjuration",
        "conjuration",
        "divination",
        "enchantment",
        "evocation",
        "illusion",
        "necromancy",
        "transmutation",
        "auditory",
        "olfactory",
        "visual",
        "acid",
        "cold",
        "electricity",
        "fire",
        "force",
        "negative",
        "positive",
        "sonic",
        "alchemical",
        "contact",
        "ingested",
        "inhaled",
        "injury",
        "poison"
       ],
       "description": "Any",
       "disabled": true,
       "index": [],
       "layout": "IPY_MODEL_e81c851256af422cbc79f750235b8908",
       "rows": 15,
       "style": "IPY_MODEL_d25f0179b19d4c8f8e01cf6f1b860467"
      }
     },
     "128e7bf46d644d2db189ffae65a7a6b4": {
      "model_module": "@jupyter-widgets/base",
      "model_module_version": "1.2.0",
      "model_name": "LayoutModel",
      "state": {}
     },
     "12a05882b7954df4b7ac979964ee7087": {
      "model_module": "@jupyter-widgets/base",
      "model_module_version": "1.2.0",
      "model_name": "LayoutModel",
      "state": {}
     },
     "133e066152374ac18afd7247b8c6f299": {
      "model_module": "@jupyter-widgets/controls",
      "model_module_version": "1.5.0",
      "model_name": "CheckboxModel",
      "state": {
       "description": "Add a label?",
       "disabled": true,
       "indent": false,
       "layout": "IPY_MODEL_3efaed6c477e43cc8afe06c2f77d2b67",
       "style": "IPY_MODEL_a7f2f1b040bf42798374dedea7cef0a7",
       "value": false
      }
     },
     "1340e29ba97b4fdea3669c8ad5ad09fb": {
      "model_module": "@jupyter-widgets/controls",
      "model_module_version": "1.5.0",
      "model_name": "DescriptionStyleModel",
      "state": {
       "description_width": ""
      }
     },
     "1344a598a5c144498dc303b27aec6da8": {
      "model_module": "@jupyter-widgets/controls",
      "model_module_version": "1.5.0",
      "model_name": "IntTextModel",
      "state": {
       "description": "Number of dice:",
       "disabled": true,
       "layout": "IPY_MODEL_7df0c53c5480412fa4cc332d7e872b41",
       "step": 1,
       "style": "IPY_MODEL_d3a25169f1264231b17e1a5f9da15a87"
      }
     },
     "1351299529c640179efb28da9502cc86": {
      "model_module": "@jupyter-widgets/base",
      "model_module_version": "1.2.0",
      "model_name": "LayoutModel",
      "state": {}
     },
     "1366fa189d2c4f558b1d5b9436df7300": {
      "model_module": "@jupyter-widgets/controls",
      "model_module_version": "1.5.0",
      "model_name": "ButtonModel",
      "state": {
       "description": "Reset",
       "layout": "IPY_MODEL_265bda21c31542e8860c57c9bb40ac53",
       "style": "IPY_MODEL_06e076614c5a44e186b6a01dfac2eb3d"
      }
     },
     "13fefbbc01304c8b89fb724ea813dfc9": {
      "model_module": "@jupyter-widgets/controls",
      "model_module_version": "1.5.0",
      "model_name": "ButtonStyleModel",
      "state": {}
     },
     "14ba3dd33eb740b1a700dcd74cf1c864": {
      "model_module": "@jupyter-widgets/controls",
      "model_module_version": "1.5.0",
      "model_name": "DescriptionStyleModel",
      "state": {
       "description_width": ""
      }
     },
     "1507e22ab7964377824c1a9273c38e2f": {
      "model_module": "@jupyter-widgets/base",
      "model_module_version": "1.2.0",
      "model_name": "LayoutModel",
      "state": {}
     },
     "1513630eae7b40128574b316ab4a56b0": {
      "model_module": "@jupyter-widgets/controls",
      "model_module_version": "1.5.0",
      "model_name": "DescriptionStyleModel",
      "state": {
       "description_width": ""
      }
     },
     "151fffefe9354fac8ad724e96b06f484": {
      "model_module": "@jupyter-widgets/controls",
      "model_module_version": "1.5.0",
      "model_name": "DropdownModel",
      "state": {
       "_options_labels": [
        "",
        "circumstance",
        "item",
        "status"
       ],
       "description": "Type",
       "disabled": true,
       "index": 0,
       "layout": "IPY_MODEL_6e4a434c7fbf413ab6b73864e05136a6",
       "style": "IPY_MODEL_42124238559e445b9343428875bc0592"
      }
     },
     "15455ffcc81641238373e2efd292a803": {
      "model_module": "@jupyter-widgets/base",
      "model_module_version": "1.2.0",
      "model_name": "LayoutModel",
      "state": {}
     },
     "158b3838828a486d9ef13bcce0fd4361": {
      "model_module": "@jupyter-widgets/controls",
      "model_module_version": "1.5.0",
      "model_name": "ButtonModel",
      "state": {
       "description": "Create Rule Element",
       "disabled": true,
       "layout": "IPY_MODEL_373f3e25c3dd4b1093b68d78aa33e5de",
       "style": "IPY_MODEL_7bec37f6148746aa94ffa4df459524db"
      }
     },
     "15903dbb6c934edc8eae55383e1d0176": {
      "model_module": "@jupyter-widgets/controls",
      "model_module_version": "1.5.0",
      "model_name": "BoxModel",
      "state": {
       "children": [
        "IPY_MODEL_17c8dec4ed1f4152b6e236a7186a3237",
        "IPY_MODEL_125df6d5a38042f6b742e55182c0f5c4",
        "IPY_MODEL_6e6b59b4a73244e2af0d9b6183413a53"
       ],
       "layout": "IPY_MODEL_42a66ebe011449b7a536086c801c3e0b"
      }
     },
     "1603f799f3db41d9bd8e25fd0710d21e": {
      "model_module": "@jupyter-widgets/base",
      "model_module_version": "1.2.0",
      "model_name": "LayoutModel",
      "state": {}
     },
     "16496eea81dd4e359e96cb8ef8372dda": {
      "model_module": "@jupyter-widgets/controls",
      "model_module_version": "1.5.0",
      "model_name": "DescriptionStyleModel",
      "state": {
       "description_width": ""
      }
     },
     "1654045d23a142918c18916256ee39f5": {
      "model_module": "@jupyter-widgets/controls",
      "model_module_version": "1.5.0",
      "model_name": "ButtonStyleModel",
      "state": {}
     },
     "165791ce664e4e438e026ca0c0f6dfbb": {
      "model_module": "@jupyter-widgets/base",
      "model_module_version": "1.2.0",
      "model_name": "LayoutModel",
      "state": {}
     },
     "1665208870d54d4d8388398c7de03cfc": {
      "model_module": "@jupyter-widgets/controls",
      "model_module_version": "1.5.0",
      "model_name": "IntTextModel",
      "state": {
       "description": "Number of dice:",
       "disabled": true,
       "layout": "IPY_MODEL_cb384d7bb01b4fae9af53c64e5e2a91f",
       "step": 1,
       "style": "IPY_MODEL_4e7e6e74aaa84a9daad94240befd90a6"
      }
     },
     "167d57e4ede5416c88f51a799a994212": {
      "model_module": "@jupyter-widgets/base",
      "model_module_version": "1.2.0",
      "model_name": "LayoutModel",
      "state": {}
     },
     "1714639fcb2b44ecb63d5203c295ea0b": {
      "model_module": "@jupyter-widgets/controls",
      "model_module_version": "1.5.0",
      "model_name": "DescriptionStyleModel",
      "state": {
       "description_width": ""
      }
     },
     "17220a7b165c4c12b40bf0fc57306d3c": {
      "model_module": "@jupyter-widgets/base",
      "model_module_version": "1.2.0",
      "model_name": "LayoutModel",
      "state": {}
     },
     "172d7cae406145ed9d410104855f483a": {
      "model_module": "@jupyter-widgets/controls",
      "model_module_version": "1.5.0",
      "model_name": "DescriptionStyleModel",
      "state": {
       "description_width": ""
      }
     },
     "176d217fcbf340e28ca7856b93ac6fd4": {
      "model_module": "@jupyter-widgets/controls",
      "model_module_version": "1.5.0",
      "model_name": "DescriptionStyleModel",
      "state": {
       "description_width": ""
      }
     },
     "176de21c25514d59850a97ebbf66cbc7": {
      "model_module": "@jupyter-widgets/controls",
      "model_module_version": "1.5.0",
      "model_name": "DescriptionStyleModel",
      "state": {
       "description_width": ""
      }
     },
     "17a28311e47b45eb8b76c86ac67c0897": {
      "model_module": "@jupyter-widgets/base",
      "model_module_version": "1.2.0",
      "model_name": "LayoutModel",
      "state": {}
     },
     "17c8dec4ed1f4152b6e236a7186a3237": {
      "model_module": "@jupyter-widgets/controls",
      "model_module_version": "1.5.0",
      "model_name": "SelectMultipleModel",
      "state": {
       "_options_labels": [
        "agile",
        "attached",
        "backstabber",
        "backswing",
        "brutal",
        "climbing",
        "concealable",
        "conrasu",
        "deadly",
        "disarm",
        "fatal",
        "finesse",
        "forceful",
        "free-hand",
        "grapple",
        "halfling",
        "hampering",
        "jousting",
        "modular",
        "monk",
        "nonlethal",
        "parry",
        "propulsive",
        "range",
        "ranged",
        "trip",
        "reach",
        "reload",
        "shove",
        "sweep",
        "tethered",
        "thrown",
        "trip",
        "twin",
        "two-hand",
        "unarmed",
        "versatile",
        "volley",
        "fear",
        "mental",
        "arcane",
        "divine",
        "occult",
        "primal",
        "abjuration",
        "conjuration",
        "divination",
        "enchantment",
        "evocation",
        "illusion",
        "necromancy",
        "transmutation",
        "auditory",
        "olfactory",
        "visual",
        "acid",
        "cold",
        "electricity",
        "fire",
        "force",
        "negative",
        "positive",
        "sonic",
        "alchemical",
        "contact",
        "ingested",
        "inhaled",
        "injury",
        "poison"
       ],
       "description": "Predicate:All",
       "disabled": true,
       "index": [],
       "layout": "IPY_MODEL_a480b7e416e24c408621de645281a532",
       "rows": 15,
       "style": "IPY_MODEL_eeeb4f785d1d4bfa963ffdceded81276"
      }
     },
     "1820f17cbf85461ea26ee7b95e96aaf2": {
      "model_module": "@jupyter-widgets/controls",
      "model_module_version": "1.5.0",
      "model_name": "DropdownModel",
      "state": {
       "_options_labels": [
        "",
        "d4",
        "d6",
        "d8",
        "d10",
        "d12"
       ],
       "description": "Die size:",
       "disabled": true,
       "index": 0,
       "layout": "IPY_MODEL_b676183f78c04baebb24548248cd144c",
       "style": "IPY_MODEL_52b4a95ecac6443eacf2081d4507ffa9"
      }
     },
     "182e95292d93432b8b37f2fb5264a5ac": {
      "model_module": "@jupyter-widgets/controls",
      "model_module_version": "1.5.0",
      "model_name": "ButtonStyleModel",
      "state": {}
     },
     "187ac51a62a44392a716988ada8088ae": {
      "model_module": "@jupyter-widgets/controls",
      "model_module_version": "1.5.0",
      "model_name": "DescriptionStyleModel",
      "state": {
       "description_width": ""
      }
     },
     "189960bcfb2a48a18c729c51d0cc84ab": {
      "model_module": "@jupyter-widgets/controls",
      "model_module_version": "1.5.0",
      "model_name": "ButtonStyleModel",
      "state": {}
     },
     "18e1b8a2f7d449a5852b6600ac5cab7b": {
      "model_module": "@jupyter-widgets/controls",
      "model_module_version": "1.5.0",
      "model_name": "ButtonStyleModel",
      "state": {}
     },
     "19125743e44e4bc88e984677ab929a18": {
      "model_module": "@jupyter-widgets/controls",
      "model_module_version": "1.5.0",
      "model_name": "DescriptionStyleModel",
      "state": {
       "description_width": ""
      }
     },
     "19307bb23f264e01b6463246bc3948e8": {
      "model_module": "@jupyter-widgets/controls",
      "model_module_version": "1.5.0",
      "model_name": "DescriptionStyleModel",
      "state": {
       "description_width": ""
      }
     },
     "19664b6804aa483a90cfae381e64aa3d": {
      "model_module": "@jupyter-widgets/controls",
      "model_module_version": "1.5.0",
      "model_name": "DescriptionStyleModel",
      "state": {
       "description_width": ""
      }
     },
     "19d6239764c649dd8b825b8184d9a627": {
      "model_module": "@jupyter-widgets/controls",
      "model_module_version": "1.5.0",
      "model_name": "DropdownModel",
      "state": {
       "_options_labels": [
        "",
        "d4",
        "d6",
        "d8",
        "d10",
        "d12"
       ],
       "description": "Die size:",
       "disabled": true,
       "index": 0,
       "layout": "IPY_MODEL_5bbc93dd7a924454aee6c235a7e28a8d",
       "style": "IPY_MODEL_4a684218279d4fadb1c89aa90d8a2d99"
      }
     },
     "1a26f5e2d2c146c8bdd93de158a97dbc": {
      "model_module": "@jupyter-widgets/controls",
      "model_module_version": "1.5.0",
      "model_name": "DescriptionStyleModel",
      "state": {
       "description_width": ""
      }
     },
     "1a2d36285abd4b8db7ebcda801286239": {
      "model_module": "@jupyter-widgets/controls",
      "model_module_version": "1.5.0",
      "model_name": "ButtonModel",
      "state": {
       "description": "Reset",
       "layout": "IPY_MODEL_d69244ef97704d7298eee71003af9e3f",
       "style": "IPY_MODEL_9f8e3e14bd594ca0b70e2848f7e32c9a"
      }
     },
     "1a865d733a494c7d847535c240b3cc2e": {
      "model_module": "@jupyter-widgets/controls",
      "model_module_version": "1.5.0",
      "model_name": "DropdownModel",
      "state": {
       "_options_labels": [
        "Flat Modifier",
        "Damage Dice",
        "Weapon Potency",
        "Striking rune",
        "Multi Attack Penalty"
       ],
       "description": "Key:",
       "index": 0,
       "layout": "IPY_MODEL_a908b9200b594d179308d01c6d1b1bf2",
       "style": "IPY_MODEL_14ba3dd33eb740b1a700dcd74cf1c864"
      }
     },
     "1a93894cdc1c428d82410f2a3ce27235": {
      "model_module": "@jupyter-widgets/base",
      "model_module_version": "1.2.0",
      "model_name": "LayoutModel",
      "state": {}
     },
     "1ab01c0126354ee49f19f5f3e722483f": {
      "model_module": "@jupyter-widgets/base",
      "model_module_version": "1.2.0",
      "model_name": "LayoutModel",
      "state": {}
     },
     "1b03630f78474142b5865cf98dd589c6": {
      "model_module": "@jupyter-widgets/base",
      "model_module_version": "1.2.0",
      "model_name": "LayoutModel",
      "state": {}
     },
     "1b3dab8eec0640fb835079d0420049b3": {
      "model_module": "@jupyter-widgets/controls",
      "model_module_version": "1.5.0",
      "model_name": "SelectMultipleModel",
      "state": {
       "_options_labels": [
        "agile",
        "finesse",
        "rage",
        "unarmed",
        "fear",
        "mental",
        "poison",
        "disease",
        "fear",
        "sweep"
       ],
       "description": "Any",
       "disabled": true,
       "index": [],
       "layout": "IPY_MODEL_e97a895be6e54b8da434a51ba71553fc",
       "rows": 5,
       "style": "IPY_MODEL_2245fa2f72734a62a806049808a2802f"
      }
     },
     "1b46e537416f4a29890e75413b6c7456": {
      "model_module": "@jupyter-widgets/controls",
      "model_module_version": "1.5.0",
      "model_name": "DescriptionStyleModel",
      "state": {
       "description_width": ""
      }
     },
     "1bb5dd487cee41e8aae180c28be92182": {
      "model_module": "@jupyter-widgets/controls",
      "model_module_version": "1.5.0",
      "model_name": "DescriptionStyleModel",
      "state": {
       "description_width": ""
      }
     },
     "1bc471ce6cf446f29cb36afc7b637139": {
      "model_module": "@jupyter-widgets/controls",
      "model_module_version": "1.5.0",
      "model_name": "IntTextModel",
      "state": {
       "description": "Number of dice:",
       "disabled": true,
       "layout": "IPY_MODEL_30014372a57e4330b9046636488af296",
       "step": 1,
       "style": "IPY_MODEL_6dce788818224411b1f344e63b74ea03"
      }
     },
     "1bf9b377ce62430ca1877ee51ae7a796": {
      "model_module": "@jupyter-widgets/controls",
      "model_module_version": "1.5.0",
      "model_name": "ButtonModel",
      "state": {
       "description": "Select Key",
       "layout": "IPY_MODEL_825725bceaed47da8a18bc7eb257afd8",
       "style": "IPY_MODEL_f6abbb5d8fb040c09811224442630473"
      }
     },
     "1c151ec2c93f46dba0ff5969cf865393": {
      "model_module": "@jupyter-widgets/controls",
      "model_module_version": "1.5.0",
      "model_name": "SelectMultipleModel",
      "state": {
       "_options_labels": [
        "agile",
        "finesse",
        "rage",
        "unarmed",
        "fear",
        "mental",
        "poison",
        "disease",
        "fear",
        "sweep"
       ],
       "description": "Predicate:All",
       "disabled": true,
       "index": [],
       "layout": "IPY_MODEL_f48d0371284e45beaf872790925bd47e",
       "rows": 5,
       "style": "IPY_MODEL_1513630eae7b40128574b316ab4a56b0"
      }
     },
     "1c811cb156714eb1ba4d6090f71629bf": {
      "model_module": "@jupyter-widgets/controls",
      "model_module_version": "1.5.0",
      "model_name": "DescriptionStyleModel",
      "state": {
       "description_width": ""
      }
     },
     "1d1ea3cb87254086ac62e5e54de2d46c": {
      "model_module": "@jupyter-widgets/base",
      "model_module_version": "1.2.0",
      "model_name": "LayoutModel",
      "state": {}
     },
     "1da4cc1c07d645418311dc1d88db2943": {
      "model_module": "@jupyter-widgets/controls",
      "model_module_version": "1.5.0",
      "model_name": "CheckboxModel",
      "state": {
       "description": "Add a Name?",
       "disabled": true,
       "indent": false,
       "layout": "IPY_MODEL_db8aaa6f271f48d69361e28e76a51551",
       "style": "IPY_MODEL_2772254259864ced85d61689be52d3e1",
       "value": false
      }
     },
     "1dd20c25faab4c3f99795a21a1a8168a": {
      "model_module": "@jupyter-widgets/base",
      "model_module_version": "1.2.0",
      "model_name": "LayoutModel",
      "state": {}
     },
     "1dd249d8f45342b8b03211369b9273c1": {
      "model_module": "@jupyter-widgets/controls",
      "model_module_version": "1.5.0",
      "model_name": "DropdownModel",
      "state": {
       "_options_labels": [
        "",
        "slashing",
        "piercing",
        "bludgeoning",
        "precision",
        "fire",
        "cold",
        "electricity",
        "acid",
        "poison",
        "sonic",
        "force",
        "mental",
        "lawful",
        "chaotic",
        "good",
        "evil",
        "positive",
        "negative"
       ],
       "description": "Damage type",
       "disabled": true,
       "index": 0,
       "layout": "IPY_MODEL_8a84333c3862499c9f5d2905bdba698e",
       "style": "IPY_MODEL_7b38af1a5fd941dd9187e7ddd9933f00"
      }
     },
     "1e427db8d6cd4cbd9f5a1da23c387033": {
      "model_module": "@jupyter-widgets/controls",
      "model_module_version": "1.5.0",
      "model_name": "ButtonModel",
      "state": {
       "description": "Set Selectors",
       "disabled": true,
       "layout": "IPY_MODEL_ea4a0c4936b04b7895d23de564731798",
       "style": "IPY_MODEL_d4a1d5c053324619b203dedbc7d18950"
      }
     },
     "1eb2a06530d04f2ea71e609deb98802e": {
      "model_module": "@jupyter-widgets/controls",
      "model_module_version": "1.5.0",
      "model_name": "SelectMultipleModel",
      "state": {
       "_options_labels": [
        "agile",
        "finesse",
        "rage",
        "unarmed",
        "fear",
        "mental",
        "poison",
        "disease",
        "fear",
        "sweep"
       ],
       "description": "Predicate:All",
       "disabled": true,
       "index": [],
       "layout": "IPY_MODEL_0ffa1112008448bbb83f861b91f188b5",
       "rows": 5,
       "style": "IPY_MODEL_b6bae87a7c404c2db1825e6826ce6cd2"
      }
     },
     "1ec042d054b04328ab085c40f0c12b06": {
      "model_module": "@jupyter-widgets/controls",
      "model_module_version": "1.5.0",
      "model_name": "CheckboxModel",
      "state": {
       "description": "Override base die?",
       "disabled": true,
       "layout": "IPY_MODEL_8a0370f33a3b4fd1a2dc15c909c8d3c6",
       "style": "IPY_MODEL_b89f83faa1ac41718b443b0252b53a69",
       "value": false
      }
     },
     "1f9f19a75c1f4490a0957025cbd5f152": {
      "model_module": "@jupyter-widgets/controls",
      "model_module_version": "1.5.0",
      "model_name": "IntTextModel",
      "state": {
       "description": "Number of dice:",
       "disabled": true,
       "layout": "IPY_MODEL_a53f0145abe541c7bee065a5ab838d00",
       "step": 1,
       "style": "IPY_MODEL_3c430083a6014f6eb9c894bc3b3fa1b0"
      }
     },
     "2052c812dc504b0ba0cd9b6e59f6b192": {
      "model_module": "@jupyter-widgets/controls",
      "model_module_version": "1.5.0",
      "model_name": "DescriptionStyleModel",
      "state": {
       "description_width": ""
      }
     },
     "20d9a66303fe4d99993eab3e85caecd9": {
      "model_module": "@jupyter-widgets/base",
      "model_module_version": "1.2.0",
      "model_name": "LayoutModel",
      "state": {}
     },
     "20ee8159fb2c4b1e9477fe222c32ebe1": {
      "model_module": "@jupyter-widgets/controls",
      "model_module_version": "1.5.0",
      "model_name": "ButtonStyleModel",
      "state": {}
     },
     "2223213a139e43e2b17fa7b9ec6c8ca9": {
      "model_module": "@jupyter-widgets/base",
      "model_module_version": "1.2.0",
      "model_name": "LayoutModel",
      "state": {}
     },
     "2245fa2f72734a62a806049808a2802f": {
      "model_module": "@jupyter-widgets/controls",
      "model_module_version": "1.5.0",
      "model_name": "DescriptionStyleModel",
      "state": {
       "description_width": ""
      }
     },
     "224e46352a6f47468b092e19592284b9": {
      "model_module": "@jupyter-widgets/controls",
      "model_module_version": "1.5.0",
      "model_name": "DescriptionStyleModel",
      "state": {
       "description_width": ""
      }
     },
     "227a3028fd5f4f71b665955e2f612a13": {
      "model_module": "@jupyter-widgets/base",
      "model_module_version": "1.2.0",
      "model_name": "LayoutModel",
      "state": {}
     },
     "23799e626196404b897914cea3cf24f2": {
      "model_module": "@jupyter-widgets/controls",
      "model_module_version": "1.5.0",
      "model_name": "ButtonModel",
      "state": {
       "description": "Create Rule Element",
       "disabled": true,
       "layout": "IPY_MODEL_9beed5d02cf94cea89a815b70662a4e9",
       "style": "IPY_MODEL_e3875fdec1784532b367b4cf924e96c1"
      }
     },
     "239e5b39dec041fbb65c24d329756ea3": {
      "model_module": "@jupyter-widgets/base",
      "model_module_version": "1.2.0",
      "model_name": "LayoutModel",
      "state": {}
     },
     "23f01b18097c4a4fba61c2c4370f3488": {
      "model_module": "@jupyter-widgets/base",
      "model_module_version": "1.2.0",
      "model_name": "LayoutModel",
      "state": {}
     },
     "241c524df5f14a8bbac45a6d0b723774": {
      "model_module": "@jupyter-widgets/base",
      "model_module_version": "1.2.0",
      "model_name": "LayoutModel",
      "state": {}
     },
     "2479235ae637496896f57ff6b1ad8a21": {
      "model_module": "@jupyter-widgets/controls",
      "model_module_version": "1.5.0",
      "model_name": "DescriptionStyleModel",
      "state": {
       "description_width": ""
      }
     },
     "24c2183d037540d997175fb1f35702cc": {
      "model_module": "@jupyter-widgets/base",
      "model_module_version": "1.2.0",
      "model_name": "LayoutModel",
      "state": {}
     },
     "251dfc6e4dde43bfba21126c7cfb0447": {
      "model_module": "@jupyter-widgets/controls",
      "model_module_version": "1.5.0",
      "model_name": "ButtonStyleModel",
      "state": {}
     },
     "253dbe05af0b472299b9d5dfebf8eb53": {
      "model_module": "@jupyter-widgets/controls",
      "model_module_version": "1.5.0",
      "model_name": "DescriptionStyleModel",
      "state": {
       "description_width": ""
      }
     },
     "26347a6ec2ec4266baeb81b355e45f03": {
      "model_module": "@jupyter-widgets/base",
      "model_module_version": "1.2.0",
      "model_name": "LayoutModel",
      "state": {}
     },
     "265bda21c31542e8860c57c9bb40ac53": {
      "model_module": "@jupyter-widgets/base",
      "model_module_version": "1.2.0",
      "model_name": "LayoutModel",
      "state": {}
     },
     "267be14d9bfd49a199d62578e837d95b": {
      "model_module": "@jupyter-widgets/controls",
      "model_module_version": "1.5.0",
      "model_name": "ButtonModel",
      "state": {
       "description": "Set Selectors",
       "layout": "IPY_MODEL_b18a541387614ac58d2cab23c50c9ef5",
       "style": "IPY_MODEL_182e95292d93432b8b37f2fb5264a5ac"
      }
     },
     "269834d0c476455c8d9507e3faae2ef9": {
      "model_module": "@jupyter-widgets/controls",
      "model_module_version": "1.5.0",
      "model_name": "DropdownModel",
      "state": {
       "_options_labels": [
        "",
        "circumstance",
        "item",
        "status"
       ],
       "description": "Type",
       "disabled": true,
       "index": 0,
       "layout": "IPY_MODEL_1507e22ab7964377824c1a9273c38e2f",
       "style": "IPY_MODEL_3ef13cb2f62040718d2ccefbde2feb46"
      }
     },
     "26c32febedde45a09c0d1425a028cb75": {
      "model_module": "@jupyter-widgets/base",
      "model_module_version": "1.2.0",
      "model_name": "LayoutModel",
      "state": {}
     },
     "26cd322c94c6442faa79427fb922c6dd": {
      "model_module": "@jupyter-widgets/base",
      "model_module_version": "1.2.0",
      "model_name": "LayoutModel",
      "state": {}
     },
     "270f35daa73b4db09c997367715d2442": {
      "model_module": "@jupyter-widgets/base",
      "model_module_version": "1.2.0",
      "model_name": "LayoutModel",
      "state": {}
     },
     "2717d38f2cbe4ebdbfcaf2fcfa2a8fd9": {
      "model_module": "@jupyter-widgets/base",
      "model_module_version": "1.2.0",
      "model_name": "LayoutModel",
      "state": {}
     },
     "2734ff4e3ea64447b1b66d9fcc0b59c4": {
      "model_module": "@jupyter-widgets/base",
      "model_module_version": "1.2.0",
      "model_name": "LayoutModel",
      "state": {}
     },
     "274d5a60878d40b89a43ec4a174b38e6": {
      "model_module": "@jupyter-widgets/controls",
      "model_module_version": "1.5.0",
      "model_name": "DescriptionStyleModel",
      "state": {
       "description_width": ""
      }
     },
     "2772254259864ced85d61689be52d3e1": {
      "model_module": "@jupyter-widgets/controls",
      "model_module_version": "1.5.0",
      "model_name": "DescriptionStyleModel",
      "state": {
       "description_width": ""
      }
     },
     "278881a9322047f78cae8d60e1e6e52f": {
      "model_module": "@jupyter-widgets/controls",
      "model_module_version": "1.5.0",
      "model_name": "DescriptionStyleModel",
      "state": {
       "description_width": ""
      }
     },
     "27a950fd88ad491aa67b869e4497105a": {
      "model_module": "@jupyter-widgets/controls",
      "model_module_version": "1.5.0",
      "model_name": "DescriptionStyleModel",
      "state": {
       "description_width": ""
      }
     },
     "286b385447f04dc2872d427aafb2e928": {
      "model_module": "@jupyter-widgets/base",
      "model_module_version": "1.2.0",
      "model_name": "LayoutModel",
      "state": {}
     },
     "293ae56f83634a1e82f7c0667780d32f": {
      "model_module": "@jupyter-widgets/controls",
      "model_module_version": "1.5.0",
      "model_name": "DropdownModel",
      "state": {
       "_options_labels": [
        "no advanced selector",
        "Only this item",
        "swords",
        "bows",
        "knives",
        "spears",
        "axes",
        "hammers",
        "picks",
        "flails",
        "brawling",
        "polearms",
        "sling",
        "bombs",
        "shields",
        "darts",
        "clubs"
       ],
       "description": "Advanced Selector",
       "disabled": true,
       "index": 0,
       "layout": "IPY_MODEL_d58c867097e94fc2a8d3b9865d131f90",
       "style": "IPY_MODEL_c4590e86902d461984f70861e83f52a0"
      }
     },
     "29427dc7dc0349a49bfa3f0ded9ee94c": {
      "model_module": "@jupyter-widgets/controls",
      "model_module_version": "1.5.0",
      "model_name": "DescriptionStyleModel",
      "state": {
       "description_width": ""
      }
     },
     "294943568f7b4d788ebe66a90ec3d92c": {
      "model_module": "@jupyter-widgets/controls",
      "model_module_version": "1.5.0",
      "model_name": "SelectMultipleModel",
      "state": {
       "_options_labels": [
        "agile",
        "attached",
        "backstabber",
        "backswing",
        "brutal",
        "climbing",
        "concealable",
        "conrasu",
        "deadly",
        "disarm",
        "fatal",
        "finesse",
        "forceful",
        "free-hand",
        "grapple",
        "halfling",
        "hampering",
        "jousting",
        "modular",
        "monk",
        "nonlethal",
        "parry",
        "propulsive",
        "range",
        "ranged",
        "trip",
        "reach",
        "reload",
        "shove",
        "sweep",
        "tethered",
        "thrown",
        "trip",
        "twin",
        "two-hand",
        "unarmed",
        "versatile",
        "volley",
        "fear",
        "mental",
        "arcane",
        "divine",
        "occult",
        "primal",
        "abjuration",
        "conjuration",
        "divination",
        "enchantment",
        "evocation",
        "illusion",
        "necromancy",
        "transmutation",
        "auditory",
        "olfactory",
        "visual",
        "acid",
        "cold",
        "electricity",
        "fire",
        "force",
        "negative",
        "positive",
        "sonic",
        "alchemical",
        "contact",
        "ingested",
        "inhaled",
        "injury",
        "poison"
       ],
       "description": "Not",
       "disabled": true,
       "index": [],
       "layout": "IPY_MODEL_e9f2c4a73da44498a934ebc03095b004",
       "rows": 15,
       "style": "IPY_MODEL_6b2d21a437ce40f7af29e7a97e245f95"
      }
     },
     "2a37a7f86a1745fa920350aa27770386": {
      "model_module": "@jupyter-widgets/controls",
      "model_module_version": "1.5.0",
      "model_name": "DescriptionStyleModel",
      "state": {
       "description_width": ""
      }
     },
     "2a7f74535f07455691ff4c18ac74f260": {
      "model_module": "@jupyter-widgets/controls",
      "model_module_version": "1.5.0",
      "model_name": "DropdownModel",
      "state": {
       "_options_labels": [
        "no advanced selector",
        "Only this item",
        "swords",
        "bows",
        "knives",
        "spears",
        "axes",
        "hammers",
        "picks",
        "flails",
        "brawling",
        "polearms",
        "sling",
        "bombs",
        "shields",
        "darts",
        "clubs"
       ],
       "description": "Advanced Selector",
       "disabled": true,
       "index": 0,
       "layout": "IPY_MODEL_1d1ea3cb87254086ac62e5e54de2d46c",
       "style": "IPY_MODEL_466289ab27474a77aa631b4b5df89403"
      }
     },
     "2b45c6d452214060a5ba0ef12b25b681": {
      "model_module": "@jupyter-widgets/controls",
      "model_module_version": "1.5.0",
      "model_name": "ButtonModel",
      "state": {
       "description": "Set Selectors",
       "disabled": true,
       "layout": "IPY_MODEL_f604ae01f2ff4ad8aad557cdfdded1d5",
       "style": "IPY_MODEL_50f75de0681d4e848a4f669e5875ac2a"
      }
     },
     "2bf50824f3974a2cb81d7d2a7a6af42f": {
      "model_module": "@jupyter-widgets/controls",
      "model_module_version": "1.5.0",
      "model_name": "CheckboxModel",
      "state": {
       "description": "Use Advanced Selector?",
       "disabled": true,
       "layout": "IPY_MODEL_e636d460d8de42d49dca84aa0bf35d7f",
       "style": "IPY_MODEL_e860b8f5420e4fb0894ddd3fa1ab967b",
       "value": false
      }
     },
     "2c0fc8964e03494eac75bed12c80f065": {
      "model_module": "@jupyter-widgets/controls",
      "model_module_version": "1.5.0",
      "model_name": "DropdownModel",
      "state": {
       "_options_labels": [
        "",
        "circumstance",
        "item",
        "status"
       ],
       "description": "Type",
       "disabled": true,
       "index": 0,
       "layout": "IPY_MODEL_9ade17885e7a45479c69718d30003ecf",
       "style": "IPY_MODEL_35cab7f593a849e8ab4a4b87c4bb5d27"
      }
     },
     "2c1fd62b3f0146058265d09b5f6234d6": {
      "model_module": "@jupyter-widgets/base",
      "model_module_version": "1.2.0",
      "model_name": "LayoutModel",
      "state": {}
     },
     "2c2e6da1b00547b68191d11f0448f7dc": {
      "model_module": "@jupyter-widgets/controls",
      "model_module_version": "1.5.0",
      "model_name": "DescriptionStyleModel",
      "state": {
       "description_width": ""
      }
     },
     "2e023c25df4740a195d9cf97a78c0a6e": {
      "model_module": "@jupyter-widgets/base",
      "model_module_version": "1.2.0",
      "model_name": "LayoutModel",
      "state": {}
     },
     "2e29ad4fedd04829b083fb5293e29f54": {
      "model_module": "@jupyter-widgets/controls",
      "model_module_version": "1.5.0",
      "model_name": "DropdownModel",
      "state": {
       "_options_labels": [
        "",
        "slashing",
        "piercing",
        "bludgeoning",
        "precision",
        "fire",
        "cold",
        "electricity",
        "acid",
        "poison",
        "sonic",
        "force",
        "mental",
        "lawful",
        "chaotic",
        "good",
        "evil",
        "positive",
        "negative"
       ],
       "description": "Damage type",
       "disabled": true,
       "index": 0,
       "layout": "IPY_MODEL_42f7793eeb1a49a8ad122bba2059eb82",
       "style": "IPY_MODEL_29427dc7dc0349a49bfa3f0ded9ee94c"
      }
     },
     "2e2a4e025fa54ab6a8bfac6f6ca9d9eb": {
      "model_module": "@jupyter-widgets/controls",
      "model_module_version": "1.5.0",
      "model_name": "ButtonModel",
      "state": {
       "description": "Select Key",
       "layout": "IPY_MODEL_9533f9ad3db14fe08a21cf3a617909d3",
       "style": "IPY_MODEL_8cf75e10b38a47e288c85bab879f2484"
      }
     },
     "2e69176e73c542a5bfa0465cbd9be96a": {
      "model_module": "@jupyter-widgets/controls",
      "model_module_version": "1.5.0",
      "model_name": "ButtonModel",
      "state": {
       "description": "Reset",
       "layout": "IPY_MODEL_4422dd699bec461c8b96d8fbd811ad7f",
       "style": "IPY_MODEL_d836240799ce4c6787484430177bbff3"
      }
     },
     "2e903051f7da4746aba7eb4e29b6282c": {
      "model_module": "@jupyter-widgets/base",
      "model_module_version": "1.2.0",
      "model_name": "LayoutModel",
      "state": {}
     },
     "2f623dbd987c479f8cc93becb8c06732": {
      "model_module": "@jupyter-widgets/controls",
      "model_module_version": "1.5.0",
      "model_name": "DescriptionStyleModel",
      "state": {
       "description_width": ""
      }
     },
     "2f7a0382e9874111855b1ee490e34c07": {
      "model_module": "@jupyter-widgets/base",
      "model_module_version": "1.2.0",
      "model_name": "LayoutModel",
      "state": {}
     },
     "2f89b6f160a2427db29ffdd760d40985": {
      "model_module": "@jupyter-widgets/controls",
      "model_module_version": "1.5.0",
      "model_name": "SelectMultipleModel",
      "state": {
       "_options_labels": [
        "agile",
        "finesse",
        "rage",
        "unarmed",
        "fear",
        "mental",
        "poison",
        "disease",
        "fear",
        "sweep"
       ],
       "description": "Any",
       "disabled": true,
       "index": [],
       "layout": "IPY_MODEL_d8ae668ab1b245869f577bc06cb29800",
       "rows": 5,
       "style": "IPY_MODEL_bfe09f62077d44f2a40b3cbd3554a3ad"
      }
     },
     "30014372a57e4330b9046636488af296": {
      "model_module": "@jupyter-widgets/base",
      "model_module_version": "1.2.0",
      "model_name": "LayoutModel",
      "state": {}
     },
     "303c093122334da29d84dea89db2eaf9": {
      "model_module": "@jupyter-widgets/controls",
      "model_module_version": "1.5.0",
      "model_name": "IntTextModel",
      "state": {
       "description": "Value:",
       "disabled": true,
       "layout": "IPY_MODEL_659780ef9ed04ec1b42aad344f678a19",
       "step": 1,
       "style": "IPY_MODEL_05055da4982144fe807bf10978f46e80"
      }
     },
     "30c2aba6c03449a5acc76a97e9ea3c1f": {
      "model_module": "@jupyter-widgets/controls",
      "model_module_version": "1.5.0",
      "model_name": "DescriptionStyleModel",
      "state": {
       "description_width": ""
      }
     },
     "30e68d0eda884de5b49003132aa79a7c": {
      "model_module": "@jupyter-widgets/controls",
      "model_module_version": "1.5.0",
      "model_name": "DescriptionStyleModel",
      "state": {
       "description_width": ""
      }
     },
     "311dd713efc046d689252d4ec93a8ad9": {
      "model_module": "@jupyter-widgets/controls",
      "model_module_version": "1.5.0",
      "model_name": "DescriptionStyleModel",
      "state": {
       "description_width": ""
      }
     },
     "3135ad78e46547009584b0cd853ff316": {
      "model_module": "@jupyter-widgets/controls",
      "model_module_version": "1.5.0",
      "model_name": "ButtonModel",
      "state": {
       "description": "Reset",
       "layout": "IPY_MODEL_c9f19a55f16e448abb9eeb186f5b051e",
       "style": "IPY_MODEL_acb62afad32d4dfeb866b21ebb6c3d99"
      }
     },
     "31865321c8c9473bb01797a52a5ff73c": {
      "model_module": "@jupyter-widgets/controls",
      "model_module_version": "1.5.0",
      "model_name": "CheckboxModel",
      "state": {
       "description": "Add a label?",
       "disabled": true,
       "layout": "IPY_MODEL_417b57f5688540b8a99e1fc3fdaa9a19",
       "style": "IPY_MODEL_311dd713efc046d689252d4ec93a8ad9",
       "value": false
      }
     },
     "31974431fdbc47eda5a9db98feb79727": {
      "model_module": "@jupyter-widgets/controls",
      "model_module_version": "1.5.0",
      "model_name": "CheckboxModel",
      "state": {
       "description": "Override base die?",
       "disabled": true,
       "layout": "IPY_MODEL_1ab01c0126354ee49f19f5f3e722483f",
       "style": "IPY_MODEL_9a5b4d65cbc54c6f8e8b92e1200a56ee",
       "value": false
      }
     },
     "31b97d0764224b8ea10946df2b253a40": {
      "model_module": "@jupyter-widgets/controls",
      "model_module_version": "1.5.0",
      "model_name": "DropdownModel",
      "state": {
       "_options_labels": [
        "Flat Modifier",
        "Damage Dice",
        "Weapon Potency",
        "Striking rune",
        "Multi Attack Penalty"
       ],
       "description": "Key:",
       "index": 0,
       "layout": "IPY_MODEL_ed113db1344a47e3b656d771099756d9",
       "style": "IPY_MODEL_e112027d742e4f90b178f4eea8719087"
      }
     },
     "3201d7b88bcd4f9d928abc4022b2742d": {
      "model_module": "@jupyter-widgets/controls",
      "model_module_version": "1.5.0",
      "model_name": "ButtonStyleModel",
      "state": {}
     },
     "32099a0a88a74a48a53519f6f566d8c0": {
      "model_module": "@jupyter-widgets/base",
      "model_module_version": "1.2.0",
      "model_name": "LayoutModel",
      "state": {}
     },
     "325220bf029e449a9b1e3081d3337a65": {
      "model_module": "@jupyter-widgets/controls",
      "model_module_version": "1.5.0",
      "model_name": "DescriptionStyleModel",
      "state": {
       "description_width": ""
      }
     },
     "32650c2844cb450890afaf05ab7aa040": {
      "model_module": "@jupyter-widgets/base",
      "model_module_version": "1.2.0",
      "model_name": "LayoutModel",
      "state": {}
     },
     "3294cd4e9cb14398b59853596f3d4061": {
      "model_module": "@jupyter-widgets/base",
      "model_module_version": "1.2.0",
      "model_name": "LayoutModel",
      "state": {}
     },
     "32b114007c8d4996bbbbd2745962464f": {
      "model_module": "@jupyter-widgets/base",
      "model_module_version": "1.2.0",
      "model_name": "LayoutModel",
      "state": {}
     },
     "32bd21e2bf57428592978533aaa75f9c": {
      "model_module": "@jupyter-widgets/base",
      "model_module_version": "1.2.0",
      "model_name": "LayoutModel",
      "state": {}
     },
     "32c8244b236741c9affd053bd75a6629": {
      "model_module": "@jupyter-widgets/controls",
      "model_module_version": "1.5.0",
      "model_name": "DescriptionStyleModel",
      "state": {
       "description_width": ""
      }
     },
     "32fa4d9697724b8e82b5e3d83307481e": {
      "model_module": "@jupyter-widgets/controls",
      "model_module_version": "1.5.0",
      "model_name": "CheckboxModel",
      "state": {
       "description": "Add a label?",
       "disabled": true,
       "layout": "IPY_MODEL_76768e99e2aa43de885c34d470d2e05e",
       "style": "IPY_MODEL_9250f03fc9f6446daae9233ff58e21a8",
       "value": false
      }
     },
     "33684909c97f456a877309c397891826": {
      "model_module": "@jupyter-widgets/controls",
      "model_module_version": "1.5.0",
      "model_name": "DropdownModel",
      "state": {
       "_options_labels": [
        "",
        "circumstance",
        "item",
        "status"
       ],
       "description": "Type",
       "disabled": true,
       "index": 0,
       "layout": "IPY_MODEL_ea4f398763d04d32b170707d30b78190",
       "style": "IPY_MODEL_b1b5ad3c923b40a5986a7deb543defc2"
      }
     },
     "3389c57fc47f414d899e68296e42ec96": {
      "model_module": "@jupyter-widgets/controls",
      "model_module_version": "1.5.0",
      "model_name": "DropdownModel",
      "state": {
       "_options_labels": [
        "",
        "slashing",
        "piercing",
        "bludgeoning",
        "precision",
        "fire",
        "cold",
        "electricity",
        "acid",
        "poison",
        "sonic",
        "force",
        "mental",
        "lawful",
        "chaotic",
        "good",
        "evil",
        "positive",
        "negative"
       ],
       "description": "Damage type",
       "disabled": true,
       "index": 0,
       "layout": "IPY_MODEL_b91ed4120db3476c94f14d44e8d0a84c",
       "style": "IPY_MODEL_1bb5dd487cee41e8aae180c28be92182"
      }
     },
     "34aa708505a447639005a2dac16f326f": {
      "model_module": "@jupyter-widgets/controls",
      "model_module_version": "1.5.0",
      "model_name": "DescriptionStyleModel",
      "state": {
       "description_width": ""
      }
     },
     "35796be038cb4c5981d9935a22108167": {
      "model_module": "@jupyter-widgets/controls",
      "model_module_version": "1.5.0",
      "model_name": "SelectMultipleModel",
      "state": {
       "_options_labels": [
        "agile",
        "finesse",
        "rage",
        "unarmed",
        "fear",
        "mental",
        "poison",
        "disease",
        "fear",
        "sweep"
       ],
       "description": "Any",
       "disabled": true,
       "index": [],
       "layout": "IPY_MODEL_5c21d1048fbf4136bf5948665e1a03e9",
       "rows": 5,
       "style": "IPY_MODEL_e22eff48616145308ece75123a348f4a"
      }
     },
     "35a2643469a34c359e3e40566aebf65d": {
      "model_module": "@jupyter-widgets/base",
      "model_module_version": "1.2.0",
      "model_name": "LayoutModel",
      "state": {}
     },
     "35cab7f593a849e8ab4a4b87c4bb5d27": {
      "model_module": "@jupyter-widgets/controls",
      "model_module_version": "1.5.0",
      "model_name": "DescriptionStyleModel",
      "state": {
       "description_width": ""
      }
     },
     "36bc06fb49f64f6e97edd7b296c62428": {
      "model_module": "@jupyter-widgets/controls",
      "model_module_version": "1.5.0",
      "model_name": "DescriptionStyleModel",
      "state": {
       "description_width": ""
      }
     },
     "36e1a635653f4bd6af84834abd9c1866": {
      "model_module": "@jupyter-widgets/controls",
      "model_module_version": "1.5.0",
      "model_name": "ButtonModel",
      "state": {
       "description": "Create Rule Element",
       "disabled": true,
       "layout": "IPY_MODEL_e9004aff06944b52b6702fe373bae25b",
       "style": "IPY_MODEL_d06b977865d345d2b707f135dc97d880"
      }
     },
     "37032a4e139f432db244bc11dd9fac71": {
      "model_module": "@jupyter-widgets/controls",
      "model_module_version": "1.5.0",
      "model_name": "SelectMultipleModel",
      "state": {
       "_options_labels": [
        "agile",
        "finesse",
        "rage",
        "unarmed",
        "fear",
        "mental",
        "poison",
        "disease",
        "fear",
        "sweep"
       ],
       "description": "Not",
       "disabled": true,
       "index": [],
       "layout": "IPY_MODEL_5b6ece18453645de94a01c828256b35f",
       "rows": 5,
       "style": "IPY_MODEL_cc5aaf03852a4c9aa8d3e0aefc7388c5"
      }
     },
     "371915d3f6a54c588600bd1aab9cbc83": {
      "model_module": "@jupyter-widgets/base",
      "model_module_version": "1.2.0",
      "model_name": "LayoutModel",
      "state": {}
     },
     "373f3e25c3dd4b1093b68d78aa33e5de": {
      "model_module": "@jupyter-widgets/base",
      "model_module_version": "1.2.0",
      "model_name": "LayoutModel",
      "state": {}
     },
     "375d6d8b18d4471fb9b9363b50f627bb": {
      "model_module": "@jupyter-widgets/base",
      "model_module_version": "1.2.0",
      "model_name": "LayoutModel",
      "state": {}
     },
     "37f7f363e28843aba503144546028482": {
      "model_module": "@jupyter-widgets/controls",
      "model_module_version": "1.5.0",
      "model_name": "SelectMultipleModel",
      "state": {
       "_options_labels": [
        "agile",
        "finesse",
        "rage",
        "unarmed",
        "fear",
        "mental",
        "poison",
        "disease",
        "fear",
        "sweep"
       ],
       "description": "Not",
       "disabled": true,
       "index": [],
       "layout": "IPY_MODEL_167d57e4ede5416c88f51a799a994212",
       "rows": 5,
       "style": "IPY_MODEL_60bae2d2567443dcbefbe009d4fb02fc"
      }
     },
     "37f9fb8e12874c9a82f3c8d1419b823a": {
      "model_module": "@jupyter-widgets/base",
      "model_module_version": "1.2.0",
      "model_name": "LayoutModel",
      "state": {}
     },
     "37fb2000c59149129144f3733f9057eb": {
      "model_module": "@jupyter-widgets/controls",
      "model_module_version": "1.5.0",
      "model_name": "DescriptionStyleModel",
      "state": {
       "description_width": ""
      }
     },
     "385f9232959e45e19c38f5ea87d6d1a3": {
      "model_module": "@jupyter-widgets/controls",
      "model_module_version": "1.5.0",
      "model_name": "CheckboxModel",
      "state": {
       "description": "Add a Name?",
       "disabled": true,
       "layout": "IPY_MODEL_239e5b39dec041fbb65c24d329756ea3",
       "style": "IPY_MODEL_76b006439c4c4e1389a3cb3b3002fb8f",
       "value": false
      }
     },
     "3882facf4540497395d761254228e6dd": {
      "model_module": "@jupyter-widgets/base",
      "model_module_version": "1.2.0",
      "model_name": "LayoutModel",
      "state": {}
     },
     "394466800e134e4c8fb1bc06b37dbdce": {
      "model_module": "@jupyter-widgets/controls",
      "model_module_version": "1.5.0",
      "model_name": "DropdownModel",
      "state": {
       "_options_labels": [
        "all",
        "str-based",
        "dex-based",
        "con-based",
        "int-based",
        "wis-based",
        "cha-based",
        "attack",
        "spell-attack",
        "attack-roll",
        "str-attack",
        "dex-attack",
        "con-attack",
        "int-attack",
        "wis-attack",
        "cha-attack",
        "damage",
        "saving-throw",
        "fortitude",
        "reflex",
        "will",
        "initiative",
        "perception",
        "class",
        "ac",
        "hp",
        "hp-per-level",
        "speed",
        "land-speed",
        "burrow-speed",
        "climb-speed",
        "fly-speed",
        "swim-speed",
        "skill-check",
        "acrobatics",
        "arcana",
        "athletics",
        "crafting",
        "deception",
        "diplomacy",
        "intimidation",
        "medicine",
        "nature",
        "occultism",
        "performance",
        "religion",
        "society",
        "stealth",
        "survival",
        "thievery"
       ],
       "description": "Selector",
       "disabled": true,
       "index": 0,
       "layout": "IPY_MODEL_b6165260f04446a39e6f9b059d17a321",
       "style": "IPY_MODEL_01511e82e6fa4c98b9efb11f38a52712"
      }
     },
     "398b4d2046114c91b8a28ccdbb372df6": {
      "model_module": "@jupyter-widgets/controls",
      "model_module_version": "1.5.0",
      "model_name": "IntTextModel",
      "state": {
       "description": "Value:",
       "disabled": true,
       "layout": "IPY_MODEL_d2a55328532a485999f8cfd3e26a58ee",
       "step": 1,
       "style": "IPY_MODEL_fab73e354581452b9f0c71acc0909b43"
      }
     },
     "39a1c93f4df14de98b164e08ee15a32f": {
      "model_module": "@jupyter-widgets/base",
      "model_module_version": "1.2.0",
      "model_name": "LayoutModel",
      "state": {}
     },
     "39c4eb5dd7f6481daf3562e59313cb54": {
      "model_module": "@jupyter-widgets/base",
      "model_module_version": "1.2.0",
      "model_name": "LayoutModel",
      "state": {}
     },
     "39e4471315b74e41901962f774b9a94e": {
      "model_module": "@jupyter-widgets/controls",
      "model_module_version": "1.5.0",
      "model_name": "DescriptionStyleModel",
      "state": {
       "description_width": ""
      }
     },
     "3aa34dc2f95f47cf906e2d2d31d7fa2f": {
      "model_module": "@jupyter-widgets/controls",
      "model_module_version": "1.5.0",
      "model_name": "SelectMultipleModel",
      "state": {
       "_options_labels": [
        "agile",
        "attached",
        "backstabber",
        "backswing",
        "brutal",
        "climbing",
        "concealable",
        "conrasu",
        "deadly",
        "disarm",
        "fatal",
        "finesse",
        "forceful",
        "free-hand",
        "grapple",
        "halfling",
        "hampering",
        "jousting",
        "modular",
        "monk",
        "nonlethal",
        "parry",
        "propulsive",
        "range",
        "ranged",
        "trip",
        "reach",
        "reload",
        "shove",
        "sweep",
        "tethered",
        "thrown",
        "trip",
        "twin",
        "two-hand",
        "unarmed",
        "versatile",
        "volley",
        "fear",
        "mental",
        "arcane",
        "divine",
        "occult",
        "primal",
        "abjuration",
        "conjuration",
        "divination",
        "enchantment",
        "evocation",
        "illusion",
        "necromancy",
        "transmutation",
        "auditory",
        "olfactory",
        "visual",
        "acid",
        "cold",
        "electricity",
        "fire",
        "force",
        "negative",
        "positive",
        "sonic",
        "alchemical",
        "contact",
        "ingested",
        "inhaled",
        "injury",
        "poison"
       ],
       "description": "Predicate:All",
       "disabled": true,
       "index": [],
       "layout": "IPY_MODEL_8e8ea1b452e04985b090d5010336a812",
       "rows": 5,
       "style": "IPY_MODEL_9c1d0839703243c9b7998402c056c9da"
      }
     },
     "3abd349e75c94c0a854c41ff68e5714b": {
      "model_module": "@jupyter-widgets/base",
      "model_module_version": "1.2.0",
      "model_name": "LayoutModel",
      "state": {}
     },
     "3b3b0d4a77a947df88581f18bd64d8ab": {
      "model_module": "@jupyter-widgets/controls",
      "model_module_version": "1.5.0",
      "model_name": "CheckboxModel",
      "state": {
       "description": "Override base damage?",
       "disabled": true,
       "indent": false,
       "layout": "IPY_MODEL_dce8a70a715042d180c0562fafa61c00",
       "style": "IPY_MODEL_b14f7e9d0b7a403aa3fad37f8fcc0231",
       "value": false
      }
     },
     "3b96d896eb6443e6aa6c9871e99ed90a": {
      "model_module": "@jupyter-widgets/controls",
      "model_module_version": "1.5.0",
      "model_name": "DescriptionStyleModel",
      "state": {
       "description_width": ""
      }
     },
     "3b9b18a343f347c7bc858f43e82c7304": {
      "model_module": "@jupyter-widgets/controls",
      "model_module_version": "1.5.0",
      "model_name": "DescriptionStyleModel",
      "state": {
       "description_width": ""
      }
     },
     "3ba5ed9c327042ef867d0fec6c030710": {
      "model_module": "@jupyter-widgets/controls",
      "model_module_version": "1.5.0",
      "model_name": "DescriptionStyleModel",
      "state": {
       "description_width": ""
      }
     },
     "3c062a38fdf64b9fae44d6cb41d85ba6": {
      "model_module": "@jupyter-widgets/controls",
      "model_module_version": "1.5.0",
      "model_name": "DescriptionStyleModel",
      "state": {
       "description_width": ""
      }
     },
     "3c2fc2360a6f44e399592868766df139": {
      "model_module": "@jupyter-widgets/base",
      "model_module_version": "1.2.0",
      "model_name": "LayoutModel",
      "state": {}
     },
     "3c38df35096b49d28110c213e1d6adf5": {
      "model_module": "@jupyter-widgets/controls",
      "model_module_version": "1.5.0",
      "model_name": "SelectMultipleModel",
      "state": {
       "_options_labels": [
        "agile",
        "attached",
        "backstabber",
        "backswing",
        "brutal",
        "climbing",
        "concealable",
        "conrasu",
        "deadly",
        "disarm",
        "fatal",
        "finesse",
        "forceful",
        "free-hand",
        "grapple",
        "halfling",
        "hampering",
        "jousting",
        "modular",
        "monk",
        "nonlethal",
        "parry",
        "propulsive",
        "range",
        "ranged",
        "trip",
        "reach",
        "reload",
        "shove",
        "sweep",
        "tethered",
        "thrown",
        "trip",
        "twin",
        "two-hand",
        "unarmed",
        "versatile",
        "volley",
        "fear",
        "mental",
        "arcane",
        "divine",
        "occult",
        "primal",
        "abjuration",
        "conjuration",
        "divination",
        "enchantment",
        "evocation",
        "illusion",
        "necromancy",
        "transmutation",
        "auditory",
        "olfactory",
        "visual",
        "acid",
        "cold",
        "electricity",
        "fire",
        "force",
        "negative",
        "positive",
        "sonic",
        "alchemical",
        "contact",
        "ingested",
        "inhaled",
        "injury",
        "poison"
       ],
       "description": "Predicate:All",
       "disabled": true,
       "index": [],
       "layout": "IPY_MODEL_f6134b47b68844a383cf2d5132b99b8d",
       "rows": 5,
       "style": "IPY_MODEL_844e876cf127436f913fad7ac2b5602a"
      }
     },
     "3c430083a6014f6eb9c894bc3b3fa1b0": {
      "model_module": "@jupyter-widgets/controls",
      "model_module_version": "1.5.0",
      "model_name": "DescriptionStyleModel",
      "state": {
       "description_width": ""
      }
     },
     "3c431e31a7b043708ee5dcda2f19ace4": {
      "model_module": "@jupyter-widgets/base",
      "model_module_version": "1.2.0",
      "model_name": "LayoutModel",
      "state": {}
     },
     "3c4ad0ca28fc4eca90c5631cdb413161": {
      "model_module": "@jupyter-widgets/controls",
      "model_module_version": "1.5.0",
      "model_name": "DescriptionStyleModel",
      "state": {
       "description_width": ""
      }
     },
     "3c747a1883e1446c98f19a9e26e1c536": {
      "model_module": "@jupyter-widgets/base",
      "model_module_version": "1.2.0",
      "model_name": "LayoutModel",
      "state": {}
     },
     "3deca78f5810476ba692dcc288af97b8": {
      "model_module": "@jupyter-widgets/base",
      "model_module_version": "1.2.0",
      "model_name": "LayoutModel",
      "state": {}
     },
     "3df1a38fd94242a8bd9fc80d70f45010": {
      "model_module": "@jupyter-widgets/base",
      "model_module_version": "1.2.0",
      "model_name": "LayoutModel",
      "state": {}
     },
     "3e1984783a614977a1d4ffdf854d879c": {
      "model_module": "@jupyter-widgets/controls",
      "model_module_version": "1.5.0",
      "model_name": "DropdownModel",
      "state": {
       "_options_labels": [
        "",
        "d4",
        "d6",
        "d8",
        "d10",
        "d12"
       ],
       "description": "Die size:",
       "disabled": true,
       "index": 0,
       "layout": "IPY_MODEL_a59690edec1f47d588d904390c3e5cb6",
       "style": "IPY_MODEL_176d217fcbf340e28ca7856b93ac6fd4"
      }
     },
     "3e2af1c0ff9745778aeb1214329c3a09": {
      "model_module": "@jupyter-widgets/controls",
      "model_module_version": "1.5.0",
      "model_name": "DescriptionStyleModel",
      "state": {
       "description_width": ""
      }
     },
     "3ef13cb2f62040718d2ccefbde2feb46": {
      "model_module": "@jupyter-widgets/controls",
      "model_module_version": "1.5.0",
      "model_name": "DescriptionStyleModel",
      "state": {
       "description_width": ""
      }
     },
     "3efaed6c477e43cc8afe06c2f77d2b67": {
      "model_module": "@jupyter-widgets/base",
      "model_module_version": "1.2.0",
      "model_name": "LayoutModel",
      "state": {}
     },
     "3f2524da575f4118998556f4e0acff65": {
      "model_module": "@jupyter-widgets/controls",
      "model_module_version": "1.5.0",
      "model_name": "SelectMultipleModel",
      "state": {
       "_options_labels": [
        "agile",
        "finesse",
        "rage",
        "unarmed",
        "fear",
        "mental",
        "poison",
        "disease",
        "fear",
        "sweep"
       ],
       "description": "Any",
       "disabled": true,
       "index": [],
       "layout": "IPY_MODEL_375d6d8b18d4471fb9b9363b50f627bb",
       "rows": 5,
       "style": "IPY_MODEL_902ba84f5a344c63902e9f9aecc193ce"
      }
     },
     "3fed40ea80434ed3be48a6765cbfee42": {
      "model_module": "@jupyter-widgets/base",
      "model_module_version": "1.2.0",
      "model_name": "LayoutModel",
      "state": {}
     },
     "40e1dfddf6ba436ea7f5414276161de1": {
      "model_module": "@jupyter-widgets/controls",
      "model_module_version": "1.5.0",
      "model_name": "DescriptionStyleModel",
      "state": {
       "description_width": ""
      }
     },
     "40e774eaa0b4427f9671e546df4e4426": {
      "model_module": "@jupyter-widgets/controls",
      "model_module_version": "1.5.0",
      "model_name": "ButtonStyleModel",
      "state": {}
     },
     "4104111b0c5d4f2abd553e25053a9a16": {
      "model_module": "@jupyter-widgets/controls",
      "model_module_version": "1.5.0",
      "model_name": "CheckboxModel",
      "state": {
       "description": "Add a Name?",
       "disabled": true,
       "layout": "IPY_MODEL_480294c5a7e94a21a61df41e4d106207",
       "style": "IPY_MODEL_37fb2000c59149129144f3733f9057eb",
       "value": false
      }
     },
     "415b4ca4840f402ebfe81cb080961769": {
      "model_module": "@jupyter-widgets/controls",
      "model_module_version": "1.5.0",
      "model_name": "ButtonModel",
      "state": {
       "description": "Reset",
       "layout": "IPY_MODEL_3c2fc2360a6f44e399592868766df139",
       "style": "IPY_MODEL_a0423dfe1a0b436e8ceed90a764ac51c"
      }
     },
     "417b57f5688540b8a99e1fc3fdaa9a19": {
      "model_module": "@jupyter-widgets/base",
      "model_module_version": "1.2.0",
      "model_name": "LayoutModel",
      "state": {}
     },
     "41a6490cfd7e4e678512358764721b05": {
      "model_module": "@jupyter-widgets/controls",
      "model_module_version": "1.5.0",
      "model_name": "DescriptionStyleModel",
      "state": {
       "description_width": ""
      }
     },
     "420b72f693054fd490aaea8ab75bb20a": {
      "model_module": "@jupyter-widgets/controls",
      "model_module_version": "1.5.0",
      "model_name": "CheckboxModel",
      "state": {
       "description": "Add a Name?",
       "disabled": true,
       "layout": "IPY_MODEL_17a28311e47b45eb8b76c86ac67c0897",
       "style": "IPY_MODEL_a155bc4deee641f08c80674d9778637e",
       "value": false
      }
     },
     "42124238559e445b9343428875bc0592": {
      "model_module": "@jupyter-widgets/controls",
      "model_module_version": "1.5.0",
      "model_name": "DescriptionStyleModel",
      "state": {
       "description_width": ""
      }
     },
     "426413b665ba44d98e3b2a44ab447ba4": {
      "model_module": "@jupyter-widgets/controls",
      "model_module_version": "1.5.0",
      "model_name": "ButtonModel",
      "state": {
       "description": "Select Key",
       "layout": "IPY_MODEL_eb9d0e14acfb4636a8b34148100c7e89",
       "style": "IPY_MODEL_13fefbbc01304c8b89fb724ea813dfc9"
      }
     },
     "427882d622ed4f2da225fe8ed072e7ee": {
      "model_module": "@jupyter-widgets/controls",
      "model_module_version": "1.5.0",
      "model_name": "DropdownModel",
      "state": {
       "_options_labels": [
        "",
        "slashing",
        "piercing",
        "bludgeoning",
        "precision",
        "fire",
        "cold",
        "electricity",
        "acid",
        "poison",
        "sonic",
        "force",
        "mental",
        "lawful",
        "chaotic",
        "good",
        "evil",
        "positive",
        "negative"
       ],
       "description": "Damage type",
       "disabled": true,
       "index": 0,
       "layout": "IPY_MODEL_78f453341a734cb7a7777e686f5852e3",
       "style": "IPY_MODEL_ef834502bec34a73a33888c0c251409d"
      }
     },
     "4294b99004aa44a3932d36b44114d568": {
      "model_module": "@jupyter-widgets/controls",
      "model_module_version": "1.5.0",
      "model_name": "ButtonModel",
      "state": {
       "description": "Select Key",
       "layout": "IPY_MODEL_eebee0a8e96346a0b78796acd68d7420",
       "style": "IPY_MODEL_958b5fb98f5d4980a3ed541589f429cd"
      }
     },
     "42a66ebe011449b7a536086c801c3e0b": {
      "model_module": "@jupyter-widgets/base",
      "model_module_version": "1.2.0",
      "model_name": "LayoutModel",
      "state": {}
     },
     "42f7793eeb1a49a8ad122bba2059eb82": {
      "model_module": "@jupyter-widgets/base",
      "model_module_version": "1.2.0",
      "model_name": "LayoutModel",
      "state": {}
     },
     "43b540a883da42c0b414774297c1b100": {
      "model_module": "@jupyter-widgets/base",
      "model_module_version": "1.2.0",
      "model_name": "LayoutModel",
      "state": {}
     },
     "4422dd699bec461c8b96d8fbd811ad7f": {
      "model_module": "@jupyter-widgets/base",
      "model_module_version": "1.2.0",
      "model_name": "LayoutModel",
      "state": {}
     },
     "4433ec0390b44443a7dc5ac486b1ebac": {
      "model_module": "@jupyter-widgets/controls",
      "model_module_version": "1.5.0",
      "model_name": "CheckboxModel",
      "state": {
       "description": "Add a label?",
       "disabled": true,
       "layout": "IPY_MODEL_17220a7b165c4c12b40bf0fc57306d3c",
       "style": "IPY_MODEL_922e7c9dce074fd38b247d0e4c7942c2",
       "value": false
      }
     },
     "44d1cfb9aee8443b82be3566032adfe5": {
      "model_module": "@jupyter-widgets/controls",
      "model_module_version": "1.5.0",
      "model_name": "DescriptionStyleModel",
      "state": {
       "description_width": ""
      }
     },
     "44dd7dfd45464a8591cb3f7dfa956c8b": {
      "model_module": "@jupyter-widgets/controls",
      "model_module_version": "1.5.0",
      "model_name": "BoxModel",
      "state": {
       "children": [
        "IPY_MODEL_3aa34dc2f95f47cf906e2d2d31d7fa2f",
        "IPY_MODEL_4f7c2d9826ed4c068262e09b8082e67e",
        "IPY_MODEL_60ffa152d88e4cab903143221951d68b"
       ],
       "layout": "IPY_MODEL_b2b75f0d4f584be38994cbf0a8dad053"
      }
     },
     "44e0b7a5e4274bba941350af13e48e72": {
      "model_module": "@jupyter-widgets/base",
      "model_module_version": "1.2.0",
      "model_name": "LayoutModel",
      "state": {}
     },
     "44e9e3720b204f0f8a6a534413cd897a": {
      "model_module": "@jupyter-widgets/base",
      "model_module_version": "1.2.0",
      "model_name": "LayoutModel",
      "state": {}
     },
     "44effb90d7684c34b4f5104d52f49924": {
      "model_module": "@jupyter-widgets/controls",
      "model_module_version": "1.5.0",
      "model_name": "ButtonModel",
      "state": {
       "description": "Create Rule Element",
       "disabled": true,
       "layout": "IPY_MODEL_e88df9df6d664859b0c8d6b796ce8a15",
       "style": "IPY_MODEL_1654045d23a142918c18916256ee39f5"
      }
     },
     "4633766bc9f84564b6ca6dbd00022454": {
      "model_module": "@jupyter-widgets/controls",
      "model_module_version": "1.5.0",
      "model_name": "DescriptionStyleModel",
      "state": {
       "description_width": ""
      }
     },
     "466289ab27474a77aa631b4b5df89403": {
      "model_module": "@jupyter-widgets/controls",
      "model_module_version": "1.5.0",
      "model_name": "DescriptionStyleModel",
      "state": {
       "description_width": ""
      }
     },
     "46635288ffb042a391260d432568a628": {
      "model_module": "@jupyter-widgets/controls",
      "model_module_version": "1.5.0",
      "model_name": "CheckboxModel",
      "state": {
       "description": "Override base damage?",
       "disabled": true,
       "indent": false,
       "layout": "IPY_MODEL_ff44d6c2e56e435e9fd1149dd7e8ac3e",
       "style": "IPY_MODEL_3ba5ed9c327042ef867d0fec6c030710",
       "value": false
      }
     },
     "47038f2b98014f64bae6409a14113de4": {
      "model_module": "@jupyter-widgets/controls",
      "model_module_version": "1.5.0",
      "model_name": "ButtonModel",
      "state": {
       "description": "Reset",
       "layout": "IPY_MODEL_0b1bfaf437c44eda863a1423d2df642f",
       "style": "IPY_MODEL_189960bcfb2a48a18c729c51d0cc84ab"
      }
     },
     "480294c5a7e94a21a61df41e4d106207": {
      "model_module": "@jupyter-widgets/base",
      "model_module_version": "1.2.0",
      "model_name": "LayoutModel",
      "state": {}
     },
     "482b734e1a13428897f16c270ef7bb79": {
      "model_module": "@jupyter-widgets/base",
      "model_module_version": "1.2.0",
      "model_name": "LayoutModel",
      "state": {}
     },
     "483c9456c3f745b3844b6086a20f5002": {
      "model_module": "@jupyter-widgets/controls",
      "model_module_version": "1.5.0",
      "model_name": "ButtonModel",
      "state": {
       "description": "Select Key",
       "layout": "IPY_MODEL_0a47cf84e55543a4ba1cde3f61dc8112",
       "style": "IPY_MODEL_9391bc2addc24def986c865da07ac50f"
      }
     },
     "485b0ed81f0e45fbb587a9489f4b3204": {
      "model_module": "@jupyter-widgets/controls",
      "model_module_version": "1.5.0",
      "model_name": "IntTextModel",
      "state": {
       "description": "Value:",
       "disabled": true,
       "layout": "IPY_MODEL_2734ff4e3ea64447b1b66d9fcc0b59c4",
       "step": 1,
       "style": "IPY_MODEL_4c2d3abbb222474f80f274f7b45b5c2c"
      }
     },
     "48d1d4ac07cf4794828057a4977b18a6": {
      "model_module": "@jupyter-widgets/controls",
      "model_module_version": "1.5.0",
      "model_name": "DescriptionStyleModel",
      "state": {
       "description_width": ""
      }
     },
     "48d2c0e58c714542b6b68a052e2e8600": {
      "model_module": "@jupyter-widgets/controls",
      "model_module_version": "1.5.0",
      "model_name": "DescriptionStyleModel",
      "state": {
       "description_width": ""
      }
     },
     "48e0d987524540db8d4a8833753c74b4": {
      "model_module": "@jupyter-widgets/base",
      "model_module_version": "1.2.0",
      "model_name": "LayoutModel",
      "state": {}
     },
     "490e9c326e074971bc9ea56b85761a0f": {
      "model_module": "@jupyter-widgets/base",
      "model_module_version": "1.2.0",
      "model_name": "LayoutModel",
      "state": {}
     },
     "49253b6f10794812ace1208d6e3404ff": {
      "model_module": "@jupyter-widgets/base",
      "model_module_version": "1.2.0",
      "model_name": "LayoutModel",
      "state": {}
     },
     "495bf1b34c3b42b9a6f99e83102cde25": {
      "model_module": "@jupyter-widgets/controls",
      "model_module_version": "1.5.0",
      "model_name": "CheckboxModel",
      "state": {
       "description": "Override base damage?",
       "disabled": true,
       "indent": false,
       "layout": "IPY_MODEL_dd65eb95f0594b3aa2050d94d9a32d8e",
       "style": "IPY_MODEL_825d6e0b9412498ab23c883e6b1b617f",
       "value": false
      }
     },
     "49813240cb7842f29dd4f7b56cee377e": {
      "model_module": "@jupyter-widgets/controls",
      "model_module_version": "1.5.0",
      "model_name": "IntTextModel",
      "state": {
       "description": "Number of dice:",
       "disabled": true,
       "layout": "IPY_MODEL_37f9fb8e12874c9a82f3c8d1419b823a",
       "step": 1,
       "style": "IPY_MODEL_4bc0446612e8437b8c6b5498dcfc9eae"
      }
     },
     "49ce3071b33548fbb8a295dfb1f77c1d": {
      "model_module": "@jupyter-widgets/base",
      "model_module_version": "1.2.0",
      "model_name": "LayoutModel",
      "state": {}
     },
     "4a684218279d4fadb1c89aa90d8a2d99": {
      "model_module": "@jupyter-widgets/controls",
      "model_module_version": "1.5.0",
      "model_name": "DescriptionStyleModel",
      "state": {
       "description_width": ""
      }
     },
     "4a68ee8ec37c426cac33c11020faabbe": {
      "model_module": "@jupyter-widgets/base",
      "model_module_version": "1.2.0",
      "model_name": "LayoutModel",
      "state": {}
     },
     "4aa42073237f4c60b46bad46b146f100": {
      "model_module": "@jupyter-widgets/controls",
      "model_module_version": "1.5.0",
      "model_name": "IntTextModel",
      "state": {
       "description": "Value:",
       "disabled": true,
       "layout": "IPY_MODEL_26347a6ec2ec4266baeb81b355e45f03",
       "step": 1,
       "style": "IPY_MODEL_0f6114255d194b7ab8580e5d4fbd48b7"
      }
     },
     "4b053c0d872a4d548f6c6c8893a6e88d": {
      "model_module": "@jupyter-widgets/controls",
      "model_module_version": "1.5.0",
      "model_name": "DescriptionStyleModel",
      "state": {
       "description_width": ""
      }
     },
     "4b1ad4ec3fed4aa8b58acb86190fa8dc": {
      "model_module": "@jupyter-widgets/base",
      "model_module_version": "1.2.0",
      "model_name": "LayoutModel",
      "state": {}
     },
     "4bc0446612e8437b8c6b5498dcfc9eae": {
      "model_module": "@jupyter-widgets/controls",
      "model_module_version": "1.5.0",
      "model_name": "DescriptionStyleModel",
      "state": {
       "description_width": ""
      }
     },
     "4c2d3abbb222474f80f274f7b45b5c2c": {
      "model_module": "@jupyter-widgets/controls",
      "model_module_version": "1.5.0",
      "model_name": "DescriptionStyleModel",
      "state": {
       "description_width": ""
      }
     },
     "4c7585f608824f77b9b83e15d5fe29e0": {
      "model_module": "@jupyter-widgets/controls",
      "model_module_version": "1.5.0",
      "model_name": "DescriptionStyleModel",
      "state": {
       "description_width": ""
      }
     },
     "4ccc620f50874b74a1cf5e3e7550e4a4": {
      "model_module": "@jupyter-widgets/base",
      "model_module_version": "1.2.0",
      "model_name": "LayoutModel",
      "state": {}
     },
     "4d7603cbaa59449cbba26971f53753c7": {
      "model_module": "@jupyter-widgets/base",
      "model_module_version": "1.2.0",
      "model_name": "LayoutModel",
      "state": {}
     },
     "4da1358a9e4a4179bc8b9e4057512cdb": {
      "model_module": "@jupyter-widgets/controls",
      "model_module_version": "1.5.0",
      "model_name": "SelectMultipleModel",
      "state": {
       "_options_labels": [
        "agile",
        "attached",
        "backstabber",
        "backswing",
        "brutal",
        "climbing",
        "concealable",
        "conrasu",
        "deadly",
        "disarm",
        "fatal",
        "finesse",
        "forceful",
        "free-hand",
        "grapple",
        "halfling",
        "hampering",
        "jousting",
        "modular",
        "monk",
        "nonlethal",
        "parry",
        "propulsive",
        "range",
        "ranged",
        "trip",
        "reach",
        "reload",
        "shove",
        "sweep",
        "tethered",
        "thrown",
        "trip",
        "twin",
        "two-hand",
        "unarmed",
        "versatile",
        "volley",
        "fear",
        "mental",
        "arcane",
        "divine",
        "occult",
        "primal",
        "abjuration",
        "conjuration",
        "divination",
        "enchantment",
        "evocation",
        "illusion",
        "necromancy",
        "transmutation",
        "auditory",
        "olfactory",
        "visual",
        "acid",
        "cold",
        "electricity",
        "fire",
        "force",
        "negative",
        "positive",
        "sonic",
        "alchemical",
        "contact",
        "ingested",
        "inhaled",
        "injury",
        "poison"
       ],
       "description": "Any",
       "disabled": true,
       "index": [],
       "layout": "IPY_MODEL_4b1ad4ec3fed4aa8b58acb86190fa8dc",
       "rows": 5,
       "style": "IPY_MODEL_8e764d9b68ed4e5f94fbf754092871cd"
      }
     },
     "4e7e6e74aaa84a9daad94240befd90a6": {
      "model_module": "@jupyter-widgets/controls",
      "model_module_version": "1.5.0",
      "model_name": "DescriptionStyleModel",
      "state": {
       "description_width": ""
      }
     },
     "4ee42dc16637424dbb9eaad40af2ef3a": {
      "model_module": "@jupyter-widgets/base",
      "model_module_version": "1.2.0",
      "model_name": "LayoutModel",
      "state": {}
     },
     "4ee52ea5f5ec45878e8d5c4ec1554e95": {
      "model_module": "@jupyter-widgets/base",
      "model_module_version": "1.2.0",
      "model_name": "LayoutModel",
      "state": {}
     },
     "4f7c2d9826ed4c068262e09b8082e67e": {
      "model_module": "@jupyter-widgets/controls",
      "model_module_version": "1.5.0",
      "model_name": "SelectMultipleModel",
      "state": {
       "_options_labels": [
        "agile",
        "attached",
        "backstabber",
        "backswing",
        "brutal",
        "climbing",
        "concealable",
        "conrasu",
        "deadly",
        "disarm",
        "fatal",
        "finesse",
        "forceful",
        "free-hand",
        "grapple",
        "halfling",
        "hampering",
        "jousting",
        "modular",
        "monk",
        "nonlethal",
        "parry",
        "propulsive",
        "range",
        "ranged",
        "trip",
        "reach",
        "reload",
        "shove",
        "sweep",
        "tethered",
        "thrown",
        "trip",
        "twin",
        "two-hand",
        "unarmed",
        "versatile",
        "volley",
        "fear",
        "mental",
        "arcane",
        "divine",
        "occult",
        "primal",
        "abjuration",
        "conjuration",
        "divination",
        "enchantment",
        "evocation",
        "illusion",
        "necromancy",
        "transmutation",
        "auditory",
        "olfactory",
        "visual",
        "acid",
        "cold",
        "electricity",
        "fire",
        "force",
        "negative",
        "positive",
        "sonic",
        "alchemical",
        "contact",
        "ingested",
        "inhaled",
        "injury",
        "poison"
       ],
       "description": "Any",
       "disabled": true,
       "index": [],
       "layout": "IPY_MODEL_a6ac67ddc6bd489c9641037aa894c002",
       "rows": 5,
       "style": "IPY_MODEL_992f1ff761914a4aaf68e180ba5e130e"
      }
     },
     "4fd3c75b322348f9be2158acc4d57fca": {
      "model_module": "@jupyter-widgets/controls",
      "model_module_version": "1.5.0",
      "model_name": "ButtonModel",
      "state": {
       "description": "Create Rule Element",
       "disabled": true,
       "layout": "IPY_MODEL_f41eb0c9be0d42908a3f6adb69866e9e",
       "style": "IPY_MODEL_ecdb452b1a1f4f3499f6f302212c2e41"
      }
     },
     "5052330d785044b589ff5d66c57f4547": {
      "model_module": "@jupyter-widgets/controls",
      "model_module_version": "1.5.0",
      "model_name": "CheckboxModel",
      "state": {
       "description": "Use Advanced Selector?",
       "disabled": true,
       "layout": "IPY_MODEL_7346b0c9b06f448dbe07e9c3f69d4260",
       "style": "IPY_MODEL_3b96d896eb6443e6aa6c9871e99ed90a",
       "value": false
      }
     },
     "50c7b9c947974322b73d60a0723d01c9": {
      "model_module": "@jupyter-widgets/controls",
      "model_module_version": "1.5.0",
      "model_name": "DescriptionStyleModel",
      "state": {
       "description_width": ""
      }
     },
     "50ea33e8a542418b8af787438bd187e2": {
      "model_module": "@jupyter-widgets/controls",
      "model_module_version": "1.5.0",
      "model_name": "DescriptionStyleModel",
      "state": {
       "description_width": ""
      }
     },
     "50f75de0681d4e848a4f669e5875ac2a": {
      "model_module": "@jupyter-widgets/controls",
      "model_module_version": "1.5.0",
      "model_name": "ButtonStyleModel",
      "state": {}
     },
     "51ac3a0daefb44b0b843b0898bb6d395": {
      "model_module": "@jupyter-widgets/controls",
      "model_module_version": "1.5.0",
      "model_name": "DropdownModel",
      "state": {
       "_options_labels": [
        "Flat Modifier",
        "Damage Dice",
        "Weapon Potency",
        "Striking rune",
        "Multi Attack Penalty"
       ],
       "description": "Key:",
       "index": 0,
       "layout": "IPY_MODEL_6470bcca900e41558ea63426f8d46513",
       "style": "IPY_MODEL_04893a57e6ca4f8d9441760b41b0b408"
      }
     },
     "52b4a95ecac6443eacf2081d4507ffa9": {
      "model_module": "@jupyter-widgets/controls",
      "model_module_version": "1.5.0",
      "model_name": "DescriptionStyleModel",
      "state": {
       "description_width": ""
      }
     },
     "52c26bcc737e47fcb0ea84f34c5ac33c": {
      "model_module": "@jupyter-widgets/base",
      "model_module_version": "1.2.0",
      "model_name": "LayoutModel",
      "state": {}
     },
     "52f03d34b7ce49ddb39e9b89fbe539d7": {
      "model_module": "@jupyter-widgets/base",
      "model_module_version": "1.2.0",
      "model_name": "LayoutModel",
      "state": {}
     },
     "52fe781ab007457ebd537f2daecb7d1e": {
      "model_module": "@jupyter-widgets/controls",
      "model_module_version": "1.5.0",
      "model_name": "IntTextModel",
      "state": {
       "description": "Value:",
       "disabled": true,
       "layout": "IPY_MODEL_2717d38f2cbe4ebdbfcaf2fcfa2a8fd9",
       "step": 1,
       "style": "IPY_MODEL_08434fd78db24252b3f4855048298206"
      }
     },
     "53330766274949d3acae2890043ac0e1": {
      "model_module": "@jupyter-widgets/controls",
      "model_module_version": "1.5.0",
      "model_name": "ButtonModel",
      "state": {
       "description": "Set Selectors",
       "disabled": true,
       "layout": "IPY_MODEL_972e20ba20ac4a08ae639a4961c65493",
       "style": "IPY_MODEL_20ee8159fb2c4b1e9477fe222c32ebe1"
      }
     },
     "5371f28e06f34ac4a73dceab61edf5e4": {
      "model_module": "@jupyter-widgets/controls",
      "model_module_version": "1.5.0",
      "model_name": "DescriptionStyleModel",
      "state": {
       "description_width": ""
      }
     },
     "53e170c42f9b44beb4b6519ebd6c6d49": {
      "model_module": "@jupyter-widgets/controls",
      "model_module_version": "1.5.0",
      "model_name": "DropdownModel",
      "state": {
       "_options_labels": [
        "",
        "slashing",
        "piercing",
        "bludgeoning",
        "precision",
        "fire",
        "cold",
        "electricity",
        "acid",
        "poison",
        "sonic",
        "force",
        "mental",
        "lawful",
        "chaotic",
        "good",
        "evil",
        "positive",
        "negative"
       ],
       "description": "Damage type",
       "disabled": true,
       "index": 0,
       "layout": "IPY_MODEL_73215ce85a2640d6b88fbc0ec940a0c6",
       "style": "IPY_MODEL_034e1be8d7c14635abc6a852b7cbc8cd"
      }
     },
     "53e8ee620be34ac39d8933d09ca273b1": {
      "model_module": "@jupyter-widgets/controls",
      "model_module_version": "1.5.0",
      "model_name": "IntTextModel",
      "state": {
       "description": "Number of dice:",
       "disabled": true,
       "layout": "IPY_MODEL_3deca78f5810476ba692dcc288af97b8",
       "step": 1,
       "style": "IPY_MODEL_0c8c810b2da74ac28c38ae75386178a4"
      }
     },
     "54b9ad4daef5407d833693ea79756a6a": {
      "model_module": "@jupyter-widgets/controls",
      "model_module_version": "1.5.0",
      "model_name": "ButtonModel",
      "state": {
       "description": "Reset",
       "layout": "IPY_MODEL_0dce81d646d34fcb8eaa22c530a7221c",
       "style": "IPY_MODEL_aef408f529b14557bb9c4e2c4070cae8"
      }
     },
     "54ca26e265854d538cb8aefe216d39a0": {
      "model_module": "@jupyter-widgets/base",
      "model_module_version": "1.2.0",
      "model_name": "LayoutModel",
      "state": {}
     },
     "5525c7a472784a0bae8c0d5dd9c7840f": {
      "model_module": "@jupyter-widgets/controls",
      "model_module_version": "1.5.0",
      "model_name": "DescriptionStyleModel",
      "state": {
       "description_width": ""
      }
     },
     "5543d66c80914ebc8696d2cc319de23b": {
      "model_module": "@jupyter-widgets/controls",
      "model_module_version": "1.5.0",
      "model_name": "ButtonModel",
      "state": {
       "description": "Set Selectors",
       "layout": "IPY_MODEL_bb2e4769e6b14d748ea872cdfff38747",
       "style": "IPY_MODEL_f0014649581e43b18af204a16a4011c1"
      }
     },
     "55a10227b18c4defacde4d36749e38e3": {
      "model_module": "@jupyter-widgets/controls",
      "model_module_version": "1.5.0",
      "model_name": "DescriptionStyleModel",
      "state": {
       "description_width": ""
      }
     },
     "55d1911dcba448c7bd9bbfa0252e4d93": {
      "model_module": "@jupyter-widgets/controls",
      "model_module_version": "1.5.0",
      "model_name": "DescriptionStyleModel",
      "state": {
       "description_width": ""
      }
     },
     "55dd08b44a8f4cf8a5ec2f98cfde1f3e": {
      "model_module": "@jupyter-widgets/controls",
      "model_module_version": "1.5.0",
      "model_name": "DropdownModel",
      "state": {
       "_options_labels": [
        "no advanced selector",
        "Only this item",
        "swords",
        "bows",
        "knives",
        "spears",
        "axes",
        "hammers",
        "picks",
        "flails",
        "brawling",
        "polearms",
        "sling",
        "bombs",
        "shields",
        "darts",
        "clubs"
       ],
       "description": "Advanced Selector",
       "disabled": true,
       "index": 0,
       "layout": "IPY_MODEL_2c1fd62b3f0146058265d09b5f6234d6",
       "style": "IPY_MODEL_40e1dfddf6ba436ea7f5414276161de1"
      }
     },
     "5602b2733c794536b05b719742e29f91": {
      "model_module": "@jupyter-widgets/controls",
      "model_module_version": "1.5.0",
      "model_name": "ButtonStyleModel",
      "state": {}
     },
     "573ba101475f4acb9c1e2c55d12f7990": {
      "model_module": "@jupyter-widgets/controls",
      "model_module_version": "1.5.0",
      "model_name": "ButtonModel",
      "state": {
       "description": "Select Key",
       "layout": "IPY_MODEL_d2a48210d3ad440ca2ab3e901c28a703",
       "style": "IPY_MODEL_5602b2733c794536b05b719742e29f91"
      }
     },
     "5818b5fe2076433ab748e5f8e9c61aa0": {
      "model_module": "@jupyter-widgets/base",
      "model_module_version": "1.2.0",
      "model_name": "LayoutModel",
      "state": {}
     },
     "583fa8ef9a554e3da0b7cf95758dad48": {
      "model_module": "@jupyter-widgets/base",
      "model_module_version": "1.2.0",
      "model_name": "LayoutModel",
      "state": {}
     },
     "59285e7de6c046b38fd44673cc2d0a9d": {
      "model_module": "@jupyter-widgets/controls",
      "model_module_version": "1.5.0",
      "model_name": "DescriptionStyleModel",
      "state": {
       "description_width": ""
      }
     },
     "5969ca0365db4f28b8ced0ace2c72b1d": {
      "model_module": "@jupyter-widgets/controls",
      "model_module_version": "1.5.0",
      "model_name": "DropdownModel",
      "state": {
       "_options_labels": [
        "no advanced selector",
        "Only this item",
        "swords",
        "bows",
        "knives",
        "spears",
        "axes",
        "hammers",
        "picks",
        "flails",
        "brawling",
        "polearms",
        "sling",
        "bombs",
        "shields",
        "darts",
        "clubs"
       ],
       "description": "Advanced Selector",
       "disabled": true,
       "index": 0,
       "layout": "IPY_MODEL_bf13a5e8f674407f9ef8d5a6c1d7d329",
       "style": "IPY_MODEL_c9421022aaca4859bcdebd04a09fb161"
      }
     },
     "59aa3f346432422cb7862da715da0db7": {
      "model_module": "@jupyter-widgets/controls",
      "model_module_version": "1.5.0",
      "model_name": "DropdownModel",
      "state": {
       "_options_labels": [
        "",
        "circumstance",
        "item",
        "status"
       ],
       "description": "Type",
       "disabled": true,
       "index": 0,
       "layout": "IPY_MODEL_52f03d34b7ce49ddb39e9b89fbe539d7",
       "style": "IPY_MODEL_83c12e285bbb4eb6adab9551af2815c9"
      }
     },
     "59ad9712a112420d9ee940ef3f2de323": {
      "model_module": "@jupyter-widgets/controls",
      "model_module_version": "1.5.0",
      "model_name": "DescriptionStyleModel",
      "state": {
       "description_width": ""
      }
     },
     "5a5871ba86414225b0e0463fc9b6a13f": {
      "model_module": "@jupyter-widgets/controls",
      "model_module_version": "1.5.0",
      "model_name": "DescriptionStyleModel",
      "state": {
       "description_width": ""
      }
     },
     "5ac54f4d932a441db6e2017b56219dcd": {
      "model_module": "@jupyter-widgets/controls",
      "model_module_version": "1.5.0",
      "model_name": "DropdownModel",
      "state": {
       "_options_labels": [
        "",
        "slashing",
        "piercing",
        "bludgeoning",
        "precision",
        "fire",
        "cold",
        "electricity",
        "acid",
        "poison",
        "sonic",
        "force",
        "mental",
        "lawful",
        "chaotic",
        "good",
        "evil",
        "positive",
        "negative"
       ],
       "description": "Damage type",
       "disabled": true,
       "index": 0,
       "layout": "IPY_MODEL_b2ff55da1a9446369f44ddfd53e76cc0",
       "style": "IPY_MODEL_76c3b9422d1a4028a26531faf88045d3"
      }
     },
     "5ae3a91143774a31a607838401875331": {
      "model_module": "@jupyter-widgets/controls",
      "model_module_version": "1.5.0",
      "model_name": "SelectMultipleModel",
      "state": {
       "_options_labels": [
        "agile",
        "finesse",
        "rage",
        "unarmed",
        "fear",
        "mental",
        "poison",
        "disease",
        "fear",
        "sweep"
       ],
       "description": "Predicate:All",
       "disabled": true,
       "index": [],
       "layout": "IPY_MODEL_b6b49968b095426e8205f927739cd3e1",
       "rows": 5,
       "style": "IPY_MODEL_fcfc0690b3294b29981f314bbe0e8e49"
      }
     },
     "5b478b81be844723b47330708533382e": {
      "model_module": "@jupyter-widgets/controls",
      "model_module_version": "1.5.0",
      "model_name": "ButtonStyleModel",
      "state": {}
     },
     "5b6ece18453645de94a01c828256b35f": {
      "model_module": "@jupyter-widgets/base",
      "model_module_version": "1.2.0",
      "model_name": "LayoutModel",
      "state": {}
     },
     "5bae3d39896542a9a30c27e85530801a": {
      "model_module": "@jupyter-widgets/controls",
      "model_module_version": "1.5.0",
      "model_name": "ButtonStyleModel",
      "state": {}
     },
     "5bbac034943f4770b9fa907fa15c9ddf": {
      "model_module": "@jupyter-widgets/controls",
      "model_module_version": "1.5.0",
      "model_name": "DropdownModel",
      "state": {
       "_options_labels": [
        "all",
        "str-based",
        "dex-based",
        "con-based",
        "int-based",
        "wis-based",
        "cha-based",
        "attack",
        "spell-attack",
        "attack-roll",
        "str-attack",
        "dex-attack",
        "con-attack",
        "int-attack",
        "wis-attack",
        "cha-attack",
        "damage",
        "saving-throw",
        "fortitude",
        "reflex",
        "will",
        "initiative",
        "perception",
        "class",
        "ac",
        "hp",
        "hp-per-level",
        "speed",
        "land-speed",
        "burrow-speed",
        "climb-speed",
        "fly-speed",
        "swim-speed",
        "skill-check",
        "acrobatics",
        "arcana",
        "athletics",
        "crafting",
        "deception",
        "diplomacy",
        "intimidation",
        "medicine",
        "nature",
        "occultism",
        "performance",
        "religion",
        "society",
        "stealth",
        "survival",
        "thievery"
       ],
       "description": "Selector",
       "disabled": true,
       "index": 0,
       "layout": "IPY_MODEL_e1d2d0c059e0479d9d344b0d61482b29",
       "style": "IPY_MODEL_2a37a7f86a1745fa920350aa27770386"
      }
     },
     "5bbc93dd7a924454aee6c235a7e28a8d": {
      "model_module": "@jupyter-widgets/base",
      "model_module_version": "1.2.0",
      "model_name": "LayoutModel",
      "state": {}
     },
     "5c1bb568476b439a89e7afa30cfceae2": {
      "model_module": "@jupyter-widgets/controls",
      "model_module_version": "1.5.0",
      "model_name": "DescriptionStyleModel",
      "state": {
       "description_width": ""
      }
     },
     "5c21d1048fbf4136bf5948665e1a03e9": {
      "model_module": "@jupyter-widgets/base",
      "model_module_version": "1.2.0",
      "model_name": "LayoutModel",
      "state": {}
     },
     "5d055fef6b124395aa55ed47aed3016e": {
      "model_module": "@jupyter-widgets/controls",
      "model_module_version": "1.5.0",
      "model_name": "DescriptionStyleModel",
      "state": {
       "description_width": ""
      }
     },
     "5d730374db444b888d778b3794bbf75a": {
      "model_module": "@jupyter-widgets/base",
      "model_module_version": "1.2.0",
      "model_name": "LayoutModel",
      "state": {}
     },
     "5dc2a8c974eb43dd8477d291455a3930": {
      "model_module": "@jupyter-widgets/controls",
      "model_module_version": "1.5.0",
      "model_name": "DropdownModel",
      "state": {
       "_options_labels": [
        "",
        "d4",
        "d6",
        "d8",
        "d10",
        "d12"
       ],
       "description": "Die size:",
       "disabled": true,
       "index": 0,
       "layout": "IPY_MODEL_4ee42dc16637424dbb9eaad40af2ef3a",
       "style": "IPY_MODEL_1b46e537416f4a29890e75413b6c7456"
      }
     },
     "5e51505798664b7ba537638eba3c6501": {
      "model_module": "@jupyter-widgets/controls",
      "model_module_version": "1.5.0",
      "model_name": "CheckboxModel",
      "state": {
       "description": "Add a Name?",
       "disabled": true,
       "layout": "IPY_MODEL_c95d4a364acc41d2a9f7bdd7299d7686",
       "style": "IPY_MODEL_8d45bdecb9834036a2f140fbfba36f19",
       "value": false
      }
     },
     "5f25f181d6294628ac2659c75d7c2c26": {
      "model_module": "@jupyter-widgets/controls",
      "model_module_version": "1.5.0",
      "model_name": "SelectMultipleModel",
      "state": {
       "_options_labels": [
        "agile",
        "attached",
        "backstabber",
        "backswing",
        "brutal",
        "climbing",
        "concealable",
        "conrasu",
        "deadly",
        "disarm",
        "fatal",
        "finesse",
        "forceful",
        "free-hand",
        "grapple",
        "halfling",
        "hampering",
        "jousting",
        "modular",
        "monk",
        "nonlethal",
        "parry",
        "propulsive",
        "range",
        "ranged",
        "trip",
        "reach",
        "reload",
        "shove",
        "sweep",
        "tethered",
        "thrown",
        "trip",
        "twin",
        "two-hand",
        "unarmed",
        "versatile",
        "volley",
        "fear",
        "mental",
        "arcane",
        "divine",
        "occult",
        "primal",
        "abjuration",
        "conjuration",
        "divination",
        "enchantment",
        "evocation",
        "illusion",
        "necromancy",
        "transmutation",
        "auditory",
        "olfactory",
        "visual",
        "acid",
        "cold",
        "electricity",
        "fire",
        "force",
        "negative",
        "positive",
        "sonic",
        "alchemical",
        "contact",
        "ingested",
        "inhaled",
        "injury",
        "poison"
       ],
       "description": "Any",
       "disabled": true,
       "index": [],
       "layout": "IPY_MODEL_7a10854ce4d14c44b9e46bbfd2989a59",
       "rows": 15,
       "style": "IPY_MODEL_a5412338926e463f8a86093a34bbf948"
      }
     },
     "5fa4a3394fe64c08a9e61e04b467a12c": {
      "model_module": "@jupyter-widgets/controls",
      "model_module_version": "1.5.0",
      "model_name": "DescriptionStyleModel",
      "state": {
       "description_width": ""
      }
     },
     "5fad45ec1fd64c40be3cca870422f559": {
      "model_module": "@jupyter-widgets/controls",
      "model_module_version": "1.5.0",
      "model_name": "CheckboxModel",
      "state": {
       "description": "Add a Name?",
       "disabled": true,
       "layout": "IPY_MODEL_e13b4ad3be6b476a993b866e37f401b7",
       "style": "IPY_MODEL_f0640fd5a5854319a74790ebcf35f8f8",
       "value": false
      }
     },
     "5fb267589f9d43779a4d7959cf3b75c1": {
      "model_module": "@jupyter-widgets/base",
      "model_module_version": "1.2.0",
      "model_name": "LayoutModel",
      "state": {}
     },
     "5fe5e2ebd6134b248bf9b74bcc4d3f45": {
      "model_module": "@jupyter-widgets/base",
      "model_module_version": "1.2.0",
      "model_name": "LayoutModel",
      "state": {}
     },
     "60969c72f106458caa01a83782d0c366": {
      "model_module": "@jupyter-widgets/controls",
      "model_module_version": "1.5.0",
      "model_name": "DescriptionStyleModel",
      "state": {
       "description_width": ""
      }
     },
     "60b531176aac458d802409c2d7751caf": {
      "model_module": "@jupyter-widgets/controls",
      "model_module_version": "1.5.0",
      "model_name": "SelectMultipleModel",
      "state": {
       "_options_labels": [
        "agile",
        "finesse",
        "rage",
        "unarmed",
        "fear",
        "mental",
        "poison",
        "disease",
        "fear",
        "sweep"
       ],
       "description": "Predicate:All",
       "disabled": true,
       "index": [],
       "layout": "IPY_MODEL_87f98cd08d9e41089db621806c606df5",
       "rows": 5,
       "style": "IPY_MODEL_8909f85fafa84809b058e7a6ab728fe2"
      }
     },
     "60bae2d2567443dcbefbe009d4fb02fc": {
      "model_module": "@jupyter-widgets/controls",
      "model_module_version": "1.5.0",
      "model_name": "DescriptionStyleModel",
      "state": {
       "description_width": ""
      }
     },
     "60ffa152d88e4cab903143221951d68b": {
      "model_module": "@jupyter-widgets/controls",
      "model_module_version": "1.5.0",
      "model_name": "SelectMultipleModel",
      "state": {
       "_options_labels": [
        "agile",
        "attached",
        "backstabber",
        "backswing",
        "brutal",
        "climbing",
        "concealable",
        "conrasu",
        "deadly",
        "disarm",
        "fatal",
        "finesse",
        "forceful",
        "free-hand",
        "grapple",
        "halfling",
        "hampering",
        "jousting",
        "modular",
        "monk",
        "nonlethal",
        "parry",
        "propulsive",
        "range",
        "ranged",
        "trip",
        "reach",
        "reload",
        "shove",
        "sweep",
        "tethered",
        "thrown",
        "trip",
        "twin",
        "two-hand",
        "unarmed",
        "versatile",
        "volley",
        "fear",
        "mental",
        "arcane",
        "divine",
        "occult",
        "primal",
        "abjuration",
        "conjuration",
        "divination",
        "enchantment",
        "evocation",
        "illusion",
        "necromancy",
        "transmutation",
        "auditory",
        "olfactory",
        "visual",
        "acid",
        "cold",
        "electricity",
        "fire",
        "force",
        "negative",
        "positive",
        "sonic",
        "alchemical",
        "contact",
        "ingested",
        "inhaled",
        "injury",
        "poison"
       ],
       "description": "Not",
       "disabled": true,
       "index": [],
       "layout": "IPY_MODEL_ba9ebb276d6543158e3be0ecc00143b9",
       "rows": 5,
       "style": "IPY_MODEL_c22711a015704fce9012d9198a5578ba"
      }
     },
     "612c0124685d4009a4e18ae0fcabe720": {
      "model_module": "@jupyter-widgets/controls",
      "model_module_version": "1.5.0",
      "model_name": "DescriptionStyleModel",
      "state": {
       "description_width": ""
      }
     },
     "61a69f044e4545ffa404e34a5fbb6504": {
      "model_module": "@jupyter-widgets/controls",
      "model_module_version": "1.5.0",
      "model_name": "IntTextModel",
      "state": {
       "description": "Value:",
       "disabled": true,
       "layout": "IPY_MODEL_f31573c38f024054b4a90a9a6903e8ca",
       "step": 1,
       "style": "IPY_MODEL_278881a9322047f78cae8d60e1e6e52f"
      }
     },
     "62f33e2493214e4caf5c9e13f3c06e1a": {
      "model_module": "@jupyter-widgets/base",
      "model_module_version": "1.2.0",
      "model_name": "LayoutModel",
      "state": {}
     },
     "6370471a44d542bb8136d8614d0caca6": {
      "model_module": "@jupyter-widgets/controls",
      "model_module_version": "1.5.0",
      "model_name": "BoxModel",
      "state": {
       "children": [
        "IPY_MODEL_bc1bd612757e4dee815cd2601ae14b5d",
        "IPY_MODEL_9c68dfa3da1f4e8f9b193701b6d7bab3",
        "IPY_MODEL_a64518f1874348b5959457da0569cbb2"
       ],
       "layout": "IPY_MODEL_aae230e5382f4d39904e706b08bc4fab"
      }
     },
     "640e74488a624ebaaa8b585a59ed82ba": {
      "model_module": "@jupyter-widgets/base",
      "model_module_version": "1.2.0",
      "model_name": "LayoutModel",
      "state": {}
     },
     "6470bcca900e41558ea63426f8d46513": {
      "model_module": "@jupyter-widgets/base",
      "model_module_version": "1.2.0",
      "model_name": "LayoutModel",
      "state": {}
     },
     "64a2bca7116049ea9fd40f3dc985ab37": {
      "model_module": "@jupyter-widgets/controls",
      "model_module_version": "1.5.0",
      "model_name": "SelectMultipleModel",
      "state": {
       "_options_labels": [
        "agile",
        "attached",
        "backstabber",
        "backswing",
        "brutal",
        "climbing",
        "concealable",
        "conrasu",
        "deadly",
        "disarm",
        "fatal",
        "finesse",
        "forceful",
        "free-hand",
        "grapple",
        "halfling",
        "hampering",
        "jousting",
        "modular",
        "monk",
        "nonlethal",
        "parry",
        "propulsive",
        "range",
        "ranged",
        "trip",
        "reach",
        "reload",
        "shove",
        "sweep",
        "tethered",
        "thrown",
        "trip",
        "twin",
        "two-hand",
        "unarmed",
        "versatile",
        "volley",
        "fear",
        "mental",
        "arcane",
        "divine",
        "occult",
        "primal",
        "abjuration",
        "conjuration",
        "divination",
        "enchantment",
        "evocation",
        "illusion",
        "necromancy",
        "transmutation",
        "auditory",
        "olfactory",
        "visual",
        "acid",
        "cold",
        "electricity",
        "fire",
        "force",
        "negative",
        "positive",
        "sonic",
        "alchemical",
        "contact",
        "ingested",
        "inhaled",
        "injury",
        "poison"
       ],
       "description": "Not",
       "disabled": true,
       "index": [],
       "layout": "IPY_MODEL_6ec268be28eb4ff3ab022b1db8edde5c",
       "rows": 15,
       "style": "IPY_MODEL_790b357897df4c4f89a8e9ad62632749"
      }
     },
     "64eb9938f8d44e469f29aab9aa577e57": {
      "model_module": "@jupyter-widgets/controls",
      "model_module_version": "1.5.0",
      "model_name": "CheckboxModel",
      "state": {
       "description": "Override base damage?",
       "disabled": true,
       "layout": "IPY_MODEL_583fa8ef9a554e3da0b7cf95758dad48",
       "style": "IPY_MODEL_c1a8a2a78d4f48b6b52179710873ac5c",
       "value": false
      }
     },
     "64f85ce2799148998cd58210828be16c": {
      "model_module": "@jupyter-widgets/controls",
      "model_module_version": "1.5.0",
      "model_name": "DescriptionStyleModel",
      "state": {
       "description_width": ""
      }
     },
     "65056104573048b58523601cd3a939eb": {
      "model_module": "@jupyter-widgets/base",
      "model_module_version": "1.2.0",
      "model_name": "LayoutModel",
      "state": {}
     },
     "6584f89e1e7e481a963d89fadc06dd29": {
      "model_module": "@jupyter-widgets/base",
      "model_module_version": "1.2.0",
      "model_name": "LayoutModel",
      "state": {}
     },
     "659780ef9ed04ec1b42aad344f678a19": {
      "model_module": "@jupyter-widgets/base",
      "model_module_version": "1.2.0",
      "model_name": "LayoutModel",
      "state": {}
     },
     "65c084eab848405ab3ac7f376dc366dd": {
      "model_module": "@jupyter-widgets/controls",
      "model_module_version": "1.5.0",
      "model_name": "CheckboxModel",
      "state": {
       "description": "Add a Name?",
       "disabled": true,
       "indent": false,
       "layout": "IPY_MODEL_981e79dc97f14dbabe723f58011e89ae",
       "style": "IPY_MODEL_44d1cfb9aee8443b82be3566032adfe5",
       "value": false
      }
     },
     "65ee2db50a30480da38099a731eafac3": {
      "model_module": "@jupyter-widgets/controls",
      "model_module_version": "1.5.0",
      "model_name": "SelectMultipleModel",
      "state": {
       "_options_labels": [
        "agile",
        "attached",
        "backstabber",
        "backswing",
        "brutal",
        "climbing",
        "concealable",
        "conrasu",
        "deadly",
        "disarm",
        "fatal",
        "finesse",
        "forceful",
        "free-hand",
        "grapple",
        "halfling",
        "hampering",
        "jousting",
        "modular",
        "monk",
        "nonlethal",
        "parry",
        "propulsive",
        "range",
        "ranged",
        "trip",
        "reach",
        "reload",
        "shove",
        "sweep",
        "tethered",
        "thrown",
        "trip",
        "twin",
        "two-hand",
        "unarmed",
        "versatile",
        "volley",
        "fear",
        "mental",
        "arcane",
        "divine",
        "occult",
        "primal",
        "abjuration",
        "conjuration",
        "divination",
        "enchantment",
        "evocation",
        "illusion",
        "necromancy",
        "transmutation",
        "auditory",
        "olfactory",
        "visual",
        "acid",
        "cold",
        "electricity",
        "fire",
        "force",
        "negative",
        "positive",
        "sonic",
        "alchemical",
        "contact",
        "ingested",
        "inhaled",
        "injury",
        "poison"
       ],
       "description": "Any",
       "disabled": true,
       "index": [],
       "layout": "IPY_MODEL_7c89159986414fb1829ce16f8a58ebb4",
       "rows": 15,
       "style": "IPY_MODEL_9217e6d5eb554b4fb687e32d26ff1797"
      }
     },
     "6672c7b643a84387aad338161ea8eef9": {
      "model_module": "@jupyter-widgets/base",
      "model_module_version": "1.2.0",
      "model_name": "LayoutModel",
      "state": {}
     },
     "66af9538ac254cffb4c73841799b511a": {
      "model_module": "@jupyter-widgets/controls",
      "model_module_version": "1.5.0",
      "model_name": "ButtonStyleModel",
      "state": {}
     },
     "676238cb9d8d4ebfb19317e0312bc674": {
      "model_module": "@jupyter-widgets/controls",
      "model_module_version": "1.5.0",
      "model_name": "DescriptionStyleModel",
      "state": {
       "description_width": ""
      }
     },
     "6765d76479864d2faf73764ff5595f26": {
      "model_module": "@jupyter-widgets/controls",
      "model_module_version": "1.5.0",
      "model_name": "DropdownModel",
      "state": {
       "_options_labels": [
        "",
        "circumstance",
        "item",
        "status"
       ],
       "description": "Type",
       "disabled": true,
       "index": 0,
       "layout": "IPY_MODEL_772df0b7cf85447982e9e6581c8ed5c8",
       "style": "IPY_MODEL_3c4ad0ca28fc4eca90c5631cdb413161"
      }
     },
     "677f56a8aaf5433c9199032dd42b0866": {
      "model_module": "@jupyter-widgets/controls",
      "model_module_version": "1.5.0",
      "model_name": "DescriptionStyleModel",
      "state": {
       "description_width": ""
      }
     },
     "67b6a7185be54c2190cd72be385f6558": {
      "model_module": "@jupyter-widgets/controls",
      "model_module_version": "1.5.0",
      "model_name": "DescriptionStyleModel",
      "state": {
       "description_width": ""
      }
     },
     "682c52bbabe94914b7f64d4df2576192": {
      "model_module": "@jupyter-widgets/controls",
      "model_module_version": "1.5.0",
      "model_name": "ButtonModel",
      "state": {
       "description": "Set Selectors",
       "disabled": true,
       "layout": "IPY_MODEL_d5d964385f6a427e9dd4de31762c0515",
       "style": "IPY_MODEL_06f85fbf16a74ea08952a6f25467c91f"
      }
     },
     "68a96924af7349b5b58fe44a90f37e0d": {
      "model_module": "@jupyter-widgets/controls",
      "model_module_version": "1.5.0",
      "model_name": "DescriptionStyleModel",
      "state": {
       "description_width": ""
      }
     },
     "69477da15a394d23b164ae551b2f448d": {
      "model_module": "@jupyter-widgets/controls",
      "model_module_version": "1.5.0",
      "model_name": "SelectMultipleModel",
      "state": {
       "_options_labels": [
        "agile",
        "attached",
        "backstabber",
        "backswing",
        "brutal",
        "climbing",
        "concealable",
        "conrasu",
        "deadly",
        "disarm",
        "fatal",
        "finesse",
        "forceful",
        "free-hand",
        "grapple",
        "halfling",
        "hampering",
        "jousting",
        "modular",
        "monk",
        "nonlethal",
        "parry",
        "propulsive",
        "range",
        "ranged",
        "trip",
        "reach",
        "reload",
        "shove",
        "sweep",
        "tethered",
        "thrown",
        "trip",
        "twin",
        "two-hand",
        "unarmed",
        "versatile",
        "volley",
        "fear",
        "mental",
        "arcane",
        "divine",
        "occult",
        "primal",
        "abjuration",
        "conjuration",
        "divination",
        "enchantment",
        "evocation",
        "illusion",
        "necromancy",
        "transmutation",
        "auditory",
        "olfactory",
        "visual",
        "acid",
        "cold",
        "electricity",
        "fire",
        "force",
        "negative",
        "positive",
        "sonic",
        "alchemical",
        "contact",
        "ingested",
        "inhaled",
        "injury",
        "poison"
       ],
       "description": "Not",
       "disabled": true,
       "index": [],
       "layout": "IPY_MODEL_ccadc08830a1434d8a897e4899916e9a",
       "rows": 15,
       "style": "IPY_MODEL_5fa4a3394fe64c08a9e61e04b467a12c"
      }
     },
     "69611f903dda40399a01186c843758b1": {
      "model_module": "@jupyter-widgets/controls",
      "model_module_version": "1.5.0",
      "model_name": "DropdownModel",
      "state": {
       "_options_labels": [
        "",
        "slashing",
        "piercing",
        "bludgeoning",
        "precision",
        "fire",
        "cold",
        "electricity",
        "acid",
        "poison",
        "sonic",
        "force",
        "mental",
        "lawful",
        "chaotic",
        "good",
        "evil",
        "positive",
        "negative"
       ],
       "description": "Damage type",
       "disabled": true,
       "index": 0,
       "layout": "IPY_MODEL_b62207419e07410a9e8e140359e56fa3",
       "style": "IPY_MODEL_7e3d082434054fdda93204c1a72d4946"
      }
     },
     "69b3ba8e493e492aa94184164430d551": {
      "model_module": "@jupyter-widgets/controls",
      "model_module_version": "1.5.0",
      "model_name": "CheckboxModel",
      "state": {
       "description": "Add a label?",
       "disabled": true,
       "layout": "IPY_MODEL_c815b1c37b69438c8d28737e59b2ffb5",
       "style": "IPY_MODEL_4633766bc9f84564b6ca6dbd00022454",
       "value": false
      }
     },
     "6a0038bca97e443bbd647b79dba253b7": {
      "model_module": "@jupyter-widgets/base",
      "model_module_version": "1.2.0",
      "model_name": "LayoutModel",
      "state": {}
     },
     "6a4606895a6140a59e5e9f95a9859e9f": {
      "model_module": "@jupyter-widgets/controls",
      "model_module_version": "1.5.0",
      "model_name": "DescriptionStyleModel",
      "state": {
       "description_width": ""
      }
     },
     "6ad32b27eefc449f8b927a4cefd4aa83": {
      "model_module": "@jupyter-widgets/controls",
      "model_module_version": "1.5.0",
      "model_name": "DropdownModel",
      "state": {
       "_options_labels": [
        "no advanced selector",
        "Only this item",
        "swords",
        "bows",
        "knives",
        "spears",
        "axes",
        "hammers",
        "picks",
        "flails",
        "brawling",
        "polearms",
        "sling",
        "bombs",
        "shields",
        "darts",
        "clubs"
       ],
       "description": "Advanced Selector",
       "disabled": true,
       "index": 0,
       "layout": "IPY_MODEL_d581516a1e744962a92fff805c6800ac",
       "style": "IPY_MODEL_7df57631447f4fe78afa7ed7091547e5"
      }
     },
     "6b075a3c909340fa9363cb55427f2fe7": {
      "model_module": "@jupyter-widgets/base",
      "model_module_version": "1.2.0",
      "model_name": "LayoutModel",
      "state": {}
     },
     "6b2d21a437ce40f7af29e7a97e245f95": {
      "model_module": "@jupyter-widgets/controls",
      "model_module_version": "1.5.0",
      "model_name": "DescriptionStyleModel",
      "state": {
       "description_width": ""
      }
     },
     "6b59dda7b41f4ebfab13db247c7f0fc9": {
      "model_module": "@jupyter-widgets/controls",
      "model_module_version": "1.5.0",
      "model_name": "DescriptionStyleModel",
      "state": {
       "description_width": ""
      }
     },
     "6b8a0548b02b4b7c88ead1b909cfac52": {
      "model_module": "@jupyter-widgets/controls",
      "model_module_version": "1.5.0",
      "model_name": "ButtonStyleModel",
      "state": {}
     },
     "6ba0b493981c4cb99794297aab73cdd8": {
      "model_module": "@jupyter-widgets/controls",
      "model_module_version": "1.5.0",
      "model_name": "DropdownModel",
      "state": {
       "_options_labels": [
        "all",
        "str-based",
        "dex-based",
        "con-based",
        "int-based",
        "wis-based",
        "cha-based",
        "attack",
        "spell-attack",
        "attack-roll",
        "str-attack",
        "dex-attack",
        "con-attack",
        "int-attack",
        "wis-attack",
        "cha-attack",
        "damage",
        "saving-throw",
        "fortitude",
        "reflex",
        "will",
        "initiative",
        "perception",
        "class",
        "ac",
        "hp",
        "hp-per-level",
        "speed",
        "land-speed",
        "burrow-speed",
        "climb-speed",
        "fly-speed",
        "swim-speed",
        "skill-check",
        "acrobatics",
        "arcana",
        "athletics",
        "crafting",
        "deception",
        "diplomacy",
        "intimidation",
        "medicine",
        "nature",
        "occultism",
        "performance",
        "religion",
        "society",
        "stealth",
        "survival",
        "thievery"
       ],
       "description": "Selector",
       "disabled": true,
       "index": 0,
       "layout": "IPY_MODEL_0c1f74334878445fa1420baac93f368e",
       "style": "IPY_MODEL_0a1b8b8e41a24195b0453c9677b31e34"
      }
     },
     "6bb1001dc6d344809b7dcedf9641fbf8": {
      "model_module": "@jupyter-widgets/base",
      "model_module_version": "1.2.0",
      "model_name": "LayoutModel",
      "state": {}
     },
     "6bf72666b9e945d4bf6d0d888ffebd4e": {
      "model_module": "@jupyter-widgets/base",
      "model_module_version": "1.2.0",
      "model_name": "LayoutModel",
      "state": {}
     },
     "6bfbe9236c1d4e10a26f2ce00e13396f": {
      "model_module": "@jupyter-widgets/controls",
      "model_module_version": "1.5.0",
      "model_name": "DescriptionStyleModel",
      "state": {
       "description_width": ""
      }
     },
     "6c0da4e348f24c1fbe60da1f320dbf9d": {
      "model_module": "@jupyter-widgets/controls",
      "model_module_version": "1.5.0",
      "model_name": "DescriptionStyleModel",
      "state": {
       "description_width": ""
      }
     },
     "6c46d2b2db5246c39968e97becd3c07e": {
      "model_module": "@jupyter-widgets/controls",
      "model_module_version": "1.5.0",
      "model_name": "DescriptionStyleModel",
      "state": {
       "description_width": ""
      }
     },
     "6ccf7ff428c24f6ebe0a95bc3e42b940": {
      "model_module": "@jupyter-widgets/controls",
      "model_module_version": "1.5.0",
      "model_name": "IntTextModel",
      "state": {
       "description": "Number of dice:",
       "disabled": true,
       "layout": "IPY_MODEL_74b62c13b6e642318bae3b1a207437e9",
       "step": 1,
       "style": "IPY_MODEL_0519161ec24e44e39c524870400309b4"
      }
     },
     "6d2ab4e95abe42ef8986c508c67c676d": {
      "model_module": "@jupyter-widgets/controls",
      "model_module_version": "1.5.0",
      "model_name": "DescriptionStyleModel",
      "state": {
       "description_width": ""
      }
     },
     "6d794e954a66497da38ed8b631bf8357": {
      "model_module": "@jupyter-widgets/controls",
      "model_module_version": "1.5.0",
      "model_name": "ButtonStyleModel",
      "state": {}
     },
     "6dab8432983c40efb926b0dc7dd3c024": {
      "model_module": "@jupyter-widgets/base",
      "model_module_version": "1.2.0",
      "model_name": "LayoutModel",
      "state": {}
     },
     "6dc56382ee844bfc80d9dce960d84f1d": {
      "model_module": "@jupyter-widgets/controls",
      "model_module_version": "1.5.0",
      "model_name": "ButtonStyleModel",
      "state": {}
     },
     "6dce788818224411b1f344e63b74ea03": {
      "model_module": "@jupyter-widgets/controls",
      "model_module_version": "1.5.0",
      "model_name": "DescriptionStyleModel",
      "state": {
       "description_width": ""
      }
     },
     "6e47559f1a8142d0963719d24a1ababb": {
      "model_module": "@jupyter-widgets/controls",
      "model_module_version": "1.5.0",
      "model_name": "SelectMultipleModel",
      "state": {
       "_options_labels": [
        "agile",
        "attached",
        "backstabber",
        "backswing",
        "brutal",
        "climbing",
        "concealable",
        "conrasu",
        "deadly",
        "disarm",
        "fatal",
        "finesse",
        "forceful",
        "free-hand",
        "grapple",
        "halfling",
        "hampering",
        "jousting",
        "modular",
        "monk",
        "nonlethal",
        "parry",
        "propulsive",
        "range",
        "ranged",
        "trip",
        "reach",
        "reload",
        "shove",
        "sweep",
        "tethered",
        "thrown",
        "trip",
        "twin",
        "two-hand",
        "unarmed",
        "versatile",
        "volley",
        "fear",
        "mental",
        "arcane",
        "divine",
        "occult",
        "primal",
        "abjuration",
        "conjuration",
        "divination",
        "enchantment",
        "evocation",
        "illusion",
        "necromancy",
        "transmutation",
        "auditory",
        "olfactory",
        "visual",
        "acid",
        "cold",
        "electricity",
        "fire",
        "force",
        "negative",
        "positive",
        "sonic",
        "alchemical",
        "contact",
        "ingested",
        "inhaled",
        "injury",
        "poison"
       ],
       "description": "Predicate:All",
       "disabled": true,
       "index": [],
       "layout": "IPY_MODEL_5d730374db444b888d778b3794bbf75a",
       "rows": 15,
       "style": "IPY_MODEL_27a950fd88ad491aa67b869e4497105a"
      }
     },
     "6e4a434c7fbf413ab6b73864e05136a6": {
      "model_module": "@jupyter-widgets/base",
      "model_module_version": "1.2.0",
      "model_name": "LayoutModel",
      "state": {}
     },
     "6e6b59b4a73244e2af0d9b6183413a53": {
      "model_module": "@jupyter-widgets/controls",
      "model_module_version": "1.5.0",
      "model_name": "SelectMultipleModel",
      "state": {
       "_options_labels": [
        "agile",
        "attached",
        "backstabber",
        "backswing",
        "brutal",
        "climbing",
        "concealable",
        "conrasu",
        "deadly",
        "disarm",
        "fatal",
        "finesse",
        "forceful",
        "free-hand",
        "grapple",
        "halfling",
        "hampering",
        "jousting",
        "modular",
        "monk",
        "nonlethal",
        "parry",
        "propulsive",
        "range",
        "ranged",
        "trip",
        "reach",
        "reload",
        "shove",
        "sweep",
        "tethered",
        "thrown",
        "trip",
        "twin",
        "two-hand",
        "unarmed",
        "versatile",
        "volley",
        "fear",
        "mental",
        "arcane",
        "divine",
        "occult",
        "primal",
        "abjuration",
        "conjuration",
        "divination",
        "enchantment",
        "evocation",
        "illusion",
        "necromancy",
        "transmutation",
        "auditory",
        "olfactory",
        "visual",
        "acid",
        "cold",
        "electricity",
        "fire",
        "force",
        "negative",
        "positive",
        "sonic",
        "alchemical",
        "contact",
        "ingested",
        "inhaled",
        "injury",
        "poison"
       ],
       "description": "Not",
       "disabled": true,
       "index": [],
       "layout": "IPY_MODEL_32650c2844cb450890afaf05ab7aa040",
       "rows": 15,
       "style": "IPY_MODEL_b45d67db2cb5476e834628547ad4ba85"
      }
     },
     "6e7db483ab56436b8a5fc53b3df73ca5": {
      "model_module": "@jupyter-widgets/controls",
      "model_module_version": "1.5.0",
      "model_name": "DescriptionStyleModel",
      "state": {
       "description_width": ""
      }
     },
     "6ebc7e5660e042bc99af051110bab0d8": {
      "model_module": "@jupyter-widgets/controls",
      "model_module_version": "1.5.0",
      "model_name": "DropdownModel",
      "state": {
       "_options_labels": [
        "Flat Modifier",
        "Damage Dice",
        "Weapon Potency",
        "Striking rune",
        "Multi Attack Penalty"
       ],
       "description": "Key:",
       "index": 0,
       "layout": "IPY_MODEL_af2a611ffc0049788f618d37d9096a22",
       "style": "IPY_MODEL_a09c62c7912c491da9944d563815e8b4"
      }
     },
     "6ec268be28eb4ff3ab022b1db8edde5c": {
      "model_module": "@jupyter-widgets/base",
      "model_module_version": "1.2.0",
      "model_name": "LayoutModel",
      "state": {}
     },
     "6ec53b6cefb5432fb8213f355d57dc2f": {
      "model_module": "@jupyter-widgets/base",
      "model_module_version": "1.2.0",
      "model_name": "LayoutModel",
      "state": {}
     },
     "6f587bc8b50f4367a972a8029a1db597": {
      "model_module": "@jupyter-widgets/controls",
      "model_module_version": "1.5.0",
      "model_name": "DropdownModel",
      "state": {
       "_options_labels": [
        "",
        "circumstance",
        "item",
        "status"
       ],
       "description": "Type",
       "disabled": true,
       "index": 0,
       "layout": "IPY_MODEL_65056104573048b58523601cd3a939eb",
       "style": "IPY_MODEL_982970bb517a4c9bb57c883b7e1df9e6"
      }
     },
     "6fe4d588c51d4a08a79ffc067513b1de": {
      "model_module": "@jupyter-widgets/controls",
      "model_module_version": "1.5.0",
      "model_name": "DescriptionStyleModel",
      "state": {
       "description_width": ""
      }
     },
     "702663bbd3bc4a73add06bb0e88b8e25": {
      "model_module": "@jupyter-widgets/base",
      "model_module_version": "1.2.0",
      "model_name": "LayoutModel",
      "state": {}
     },
     "706b82b48d8d4ba4a67d8222f3eb28f4": {
      "model_module": "@jupyter-widgets/controls",
      "model_module_version": "1.5.0",
      "model_name": "DropdownModel",
      "state": {
       "_options_labels": [
        "all",
        "str-based",
        "dex-based",
        "con-based",
        "int-based",
        "wis-based",
        "cha-based",
        "attack",
        "spell-attack",
        "attack-roll",
        "str-attack",
        "dex-attack",
        "con-attack",
        "int-attack",
        "wis-attack",
        "cha-attack",
        "damage",
        "saving-throw",
        "fortitude",
        "reflex",
        "will",
        "initiative",
        "perception",
        "class",
        "ac",
        "hp",
        "hp-per-level",
        "speed",
        "land-speed",
        "burrow-speed",
        "climb-speed",
        "fly-speed",
        "swim-speed",
        "skill-check",
        "acrobatics",
        "arcana",
        "athletics",
        "crafting",
        "deception",
        "diplomacy",
        "intimidation",
        "medicine",
        "nature",
        "occultism",
        "performance",
        "religion",
        "society",
        "stealth",
        "survival",
        "thievery"
       ],
       "description": "Selector",
       "disabled": true,
       "index": 0,
       "layout": "IPY_MODEL_d7ecd49ce42d4bd1851bebaecb21557b",
       "style": "IPY_MODEL_7ee8be225bfb4c17bd0fdad01c2a5fe4"
      }
     },
     "706c4d66f77443fab1c910758665dc7a": {
      "model_module": "@jupyter-widgets/base",
      "model_module_version": "1.2.0",
      "model_name": "LayoutModel",
      "state": {}
     },
     "70d2536e126d479a8208234e1937aab4": {
      "model_module": "@jupyter-widgets/controls",
      "model_module_version": "1.5.0",
      "model_name": "ButtonModel",
      "state": {
       "description": "Set Selectors",
       "disabled": true,
       "layout": "IPY_MODEL_49253b6f10794812ace1208d6e3404ff",
       "style": "IPY_MODEL_18e1b8a2f7d449a5852b6600ac5cab7b"
      }
     },
     "72433c5c6bbf41c3aeba98cc0f209acd": {
      "model_module": "@jupyter-widgets/base",
      "model_module_version": "1.2.0",
      "model_name": "LayoutModel",
      "state": {}
     },
     "7247d5eb62304b55a4be870b0c5bb2e2": {
      "model_module": "@jupyter-widgets/controls",
      "model_module_version": "1.5.0",
      "model_name": "DropdownModel",
      "state": {
       "_options_labels": [
        "Flat Modifier",
        "Damage Dice",
        "Weapon Potency",
        "Striking rune",
        "Multi Attack Penalty"
       ],
       "description": "Key:",
       "index": 0,
       "layout": "IPY_MODEL_6bf72666b9e945d4bf6d0d888ffebd4e",
       "style": "IPY_MODEL_676238cb9d8d4ebfb19317e0312bc674"
      }
     },
     "72d4e4ec9f134f99a73fd2436228cd17": {
      "model_module": "@jupyter-widgets/controls",
      "model_module_version": "1.5.0",
      "model_name": "DropdownModel",
      "state": {
       "_options_labels": [
        "",
        "d4",
        "d6",
        "d8",
        "d10",
        "d12"
       ],
       "description": "Die size:",
       "disabled": true,
       "index": 0,
       "layout": "IPY_MODEL_88a842f673994df88734a48039448f73",
       "style": "IPY_MODEL_d4ee686eee8b461f8224e20f754e19b9"
      }
     },
     "72e7461d3e9e46779aec547893e3bd20": {
      "model_module": "@jupyter-widgets/controls",
      "model_module_version": "1.5.0",
      "model_name": "DescriptionStyleModel",
      "state": {
       "description_width": ""
      }
     },
     "73215ce85a2640d6b88fbc0ec940a0c6": {
      "model_module": "@jupyter-widgets/base",
      "model_module_version": "1.2.0",
      "model_name": "LayoutModel",
      "state": {}
     },
     "7346b0c9b06f448dbe07e9c3f69d4260": {
      "model_module": "@jupyter-widgets/base",
      "model_module_version": "1.2.0",
      "model_name": "LayoutModel",
      "state": {}
     },
     "74b62c13b6e642318bae3b1a207437e9": {
      "model_module": "@jupyter-widgets/base",
      "model_module_version": "1.2.0",
      "model_name": "LayoutModel",
      "state": {}
     },
     "7503b375614742bb99a4781ddcd19d30": {
      "model_module": "@jupyter-widgets/controls",
      "model_module_version": "1.5.0",
      "model_name": "DropdownModel",
      "state": {
       "_options_labels": [
        "all",
        "str-based",
        "dex-based",
        "con-based",
        "int-based",
        "wis-based",
        "cha-based",
        "attack",
        "spell-attack",
        "attack-roll",
        "str-attack",
        "dex-attack",
        "con-attack",
        "int-attack",
        "wis-attack",
        "cha-attack",
        "damage",
        "saving-throw",
        "fortitude",
        "reflex",
        "will",
        "initiative",
        "perception",
        "class",
        "ac",
        "hp",
        "hp-per-level",
        "speed",
        "land-speed",
        "burrow-speed",
        "climb-speed",
        "fly-speed",
        "swim-speed",
        "skill-check",
        "acrobatics",
        "arcana",
        "athletics",
        "crafting",
        "deception",
        "diplomacy",
        "intimidation",
        "medicine",
        "nature",
        "occultism",
        "performance",
        "religion",
        "society",
        "stealth",
        "survival",
        "thievery"
       ],
       "description": "Selector",
       "disabled": true,
       "index": 0,
       "layout": "IPY_MODEL_4ee52ea5f5ec45878e8d5c4ec1554e95",
       "style": "IPY_MODEL_117699a9a8e34f36b0808087afd5a365"
      }
     },
     "7539e8b59e7741689f1db9650fee8040": {
      "model_module": "@jupyter-widgets/controls",
      "model_module_version": "1.5.0",
      "model_name": "DescriptionStyleModel",
      "state": {
       "description_width": ""
      }
     },
     "75cb4cb5a8de45b49b189a43bec5b082": {
      "model_module": "@jupyter-widgets/controls",
      "model_module_version": "1.5.0",
      "model_name": "ButtonModel",
      "state": {
       "description": "Reset",
       "layout": "IPY_MODEL_2e903051f7da4746aba7eb4e29b6282c",
       "style": "IPY_MODEL_c1a69db7a7704660b80be435856d1633"
      }
     },
     "760f65d3ca9d42eebb8a6e1f07e35a1f": {
      "model_module": "@jupyter-widgets/base",
      "model_module_version": "1.2.0",
      "model_name": "LayoutModel",
      "state": {}
     },
     "765fab450fe3430693c37f797665ed2d": {
      "model_module": "@jupyter-widgets/controls",
      "model_module_version": "1.5.0",
      "model_name": "BoxModel",
      "state": {
       "children": [
        "IPY_MODEL_8d6d68a273744fb493cd65df255b6a1d",
        "IPY_MODEL_966d700dcdaa41948c8ff9efe24c8081",
        "IPY_MODEL_64a2bca7116049ea9fd40f3dc985ab37"
       ],
       "layout": "IPY_MODEL_d4b42a327f36421592c5da53241f93ee"
      }
     },
     "76768e99e2aa43de885c34d470d2e05e": {
      "model_module": "@jupyter-widgets/base",
      "model_module_version": "1.2.0",
      "model_name": "LayoutModel",
      "state": {}
     },
     "76b006439c4c4e1389a3cb3b3002fb8f": {
      "model_module": "@jupyter-widgets/controls",
      "model_module_version": "1.5.0",
      "model_name": "DescriptionStyleModel",
      "state": {
       "description_width": ""
      }
     },
     "76c3b9422d1a4028a26531faf88045d3": {
      "model_module": "@jupyter-widgets/controls",
      "model_module_version": "1.5.0",
      "model_name": "DescriptionStyleModel",
      "state": {
       "description_width": ""
      }
     },
     "76c538dfe59041d9ab0320dfbc3ace0e": {
      "model_module": "@jupyter-widgets/controls",
      "model_module_version": "1.5.0",
      "model_name": "SelectMultipleModel",
      "state": {
       "_options_labels": [
        "agile",
        "finesse",
        "rage",
        "unarmed",
        "fear",
        "mental",
        "poison",
        "disease",
        "fear",
        "sweep"
       ],
       "description": "Not",
       "disabled": true,
       "index": [],
       "layout": "IPY_MODEL_5818b5fe2076433ab748e5f8e9c61aa0",
       "rows": 5,
       "style": "IPY_MODEL_0e0f0f4b27e64b82a5f79cb8116e34f0"
      }
     },
     "76efe961609e43e0add4c8064393d632": {
      "model_module": "@jupyter-widgets/base",
      "model_module_version": "1.2.0",
      "model_name": "LayoutModel",
      "state": {}
     },
     "77109da1ed604b7598b58620b7d64a41": {
      "model_module": "@jupyter-widgets/controls",
      "model_module_version": "1.5.0",
      "model_name": "SelectMultipleModel",
      "state": {
       "_options_labels": [
        "agile",
        "finesse",
        "rage",
        "unarmed",
        "fear",
        "mental",
        "poison",
        "disease",
        "fear",
        "sweep"
       ],
       "description": "Predicate:All",
       "disabled": true,
       "index": [],
       "layout": "IPY_MODEL_99bb33eb87394e40890643d0935b0465",
       "rows": 5,
       "style": "IPY_MODEL_3e2af1c0ff9745778aeb1214329c3a09"
      }
     },
     "772df0b7cf85447982e9e6581c8ed5c8": {
      "model_module": "@jupyter-widgets/base",
      "model_module_version": "1.2.0",
      "model_name": "LayoutModel",
      "state": {}
     },
     "7809400646b04dffb7dec542d0f5dc1d": {
      "model_module": "@jupyter-widgets/base",
      "model_module_version": "1.2.0",
      "model_name": "LayoutModel",
      "state": {}
     },
     "78111e1ee9924de2926a4fede06d1a3b": {
      "model_module": "@jupyter-widgets/controls",
      "model_module_version": "1.5.0",
      "model_name": "DropdownModel",
      "state": {
       "_options_labels": [
        "no advanced selector",
        "Only this item",
        "swords",
        "bows",
        "knives",
        "spears",
        "axes",
        "hammers",
        "picks",
        "flails",
        "brawling",
        "polearms",
        "sling",
        "bombs",
        "shields",
        "darts",
        "clubs"
       ],
       "description": "Advanced Selector",
       "disabled": true,
       "index": 0,
       "layout": "IPY_MODEL_fecef6d8cf8b42c29bea1686c4040990",
       "style": "IPY_MODEL_274d5a60878d40b89a43ec4a174b38e6"
      }
     },
     "7830e9d580674b75a8e6447a2ebe70de": {
      "model_module": "@jupyter-widgets/base",
      "model_module_version": "1.2.0",
      "model_name": "LayoutModel",
      "state": {}
     },
     "78d3b29bf93c41c0a0d5079a2f308c17": {
      "model_module": "@jupyter-widgets/base",
      "model_module_version": "1.2.0",
      "model_name": "LayoutModel",
      "state": {}
     },
     "78f453341a734cb7a7777e686f5852e3": {
      "model_module": "@jupyter-widgets/base",
      "model_module_version": "1.2.0",
      "model_name": "LayoutModel",
      "state": {}
     },
     "790b357897df4c4f89a8e9ad62632749": {
      "model_module": "@jupyter-widgets/controls",
      "model_module_version": "1.5.0",
      "model_name": "DescriptionStyleModel",
      "state": {
       "description_width": ""
      }
     },
     "79579827fdfc44b3a7216da3e52295f1": {
      "model_module": "@jupyter-widgets/controls",
      "model_module_version": "1.5.0",
      "model_name": "ButtonModel",
      "state": {
       "description": "Select Key",
       "layout": "IPY_MODEL_3fed40ea80434ed3be48a6765cbfee42",
       "style": "IPY_MODEL_7ff77f50ae2f4289bf9747df7ace56a9"
      }
     },
     "7993d4d0a07d4c18a79471ff9e106357": {
      "model_module": "@jupyter-widgets/controls",
      "model_module_version": "1.5.0",
      "model_name": "ButtonModel",
      "state": {
       "description": "Select Key",
       "layout": "IPY_MODEL_26c32febedde45a09c0d1425a028cb75",
       "style": "IPY_MODEL_251dfc6e4dde43bfba21126c7cfb0447"
      }
     },
     "79b64f7c7a0f44dda4231a53289f9e86": {
      "model_module": "@jupyter-widgets/controls",
      "model_module_version": "1.5.0",
      "model_name": "ButtonModel",
      "state": {
       "description": "Select Key",
       "layout": "IPY_MODEL_92388e54f1af4f2c884c0ae621c8a778",
       "style": "IPY_MODEL_bf103e94779542dc91c29371554ac881"
      }
     },
     "79ee20d8a83a41fab0e8e8bfb821aa1e": {
      "model_module": "@jupyter-widgets/controls",
      "model_module_version": "1.5.0",
      "model_name": "DropdownModel",
      "state": {
       "_options_labels": [
        "",
        "slashing",
        "piercing",
        "bludgeoning",
        "precision",
        "fire",
        "cold",
        "electricity",
        "acid",
        "poison",
        "sonic",
        "force",
        "mental",
        "lawful",
        "chaotic",
        "good",
        "evil",
        "positive",
        "negative"
       ],
       "description": "Damage type",
       "disabled": true,
       "index": 0,
       "layout": "IPY_MODEL_87d490c9b3ab4401b663b9dec8bee382",
       "style": "IPY_MODEL_e12a784de30a4114956d53fc9f39648e"
      }
     },
     "7a10854ce4d14c44b9e46bbfd2989a59": {
      "model_module": "@jupyter-widgets/base",
      "model_module_version": "1.2.0",
      "model_name": "LayoutModel",
      "state": {}
     },
     "7a1eebb5e59d4a749d0d52f8ab2a0f20": {
      "model_module": "@jupyter-widgets/controls",
      "model_module_version": "1.5.0",
      "model_name": "DropdownModel",
      "state": {
       "_options_labels": [
        "",
        "slashing",
        "piercing",
        "bludgeoning",
        "precision",
        "fire",
        "cold",
        "electricity",
        "acid",
        "poison",
        "sonic",
        "force",
        "mental",
        "lawful",
        "chaotic",
        "good",
        "evil",
        "positive",
        "negative"
       ],
       "description": "Damage type",
       "disabled": true,
       "index": 0,
       "layout": "IPY_MODEL_eaf7b1fb39824b2a91d17d72a5bee45e",
       "style": "IPY_MODEL_5371f28e06f34ac4a73dceab61edf5e4"
      }
     },
     "7a6472b15ce04734b4a4aaf38b248696": {
      "model_module": "@jupyter-widgets/controls",
      "model_module_version": "1.5.0",
      "model_name": "DropdownModel",
      "state": {
       "_options_labels": [
        "no advanced selector",
        "Only this item",
        "swords",
        "bows",
        "knives",
        "spears",
        "axes",
        "hammers",
        "picks",
        "flails",
        "brawling",
        "polearms",
        "sling",
        "bombs",
        "shields",
        "darts",
        "clubs"
       ],
       "description": "Advanced Selector",
       "disabled": true,
       "index": 0,
       "layout": "IPY_MODEL_44e0b7a5e4274bba941350af13e48e72",
       "style": "IPY_MODEL_7e7384a2497f47c5a509983001b8c736"
      }
     },
     "7ac8b61ed66848c8ba61fb9c66ba1d3b": {
      "model_module": "@jupyter-widgets/controls",
      "model_module_version": "1.5.0",
      "model_name": "ButtonModel",
      "state": {
       "description": "Create Rule Element",
       "disabled": true,
       "layout": "IPY_MODEL_e39117a478544c009d6b6691d7870fbf",
       "style": "IPY_MODEL_f00dc882c1474858805d782d6cf55b45"
      }
     },
     "7b1b64160c91483db7e31fc6ba5e5931": {
      "model_module": "@jupyter-widgets/controls",
      "model_module_version": "1.5.0",
      "model_name": "DropdownModel",
      "state": {
       "_options_labels": [
        "",
        "circumstance",
        "item",
        "status"
       ],
       "description": "Type",
       "disabled": true,
       "index": 0,
       "layout": "IPY_MODEL_72433c5c6bbf41c3aeba98cc0f209acd",
       "style": "IPY_MODEL_224e46352a6f47468b092e19592284b9"
      }
     },
     "7b38af1a5fd941dd9187e7ddd9933f00": {
      "model_module": "@jupyter-widgets/controls",
      "model_module_version": "1.5.0",
      "model_name": "DescriptionStyleModel",
      "state": {
       "description_width": ""
      }
     },
     "7b9dc4c92c254ac8ac1e10fefce7742b": {
      "model_module": "@jupyter-widgets/controls",
      "model_module_version": "1.5.0",
      "model_name": "DescriptionStyleModel",
      "state": {
       "description_width": ""
      }
     },
     "7be770c942b845e2af9d8e92ebe3e8bc": {
      "model_module": "@jupyter-widgets/controls",
      "model_module_version": "1.5.0",
      "model_name": "DescriptionStyleModel",
      "state": {
       "description_width": ""
      }
     },
     "7bec37f6148746aa94ffa4df459524db": {
      "model_module": "@jupyter-widgets/controls",
      "model_module_version": "1.5.0",
      "model_name": "ButtonStyleModel",
      "state": {}
     },
     "7c66b6ea0277412bb3ff8c15be987ca4": {
      "model_module": "@jupyter-widgets/controls",
      "model_module_version": "1.5.0",
      "model_name": "CheckboxModel",
      "state": {
       "description": "Override base damage?",
       "disabled": true,
       "indent": false,
       "layout": "IPY_MODEL_836ee86639d44f24922fb06c799d51ae",
       "style": "IPY_MODEL_68a96924af7349b5b58fe44a90f37e0d",
       "value": false
      }
     },
     "7c89159986414fb1829ce16f8a58ebb4": {
      "model_module": "@jupyter-widgets/base",
      "model_module_version": "1.2.0",
      "model_name": "LayoutModel",
      "state": {}
     },
     "7cf8112f3b2f422e9a10103f2d63f6b9": {
      "model_module": "@jupyter-widgets/controls",
      "model_module_version": "1.5.0",
      "model_name": "CheckboxModel",
      "state": {
       "description": "Add a Name?",
       "disabled": true,
       "layout": "IPY_MODEL_91310ed9e45f4c1ca0f3cfc2d8162561",
       "style": "IPY_MODEL_3b9b18a343f347c7bc858f43e82c7304",
       "value": false
      }
     },
     "7d3994372d35402c9c7c8836db35fda9": {
      "model_module": "@jupyter-widgets/controls",
      "model_module_version": "1.5.0",
      "model_name": "CheckboxModel",
      "state": {
       "description": "Add a Name?",
       "disabled": true,
       "layout": "IPY_MODEL_d949081dfe614c7ab5338e62afd6ea64",
       "style": "IPY_MODEL_92d01de096cd4db681ceb4ab6c15175c",
       "value": false
      }
     },
     "7d8c0eb1c0454964a7184592979046ad": {
      "model_module": "@jupyter-widgets/controls",
      "model_module_version": "1.5.0",
      "model_name": "IntTextModel",
      "state": {
       "description": "Number of dice:",
       "disabled": true,
       "layout": "IPY_MODEL_7e2a1be9d2614ef3bb624daf1be08895",
       "step": 1,
       "style": "IPY_MODEL_8b7f0b072f69483ea38c6eeaa248d40d"
      }
     },
     "7dcc1986f3c344d2b3bb8c69c6b6fe88": {
      "model_module": "@jupyter-widgets/base",
      "model_module_version": "1.2.0",
      "model_name": "LayoutModel",
      "state": {}
     },
     "7dddb49d63d24be69a4189324c6597e6": {
      "model_module": "@jupyter-widgets/controls",
      "model_module_version": "1.5.0",
      "model_name": "SelectMultipleModel",
      "state": {
       "_options_labels": [
        "agile",
        "attached",
        "backstabber",
        "backswing",
        "brutal",
        "climbing",
        "concealable",
        "conrasu",
        "deadly",
        "disarm",
        "fatal",
        "finesse",
        "forceful",
        "free-hand",
        "grapple",
        "halfling",
        "hampering",
        "jousting",
        "modular",
        "monk",
        "nonlethal",
        "parry",
        "propulsive",
        "range",
        "ranged",
        "trip",
        "reach",
        "reload",
        "shove",
        "sweep",
        "tethered",
        "thrown",
        "trip",
        "twin",
        "two-hand",
        "unarmed",
        "versatile",
        "volley",
        "fear",
        "mental",
        "arcane",
        "divine",
        "occult",
        "primal",
        "abjuration",
        "conjuration",
        "divination",
        "enchantment",
        "evocation",
        "illusion",
        "necromancy",
        "transmutation",
        "auditory",
        "olfactory",
        "visual",
        "acid",
        "cold",
        "electricity",
        "fire",
        "force",
        "negative",
        "positive",
        "sonic",
        "alchemical",
        "contact",
        "ingested",
        "inhaled",
        "injury",
        "poison"
       ],
       "description": "Any",
       "disabled": true,
       "index": [],
       "layout": "IPY_MODEL_760f65d3ca9d42eebb8a6e1f07e35a1f",
       "rows": 15,
       "style": "IPY_MODEL_832396f5ae3f4bd895b78bcfa9834369"
      }
     },
     "7df0c53c5480412fa4cc332d7e872b41": {
      "model_module": "@jupyter-widgets/base",
      "model_module_version": "1.2.0",
      "model_name": "LayoutModel",
      "state": {}
     },
     "7df57631447f4fe78afa7ed7091547e5": {
      "model_module": "@jupyter-widgets/controls",
      "model_module_version": "1.5.0",
      "model_name": "DescriptionStyleModel",
      "state": {
       "description_width": ""
      }
     },
     "7e2a1be9d2614ef3bb624daf1be08895": {
      "model_module": "@jupyter-widgets/base",
      "model_module_version": "1.2.0",
      "model_name": "LayoutModel",
      "state": {}
     },
     "7e34937150094f03b9043cf9a02e0770": {
      "model_module": "@jupyter-widgets/controls",
      "model_module_version": "1.5.0",
      "model_name": "DescriptionStyleModel",
      "state": {
       "description_width": ""
      }
     },
     "7e3d082434054fdda93204c1a72d4946": {
      "model_module": "@jupyter-widgets/controls",
      "model_module_version": "1.5.0",
      "model_name": "DescriptionStyleModel",
      "state": {
       "description_width": ""
      }
     },
     "7e3dfcadd63a45d3916bf90a8064929e": {
      "model_module": "@jupyter-widgets/base",
      "model_module_version": "1.2.0",
      "model_name": "LayoutModel",
      "state": {}
     },
     "7e726553938a47fda2ce8605617e3608": {
      "model_module": "@jupyter-widgets/controls",
      "model_module_version": "1.5.0",
      "model_name": "ButtonModel",
      "state": {
       "description": "Set Selectors",
       "disabled": true,
       "layout": "IPY_MODEL_23f01b18097c4a4fba61c2c4370f3488",
       "style": "IPY_MODEL_f0a44db613504584bbb86aeeff2ebbb8"
      }
     },
     "7e7384a2497f47c5a509983001b8c736": {
      "model_module": "@jupyter-widgets/controls",
      "model_module_version": "1.5.0",
      "model_name": "DescriptionStyleModel",
      "state": {
       "description_width": ""
      }
     },
     "7e9b3d4bbefb47b4a0012dcf3c9ac43e": {
      "model_module": "@jupyter-widgets/controls",
      "model_module_version": "1.5.0",
      "model_name": "DescriptionStyleModel",
      "state": {
       "description_width": ""
      }
     },
     "7ee8be225bfb4c17bd0fdad01c2a5fe4": {
      "model_module": "@jupyter-widgets/controls",
      "model_module_version": "1.5.0",
      "model_name": "DescriptionStyleModel",
      "state": {
       "description_width": ""
      }
     },
     "7eec6b23a2bf400395d11ee6c03a0491": {
      "model_module": "@jupyter-widgets/controls",
      "model_module_version": "1.5.0",
      "model_name": "CheckboxModel",
      "state": {
       "description": "Add a Name?",
       "disabled": true,
       "layout": "IPY_MODEL_fcd6bda0fb684746a7168acb131ae656",
       "style": "IPY_MODEL_5a5871ba86414225b0e0463fc9b6a13f",
       "value": false
      }
     },
     "7ef7749fd476434da4aad3ea6a52bd42": {
      "model_module": "@jupyter-widgets/base",
      "model_module_version": "1.2.0",
      "model_name": "LayoutModel",
      "state": {}
     },
     "7ef991cb912f43fc81ec4ae87c98f0fd": {
      "model_module": "@jupyter-widgets/base",
      "model_module_version": "1.2.0",
      "model_name": "LayoutModel",
      "state": {}
     },
     "7f76e3a716614b0d9b236756fec2e446": {
      "model_module": "@jupyter-widgets/controls",
      "model_module_version": "1.5.0",
      "model_name": "DropdownModel",
      "state": {
       "_options_labels": [
        "no advanced selector",
        "Only this item",
        "swords",
        "bows",
        "knives",
        "spears",
        "axes",
        "hammers",
        "picks",
        "flails",
        "brawling",
        "polearms",
        "sling",
        "bombs",
        "shields",
        "darts",
        "clubs"
       ],
       "description": "Advanced Selector",
       "disabled": true,
       "index": 0,
       "layout": "IPY_MODEL_ebaab302091d42ba80beaa8c38700614",
       "style": "IPY_MODEL_c47497b466444ac2a4c6816cd6c710ee"
      }
     },
     "7fd4052df3ef4bccb2ce9b451740f9fc": {
      "model_module": "@jupyter-widgets/controls",
      "model_module_version": "1.5.0",
      "model_name": "ButtonStyleModel",
      "state": {}
     },
     "7fe5de280d3d4fe793960ca21e11fd71": {
      "model_module": "@jupyter-widgets/base",
      "model_module_version": "1.2.0",
      "model_name": "LayoutModel",
      "state": {}
     },
     "7ff77f50ae2f4289bf9747df7ace56a9": {
      "model_module": "@jupyter-widgets/controls",
      "model_module_version": "1.5.0",
      "model_name": "ButtonStyleModel",
      "state": {}
     },
     "807f4aca18db4c9f97364d01c9474931": {
      "model_module": "@jupyter-widgets/controls",
      "model_module_version": "1.5.0",
      "model_name": "CheckboxModel",
      "state": {
       "description": "Override base die?",
       "disabled": true,
       "layout": "IPY_MODEL_84b292c69eca495aa533aaa3a4d1ed35",
       "style": "IPY_MODEL_6c0da4e348f24c1fbe60da1f320dbf9d",
       "value": false
      }
     },
     "80ca4c9b70a349159fd9de1e938e1788": {
      "model_module": "@jupyter-widgets/controls",
      "model_module_version": "1.5.0",
      "model_name": "ButtonModel",
      "state": {
       "description": "Reset",
       "layout": "IPY_MODEL_f3b2b78771cf42b09f27f9f8b57ff007",
       "style": "IPY_MODEL_e9fa7b6322574c6cbe224be232afbb3c"
      }
     },
     "81457305ec024aeb9fce9e606bc4a079": {
      "model_module": "@jupyter-widgets/base",
      "model_module_version": "1.2.0",
      "model_name": "LayoutModel",
      "state": {}
     },
     "8181e4a1e2fb454a89f6783fea985e48": {
      "model_module": "@jupyter-widgets/base",
      "model_module_version": "1.2.0",
      "model_name": "LayoutModel",
      "state": {}
     },
     "81bdc3acdae1413d8899020ba9b0c387": {
      "model_module": "@jupyter-widgets/base",
      "model_module_version": "1.2.0",
      "model_name": "LayoutModel",
      "state": {}
     },
     "81ee1880faf94f40bb045eb8dbe4bbca": {
      "model_module": "@jupyter-widgets/controls",
      "model_module_version": "1.5.0",
      "model_name": "CheckboxModel",
      "state": {
       "description": "Add a label?",
       "disabled": true,
       "layout": "IPY_MODEL_852e71d7e6fe41b5ad7e5e19e8c04920",
       "style": "IPY_MODEL_59285e7de6c046b38fd44673cc2d0a9d",
       "value": false
      }
     },
     "825725bceaed47da8a18bc7eb257afd8": {
      "model_module": "@jupyter-widgets/base",
      "model_module_version": "1.2.0",
      "model_name": "LayoutModel",
      "state": {}
     },
     "825d6e0b9412498ab23c883e6b1b617f": {
      "model_module": "@jupyter-widgets/controls",
      "model_module_version": "1.5.0",
      "model_name": "DescriptionStyleModel",
      "state": {
       "description_width": ""
      }
     },
     "826ddbf31f2540e880b8a133764ded70": {
      "model_module": "@jupyter-widgets/controls",
      "model_module_version": "1.5.0",
      "model_name": "ButtonStyleModel",
      "state": {}
     },
     "832396f5ae3f4bd895b78bcfa9834369": {
      "model_module": "@jupyter-widgets/controls",
      "model_module_version": "1.5.0",
      "model_name": "DescriptionStyleModel",
      "state": {
       "description_width": ""
      }
     },
     "836ee86639d44f24922fb06c799d51ae": {
      "model_module": "@jupyter-widgets/base",
      "model_module_version": "1.2.0",
      "model_name": "LayoutModel",
      "state": {}
     },
     "83c12e285bbb4eb6adab9551af2815c9": {
      "model_module": "@jupyter-widgets/controls",
      "model_module_version": "1.5.0",
      "model_name": "DescriptionStyleModel",
      "state": {
       "description_width": ""
      }
     },
     "83f98960d44e48249be9d3c08c89c2fa": {
      "model_module": "@jupyter-widgets/base",
      "model_module_version": "1.2.0",
      "model_name": "LayoutModel",
      "state": {}
     },
     "841609942a8748afa586466a10562866": {
      "model_module": "@jupyter-widgets/controls",
      "model_module_version": "1.5.0",
      "model_name": "DropdownModel",
      "state": {
       "_options_labels": [
        "Flat Modifier",
        "Damage Dice",
        "Weapon Potency",
        "Striking rune",
        "Multi Attack Penalty"
       ],
       "description": "Key:",
       "index": 0,
       "layout": "IPY_MODEL_6b075a3c909340fa9363cb55427f2fe7",
       "style": "IPY_MODEL_863facacad5b45ac913f101e69a85ecc"
      }
     },
     "841c09a527d54b9d81dd6df4ce16ba6e": {
      "model_module": "@jupyter-widgets/base",
      "model_module_version": "1.2.0",
      "model_name": "LayoutModel",
      "state": {}
     },
     "84433b7d2adc4025ba579104395d4e83": {
      "model_module": "@jupyter-widgets/base",
      "model_module_version": "1.2.0",
      "model_name": "LayoutModel",
      "state": {}
     },
     "844e876cf127436f913fad7ac2b5602a": {
      "model_module": "@jupyter-widgets/controls",
      "model_module_version": "1.5.0",
      "model_name": "DescriptionStyleModel",
      "state": {
       "description_width": ""
      }
     },
     "845e72fc065f48af850a2dde0f836b06": {
      "model_module": "@jupyter-widgets/controls",
      "model_module_version": "1.5.0",
      "model_name": "DescriptionStyleModel",
      "state": {
       "description_width": ""
      }
     },
     "8498e8727530468c9e71feee2b467fd8": {
      "model_module": "@jupyter-widgets/controls",
      "model_module_version": "1.5.0",
      "model_name": "CheckboxModel",
      "state": {
       "description": "Add a label?",
       "disabled": true,
       "layout": "IPY_MODEL_ff91462e1e3945c6812d51391aaf1f58",
       "style": "IPY_MODEL_cff3740e97674203bd29827d6a5461c3",
       "value": false
      }
     },
     "84b292c69eca495aa533aaa3a4d1ed35": {
      "model_module": "@jupyter-widgets/base",
      "model_module_version": "1.2.0",
      "model_name": "LayoutModel",
      "state": {}
     },
     "851857e1bb204845b3f9aa2862cbbe4d": {
      "model_module": "@jupyter-widgets/controls",
      "model_module_version": "1.5.0",
      "model_name": "DescriptionStyleModel",
      "state": {
       "description_width": ""
      }
     },
     "852e71d7e6fe41b5ad7e5e19e8c04920": {
      "model_module": "@jupyter-widgets/base",
      "model_module_version": "1.2.0",
      "model_name": "LayoutModel",
      "state": {}
     },
     "863facacad5b45ac913f101e69a85ecc": {
      "model_module": "@jupyter-widgets/controls",
      "model_module_version": "1.5.0",
      "model_name": "DescriptionStyleModel",
      "state": {
       "description_width": ""
      }
     },
     "867c4f64527e423b8593579e8b17ae73": {
      "model_module": "@jupyter-widgets/controls",
      "model_module_version": "1.5.0",
      "model_name": "DescriptionStyleModel",
      "state": {
       "description_width": ""
      }
     },
     "86883d211eb447e8a9f7065dbd41866d": {
      "model_module": "@jupyter-widgets/controls",
      "model_module_version": "1.5.0",
      "model_name": "DropdownModel",
      "state": {
       "_options_labels": [
        "Flat Modifier",
        "Damage Dice",
        "Weapon Potency",
        "Striking rune",
        "Multi Attack Penalty"
       ],
       "description": "Key:",
       "index": 0,
       "layout": "IPY_MODEL_e3beec0975f94dac827925c39e74fb69",
       "style": "IPY_MODEL_b7e6619262b14341bf2f6600f47e781f"
      }
     },
     "86ef8d8dfdea4cafa2b76dbda2500e52": {
      "model_module": "@jupyter-widgets/base",
      "model_module_version": "1.2.0",
      "model_name": "LayoutModel",
      "state": {}
     },
     "87105bf3e8d84a8892310cf9feda1d83": {
      "model_module": "@jupyter-widgets/controls",
      "model_module_version": "1.5.0",
      "model_name": "IntTextModel",
      "state": {
       "description": "Number of dice:",
       "disabled": true,
       "layout": "IPY_MODEL_8d4f7d83042f49f2b348b1fdfc4cf7c6",
       "step": 1,
       "style": "IPY_MODEL_612c0124685d4009a4e18ae0fcabe720"
      }
     },
     "8762420bd8684153b9e1c0ca9dd28eb1": {
      "model_module": "@jupyter-widgets/controls",
      "model_module_version": "1.5.0",
      "model_name": "DescriptionStyleModel",
      "state": {
       "description_width": ""
      }
     },
     "879d2835fbf44202982a167ced6c2ba8": {
      "model_module": "@jupyter-widgets/controls",
      "model_module_version": "1.5.0",
      "model_name": "DescriptionStyleModel",
      "state": {
       "description_width": ""
      }
     },
     "87d490c9b3ab4401b663b9dec8bee382": {
      "model_module": "@jupyter-widgets/base",
      "model_module_version": "1.2.0",
      "model_name": "LayoutModel",
      "state": {}
     },
     "87ed6923ffe445139694c45228a1097f": {
      "model_module": "@jupyter-widgets/base",
      "model_module_version": "1.2.0",
      "model_name": "LayoutModel",
      "state": {}
     },
     "87f98cd08d9e41089db621806c606df5": {
      "model_module": "@jupyter-widgets/base",
      "model_module_version": "1.2.0",
      "model_name": "LayoutModel",
      "state": {}
     },
     "88514d8cb10846faa5e2bc6467749215": {
      "model_module": "@jupyter-widgets/controls",
      "model_module_version": "1.5.0",
      "model_name": "DescriptionStyleModel",
      "state": {
       "description_width": ""
      }
     },
     "885a5c0b42284bc3ba8ebba835d7ebf0": {
      "model_module": "@jupyter-widgets/controls",
      "model_module_version": "1.5.0",
      "model_name": "SelectMultipleModel",
      "state": {
       "_options_labels": [
        "agile",
        "finesse",
        "rage",
        "unarmed",
        "fear",
        "mental",
        "poison",
        "disease",
        "fear",
        "sweep"
       ],
       "description": "Not",
       "disabled": true,
       "index": [],
       "layout": "IPY_MODEL_be7ebc40129348999d1c65cd0ede050e",
       "rows": 5,
       "style": "IPY_MODEL_19307bb23f264e01b6463246bc3948e8"
      }
     },
     "88a842f673994df88734a48039448f73": {
      "model_module": "@jupyter-widgets/base",
      "model_module_version": "1.2.0",
      "model_name": "LayoutModel",
      "state": {}
     },
     "88eac859c6c94985a464fd85799f0e41": {
      "model_module": "@jupyter-widgets/controls",
      "model_module_version": "1.5.0",
      "model_name": "DescriptionStyleModel",
      "state": {
       "description_width": ""
      }
     },
     "8909f85fafa84809b058e7a6ab728fe2": {
      "model_module": "@jupyter-widgets/controls",
      "model_module_version": "1.5.0",
      "model_name": "DescriptionStyleModel",
      "state": {
       "description_width": ""
      }
     },
     "891dce42961a4efcb245f953bfaf4381": {
      "model_module": "@jupyter-widgets/controls",
      "model_module_version": "1.5.0",
      "model_name": "DropdownModel",
      "state": {
       "_options_labels": [
        "",
        "slashing",
        "piercing",
        "bludgeoning",
        "precision",
        "fire",
        "cold",
        "electricity",
        "acid",
        "poison",
        "sonic",
        "force",
        "mental",
        "lawful",
        "chaotic",
        "good",
        "evil",
        "positive",
        "negative"
       ],
       "description": "Damage type",
       "disabled": true,
       "index": 0,
       "layout": "IPY_MODEL_d5ef3e3c800b4d7d979ed9545b2e2acc",
       "style": "IPY_MODEL_f4632c2b79224f1690ed4415a3d1541c"
      }
     },
     "8921aebdc0854eb399262619f4006f97": {
      "model_module": "@jupyter-widgets/controls",
      "model_module_version": "1.5.0",
      "model_name": "IntTextModel",
      "state": {
       "description": "Value:",
       "disabled": true,
       "layout": "IPY_MODEL_d3a1ec30fc464121a9bb426b4a445d69",
       "step": 1,
       "style": "IPY_MODEL_325220bf029e449a9b1e3081d3337a65"
      }
     },
     "8969ebbcee7c47f0aba72c7d42e9336e": {
      "model_module": "@jupyter-widgets/controls",
      "model_module_version": "1.5.0",
      "model_name": "DropdownModel",
      "state": {
       "_options_labels": [
        "Flat Modifier",
        "Damage Dice",
        "Weapon Potency",
        "Striking rune",
        "Multi Attack Penalty"
       ],
       "description": "Key:",
       "index": 0,
       "layout": "IPY_MODEL_227a3028fd5f4f71b665955e2f612a13",
       "style": "IPY_MODEL_32c8244b236741c9affd053bd75a6629"
      }
     },
     "8987dfa5464b4b32823c28add3fe257c": {
      "model_module": "@jupyter-widgets/controls",
      "model_module_version": "1.5.0",
      "model_name": "DescriptionStyleModel",
      "state": {
       "description_width": ""
      }
     },
     "8a0370f33a3b4fd1a2dc15c909c8d3c6": {
      "model_module": "@jupyter-widgets/base",
      "model_module_version": "1.2.0",
      "model_name": "LayoutModel",
      "state": {}
     },
     "8a04fa391fd641b799a34b2f3a334dfc": {
      "model_module": "@jupyter-widgets/controls",
      "model_module_version": "1.5.0",
      "model_name": "DescriptionStyleModel",
      "state": {
       "description_width": ""
      }
     },
     "8a27d50a41414cd68a0e12ab333c8dad": {
      "model_module": "@jupyter-widgets/controls",
      "model_module_version": "1.5.0",
      "model_name": "ButtonStyleModel",
      "state": {}
     },
     "8a72afdb482440caa6afee15b2716ad9": {
      "model_module": "@jupyter-widgets/base",
      "model_module_version": "1.2.0",
      "model_name": "LayoutModel",
      "state": {}
     },
     "8a84333c3862499c9f5d2905bdba698e": {
      "model_module": "@jupyter-widgets/base",
      "model_module_version": "1.2.0",
      "model_name": "LayoutModel",
      "state": {}
     },
     "8ab057d73e4c4cf084a388a7eb0a75c3": {
      "model_module": "@jupyter-widgets/base",
      "model_module_version": "1.2.0",
      "model_name": "LayoutModel",
      "state": {}
     },
     "8ad77d939619473081863b848199b80b": {
      "model_module": "@jupyter-widgets/controls",
      "model_module_version": "1.5.0",
      "model_name": "DescriptionStyleModel",
      "state": {
       "description_width": ""
      }
     },
     "8b16aff6765949d1883bff02c5ef253b": {
      "model_module": "@jupyter-widgets/base",
      "model_module_version": "1.2.0",
      "model_name": "LayoutModel",
      "state": {}
     },
     "8b7251b35a4648cb927b14cd2b88d4a9": {
      "model_module": "@jupyter-widgets/controls",
      "model_module_version": "1.5.0",
      "model_name": "ButtonStyleModel",
      "state": {}
     },
     "8b7f0b072f69483ea38c6eeaa248d40d": {
      "model_module": "@jupyter-widgets/controls",
      "model_module_version": "1.5.0",
      "model_name": "DescriptionStyleModel",
      "state": {
       "description_width": ""
      }
     },
     "8cde3fc7947a4bdfa9027eba04167903": {
      "model_module": "@jupyter-widgets/base",
      "model_module_version": "1.2.0",
      "model_name": "LayoutModel",
      "state": {}
     },
     "8cf75e10b38a47e288c85bab879f2484": {
      "model_module": "@jupyter-widgets/controls",
      "model_module_version": "1.5.0",
      "model_name": "ButtonStyleModel",
      "state": {}
     },
     "8cfc7cdd70f44474b81ae2c5dbe2cbd5": {
      "model_module": "@jupyter-widgets/controls",
      "model_module_version": "1.5.0",
      "model_name": "ButtonStyleModel",
      "state": {}
     },
     "8cfca2cd7ace47f6865357291ce1cebf": {
      "model_module": "@jupyter-widgets/controls",
      "model_module_version": "1.5.0",
      "model_name": "DropdownModel",
      "state": {
       "_options_labels": [
        "all",
        "str-based",
        "dex-based",
        "con-based",
        "int-based",
        "wis-based",
        "cha-based",
        "attack",
        "spell-attack",
        "attack-roll",
        "str-attack",
        "dex-attack",
        "con-attack",
        "int-attack",
        "wis-attack",
        "cha-attack",
        "damage",
        "saving-throw",
        "fortitude",
        "reflex",
        "will",
        "initiative",
        "perception",
        "class",
        "ac",
        "hp",
        "hp-per-level",
        "speed",
        "land-speed",
        "burrow-speed",
        "climb-speed",
        "fly-speed",
        "swim-speed",
        "skill-check",
        "acrobatics",
        "arcana",
        "athletics",
        "crafting",
        "deception",
        "diplomacy",
        "intimidation",
        "medicine",
        "nature",
        "occultism",
        "performance",
        "religion",
        "society",
        "stealth",
        "survival",
        "thievery"
       ],
       "description": "Selector",
       "disabled": true,
       "index": 0,
       "layout": "IPY_MODEL_640e74488a624ebaaa8b585a59ed82ba",
       "style": "IPY_MODEL_6a4606895a6140a59e5e9f95a9859e9f"
      }
     },
     "8cfd9368587446359f8d44830fab8646": {
      "model_module": "@jupyter-widgets/controls",
      "model_module_version": "1.5.0",
      "model_name": "SelectMultipleModel",
      "state": {
       "_options_labels": [
        "agile",
        "attached",
        "backstabber",
        "backswing",
        "brutal",
        "climbing",
        "concealable",
        "conrasu",
        "deadly",
        "disarm",
        "fatal",
        "finesse",
        "forceful",
        "free-hand",
        "grapple",
        "halfling",
        "hampering",
        "jousting",
        "modular",
        "monk",
        "nonlethal",
        "parry",
        "propulsive",
        "range",
        "ranged",
        "trip",
        "reach",
        "reload",
        "shove",
        "sweep",
        "tethered",
        "thrown",
        "trip",
        "twin",
        "two-hand",
        "unarmed",
        "versatile",
        "volley",
        "fear",
        "mental",
        "arcane",
        "divine",
        "occult",
        "primal",
        "abjuration",
        "conjuration",
        "divination",
        "enchantment",
        "evocation",
        "illusion",
        "necromancy",
        "transmutation",
        "auditory",
        "olfactory",
        "visual",
        "acid",
        "cold",
        "electricity",
        "fire",
        "force",
        "negative",
        "positive",
        "sonic",
        "alchemical",
        "contact",
        "ingested",
        "inhaled",
        "injury",
        "poison"
       ],
       "description": "Not",
       "disabled": true,
       "index": [],
       "layout": "IPY_MODEL_841c09a527d54b9d81dd6df4ce16ba6e",
       "rows": 5,
       "style": "IPY_MODEL_d3a5c230ac5444ef80c47bea5088246e"
      }
     },
     "8d45bdecb9834036a2f140fbfba36f19": {
      "model_module": "@jupyter-widgets/controls",
      "model_module_version": "1.5.0",
      "model_name": "DescriptionStyleModel",
      "state": {
       "description_width": ""
      }
     },
     "8d4f7d83042f49f2b348b1fdfc4cf7c6": {
      "model_module": "@jupyter-widgets/base",
      "model_module_version": "1.2.0",
      "model_name": "LayoutModel",
      "state": {}
     },
     "8d6d68a273744fb493cd65df255b6a1d": {
      "model_module": "@jupyter-widgets/controls",
      "model_module_version": "1.5.0",
      "model_name": "SelectMultipleModel",
      "state": {
       "_options_labels": [
        "agile",
        "attached",
        "backstabber",
        "backswing",
        "brutal",
        "climbing",
        "concealable",
        "conrasu",
        "deadly",
        "disarm",
        "fatal",
        "finesse",
        "forceful",
        "free-hand",
        "grapple",
        "halfling",
        "hampering",
        "jousting",
        "modular",
        "monk",
        "nonlethal",
        "parry",
        "propulsive",
        "range",
        "ranged",
        "trip",
        "reach",
        "reload",
        "shove",
        "sweep",
        "tethered",
        "thrown",
        "trip",
        "twin",
        "two-hand",
        "unarmed",
        "versatile",
        "volley",
        "fear",
        "mental",
        "arcane",
        "divine",
        "occult",
        "primal",
        "abjuration",
        "conjuration",
        "divination",
        "enchantment",
        "evocation",
        "illusion",
        "necromancy",
        "transmutation",
        "auditory",
        "olfactory",
        "visual",
        "acid",
        "cold",
        "electricity",
        "fire",
        "force",
        "negative",
        "positive",
        "sonic",
        "alchemical",
        "contact",
        "ingested",
        "inhaled",
        "injury",
        "poison"
       ],
       "description": "Predicate:All",
       "disabled": true,
       "index": [],
       "layout": "IPY_MODEL_1a93894cdc1c428d82410f2a3ce27235",
       "rows": 15,
       "style": "IPY_MODEL_34aa708505a447639005a2dac16f326f"
      }
     },
     "8dd1f8371a5642e5984a3cf25829fe4c": {
      "model_module": "@jupyter-widgets/controls",
      "model_module_version": "1.5.0",
      "model_name": "CheckboxModel",
      "state": {
       "description": "Add a Name?",
       "disabled": true,
       "layout": "IPY_MODEL_bf6266f7fdc540dab73ab3d84e026917",
       "style": "IPY_MODEL_02a4562fd347436c8e136905aaebaa7b",
       "value": false
      }
     },
     "8e2aa973c4ca44779c22c069eb4626d0": {
      "model_module": "@jupyter-widgets/controls",
      "model_module_version": "1.5.0",
      "model_name": "SelectMultipleModel",
      "state": {
       "_options_labels": [
        "agile",
        "finesse",
        "rage",
        "unarmed",
        "fear",
        "mental",
        "poison",
        "disease",
        "fear",
        "sweep"
       ],
       "description": "Predicate:All",
       "disabled": true,
       "index": [],
       "layout": "IPY_MODEL_1603f799f3db41d9bd8e25fd0710d21e",
       "rows": 5,
       "style": "IPY_MODEL_f57350256a6b4fb4a17724b49f608b31"
      }
     },
     "8e764d9b68ed4e5f94fbf754092871cd": {
      "model_module": "@jupyter-widgets/controls",
      "model_module_version": "1.5.0",
      "model_name": "DescriptionStyleModel",
      "state": {
       "description_width": ""
      }
     },
     "8e8ea1b452e04985b090d5010336a812": {
      "model_module": "@jupyter-widgets/base",
      "model_module_version": "1.2.0",
      "model_name": "LayoutModel",
      "state": {}
     },
     "8f1d25c08e7e436f9b4c021825257d02": {
      "model_module": "@jupyter-widgets/controls",
      "model_module_version": "1.5.0",
      "model_name": "DescriptionStyleModel",
      "state": {
       "description_width": ""
      }
     },
     "8f7884416b4a477d870895e73ccbcd3f": {
      "model_module": "@jupyter-widgets/controls",
      "model_module_version": "1.5.0",
      "model_name": "DropdownModel",
      "state": {
       "_options_labels": [
        "Flat Modifier",
        "Damage Dice",
        "Weapon Potency",
        "Striking rune",
        "Multi Attack Penalty"
       ],
       "description": "Key:",
       "index": 0,
       "layout": "IPY_MODEL_c429affe66cf4578a9dedfde2cec38db",
       "style": "IPY_MODEL_172d7cae406145ed9d410104855f483a"
      }
     },
     "8fc70669b3c6480cbdd9f288e59ec628": {
      "model_module": "@jupyter-widgets/base",
      "model_module_version": "1.2.0",
      "model_name": "LayoutModel",
      "state": {}
     },
     "902ba84f5a344c63902e9f9aecc193ce": {
      "model_module": "@jupyter-widgets/controls",
      "model_module_version": "1.5.0",
      "model_name": "DescriptionStyleModel",
      "state": {
       "description_width": ""
      }
     },
     "9090fc72d0c040eba0b7593706cb2665": {
      "model_module": "@jupyter-widgets/controls",
      "model_module_version": "1.5.0",
      "model_name": "DropdownModel",
      "state": {
       "_options_labels": [
        "all",
        "str-based",
        "dex-based",
        "con-based",
        "int-based",
        "wis-based",
        "cha-based",
        "attack",
        "spell-attack",
        "attack-roll",
        "str-attack",
        "dex-attack",
        "con-attack",
        "int-attack",
        "wis-attack",
        "cha-attack",
        "damage",
        "saving-throw",
        "fortitude",
        "reflex",
        "will",
        "initiative",
        "perception",
        "class",
        "ac",
        "hp",
        "hp-per-level",
        "speed",
        "land-speed",
        "burrow-speed",
        "climb-speed",
        "fly-speed",
        "swim-speed",
        "skill-check",
        "acrobatics",
        "arcana",
        "athletics",
        "crafting",
        "deception",
        "diplomacy",
        "intimidation",
        "medicine",
        "nature",
        "occultism",
        "performance",
        "religion",
        "society",
        "stealth",
        "survival",
        "thievery"
       ],
       "description": "Selector",
       "disabled": true,
       "index": 0,
       "layout": "IPY_MODEL_8cde3fc7947a4bdfa9027eba04167903",
       "style": "IPY_MODEL_879d2835fbf44202982a167ced6c2ba8"
      }
     },
     "90f1d3f793484488ac2ced14725b3285": {
      "model_module": "@jupyter-widgets/controls",
      "model_module_version": "1.5.0",
      "model_name": "ButtonModel",
      "state": {
       "description": "Reset",
       "layout": "IPY_MODEL_bdc0fe1a4c8142d3915245e6e67667be",
       "style": "IPY_MODEL_6dc56382ee844bfc80d9dce960d84f1d"
      }
     },
     "91310ed9e45f4c1ca0f3cfc2d8162561": {
      "model_module": "@jupyter-widgets/base",
      "model_module_version": "1.2.0",
      "model_name": "LayoutModel",
      "state": {}
     },
     "915e404c9a0449d9ab9807e275f80e75": {
      "model_module": "@jupyter-widgets/controls",
      "model_module_version": "1.5.0",
      "model_name": "DescriptionStyleModel",
      "state": {
       "description_width": ""
      }
     },
     "918e0a7f0dfa4fd2b8d9f84bd88ebee1": {
      "model_module": "@jupyter-widgets/base",
      "model_module_version": "1.2.0",
      "model_name": "LayoutModel",
      "state": {}
     },
     "9217e6d5eb554b4fb687e32d26ff1797": {
      "model_module": "@jupyter-widgets/controls",
      "model_module_version": "1.5.0",
      "model_name": "DescriptionStyleModel",
      "state": {
       "description_width": ""
      }
     },
     "922e7c9dce074fd38b247d0e4c7942c2": {
      "model_module": "@jupyter-widgets/controls",
      "model_module_version": "1.5.0",
      "model_name": "DescriptionStyleModel",
      "state": {
       "description_width": ""
      }
     },
     "92388e54f1af4f2c884c0ae621c8a778": {
      "model_module": "@jupyter-widgets/base",
      "model_module_version": "1.2.0",
      "model_name": "LayoutModel",
      "state": {}
     },
     "9250f03fc9f6446daae9233ff58e21a8": {
      "model_module": "@jupyter-widgets/controls",
      "model_module_version": "1.5.0",
      "model_name": "DescriptionStyleModel",
      "state": {
       "description_width": ""
      }
     },
     "9289e8719b664b2091a4c1c981bb8cc3": {
      "model_module": "@jupyter-widgets/base",
      "model_module_version": "1.2.0",
      "model_name": "LayoutModel",
      "state": {}
     },
     "92d01de096cd4db681ceb4ab6c15175c": {
      "model_module": "@jupyter-widgets/controls",
      "model_module_version": "1.5.0",
      "model_name": "DescriptionStyleModel",
      "state": {
       "description_width": ""
      }
     },
     "92e869223c984613afcfd598b83d4ff1": {
      "model_module": "@jupyter-widgets/controls",
      "model_module_version": "1.5.0",
      "model_name": "ButtonModel",
      "state": {
       "description": "Create Rule Element",
       "disabled": true,
       "layout": "IPY_MODEL_eca8f65fef6047e18694dfdca47ad12b",
       "style": "IPY_MODEL_fc323983a6664b48a1c7bcebcc2a5555"
      }
     },
     "92f18bb84b2544ccbd43873dbde11cea": {
      "model_module": "@jupyter-widgets/controls",
      "model_module_version": "1.5.0",
      "model_name": "ButtonStyleModel",
      "state": {}
     },
     "93259bebe823468ba524bed9b4b6e672": {
      "model_module": "@jupyter-widgets/controls",
      "model_module_version": "1.5.0",
      "model_name": "DescriptionStyleModel",
      "state": {
       "description_width": ""
      }
     },
     "9391bc2addc24def986c865da07ac50f": {
      "model_module": "@jupyter-widgets/controls",
      "model_module_version": "1.5.0",
      "model_name": "ButtonStyleModel",
      "state": {}
     },
     "93d5d0df6f094030a5d3810ce5ba0eb2": {
      "model_module": "@jupyter-widgets/base",
      "model_module_version": "1.2.0",
      "model_name": "LayoutModel",
      "state": {}
     },
     "947733100fdb4223986ee31e383f3686": {
      "model_module": "@jupyter-widgets/controls",
      "model_module_version": "1.5.0",
      "model_name": "ButtonModel",
      "state": {
       "description": "Select Key",
       "layout": "IPY_MODEL_a1572cc35f1242bcacfdaeee74f7d816",
       "style": "IPY_MODEL_5bae3d39896542a9a30c27e85530801a"
      }
     },
     "94954c84c98d47e6bcc697e38cad8031": {
      "model_module": "@jupyter-widgets/controls",
      "model_module_version": "1.5.0",
      "model_name": "ButtonModel",
      "state": {
       "description": "Set Selectors",
       "layout": "IPY_MODEL_ee03591eed51411ab082664422349176",
       "style": "IPY_MODEL_8a27d50a41414cd68a0e12ab333c8dad"
      }
     },
     "94a66540c53143e1b0a4c51c02eba234": {
      "model_module": "@jupyter-widgets/controls",
      "model_module_version": "1.5.0",
      "model_name": "CheckboxModel",
      "state": {
       "description": "Override base die?",
       "disabled": true,
       "layout": "IPY_MODEL_81457305ec024aeb9fce9e606bc4a079",
       "style": "IPY_MODEL_4c7585f608824f77b9b83e15d5fe29e0",
       "value": false
      }
     },
     "9514866617c34240b38a799fae825885": {
      "model_module": "@jupyter-widgets/base",
      "model_module_version": "1.2.0",
      "model_name": "LayoutModel",
      "state": {}
     },
     "9533f9ad3db14fe08a21cf3a617909d3": {
      "model_module": "@jupyter-widgets/base",
      "model_module_version": "1.2.0",
      "model_name": "LayoutModel",
      "state": {}
     },
     "9555fba9ab5f402ab10b920ce606a000": {
      "model_module": "@jupyter-widgets/base",
      "model_module_version": "1.2.0",
      "model_name": "LayoutModel",
      "state": {}
     },
     "95669f2df30041f9b93e1e35a1e31916": {
      "model_module": "@jupyter-widgets/controls",
      "model_module_version": "1.5.0",
      "model_name": "IntTextModel",
      "state": {
       "description": "Number of dice:",
       "disabled": true,
       "layout": "IPY_MODEL_3882facf4540497395d761254228e6dd",
       "step": 1,
       "style": "IPY_MODEL_0f8a6947c17d4c6fbb8b7d57f9da6f6a"
      }
     },
     "958b5fb98f5d4980a3ed541589f429cd": {
      "model_module": "@jupyter-widgets/controls",
      "model_module_version": "1.5.0",
      "model_name": "ButtonStyleModel",
      "state": {}
     },
     "9590a1ac88124e70a8a42c35ceb571c6": {
      "model_module": "@jupyter-widgets/controls",
      "model_module_version": "1.5.0",
      "model_name": "ButtonModel",
      "state": {
       "description": "Set Selectors",
       "disabled": true,
       "layout": "IPY_MODEL_f236a368e1414fb09fa3a128ad4cbca7",
       "style": "IPY_MODEL_8b7251b35a4648cb927b14cd2b88d4a9"
      }
     },
     "95ecbb76abf24e08b8f9acdaedb2acca": {
      "model_module": "@jupyter-widgets/controls",
      "model_module_version": "1.5.0",
      "model_name": "DropdownModel",
      "state": {
       "_options_labels": [
        "all",
        "str-based",
        "dex-based",
        "con-based",
        "int-based",
        "wis-based",
        "cha-based",
        "attack",
        "spell-attack",
        "attack-roll",
        "str-attack",
        "dex-attack",
        "con-attack",
        "int-attack",
        "wis-attack",
        "cha-attack",
        "damage",
        "saving-throw",
        "fortitude",
        "reflex",
        "will",
        "initiative",
        "perception",
        "class",
        "ac",
        "hp",
        "hp-per-level",
        "speed",
        "land-speed",
        "burrow-speed",
        "climb-speed",
        "fly-speed",
        "swim-speed",
        "skill-check",
        "acrobatics",
        "arcana",
        "athletics",
        "crafting",
        "deception",
        "diplomacy",
        "intimidation",
        "medicine",
        "nature",
        "occultism",
        "performance",
        "religion",
        "society",
        "stealth",
        "survival",
        "thievery"
       ],
       "description": "Selector",
       "disabled": true,
       "index": 0,
       "layout": "IPY_MODEL_7ef7749fd476434da4aad3ea6a52bd42",
       "style": "IPY_MODEL_a686becf9a094eb0adac8ee4b4d42262"
      }
     },
     "95fed0e9637e4d62a44ce8961369335c": {
      "model_module": "@jupyter-widgets/controls",
      "model_module_version": "1.5.0",
      "model_name": "ButtonStyleModel",
      "state": {}
     },
     "9625930394354e37913c1b955daaaf1a": {
      "model_module": "@jupyter-widgets/base",
      "model_module_version": "1.2.0",
      "model_name": "LayoutModel",
      "state": {}
     },
     "966d700dcdaa41948c8ff9efe24c8081": {
      "model_module": "@jupyter-widgets/controls",
      "model_module_version": "1.5.0",
      "model_name": "SelectMultipleModel",
      "state": {
       "_options_labels": [
        "agile",
        "attached",
        "backstabber",
        "backswing",
        "brutal",
        "climbing",
        "concealable",
        "conrasu",
        "deadly",
        "disarm",
        "fatal",
        "finesse",
        "forceful",
        "free-hand",
        "grapple",
        "halfling",
        "hampering",
        "jousting",
        "modular",
        "monk",
        "nonlethal",
        "parry",
        "propulsive",
        "range",
        "ranged",
        "trip",
        "reach",
        "reload",
        "shove",
        "sweep",
        "tethered",
        "thrown",
        "trip",
        "twin",
        "two-hand",
        "unarmed",
        "versatile",
        "volley",
        "fear",
        "mental",
        "arcane",
        "divine",
        "occult",
        "primal",
        "abjuration",
        "conjuration",
        "divination",
        "enchantment",
        "evocation",
        "illusion",
        "necromancy",
        "transmutation",
        "auditory",
        "olfactory",
        "visual",
        "acid",
        "cold",
        "electricity",
        "fire",
        "force",
        "negative",
        "positive",
        "sonic",
        "alchemical",
        "contact",
        "ingested",
        "inhaled",
        "injury",
        "poison"
       ],
       "description": "Any",
       "disabled": true,
       "index": [],
       "layout": "IPY_MODEL_165791ce664e4e438e026ca0c0f6dfbb",
       "rows": 15,
       "style": "IPY_MODEL_59ad9712a112420d9ee940ef3f2de323"
      }
     },
     "971a486a3e0745fc933a3297af5223a5": {
      "model_module": "@jupyter-widgets/base",
      "model_module_version": "1.2.0",
      "model_name": "LayoutModel",
      "state": {}
     },
     "972e20ba20ac4a08ae639a4961c65493": {
      "model_module": "@jupyter-widgets/base",
      "model_module_version": "1.2.0",
      "model_name": "LayoutModel",
      "state": {}
     },
     "97ec9975ff8d4f9a9a0ad9fa4dd7207e": {
      "model_module": "@jupyter-widgets/controls",
      "model_module_version": "1.5.0",
      "model_name": "ButtonStyleModel",
      "state": {}
     },
     "981e79dc97f14dbabe723f58011e89ae": {
      "model_module": "@jupyter-widgets/base",
      "model_module_version": "1.2.0",
      "model_name": "LayoutModel",
      "state": {}
     },
     "982970bb517a4c9bb57c883b7e1df9e6": {
      "model_module": "@jupyter-widgets/controls",
      "model_module_version": "1.5.0",
      "model_name": "DescriptionStyleModel",
      "state": {
       "description_width": ""
      }
     },
     "9832fdd4b581494b8ebe474dc4280bfe": {
      "model_module": "@jupyter-widgets/controls",
      "model_module_version": "1.5.0",
      "model_name": "DropdownModel",
      "state": {
       "_options_labels": [
        "",
        "d4",
        "d6",
        "d8",
        "d10",
        "d12"
       ],
       "description": "Die size:",
       "disabled": true,
       "index": 0,
       "layout": "IPY_MODEL_6a0038bca97e443bbd647b79dba253b7",
       "style": "IPY_MODEL_7be770c942b845e2af9d8e92ebe3e8bc"
      }
     },
     "9887f69881124ff99b3b59bc3215e31d": {
      "model_module": "@jupyter-widgets/controls",
      "model_module_version": "1.5.0",
      "model_name": "DropdownModel",
      "state": {
       "_options_labels": [
        "Flat Modifier",
        "Damage Dice",
        "Weapon Potency",
        "Striking rune",
        "Multi Attack Penalty"
       ],
       "description": "Key:",
       "index": 0,
       "layout": "IPY_MODEL_eb0ec027a1c449569427edeb53ff5cdf",
       "style": "IPY_MODEL_5525c7a472784a0bae8c0d5dd9c7840f"
      }
     },
     "99105810b1684f1f8a2ef16ca15c60fb": {
      "model_module": "@jupyter-widgets/controls",
      "model_module_version": "1.5.0",
      "model_name": "DropdownModel",
      "state": {
       "_options_labels": [
        "",
        "circumstance",
        "item",
        "status"
       ],
       "description": "Type",
       "disabled": true,
       "index": 0,
       "layout": "IPY_MODEL_39c4eb5dd7f6481daf3562e59313cb54",
       "style": "IPY_MODEL_6d2ab4e95abe42ef8986c508c67c676d"
      }
     },
     "992f1ff761914a4aaf68e180ba5e130e": {
      "model_module": "@jupyter-widgets/controls",
      "model_module_version": "1.5.0",
      "model_name": "DescriptionStyleModel",
      "state": {
       "description_width": ""
      }
     },
     "9954a74029f74a04ac4859f3ff8fd604": {
      "model_module": "@jupyter-widgets/controls",
      "model_module_version": "1.5.0",
      "model_name": "DropdownModel",
      "state": {
       "_options_labels": [
        "Flat Modifier",
        "Damage Dice",
        "Weapon Potency",
        "Striking rune",
        "Multi Attack Penalty"
       ],
       "description": "Key:",
       "index": 0,
       "layout": "IPY_MODEL_087ddf87654346a4935abb681d132258",
       "style": "IPY_MODEL_2c2e6da1b00547b68191d11f0448f7dc"
      }
     },
     "996a09f6817049739aef0acee211cae0": {
      "model_module": "@jupyter-widgets/base",
      "model_module_version": "1.2.0",
      "model_name": "LayoutModel",
      "state": {}
     },
     "996f8b7675984768955ea21ea127a0dc": {
      "model_module": "@jupyter-widgets/controls",
      "model_module_version": "1.5.0",
      "model_name": "ButtonModel",
      "state": {
       "description": "Select Key",
       "layout": "IPY_MODEL_128e7bf46d644d2db189ffae65a7a6b4",
       "style": "IPY_MODEL_e824eb7c2b7d443a8725deb5351d7eb3"
      }
     },
     "99bb33eb87394e40890643d0935b0465": {
      "model_module": "@jupyter-widgets/base",
      "model_module_version": "1.2.0",
      "model_name": "LayoutModel",
      "state": {}
     },
     "9a43fa4ed00b4fa9b67e0ad5d1025e79": {
      "model_module": "@jupyter-widgets/controls",
      "model_module_version": "1.5.0",
      "model_name": "DropdownModel",
      "state": {
       "_options_labels": [
        "Flat Modifier",
        "Damage Dice",
        "Weapon Potency",
        "Striking rune",
        "Multi Attack Penalty"
       ],
       "description": "Key:",
       "index": 0,
       "layout": "IPY_MODEL_6dab8432983c40efb926b0dc7dd3c024",
       "style": "IPY_MODEL_30e68d0eda884de5b49003132aa79a7c"
      }
     },
     "9a45f5ac1d73447681a16d4fc52ed3e4": {
      "model_module": "@jupyter-widgets/controls",
      "model_module_version": "1.5.0",
      "model_name": "DescriptionStyleModel",
      "state": {
       "description_width": ""
      }
     },
     "9a5b4d65cbc54c6f8e8b92e1200a56ee": {
      "model_module": "@jupyter-widgets/controls",
      "model_module_version": "1.5.0",
      "model_name": "DescriptionStyleModel",
      "state": {
       "description_width": ""
      }
     },
     "9aafa239952546d09baa93fb91b457a7": {
      "model_module": "@jupyter-widgets/controls",
      "model_module_version": "1.5.0",
      "model_name": "DescriptionStyleModel",
      "state": {
       "description_width": ""
      }
     },
     "9ade17885e7a45479c69718d30003ecf": {
      "model_module": "@jupyter-widgets/base",
      "model_module_version": "1.2.0",
      "model_name": "LayoutModel",
      "state": {}
     },
     "9beed5d02cf94cea89a815b70662a4e9": {
      "model_module": "@jupyter-widgets/base",
      "model_module_version": "1.2.0",
      "model_name": "LayoutModel",
      "state": {}
     },
     "9c162bd087a144f8aa72928976520173": {
      "model_module": "@jupyter-widgets/controls",
      "model_module_version": "1.5.0",
      "model_name": "CheckboxModel",
      "state": {
       "description": "Override base die?",
       "disabled": true,
       "layout": "IPY_MODEL_0fea41d239fe4ab8a0d18fb453dac1c1",
       "style": "IPY_MODEL_e1294760822348c7b287774be11ac0c1",
       "value": false
      }
     },
     "9c1d0839703243c9b7998402c056c9da": {
      "model_module": "@jupyter-widgets/controls",
      "model_module_version": "1.5.0",
      "model_name": "DescriptionStyleModel",
      "state": {
       "description_width": ""
      }
     },
     "9c68dfa3da1f4e8f9b193701b6d7bab3": {
      "model_module": "@jupyter-widgets/controls",
      "model_module_version": "1.5.0",
      "model_name": "SelectMultipleModel",
      "state": {
       "_options_labels": [
        "agile",
        "attached",
        "backstabber",
        "backswing",
        "brutal",
        "climbing",
        "concealable",
        "conrasu",
        "deadly",
        "disarm",
        "fatal",
        "finesse",
        "forceful",
        "free-hand",
        "grapple",
        "halfling",
        "hampering",
        "jousting",
        "modular",
        "monk",
        "nonlethal",
        "parry",
        "propulsive",
        "range",
        "ranged",
        "trip",
        "reach",
        "reload",
        "shove",
        "sweep",
        "tethered",
        "thrown",
        "trip",
        "twin",
        "two-hand",
        "unarmed",
        "versatile",
        "volley",
        "fear",
        "mental",
        "arcane",
        "divine",
        "occult",
        "primal",
        "abjuration",
        "conjuration",
        "divination",
        "enchantment",
        "evocation",
        "illusion",
        "necromancy",
        "transmutation",
        "auditory",
        "olfactory",
        "visual",
        "acid",
        "cold",
        "electricity",
        "fire",
        "force",
        "negative",
        "positive",
        "sonic",
        "alchemical",
        "contact",
        "ingested",
        "inhaled",
        "injury",
        "poison"
       ],
       "description": "Any",
       "disabled": true,
       "index": [],
       "layout": "IPY_MODEL_07f3a268bab341788b1e61455f5e7283",
       "rows": 15,
       "style": "IPY_MODEL_0ecae781271a47639d4f79327a183754"
      }
     },
     "9cb332b2bd154d819b4311ddd7046854": {
      "model_module": "@jupyter-widgets/controls",
      "model_module_version": "1.5.0",
      "model_name": "DropdownModel",
      "state": {
       "_options_labels": [
        "all",
        "str-based",
        "dex-based",
        "con-based",
        "int-based",
        "wis-based",
        "cha-based",
        "attack",
        "spell-attack",
        "attack-roll",
        "str-attack",
        "dex-attack",
        "con-attack",
        "int-attack",
        "wis-attack",
        "cha-attack",
        "damage",
        "saving-throw",
        "fortitude",
        "reflex",
        "will",
        "initiative",
        "perception",
        "class",
        "ac",
        "hp",
        "hp-per-level",
        "speed",
        "land-speed",
        "burrow-speed",
        "climb-speed",
        "fly-speed",
        "swim-speed",
        "skill-check",
        "acrobatics",
        "arcana",
        "athletics",
        "crafting",
        "deception",
        "diplomacy",
        "intimidation",
        "medicine",
        "nature",
        "occultism",
        "performance",
        "religion",
        "society",
        "stealth",
        "survival",
        "thievery"
       ],
       "description": "Selector",
       "disabled": true,
       "index": 0,
       "layout": "IPY_MODEL_2e023c25df4740a195d9cf97a78c0a6e",
       "style": "IPY_MODEL_03f18a86c79149f296e21477baa5a0cd"
      }
     },
     "9cf61ab7fb764ef6a0c7a2532e95fb68": {
      "model_module": "@jupyter-widgets/controls",
      "model_module_version": "1.5.0",
      "model_name": "ButtonModel",
      "state": {
       "description": "Create Rule Element",
       "disabled": true,
       "layout": "IPY_MODEL_11a86b94fde44fe1a808cc8b5927b3ef",
       "style": "IPY_MODEL_97ec9975ff8d4f9a9a0ad9fa4dd7207e"
      }
     },
     "9f8e3e14bd594ca0b70e2848f7e32c9a": {
      "model_module": "@jupyter-widgets/controls",
      "model_module_version": "1.5.0",
      "model_name": "ButtonStyleModel",
      "state": {}
     },
     "a0352a3b585646e8b4ad4ca08edfe76c": {
      "model_module": "@jupyter-widgets/controls",
      "model_module_version": "1.5.0",
      "model_name": "DropdownModel",
      "state": {
       "_options_labels": [
        "all",
        "str-based",
        "dex-based",
        "con-based",
        "int-based",
        "wis-based",
        "cha-based",
        "attack",
        "spell-attack",
        "attack-roll",
        "str-attack",
        "dex-attack",
        "con-attack",
        "int-attack",
        "wis-attack",
        "cha-attack",
        "damage",
        "saving-throw",
        "fortitude",
        "reflex",
        "will",
        "initiative",
        "perception",
        "class",
        "ac",
        "hp",
        "hp-per-level",
        "speed",
        "land-speed",
        "burrow-speed",
        "climb-speed",
        "fly-speed",
        "swim-speed",
        "skill-check",
        "acrobatics",
        "arcana",
        "athletics",
        "crafting",
        "deception",
        "diplomacy",
        "intimidation",
        "medicine",
        "nature",
        "occultism",
        "performance",
        "religion",
        "society",
        "stealth",
        "survival",
        "thievery"
       ],
       "description": "Selector",
       "disabled": true,
       "index": 0,
       "layout": "IPY_MODEL_241c524df5f14a8bbac45a6d0b723774",
       "style": "IPY_MODEL_050a638859594c8dba690ad4194b173d"
      }
     },
     "a03a0aa1f85042369533be1a90826721": {
      "model_module": "@jupyter-widgets/controls",
      "model_module_version": "1.5.0",
      "model_name": "ButtonStyleModel",
      "state": {}
     },
     "a0423dfe1a0b436e8ceed90a764ac51c": {
      "model_module": "@jupyter-widgets/controls",
      "model_module_version": "1.5.0",
      "model_name": "ButtonStyleModel",
      "state": {}
     },
     "a04e342bc3bb480288a271708305e58e": {
      "model_module": "@jupyter-widgets/controls",
      "model_module_version": "1.5.0",
      "model_name": "DescriptionStyleModel",
      "state": {
       "description_width": ""
      }
     },
     "a09c62c7912c491da9944d563815e8b4": {
      "model_module": "@jupyter-widgets/controls",
      "model_module_version": "1.5.0",
      "model_name": "DescriptionStyleModel",
      "state": {
       "description_width": ""
      }
     },
     "a09dd42bbbcd49219406e7a7c8866cc1": {
      "model_module": "@jupyter-widgets/controls",
      "model_module_version": "1.5.0",
      "model_name": "IntTextModel",
      "state": {
       "description": "Number of dice:",
       "disabled": true,
       "layout": "IPY_MODEL_ac038402a3554c4db2efe82811b4ad97",
       "step": 1,
       "style": "IPY_MODEL_677f56a8aaf5433c9199032dd42b0866"
      }
     },
     "a0b6a7f079364788b225cb18472b2878": {
      "model_module": "@jupyter-widgets/controls",
      "model_module_version": "1.5.0",
      "model_name": "CheckboxModel",
      "state": {
       "description": "Use Advanced Selector?",
       "disabled": true,
       "layout": "IPY_MODEL_83f98960d44e48249be9d3c08c89c2fa",
       "style": "IPY_MODEL_93259bebe823468ba524bed9b4b6e672",
       "value": false
      }
     },
     "a0f4d8b4c0c44a5e9b4b0f8ed9763804": {
      "model_module": "@jupyter-widgets/controls",
      "model_module_version": "1.5.0",
      "model_name": "SelectMultipleModel",
      "state": {
       "_options_labels": [
        "agile",
        "finesse",
        "rage",
        "unarmed",
        "fear",
        "mental",
        "poison",
        "disease",
        "fear",
        "sweep"
       ],
       "description": "Any",
       "disabled": true,
       "index": [],
       "layout": "IPY_MODEL_62f33e2493214e4caf5c9e13f3c06e1a",
       "rows": 5,
       "style": "IPY_MODEL_b223f2d281d84eaf9f2340500424f28c"
      }
     },
     "a1218e2deedc41488b344e525869b8fa": {
      "model_module": "@jupyter-widgets/controls",
      "model_module_version": "1.5.0",
      "model_name": "DescriptionStyleModel",
      "state": {
       "description_width": ""
      }
     },
     "a12432c02a67496e9f8cf0d81fb3b969": {
      "model_module": "@jupyter-widgets/base",
      "model_module_version": "1.2.0",
      "model_name": "LayoutModel",
      "state": {}
     },
     "a134bbb40f454a48af2675d7a44ed8fd": {
      "model_module": "@jupyter-widgets/controls",
      "model_module_version": "1.5.0",
      "model_name": "ButtonModel",
      "state": {
       "description": "Create Rule Element",
       "disabled": true,
       "layout": "IPY_MODEL_de6282f03e3e49cba4c67672adc2b85a",
       "style": "IPY_MODEL_c6c65d0d282342ecb1df2c6bb7ae1a05"
      }
     },
     "a155bc4deee641f08c80674d9778637e": {
      "model_module": "@jupyter-widgets/controls",
      "model_module_version": "1.5.0",
      "model_name": "DescriptionStyleModel",
      "state": {
       "description_width": ""
      }
     },
     "a1572cc35f1242bcacfdaeee74f7d816": {
      "model_module": "@jupyter-widgets/base",
      "model_module_version": "1.2.0",
      "model_name": "LayoutModel",
      "state": {}
     },
     "a1aa9f5cd2be4904906a15997d77dc29": {
      "model_module": "@jupyter-widgets/controls",
      "model_module_version": "1.5.0",
      "model_name": "DropdownModel",
      "state": {
       "_options_labels": [
        "",
        "d4",
        "d6",
        "d8",
        "d10",
        "d12"
       ],
       "description": "Die size:",
       "disabled": true,
       "index": 0,
       "layout": "IPY_MODEL_87ed6923ffe445139694c45228a1097f",
       "style": "IPY_MODEL_253dbe05af0b472299b9d5dfebf8eb53"
      }
     },
     "a271d45a2a6a45f9b6407c481463e0f8": {
      "model_module": "@jupyter-widgets/controls",
      "model_module_version": "1.5.0",
      "model_name": "CheckboxModel",
      "state": {
       "description": "Add a label?",
       "disabled": true,
       "layout": "IPY_MODEL_c19f26ecd9944619ba71cc8a299ba072",
       "style": "IPY_MODEL_bae260b0713c4738b3bd84fa00dafd57",
       "value": false
      }
     },
     "a3ef114ac41847e4bedc8df3498bbb77": {
      "model_module": "@jupyter-widgets/controls",
      "model_module_version": "1.5.0",
      "model_name": "ButtonModel",
      "state": {
       "description": "Reset",
       "layout": "IPY_MODEL_76efe961609e43e0add4c8064393d632",
       "style": "IPY_MODEL_6d794e954a66497da38ed8b631bf8357"
      }
     },
     "a480b7e416e24c408621de645281a532": {
      "model_module": "@jupyter-widgets/base",
      "model_module_version": "1.2.0",
      "model_name": "LayoutModel",
      "state": {}
     },
     "a4a22c8f0fd34e10b06e1bbe0497a90a": {
      "model_module": "@jupyter-widgets/base",
      "model_module_version": "1.2.0",
      "model_name": "LayoutModel",
      "state": {}
     },
     "a53f0145abe541c7bee065a5ab838d00": {
      "model_module": "@jupyter-widgets/base",
      "model_module_version": "1.2.0",
      "model_name": "LayoutModel",
      "state": {}
     },
     "a5412338926e463f8a86093a34bbf948": {
      "model_module": "@jupyter-widgets/controls",
      "model_module_version": "1.5.0",
      "model_name": "DescriptionStyleModel",
      "state": {
       "description_width": ""
      }
     },
     "a59690edec1f47d588d904390c3e5cb6": {
      "model_module": "@jupyter-widgets/base",
      "model_module_version": "1.2.0",
      "model_name": "LayoutModel",
      "state": {}
     },
     "a64518f1874348b5959457da0569cbb2": {
      "model_module": "@jupyter-widgets/controls",
      "model_module_version": "1.5.0",
      "model_name": "SelectMultipleModel",
      "state": {
       "_options_labels": [
        "agile",
        "attached",
        "backstabber",
        "backswing",
        "brutal",
        "climbing",
        "concealable",
        "conrasu",
        "deadly",
        "disarm",
        "fatal",
        "finesse",
        "forceful",
        "free-hand",
        "grapple",
        "halfling",
        "hampering",
        "jousting",
        "modular",
        "monk",
        "nonlethal",
        "parry",
        "propulsive",
        "range",
        "ranged",
        "trip",
        "reach",
        "reload",
        "shove",
        "sweep",
        "tethered",
        "thrown",
        "trip",
        "twin",
        "two-hand",
        "unarmed",
        "versatile",
        "volley",
        "fear",
        "mental",
        "arcane",
        "divine",
        "occult",
        "primal",
        "abjuration",
        "conjuration",
        "divination",
        "enchantment",
        "evocation",
        "illusion",
        "necromancy",
        "transmutation",
        "auditory",
        "olfactory",
        "visual",
        "acid",
        "cold",
        "electricity",
        "fire",
        "force",
        "negative",
        "positive",
        "sonic",
        "alchemical",
        "contact",
        "ingested",
        "inhaled",
        "injury",
        "poison"
       ],
       "description": "Not",
       "disabled": true,
       "index": [],
       "layout": "IPY_MODEL_5fb267589f9d43779a4d7959cf3b75c1",
       "rows": 15,
       "style": "IPY_MODEL_1340e29ba97b4fdea3669c8ad5ad09fb"
      }
     },
     "a65d638a36a54fdba501a7df0b3dfa01": {
      "model_module": "@jupyter-widgets/base",
      "model_module_version": "1.2.0",
      "model_name": "LayoutModel",
      "state": {}
     },
     "a686becf9a094eb0adac8ee4b4d42262": {
      "model_module": "@jupyter-widgets/controls",
      "model_module_version": "1.5.0",
      "model_name": "DescriptionStyleModel",
      "state": {
       "description_width": ""
      }
     },
     "a6ac67ddc6bd489c9641037aa894c002": {
      "model_module": "@jupyter-widgets/base",
      "model_module_version": "1.2.0",
      "model_name": "LayoutModel",
      "state": {}
     },
     "a7904da0b8914fd69241c468c8d64cda": {
      "model_module": "@jupyter-widgets/controls",
      "model_module_version": "1.5.0",
      "model_name": "CheckboxModel",
      "state": {
       "description": "Override base die?",
       "disabled": true,
       "layout": "IPY_MODEL_d8ec065f53f04010a51e86f05f3f8017",
       "style": "IPY_MODEL_30c2aba6c03449a5acc76a97e9ea3c1f",
       "value": false
      }
     },
     "a7f2f1b040bf42798374dedea7cef0a7": {
      "model_module": "@jupyter-widgets/controls",
      "model_module_version": "1.5.0",
      "model_name": "DescriptionStyleModel",
      "state": {
       "description_width": ""
      }
     },
     "a805fec0b76c4fa6b43827bc90a61931": {
      "model_module": "@jupyter-widgets/controls",
      "model_module_version": "1.5.0",
      "model_name": "CheckboxModel",
      "state": {
       "description": "Add a Name?",
       "disabled": true,
       "indent": false,
       "layout": "IPY_MODEL_286b385447f04dc2872d427aafb2e928",
       "style": "IPY_MODEL_fe0ff97172464c88baffe33e7a6f3218",
       "value": false
      }
     },
     "a82834cf912e44319489eff7121302ea": {
      "model_module": "@jupyter-widgets/controls",
      "model_module_version": "1.5.0",
      "model_name": "DescriptionStyleModel",
      "state": {
       "description_width": ""
      }
     },
     "a873df8bb2184adea44f184e382f2bfe": {
      "model_module": "@jupyter-widgets/base",
      "model_module_version": "1.2.0",
      "model_name": "LayoutModel",
      "state": {}
     },
     "a908b9200b594d179308d01c6d1b1bf2": {
      "model_module": "@jupyter-widgets/base",
      "model_module_version": "1.2.0",
      "model_name": "LayoutModel",
      "state": {}
     },
     "a9bbbb215512432cb358d026becef106": {
      "model_module": "@jupyter-widgets/controls",
      "model_module_version": "1.5.0",
      "model_name": "DescriptionStyleModel",
      "state": {
       "description_width": ""
      }
     },
     "a9de115e684d4c54bf9cb703b96e9c8f": {
      "model_module": "@jupyter-widgets/controls",
      "model_module_version": "1.5.0",
      "model_name": "ButtonModel",
      "state": {
       "description": "Create Rule Element",
       "disabled": true,
       "layout": "IPY_MODEL_ba84c308400d4eeca20a9c6a57caefcb",
       "style": "IPY_MODEL_826ddbf31f2540e880b8a133764ded70"
      }
     },
     "aa328e891f8f4f119e079a66ab9b1439": {
      "model_module": "@jupyter-widgets/controls",
      "model_module_version": "1.5.0",
      "model_name": "DropdownModel",
      "state": {
       "_options_labels": [
        "",
        "d4",
        "d6",
        "d8",
        "d10",
        "d12"
       ],
       "description": "Die size:",
       "disabled": true,
       "index": 0,
       "layout": "IPY_MODEL_3c431e31a7b043708ee5dcda2f19ace4",
       "style": "IPY_MODEL_a82834cf912e44319489eff7121302ea"
      }
     },
     "aab60cdf2f204cf9a782ef0f68b471c4": {
      "model_module": "@jupyter-widgets/base",
      "model_module_version": "1.2.0",
      "model_name": "LayoutModel",
      "state": {}
     },
     "aae230e5382f4d39904e706b08bc4fab": {
      "model_module": "@jupyter-widgets/base",
      "model_module_version": "1.2.0",
      "model_name": "LayoutModel",
      "state": {}
     },
     "aaf377e5d7794fd9860f16303a94469c": {
      "model_module": "@jupyter-widgets/controls",
      "model_module_version": "1.5.0",
      "model_name": "SelectMultipleModel",
      "state": {
       "_options_labels": [
        "agile",
        "finesse",
        "rage",
        "unarmed",
        "fear",
        "mental",
        "poison",
        "disease",
        "fear",
        "sweep"
       ],
       "description": "Not",
       "disabled": true,
       "index": [],
       "layout": "IPY_MODEL_7e3dfcadd63a45d3916bf90a8064929e",
       "rows": 5,
       "style": "IPY_MODEL_f0765d7d065a43eba1527ba1d1fb4a71"
      }
     },
     "ab794d12c75a47dda64aa61ef091d2b9": {
      "model_module": "@jupyter-widgets/controls",
      "model_module_version": "1.5.0",
      "model_name": "ButtonModel",
      "state": {
       "description": "Set Selectors",
       "disabled": true,
       "layout": "IPY_MODEL_6584f89e1e7e481a963d89fadc06dd29",
       "style": "IPY_MODEL_a03a0aa1f85042369533be1a90826721"
      }
     },
     "abeaf6256f5a4b51aa3f1fe213ce6d84": {
      "model_module": "@jupyter-widgets/controls",
      "model_module_version": "1.5.0",
      "model_name": "SelectMultipleModel",
      "state": {
       "_options_labels": [
        "agile",
        "attached",
        "backstabber",
        "backswing",
        "brutal",
        "climbing",
        "concealable",
        "conrasu",
        "deadly",
        "disarm",
        "fatal",
        "finesse",
        "forceful",
        "free-hand",
        "grapple",
        "halfling",
        "hampering",
        "jousting",
        "modular",
        "monk",
        "nonlethal",
        "parry",
        "propulsive",
        "range",
        "ranged",
        "trip",
        "reach",
        "reload",
        "shove",
        "sweep",
        "tethered",
        "thrown",
        "trip",
        "twin",
        "two-hand",
        "unarmed",
        "versatile",
        "volley",
        "fear",
        "mental",
        "arcane",
        "divine",
        "occult",
        "primal",
        "abjuration",
        "conjuration",
        "divination",
        "enchantment",
        "evocation",
        "illusion",
        "necromancy",
        "transmutation",
        "auditory",
        "olfactory",
        "visual",
        "acid",
        "cold",
        "electricity",
        "fire",
        "force",
        "negative",
        "positive",
        "sonic",
        "alchemical",
        "contact",
        "ingested",
        "inhaled",
        "injury",
        "poison"
       ],
       "description": "Predicate:All",
       "disabled": true,
       "index": [],
       "layout": "IPY_MODEL_86ef8d8dfdea4cafa2b76dbda2500e52",
       "rows": 15,
       "style": "IPY_MODEL_f0e6accd331d44359807130511de5444"
      }
     },
     "ac038402a3554c4db2efe82811b4ad97": {
      "model_module": "@jupyter-widgets/base",
      "model_module_version": "1.2.0",
      "model_name": "LayoutModel",
      "state": {}
     },
     "acb62afad32d4dfeb866b21ebb6c3d99": {
      "model_module": "@jupyter-widgets/controls",
      "model_module_version": "1.5.0",
      "model_name": "ButtonStyleModel",
      "state": {}
     },
     "acce6d371202400c846f18c1833453f4": {
      "model_module": "@jupyter-widgets/controls",
      "model_module_version": "1.5.0",
      "model_name": "DropdownModel",
      "state": {
       "_options_labels": [
        "",
        "circumstance",
        "item",
        "status"
       ],
       "description": "Type",
       "disabled": true,
       "index": 0,
       "layout": "IPY_MODEL_ef33bb01478f4e8b89c97b4e62ab0f4e",
       "style": "IPY_MODEL_00ff1209315d4cfe9619f1cd37c2140f"
      }
     },
     "ad3a16d88c8c4720ae43ff3c42fd2f5d": {
      "model_module": "@jupyter-widgets/controls",
      "model_module_version": "1.5.0",
      "model_name": "SelectMultipleModel",
      "state": {
       "_options_labels": [
        "agile",
        "attached",
        "backstabber",
        "backswing",
        "brutal",
        "climbing",
        "concealable",
        "conrasu",
        "deadly",
        "disarm",
        "fatal",
        "finesse",
        "forceful",
        "free-hand",
        "grapple",
        "halfling",
        "hampering",
        "jousting",
        "modular",
        "monk",
        "nonlethal",
        "parry",
        "propulsive",
        "range",
        "ranged",
        "trip",
        "reach",
        "reload",
        "shove",
        "sweep",
        "tethered",
        "thrown",
        "trip",
        "twin",
        "two-hand",
        "unarmed",
        "versatile",
        "volley",
        "fear",
        "mental",
        "arcane",
        "divine",
        "occult",
        "primal",
        "abjuration",
        "conjuration",
        "divination",
        "enchantment",
        "evocation",
        "illusion",
        "necromancy",
        "transmutation",
        "auditory",
        "olfactory",
        "visual",
        "acid",
        "cold",
        "electricity",
        "fire",
        "force",
        "negative",
        "positive",
        "sonic",
        "alchemical",
        "contact",
        "ingested",
        "inhaled",
        "injury",
        "poison"
       ],
       "description": "Not",
       "disabled": true,
       "index": [],
       "layout": "IPY_MODEL_f8cb6037f60f4c6f82f258d7aae7a8a7",
       "rows": 15,
       "style": "IPY_MODEL_c57e3cfacd1e4fb29b951d927049d983"
      }
     },
     "ad530886dc564e70a35fec48ea08d617": {
      "model_module": "@jupyter-widgets/controls",
      "model_module_version": "1.5.0",
      "model_name": "ButtonModel",
      "state": {
       "description": "Select Key",
       "layout": "IPY_MODEL_d44e26fda95a43fa8090bbaae31373c1",
       "style": "IPY_MODEL_c429a437c994432b9d0359f02e228bb5"
      }
     },
     "ad64ac5cca1e4d7d910aea21d5c54d50": {
      "model_module": "@jupyter-widgets/base",
      "model_module_version": "1.2.0",
      "model_name": "LayoutModel",
      "state": {}
     },
     "aef408f529b14557bb9c4e2c4070cae8": {
      "model_module": "@jupyter-widgets/controls",
      "model_module_version": "1.5.0",
      "model_name": "ButtonStyleModel",
      "state": {}
     },
     "af2a611ffc0049788f618d37d9096a22": {
      "model_module": "@jupyter-widgets/base",
      "model_module_version": "1.2.0",
      "model_name": "LayoutModel",
      "state": {}
     },
     "af743c7ffbad47d28a44eef33b966c7d": {
      "model_module": "@jupyter-widgets/controls",
      "model_module_version": "1.5.0",
      "model_name": "ButtonModel",
      "state": {
       "description": "Select Key",
       "layout": "IPY_MODEL_32b114007c8d4996bbbbd2745962464f",
       "style": "IPY_MODEL_e80f792bf4814870b1949a3e916f82c2"
      }
     },
     "af97f03f195d4a56911609477cb8211a": {
      "model_module": "@jupyter-widgets/controls",
      "model_module_version": "1.5.0",
      "model_name": "DropdownModel",
      "state": {
       "_options_labels": [
        "Flat Modifier",
        "Damage Dice",
        "Weapon Potency",
        "Striking rune",
        "Multi Attack Penalty"
       ],
       "description": "Key:",
       "index": 0,
       "layout": "IPY_MODEL_5fe5e2ebd6134b248bf9b74bcc4d3f45",
       "style": "IPY_MODEL_36bc06fb49f64f6e97edd7b296c62428"
      }
     },
     "b03fe707eb96407b897c0c1e44a7cecb": {
      "model_module": "@jupyter-widgets/controls",
      "model_module_version": "1.5.0",
      "model_name": "ButtonModel",
      "state": {
       "description": "Reset",
       "layout": "IPY_MODEL_7809400646b04dffb7dec542d0f5dc1d",
       "style": "IPY_MODEL_08794538753a4dd4801f269bc0504820"
      }
     },
     "b0e36feeabdd4f8b82c5e92357f7137a": {
      "model_module": "@jupyter-widgets/controls",
      "model_module_version": "1.5.0",
      "model_name": "DropdownModel",
      "state": {
       "_options_labels": [
        "",
        "slashing",
        "piercing",
        "bludgeoning",
        "precision",
        "fire",
        "cold",
        "electricity",
        "acid",
        "poison",
        "sonic",
        "force",
        "mental",
        "lawful",
        "chaotic",
        "good",
        "evil",
        "positive",
        "negative"
       ],
       "description": "Damage type",
       "disabled": true,
       "index": 0,
       "layout": "IPY_MODEL_fba4779a217b4f63a6d87e66dc5d6d3b",
       "style": "IPY_MODEL_67b6a7185be54c2190cd72be385f6558"
      }
     },
     "b10f569f86e04586bb7807abf1f1627f": {
      "model_module": "@jupyter-widgets/controls",
      "model_module_version": "1.5.0",
      "model_name": "ButtonModel",
      "state": {
       "description": "Set Selectors",
       "disabled": true,
       "layout": "IPY_MODEL_84433b7d2adc4025ba579104395d4e83",
       "style": "IPY_MODEL_92f18bb84b2544ccbd43873dbde11cea"
      }
     },
     "b142625767be4561846e3c93976879da": {
      "model_module": "@jupyter-widgets/controls",
      "model_module_version": "1.5.0",
      "model_name": "DropdownModel",
      "state": {
       "_options_labels": [
        "",
        "circumstance",
        "item",
        "status"
       ],
       "description": "Type",
       "disabled": true,
       "index": 0,
       "layout": "IPY_MODEL_ef292cafa2c247818724b67f67c21534",
       "style": "IPY_MODEL_48d1d4ac07cf4794828057a4977b18a6"
      }
     },
     "b14f7e9d0b7a403aa3fad37f8fcc0231": {
      "model_module": "@jupyter-widgets/controls",
      "model_module_version": "1.5.0",
      "model_name": "DescriptionStyleModel",
      "state": {
       "description_width": ""
      }
     },
     "b1603baf4e3f40708e40d2ff23c4ec62": {
      "model_module": "@jupyter-widgets/controls",
      "model_module_version": "1.5.0",
      "model_name": "SelectMultipleModel",
      "state": {
       "_options_labels": [
        "agile",
        "attached",
        "backstabber",
        "backswing",
        "brutal",
        "climbing",
        "concealable",
        "conrasu",
        "deadly",
        "disarm",
        "fatal",
        "finesse",
        "forceful",
        "free-hand",
        "grapple",
        "halfling",
        "hampering",
        "jousting",
        "modular",
        "monk",
        "nonlethal",
        "parry",
        "propulsive",
        "range",
        "ranged",
        "trip",
        "reach",
        "reload",
        "shove",
        "sweep",
        "tethered",
        "thrown",
        "trip",
        "twin",
        "two-hand",
        "unarmed",
        "versatile",
        "volley",
        "fear",
        "mental",
        "arcane",
        "divine",
        "occult",
        "primal",
        "abjuration",
        "conjuration",
        "divination",
        "enchantment",
        "evocation",
        "illusion",
        "necromancy",
        "transmutation",
        "auditory",
        "olfactory",
        "visual",
        "acid",
        "cold",
        "electricity",
        "fire",
        "force",
        "negative",
        "positive",
        "sonic",
        "alchemical",
        "contact",
        "ingested",
        "inhaled",
        "injury",
        "poison"
       ],
       "description": "Predicate:All",
       "disabled": true,
       "index": [],
       "layout": "IPY_MODEL_3c747a1883e1446c98f19a9e26e1c536",
       "rows": 15,
       "style": "IPY_MODEL_7e34937150094f03b9043cf9a02e0770"
      }
     },
     "b1657408ab4b4d569dc81ce8abee1384": {
      "model_module": "@jupyter-widgets/controls",
      "model_module_version": "1.5.0",
      "model_name": "DropdownModel",
      "state": {
       "_options_labels": [
        "",
        "d4",
        "d6",
        "d8",
        "d10",
        "d12"
       ],
       "description": "Die size:",
       "disabled": true,
       "index": 0,
       "layout": "IPY_MODEL_7dcc1986f3c344d2b3bb8c69c6b6fe88",
       "style": "IPY_MODEL_c7fcc900e40249f5b573cf500238841b"
      }
     },
     "b170d601ec8043b5948f32d03dd8f08d": {
      "model_module": "@jupyter-widgets/controls",
      "model_module_version": "1.5.0",
      "model_name": "DescriptionStyleModel",
      "state": {
       "description_width": ""
      }
     },
     "b18a541387614ac58d2cab23c50c9ef5": {
      "model_module": "@jupyter-widgets/base",
      "model_module_version": "1.2.0",
      "model_name": "LayoutModel",
      "state": {}
     },
     "b1b5ad3c923b40a5986a7deb543defc2": {
      "model_module": "@jupyter-widgets/controls",
      "model_module_version": "1.5.0",
      "model_name": "DescriptionStyleModel",
      "state": {
       "description_width": ""
      }
     },
     "b223f2d281d84eaf9f2340500424f28c": {
      "model_module": "@jupyter-widgets/controls",
      "model_module_version": "1.5.0",
      "model_name": "DescriptionStyleModel",
      "state": {
       "description_width": ""
      }
     },
     "b2b75f0d4f584be38994cbf0a8dad053": {
      "model_module": "@jupyter-widgets/base",
      "model_module_version": "1.2.0",
      "model_name": "LayoutModel",
      "state": {}
     },
     "b2c7db5de76e4743a40bf0ffe3881a22": {
      "model_module": "@jupyter-widgets/controls",
      "model_module_version": "1.5.0",
      "model_name": "BoxModel",
      "state": {
       "children": [
        "IPY_MODEL_3c38df35096b49d28110c213e1d6adf5",
        "IPY_MODEL_4da1358a9e4a4179bc8b9e4057512cdb",
        "IPY_MODEL_8cfd9368587446359f8d44830fab8646"
       ],
       "layout": "IPY_MODEL_6672c7b643a84387aad338161ea8eef9"
      }
     },
     "b2ff55da1a9446369f44ddfd53e76cc0": {
      "model_module": "@jupyter-widgets/base",
      "model_module_version": "1.2.0",
      "model_name": "LayoutModel",
      "state": {}
     },
     "b3c687374f294cbb9ebef59b58b02349": {
      "model_module": "@jupyter-widgets/controls",
      "model_module_version": "1.5.0",
      "model_name": "CheckboxModel",
      "state": {
       "description": "Override base die?",
       "disabled": true,
       "layout": "IPY_MODEL_7fe5de280d3d4fe793960ca21e11fd71",
       "style": "IPY_MODEL_d2547e88937d4d92afe6b14badfd6d9a",
       "value": false
      }
     },
     "b458af399a8e483d8e23111e9a7ec152": {
      "model_module": "@jupyter-widgets/controls",
      "model_module_version": "1.5.0",
      "model_name": "DropdownModel",
      "state": {
       "_options_labels": [
        "",
        "slashing",
        "piercing",
        "bludgeoning",
        "precision",
        "fire",
        "cold",
        "electricity",
        "acid",
        "poison",
        "sonic",
        "force",
        "mental",
        "lawful",
        "chaotic",
        "good",
        "evil",
        "positive",
        "negative"
       ],
       "description": "Damage type",
       "disabled": true,
       "index": 0,
       "layout": "IPY_MODEL_8a72afdb482440caa6afee15b2716ad9",
       "style": "IPY_MODEL_7b9dc4c92c254ac8ac1e10fefce7742b"
      }
     },
     "b45d67db2cb5476e834628547ad4ba85": {
      "model_module": "@jupyter-widgets/controls",
      "model_module_version": "1.5.0",
      "model_name": "DescriptionStyleModel",
      "state": {
       "description_width": ""
      }
     },
     "b4ac6a6390d4420995cd7c6a113ab870": {
      "model_module": "@jupyter-widgets/controls",
      "model_module_version": "1.5.0",
      "model_name": "IntTextModel",
      "state": {
       "description": "Value:",
       "disabled": true,
       "layout": "IPY_MODEL_d392ee54252d4833aab02f3d5fa0a4b7",
       "step": 1,
       "style": "IPY_MODEL_0dc2cc590b194813963e054d30b8e34f"
      }
     },
     "b4c502ac0bff4a449239dd45422c79e5": {
      "model_module": "@jupyter-widgets/controls",
      "model_module_version": "1.5.0",
      "model_name": "IntTextModel",
      "state": {
       "description": "Value:",
       "disabled": true,
       "layout": "IPY_MODEL_971a486a3e0745fc933a3297af5223a5",
       "step": 1,
       "style": "IPY_MODEL_19664b6804aa483a90cfae381e64aa3d"
      }
     },
     "b5163d6084dc4334bb890e7497779635": {
      "model_module": "@jupyter-widgets/controls",
      "model_module_version": "1.5.0",
      "model_name": "ButtonStyleModel",
      "state": {}
     },
     "b6165260f04446a39e6f9b059d17a321": {
      "model_module": "@jupyter-widgets/base",
      "model_module_version": "1.2.0",
      "model_name": "LayoutModel",
      "state": {}
     },
     "b62207419e07410a9e8e140359e56fa3": {
      "model_module": "@jupyter-widgets/base",
      "model_module_version": "1.2.0",
      "model_name": "LayoutModel",
      "state": {}
     },
     "b67315909e804bbead5c5b0994883283": {
      "model_module": "@jupyter-widgets/controls",
      "model_module_version": "1.5.0",
      "model_name": "CheckboxModel",
      "state": {
       "description": "Add a label?",
       "disabled": true,
       "indent": false,
       "layout": "IPY_MODEL_109786b61a36466cb7ce2f082d74f670",
       "style": "IPY_MODEL_6c46d2b2db5246c39968e97becd3c07e",
       "value": false
      }
     },
     "b676183f78c04baebb24548248cd144c": {
      "model_module": "@jupyter-widgets/base",
      "model_module_version": "1.2.0",
      "model_name": "LayoutModel",
      "state": {}
     },
     "b6b49968b095426e8205f927739cd3e1": {
      "model_module": "@jupyter-widgets/base",
      "model_module_version": "1.2.0",
      "model_name": "LayoutModel",
      "state": {}
     },
     "b6bae87a7c404c2db1825e6826ce6cd2": {
      "model_module": "@jupyter-widgets/controls",
      "model_module_version": "1.5.0",
      "model_name": "DescriptionStyleModel",
      "state": {
       "description_width": ""
      }
     },
     "b73737319b74436a963063b8a669390b": {
      "model_module": "@jupyter-widgets/controls",
      "model_module_version": "1.5.0",
      "model_name": "DescriptionStyleModel",
      "state": {
       "description_width": ""
      }
     },
     "b766b13964204a7e9d2d5004d75988e4": {
      "model_module": "@jupyter-widgets/base",
      "model_module_version": "1.2.0",
      "model_name": "LayoutModel",
      "state": {}
     },
     "b7e6619262b14341bf2f6600f47e781f": {
      "model_module": "@jupyter-widgets/controls",
      "model_module_version": "1.5.0",
      "model_name": "DescriptionStyleModel",
      "state": {
       "description_width": ""
      }
     },
     "b884069504ac47d49e393e09119b00ba": {
      "model_module": "@jupyter-widgets/base",
      "model_module_version": "1.2.0",
      "model_name": "LayoutModel",
      "state": {}
     },
     "b89f83faa1ac41718b443b0252b53a69": {
      "model_module": "@jupyter-widgets/controls",
      "model_module_version": "1.5.0",
      "model_name": "DescriptionStyleModel",
      "state": {
       "description_width": ""
      }
     },
     "b91d2089f00d4f05a0b0d3ffba1a4ed9": {
      "model_module": "@jupyter-widgets/base",
      "model_module_version": "1.2.0",
      "model_name": "LayoutModel",
      "state": {}
     },
     "b91ed4120db3476c94f14d44e8d0a84c": {
      "model_module": "@jupyter-widgets/base",
      "model_module_version": "1.2.0",
      "model_name": "LayoutModel",
      "state": {}
     },
     "b92c24c52c9444b29f45402f5f15fcfd": {
      "model_module": "@jupyter-widgets/controls",
      "model_module_version": "1.5.0",
      "model_name": "DescriptionStyleModel",
      "state": {
       "description_width": ""
      }
     },
     "b98590a23e91480381cca692b50bf478": {
      "model_module": "@jupyter-widgets/controls",
      "model_module_version": "1.5.0",
      "model_name": "CheckboxModel",
      "state": {
       "description": "Override base die?",
       "disabled": true,
       "layout": "IPY_MODEL_4ccc620f50874b74a1cf5e3e7550e4a4",
       "style": "IPY_MODEL_5d055fef6b124395aa55ed47aed3016e",
       "value": false
      }
     },
     "b9b489072eac46b68de08fbb0ae6ffe8": {
      "model_module": "@jupyter-widgets/controls",
      "model_module_version": "1.5.0",
      "model_name": "ButtonStyleModel",
      "state": {}
     },
     "b9f0f6f2e66b4f129eae3e0b56bf57f1": {
      "model_module": "@jupyter-widgets/controls",
      "model_module_version": "1.5.0",
      "model_name": "DropdownModel",
      "state": {
       "_options_labels": [
        "all",
        "str-based",
        "dex-based",
        "con-based",
        "int-based",
        "wis-based",
        "cha-based",
        "attack",
        "spell-attack",
        "attack-roll",
        "str-attack",
        "dex-attack",
        "con-attack",
        "int-attack",
        "wis-attack",
        "cha-attack",
        "damage",
        "saving-throw",
        "fortitude",
        "reflex",
        "will",
        "initiative",
        "perception",
        "class",
        "ac",
        "hp",
        "hp-per-level",
        "speed",
        "land-speed",
        "burrow-speed",
        "climb-speed",
        "fly-speed",
        "swim-speed",
        "skill-check",
        "acrobatics",
        "arcana",
        "athletics",
        "crafting",
        "deception",
        "diplomacy",
        "intimidation",
        "medicine",
        "nature",
        "occultism",
        "performance",
        "religion",
        "society",
        "stealth",
        "survival",
        "thievery"
       ],
       "description": "Selector",
       "disabled": true,
       "index": 0,
       "layout": "IPY_MODEL_d409681dac954bb8ac3c6428a605ab2e",
       "style": "IPY_MODEL_a9bbbb215512432cb358d026becef106"
      }
     },
     "ba39e30ee45a4026bd8efb3805bbce95": {
      "model_module": "@jupyter-widgets/controls",
      "model_module_version": "1.5.0",
      "model_name": "DescriptionStyleModel",
      "state": {
       "description_width": ""
      }
     },
     "ba84c308400d4eeca20a9c6a57caefcb": {
      "model_module": "@jupyter-widgets/base",
      "model_module_version": "1.2.0",
      "model_name": "LayoutModel",
      "state": {}
     },
     "ba9ebb276d6543158e3be0ecc00143b9": {
      "model_module": "@jupyter-widgets/base",
      "model_module_version": "1.2.0",
      "model_name": "LayoutModel",
      "state": {}
     },
     "bae260b0713c4738b3bd84fa00dafd57": {
      "model_module": "@jupyter-widgets/controls",
      "model_module_version": "1.5.0",
      "model_name": "DescriptionStyleModel",
      "state": {
       "description_width": ""
      }
     },
     "bb2e4769e6b14d748ea872cdfff38747": {
      "model_module": "@jupyter-widgets/base",
      "model_module_version": "1.2.0",
      "model_name": "LayoutModel",
      "state": {}
     },
     "bc1bd612757e4dee815cd2601ae14b5d": {
      "model_module": "@jupyter-widgets/controls",
      "model_module_version": "1.5.0",
      "model_name": "SelectMultipleModel",
      "state": {
       "_options_labels": [
        "agile",
        "attached",
        "backstabber",
        "backswing",
        "brutal",
        "climbing",
        "concealable",
        "conrasu",
        "deadly",
        "disarm",
        "fatal",
        "finesse",
        "forceful",
        "free-hand",
        "grapple",
        "halfling",
        "hampering",
        "jousting",
        "modular",
        "monk",
        "nonlethal",
        "parry",
        "propulsive",
        "range",
        "ranged",
        "trip",
        "reach",
        "reload",
        "shove",
        "sweep",
        "tethered",
        "thrown",
        "trip",
        "twin",
        "two-hand",
        "unarmed",
        "versatile",
        "volley",
        "fear",
        "mental",
        "arcane",
        "divine",
        "occult",
        "primal",
        "abjuration",
        "conjuration",
        "divination",
        "enchantment",
        "evocation",
        "illusion",
        "necromancy",
        "transmutation",
        "auditory",
        "olfactory",
        "visual",
        "acid",
        "cold",
        "electricity",
        "fire",
        "force",
        "negative",
        "positive",
        "sonic",
        "alchemical",
        "contact",
        "ingested",
        "inhaled",
        "injury",
        "poison"
       ],
       "description": "Predicate:All",
       "disabled": true,
       "index": [],
       "layout": "IPY_MODEL_54ca26e265854d538cb8aefe216d39a0",
       "rows": 15,
       "style": "IPY_MODEL_19125743e44e4bc88e984677ab929a18"
      }
     },
     "bdc0fe1a4c8142d3915245e6e67667be": {
      "model_module": "@jupyter-widgets/base",
      "model_module_version": "1.2.0",
      "model_name": "LayoutModel",
      "state": {}
     },
     "bdfad70791b84b6393901d81ed8218ca": {
      "model_module": "@jupyter-widgets/controls",
      "model_module_version": "1.5.0",
      "model_name": "CheckboxModel",
      "state": {
       "description": "Add a Name?",
       "disabled": true,
       "layout": "IPY_MODEL_918e0a7f0dfa4fd2b8d9f84bd88ebee1",
       "style": "IPY_MODEL_c01af1959973408bb42a8d4a8cb2fd2d",
       "value": false
      }
     },
     "be637fcd6745407fb321bcc9b656aa5b": {
      "model_module": "@jupyter-widgets/controls",
      "model_module_version": "1.5.0",
      "model_name": "IntTextModel",
      "state": {
       "description": "Number of dice:",
       "disabled": true,
       "layout": "IPY_MODEL_3df1a38fd94242a8bd9fc80d70f45010",
       "step": 1,
       "style": "IPY_MODEL_ba39e30ee45a4026bd8efb3805bbce95"
      }
     },
     "be7ebc40129348999d1c65cd0ede050e": {
      "model_module": "@jupyter-widgets/base",
      "model_module_version": "1.2.0",
      "model_name": "LayoutModel",
      "state": {}
     },
     "bf103e94779542dc91c29371554ac881": {
      "model_module": "@jupyter-widgets/controls",
      "model_module_version": "1.5.0",
      "model_name": "ButtonStyleModel",
      "state": {}
     },
     "bf13a5e8f674407f9ef8d5a6c1d7d329": {
      "model_module": "@jupyter-widgets/base",
      "model_module_version": "1.2.0",
      "model_name": "LayoutModel",
      "state": {}
     },
     "bf6266f7fdc540dab73ab3d84e026917": {
      "model_module": "@jupyter-widgets/base",
      "model_module_version": "1.2.0",
      "model_name": "LayoutModel",
      "state": {}
     },
     "bf71c485264a4e6493a8b9cb04125215": {
      "model_module": "@jupyter-widgets/controls",
      "model_module_version": "1.5.0",
      "model_name": "DescriptionStyleModel",
      "state": {
       "description_width": ""
      }
     },
     "bfc4a604f40b430883dbbb7a6dba52d9": {
      "model_module": "@jupyter-widgets/controls",
      "model_module_version": "1.5.0",
      "model_name": "DropdownModel",
      "state": {
       "_options_labels": [
        "no advanced selector",
        "Only this item",
        "swords",
        "bows",
        "knives",
        "spears",
        "axes",
        "hammers",
        "picks",
        "flails",
        "brawling",
        "polearms",
        "sling",
        "bombs",
        "shields",
        "darts",
        "clubs"
       ],
       "description": "Advanced Selector",
       "disabled": true,
       "index": 0,
       "layout": "IPY_MODEL_caefd260384a48788a20c29180b12ed0",
       "style": "IPY_MODEL_a04e342bc3bb480288a271708305e58e"
      }
     },
     "bfdd29451434411aab3127830458c9e2": {
      "model_module": "@jupyter-widgets/controls",
      "model_module_version": "1.5.0",
      "model_name": "DropdownModel",
      "state": {
       "_options_labels": [
        "no advanced selector",
        "Only this item",
        "swords",
        "bows",
        "knives",
        "spears",
        "axes",
        "hammers",
        "picks",
        "flails",
        "brawling",
        "polearms",
        "sling",
        "bombs",
        "shields",
        "darts",
        "clubs"
       ],
       "description": "Advanced Selector",
       "disabled": true,
       "index": 0,
       "layout": "IPY_MODEL_1351299529c640179efb28da9502cc86",
       "style": "IPY_MODEL_867c4f64527e423b8593579e8b17ae73"
      }
     },
     "bfe09f62077d44f2a40b3cbd3554a3ad": {
      "model_module": "@jupyter-widgets/controls",
      "model_module_version": "1.5.0",
      "model_name": "DescriptionStyleModel",
      "state": {
       "description_width": ""
      }
     },
     "bffb03ac18b044a59cfd3fa655127403": {
      "model_module": "@jupyter-widgets/base",
      "model_module_version": "1.2.0",
      "model_name": "LayoutModel",
      "state": {}
     },
     "c016e2274f0d46d6bf55a301548d8c9b": {
      "model_module": "@jupyter-widgets/controls",
      "model_module_version": "1.5.0",
      "model_name": "DescriptionStyleModel",
      "state": {
       "description_width": ""
      }
     },
     "c01af1959973408bb42a8d4a8cb2fd2d": {
      "model_module": "@jupyter-widgets/controls",
      "model_module_version": "1.5.0",
      "model_name": "DescriptionStyleModel",
      "state": {
       "description_width": ""
      }
     },
     "c18c86945598453d9cb56c9f3ff04820": {
      "model_module": "@jupyter-widgets/controls",
      "model_module_version": "1.5.0",
      "model_name": "DescriptionStyleModel",
      "state": {
       "description_width": ""
      }
     },
     "c19f26ecd9944619ba71cc8a299ba072": {
      "model_module": "@jupyter-widgets/base",
      "model_module_version": "1.2.0",
      "model_name": "LayoutModel",
      "state": {}
     },
     "c1a69db7a7704660b80be435856d1633": {
      "model_module": "@jupyter-widgets/controls",
      "model_module_version": "1.5.0",
      "model_name": "ButtonStyleModel",
      "state": {}
     },
     "c1a8a2a78d4f48b6b52179710873ac5c": {
      "model_module": "@jupyter-widgets/controls",
      "model_module_version": "1.5.0",
      "model_name": "DescriptionStyleModel",
      "state": {
       "description_width": ""
      }
     },
     "c22711a015704fce9012d9198a5578ba": {
      "model_module": "@jupyter-widgets/controls",
      "model_module_version": "1.5.0",
      "model_name": "DescriptionStyleModel",
      "state": {
       "description_width": ""
      }
     },
     "c394516a1e23400bb6b1f5dabb60f18c": {
      "model_module": "@jupyter-widgets/controls",
      "model_module_version": "1.5.0",
      "model_name": "ButtonModel",
      "state": {
       "description": "Create Rule Element",
       "disabled": true,
       "layout": "IPY_MODEL_3abd349e75c94c0a854c41ff68e5714b",
       "style": "IPY_MODEL_caacd3c7e0644130b0c4f2d2e38dbb07"
      }
     },
     "c412742cc0b14b1dac6e24dbf1c72736": {
      "model_module": "@jupyter-widgets/controls",
      "model_module_version": "1.5.0",
      "model_name": "ButtonStyleModel",
      "state": {}
     },
     "c429a437c994432b9d0359f02e228bb5": {
      "model_module": "@jupyter-widgets/controls",
      "model_module_version": "1.5.0",
      "model_name": "ButtonStyleModel",
      "state": {}
     },
     "c429affe66cf4578a9dedfde2cec38db": {
      "model_module": "@jupyter-widgets/base",
      "model_module_version": "1.2.0",
      "model_name": "LayoutModel",
      "state": {}
     },
     "c4590e86902d461984f70861e83f52a0": {
      "model_module": "@jupyter-widgets/controls",
      "model_module_version": "1.5.0",
      "model_name": "DescriptionStyleModel",
      "state": {
       "description_width": ""
      }
     },
     "c46b7b4914664d52b05d28a48335a8a6": {
      "model_module": "@jupyter-widgets/controls",
      "model_module_version": "1.5.0",
      "model_name": "DescriptionStyleModel",
      "state": {
       "description_width": ""
      }
     },
     "c47497b466444ac2a4c6816cd6c710ee": {
      "model_module": "@jupyter-widgets/controls",
      "model_module_version": "1.5.0",
      "model_name": "DescriptionStyleModel",
      "state": {
       "description_width": ""
      }
     },
     "c48367dc7c034a6fb3f3f6b6bf56cb01": {
      "model_module": "@jupyter-widgets/controls",
      "model_module_version": "1.5.0",
      "model_name": "CheckboxModel",
      "state": {
       "description": "Add a label?",
       "disabled": true,
       "layout": "IPY_MODEL_df932bc4362a48228d456cb1cd90eb3c",
       "style": "IPY_MODEL_2f623dbd987c479f8cc93becb8c06732",
       "value": false
      }
     },
     "c4a0d667125f4386af30023716030a9a": {
      "model_module": "@jupyter-widgets/controls",
      "model_module_version": "1.5.0",
      "model_name": "SelectMultipleModel",
      "state": {
       "_options_labels": [
        "agile",
        "finesse",
        "rage",
        "unarmed",
        "fear",
        "mental",
        "poison",
        "disease",
        "fear",
        "sweep"
       ],
       "description": "Any",
       "disabled": true,
       "index": [],
       "layout": "IPY_MODEL_32bd21e2bf57428592978533aaa75f9c",
       "rows": 5,
       "style": "IPY_MODEL_0c787e311f804f9e9e67ba9ee3e0f62c"
      }
     },
     "c52f93a540c74f25abc1866d5744bbdd": {
      "model_module": "@jupyter-widgets/controls",
      "model_module_version": "1.5.0",
      "model_name": "DescriptionStyleModel",
      "state": {
       "description_width": ""
      }
     },
     "c5747471728f4c4da6db7432386d6693": {
      "model_module": "@jupyter-widgets/controls",
      "model_module_version": "1.5.0",
      "model_name": "DropdownModel",
      "state": {
       "_options_labels": [
        "",
        "d4",
        "d6",
        "d8",
        "d10",
        "d12"
       ],
       "description": "Die size:",
       "disabled": true,
       "index": 0,
       "layout": "IPY_MODEL_8181e4a1e2fb454a89f6783fea985e48",
       "style": "IPY_MODEL_03ac1780a0f140059cd73992fae1241f"
      }
     },
     "c57e3cfacd1e4fb29b951d927049d983": {
      "model_module": "@jupyter-widgets/controls",
      "model_module_version": "1.5.0",
      "model_name": "DescriptionStyleModel",
      "state": {
       "description_width": ""
      }
     },
     "c5dce920fd6841cc82cef9dcc8053862": {
      "model_module": "@jupyter-widgets/controls",
      "model_module_version": "1.5.0",
      "model_name": "DescriptionStyleModel",
      "state": {
       "description_width": ""
      }
     },
     "c5f5e19bdc5d42a0b7998992d9ff752b": {
      "model_module": "@jupyter-widgets/controls",
      "model_module_version": "1.5.0",
      "model_name": "DescriptionStyleModel",
      "state": {
       "description_width": ""
      }
     },
     "c63a68c180224a33a7bf846bfb48027e": {
      "model_module": "@jupyter-widgets/controls",
      "model_module_version": "1.5.0",
      "model_name": "IntTextModel",
      "state": {
       "description": "Value:",
       "disabled": true,
       "layout": "IPY_MODEL_3294cd4e9cb14398b59853596f3d4061",
       "step": 1,
       "style": "IPY_MODEL_1c811cb156714eb1ba4d6090f71629bf"
      }
     },
     "c647711f12094306adac45c18d3abcd2": {
      "model_module": "@jupyter-widgets/controls",
      "model_module_version": "1.5.0",
      "model_name": "DescriptionStyleModel",
      "state": {
       "description_width": ""
      }
     },
     "c6bb8a505c0c48d4bef9f43681f1795a": {
      "model_module": "@jupyter-widgets/controls",
      "model_module_version": "1.5.0",
      "model_name": "ButtonModel",
      "state": {
       "description": "Create Rule Element",
       "disabled": true,
       "layout": "IPY_MODEL_7ef991cb912f43fc81ec4ae87c98f0fd",
       "style": "IPY_MODEL_66af9538ac254cffb4c73841799b511a"
      }
     },
     "c6bdd3e8bc434c2f9265bf22a4018fdd": {
      "model_module": "@jupyter-widgets/controls",
      "model_module_version": "1.5.0",
      "model_name": "SelectMultipleModel",
      "state": {
       "_options_labels": [
        "agile",
        "finesse",
        "rage",
        "unarmed",
        "fear",
        "mental",
        "poison",
        "disease",
        "fear",
        "sweep"
       ],
       "description": "Not",
       "disabled": true,
       "index": [],
       "layout": "IPY_MODEL_32099a0a88a74a48a53519f6f566d8c0",
       "rows": 5,
       "style": "IPY_MODEL_55d1911dcba448c7bd9bbfa0252e4d93"
      }
     },
     "c6c65d0d282342ecb1df2c6bb7ae1a05": {
      "model_module": "@jupyter-widgets/controls",
      "model_module_version": "1.5.0",
      "model_name": "ButtonStyleModel",
      "state": {}
     },
     "c7f5973cae8d47b19d21252da384a08a": {
      "model_module": "@jupyter-widgets/controls",
      "model_module_version": "1.5.0",
      "model_name": "DropdownModel",
      "state": {
       "_options_labels": [
        "",
        "d4",
        "d6",
        "d8",
        "d10",
        "d12"
       ],
       "description": "Die size:",
       "disabled": true,
       "index": 0,
       "layout": "IPY_MODEL_b91d2089f00d4f05a0b0d3ffba1a4ed9",
       "style": "IPY_MODEL_60969c72f106458caa01a83782d0c366"
      }
     },
     "c7fcc900e40249f5b573cf500238841b": {
      "model_module": "@jupyter-widgets/controls",
      "model_module_version": "1.5.0",
      "model_name": "DescriptionStyleModel",
      "state": {
       "description_width": ""
      }
     },
     "c815b1c37b69438c8d28737e59b2ffb5": {
      "model_module": "@jupyter-widgets/base",
      "model_module_version": "1.2.0",
      "model_name": "LayoutModel",
      "state": {}
     },
     "c8b822721ec442348b7fa7886159784c": {
      "model_module": "@jupyter-widgets/controls",
      "model_module_version": "1.5.0",
      "model_name": "DescriptionStyleModel",
      "state": {
       "description_width": ""
      }
     },
     "c8d37ab77e9d4cfdb5fa7a7eba485c29": {
      "model_module": "@jupyter-widgets/controls",
      "model_module_version": "1.5.0",
      "model_name": "CheckboxModel",
      "state": {
       "description": "Override base damage?",
       "disabled": true,
       "layout": "IPY_MODEL_9625930394354e37913c1b955daaaf1a",
       "style": "IPY_MODEL_5c1bb568476b439a89e7afa30cfceae2",
       "value": false
      }
     },
     "c8ead30990e1464ba1d8a1fd7ee4602c": {
      "model_module": "@jupyter-widgets/controls",
      "model_module_version": "1.5.0",
      "model_name": "DescriptionStyleModel",
      "state": {
       "description_width": ""
      }
     },
     "c9421022aaca4859bcdebd04a09fb161": {
      "model_module": "@jupyter-widgets/controls",
      "model_module_version": "1.5.0",
      "model_name": "DescriptionStyleModel",
      "state": {
       "description_width": ""
      }
     },
     "c95d4a364acc41d2a9f7bdd7299d7686": {
      "model_module": "@jupyter-widgets/base",
      "model_module_version": "1.2.0",
      "model_name": "LayoutModel",
      "state": {}
     },
     "c9f19a55f16e448abb9eeb186f5b051e": {
      "model_module": "@jupyter-widgets/base",
      "model_module_version": "1.2.0",
      "model_name": "LayoutModel",
      "state": {}
     },
     "caacd3c7e0644130b0c4f2d2e38dbb07": {
      "model_module": "@jupyter-widgets/controls",
      "model_module_version": "1.5.0",
      "model_name": "ButtonStyleModel",
      "state": {}
     },
     "cab75e3dad714e1ca578ceb3dc74b27b": {
      "model_module": "@jupyter-widgets/controls",
      "model_module_version": "1.5.0",
      "model_name": "ButtonStyleModel",
      "state": {}
     },
     "caefd260384a48788a20c29180b12ed0": {
      "model_module": "@jupyter-widgets/base",
      "model_module_version": "1.2.0",
      "model_name": "LayoutModel",
      "state": {}
     },
     "cb209d09cff54dadb9534a6ef2c98877": {
      "model_module": "@jupyter-widgets/controls",
      "model_module_version": "1.5.0",
      "model_name": "CheckboxModel",
      "state": {
       "description": "Add a Name?",
       "disabled": true,
       "layout": "IPY_MODEL_1dd20c25faab4c3f99795a21a1a8168a",
       "style": "IPY_MODEL_cd9b99fc389448d0af794c9781548b54",
       "value": false
      }
     },
     "cb22921bc02f45319c54839fc4218ff2": {
      "model_module": "@jupyter-widgets/controls",
      "model_module_version": "1.5.0",
      "model_name": "SelectMultipleModel",
      "state": {
       "_options_labels": [
        "agile",
        "finesse",
        "rage",
        "unarmed",
        "fear",
        "mental",
        "poison",
        "disease",
        "fear",
        "sweep"
       ],
       "description": "Not",
       "disabled": true,
       "index": [],
       "layout": "IPY_MODEL_9555fba9ab5f402ab10b920ce606a000",
       "rows": 5,
       "style": "IPY_MODEL_b73737319b74436a963063b8a669390b"
      }
     },
     "cb384d7bb01b4fae9af53c64e5e2a91f": {
      "model_module": "@jupyter-widgets/base",
      "model_module_version": "1.2.0",
      "model_name": "LayoutModel",
      "state": {}
     },
     "cbcd9b68784c42429ec966b5ba572b52": {
      "model_module": "@jupyter-widgets/controls",
      "model_module_version": "1.5.0",
      "model_name": "CheckboxModel",
      "state": {
       "description": "Add a label?",
       "disabled": true,
       "layout": "IPY_MODEL_03c9b9244fb04cba9b5bec74346eadc3",
       "style": "IPY_MODEL_c5f5e19bdc5d42a0b7998992d9ff752b",
       "value": false
      }
     },
     "cc5aaf03852a4c9aa8d3e0aefc7388c5": {
      "model_module": "@jupyter-widgets/controls",
      "model_module_version": "1.5.0",
      "model_name": "DescriptionStyleModel",
      "state": {
       "description_width": ""
      }
     },
     "cc8e095d598b4f098ac7e34e40918035": {
      "model_module": "@jupyter-widgets/base",
      "model_module_version": "1.2.0",
      "model_name": "LayoutModel",
      "state": {}
     },
     "ccadc08830a1434d8a897e4899916e9a": {
      "model_module": "@jupyter-widgets/base",
      "model_module_version": "1.2.0",
      "model_name": "LayoutModel",
      "state": {}
     },
     "cd2891ee94554f3fbb8077fa9c8349e1": {
      "model_module": "@jupyter-widgets/controls",
      "model_module_version": "1.5.0",
      "model_name": "DropdownModel",
      "state": {
       "_options_labels": [
        "all",
        "str-based",
        "dex-based",
        "con-based",
        "int-based",
        "wis-based",
        "cha-based",
        "attack",
        "spell-attack",
        "attack-roll",
        "str-attack",
        "dex-attack",
        "con-attack",
        "int-attack",
        "wis-attack",
        "cha-attack",
        "damage",
        "saving-throw",
        "fortitude",
        "reflex",
        "will",
        "initiative",
        "perception",
        "class",
        "ac",
        "hp",
        "hp-per-level",
        "speed",
        "land-speed",
        "burrow-speed",
        "climb-speed",
        "fly-speed",
        "swim-speed",
        "skill-check",
        "acrobatics",
        "arcana",
        "athletics",
        "crafting",
        "deception",
        "diplomacy",
        "intimidation",
        "medicine",
        "nature",
        "occultism",
        "performance",
        "religion",
        "society",
        "stealth",
        "survival",
        "thievery"
       ],
       "description": "Selector",
       "disabled": true,
       "index": 0,
       "layout": "IPY_MODEL_0e990675ad8547619f555714c3b6e472",
       "style": "IPY_MODEL_c52f93a540c74f25abc1866d5744bbdd"
      }
     },
     "cd9b99fc389448d0af794c9781548b54": {
      "model_module": "@jupyter-widgets/controls",
      "model_module_version": "1.5.0",
      "model_name": "DescriptionStyleModel",
      "state": {
       "description_width": ""
      }
     },
     "cdc8ef0ebf6e46c4b7a05aa33ecea8f1": {
      "model_module": "@jupyter-widgets/controls",
      "model_module_version": "1.5.0",
      "model_name": "CheckboxModel",
      "state": {
       "description": "Add a label?",
       "disabled": true,
       "layout": "IPY_MODEL_a12432c02a67496e9f8cf0d81fb3b969",
       "style": "IPY_MODEL_6e7db483ab56436b8a5fc53b3df73ca5",
       "value": false
      }
     },
     "cdeb66908f8f474ab2e637f275cd97d0": {
      "model_module": "@jupyter-widgets/controls",
      "model_module_version": "1.5.0",
      "model_name": "DropdownModel",
      "state": {
       "_options_labels": [
        "no advanced selector",
        "Only this item",
        "swords",
        "bows",
        "knives",
        "spears",
        "axes",
        "hammers",
        "picks",
        "flails",
        "brawling",
        "polearms",
        "sling",
        "bombs",
        "shields",
        "darts",
        "clubs"
       ],
       "description": "Advanced Selector",
       "disabled": true,
       "index": 0,
       "layout": "IPY_MODEL_371915d3f6a54c588600bd1aab9cbc83",
       "style": "IPY_MODEL_f01dcd48e3914b558c51dc61743cb2da"
      }
     },
     "cede63845f604c59a1801bd023ab87d3": {
      "model_module": "@jupyter-widgets/controls",
      "model_module_version": "1.5.0",
      "model_name": "CheckboxModel",
      "state": {
       "description": "Add a label?",
       "disabled": true,
       "indent": false,
       "layout": "IPY_MODEL_f6fffa2d214b4e25a719f281e8cf1fa6",
       "style": "IPY_MODEL_845e72fc065f48af850a2dde0f836b06",
       "value": false
      }
     },
     "cff3740e97674203bd29827d6a5461c3": {
      "model_module": "@jupyter-widgets/controls",
      "model_module_version": "1.5.0",
      "model_name": "DescriptionStyleModel",
      "state": {
       "description_width": ""
      }
     },
     "d06b977865d345d2b707f135dc97d880": {
      "model_module": "@jupyter-widgets/controls",
      "model_module_version": "1.5.0",
      "model_name": "ButtonStyleModel",
      "state": {}
     },
     "d118d8c7b7db48c3abdb29a2fa2c792c": {
      "model_module": "@jupyter-widgets/controls",
      "model_module_version": "1.5.0",
      "model_name": "CheckboxModel",
      "state": {
       "description": "Add a label?",
       "disabled": true,
       "layout": "IPY_MODEL_26cd322c94c6442faa79427fb922c6dd",
       "style": "IPY_MODEL_7539e8b59e7741689f1db9650fee8040",
       "value": false
      }
     },
     "d2547e88937d4d92afe6b14badfd6d9a": {
      "model_module": "@jupyter-widgets/controls",
      "model_module_version": "1.5.0",
      "model_name": "DescriptionStyleModel",
      "state": {
       "description_width": ""
      }
     },
     "d25f0179b19d4c8f8e01cf6f1b860467": {
      "model_module": "@jupyter-widgets/controls",
      "model_module_version": "1.5.0",
      "model_name": "DescriptionStyleModel",
      "state": {
       "description_width": ""
      }
     },
     "d273355bd8d34e8788cbdd16dce2c470": {
      "model_module": "@jupyter-widgets/controls",
      "model_module_version": "1.5.0",
      "model_name": "DropdownModel",
      "state": {
       "_options_labels": [
        "all",
        "str-based",
        "dex-based",
        "con-based",
        "int-based",
        "wis-based",
        "cha-based",
        "attack",
        "spell-attack",
        "attack-roll",
        "str-attack",
        "dex-attack",
        "con-attack",
        "int-attack",
        "wis-attack",
        "cha-attack",
        "damage",
        "saving-throw",
        "fortitude",
        "reflex",
        "will",
        "initiative",
        "perception",
        "class",
        "ac",
        "hp",
        "hp-per-level",
        "speed",
        "land-speed",
        "burrow-speed",
        "climb-speed",
        "fly-speed",
        "swim-speed",
        "skill-check",
        "acrobatics",
        "arcana",
        "athletics",
        "crafting",
        "deception",
        "diplomacy",
        "intimidation",
        "medicine",
        "nature",
        "occultism",
        "performance",
        "religion",
        "society",
        "stealth",
        "survival",
        "thievery"
       ],
       "description": "Selector",
       "disabled": true,
       "index": 0,
       "layout": "IPY_MODEL_df7011dfecb14154aa94fff885626bb4",
       "style": "IPY_MODEL_fc8bb78bd64f4cfa969edb4fd07af46d"
      }
     },
     "d2a48210d3ad440ca2ab3e901c28a703": {
      "model_module": "@jupyter-widgets/base",
      "model_module_version": "1.2.0",
      "model_name": "LayoutModel",
      "state": {}
     },
     "d2a55328532a485999f8cfd3e26a58ee": {
      "model_module": "@jupyter-widgets/base",
      "model_module_version": "1.2.0",
      "model_name": "LayoutModel",
      "state": {}
     },
     "d2ab1e0bfd88476495c1201a39ebc862": {
      "model_module": "@jupyter-widgets/controls",
      "model_module_version": "1.5.0",
      "model_name": "DropdownModel",
      "state": {
       "_options_labels": [
        "Flat Modifier",
        "Damage Dice",
        "Weapon Potency",
        "Striking rune",
        "Multi Attack Penalty"
       ],
       "description": "Key:",
       "index": 0,
       "layout": "IPY_MODEL_a65d638a36a54fdba501a7df0b3dfa01",
       "style": "IPY_MODEL_48d2c0e58c714542b6b68a052e2e8600"
      }
     },
     "d2b775175f344243904c568f1542aa27": {
      "model_module": "@jupyter-widgets/base",
      "model_module_version": "1.2.0",
      "model_name": "LayoutModel",
      "state": {}
     },
     "d392ee54252d4833aab02f3d5fa0a4b7": {
      "model_module": "@jupyter-widgets/base",
      "model_module_version": "1.2.0",
      "model_name": "LayoutModel",
      "state": {}
     },
     "d3a1ec30fc464121a9bb426b4a445d69": {
      "model_module": "@jupyter-widgets/base",
      "model_module_version": "1.2.0",
      "model_name": "LayoutModel",
      "state": {}
     },
     "d3a25169f1264231b17e1a5f9da15a87": {
      "model_module": "@jupyter-widgets/controls",
      "model_module_version": "1.5.0",
      "model_name": "DescriptionStyleModel",
      "state": {
       "description_width": ""
      }
     },
     "d3a5c230ac5444ef80c47bea5088246e": {
      "model_module": "@jupyter-widgets/controls",
      "model_module_version": "1.5.0",
      "model_name": "DescriptionStyleModel",
      "state": {
       "description_width": ""
      }
     },
     "d409681dac954bb8ac3c6428a605ab2e": {
      "model_module": "@jupyter-widgets/base",
      "model_module_version": "1.2.0",
      "model_name": "LayoutModel",
      "state": {}
     },
     "d41313720a5947b29252f47d38a9bc5f": {
      "model_module": "@jupyter-widgets/controls",
      "model_module_version": "1.5.0",
      "model_name": "IntTextModel",
      "state": {
       "description": "Number of dice:",
       "disabled": true,
       "layout": "IPY_MODEL_f7169ef1b0a840d99919a72a5cd0f6a1",
       "step": 1,
       "style": "IPY_MODEL_8987dfa5464b4b32823c28add3fe257c"
      }
     },
     "d419bfc4ab2c4c339cff8562dae65b30": {
      "model_module": "@jupyter-widgets/controls",
      "model_module_version": "1.5.0",
      "model_name": "BoxModel",
      "state": {
       "children": [
        "IPY_MODEL_6e47559f1a8142d0963719d24a1ababb",
        "IPY_MODEL_7dddb49d63d24be69a4189324c6597e6",
        "IPY_MODEL_ad3a16d88c8c4720ae43ff3c42fd2f5d"
       ],
       "layout": "IPY_MODEL_15455ffcc81641238373e2efd292a803"
      }
     },
     "d44e26fda95a43fa8090bbaae31373c1": {
      "model_module": "@jupyter-widgets/base",
      "model_module_version": "1.2.0",
      "model_name": "LayoutModel",
      "state": {}
     },
     "d4a1d5c053324619b203dedbc7d18950": {
      "model_module": "@jupyter-widgets/controls",
      "model_module_version": "1.5.0",
      "model_name": "ButtonStyleModel",
      "state": {}
     },
     "d4b42a327f36421592c5da53241f93ee": {
      "model_module": "@jupyter-widgets/base",
      "model_module_version": "1.2.0",
      "model_name": "LayoutModel",
      "state": {}
     },
     "d4ee686eee8b461f8224e20f754e19b9": {
      "model_module": "@jupyter-widgets/controls",
      "model_module_version": "1.5.0",
      "model_name": "DescriptionStyleModel",
      "state": {
       "description_width": ""
      }
     },
     "d526b4869edd46dc8df7c5a4a21772ba": {
      "model_module": "@jupyter-widgets/controls",
      "model_module_version": "1.5.0",
      "model_name": "DropdownModel",
      "state": {
       "_options_labels": [
        "all",
        "str-based",
        "dex-based",
        "con-based",
        "int-based",
        "wis-based",
        "cha-based",
        "attack",
        "spell-attack",
        "attack-roll",
        "str-attack",
        "dex-attack",
        "con-attack",
        "int-attack",
        "wis-attack",
        "cha-attack",
        "damage",
        "saving-throw",
        "fortitude",
        "reflex",
        "will",
        "initiative",
        "perception",
        "class",
        "ac",
        "hp",
        "hp-per-level",
        "speed",
        "land-speed",
        "burrow-speed",
        "climb-speed",
        "fly-speed",
        "swim-speed",
        "skill-check",
        "acrobatics",
        "arcana",
        "athletics",
        "crafting",
        "deception",
        "diplomacy",
        "intimidation",
        "medicine",
        "nature",
        "occultism",
        "performance",
        "religion",
        "society",
        "stealth",
        "survival",
        "thievery"
       ],
       "description": "Selector",
       "disabled": true,
       "index": 0,
       "layout": "IPY_MODEL_e0412896120743c1b602f18347566694",
       "style": "IPY_MODEL_6fe4d588c51d4a08a79ffc067513b1de"
      }
     },
     "d571d8ea49e546969335d7c8c3a5ebff": {
      "model_module": "@jupyter-widgets/controls",
      "model_module_version": "1.5.0",
      "model_name": "ButtonStyleModel",
      "state": {}
     },
     "d581516a1e744962a92fff805c6800ac": {
      "model_module": "@jupyter-widgets/base",
      "model_module_version": "1.2.0",
      "model_name": "LayoutModel",
      "state": {}
     },
     "d58c867097e94fc2a8d3b9865d131f90": {
      "model_module": "@jupyter-widgets/base",
      "model_module_version": "1.2.0",
      "model_name": "LayoutModel",
      "state": {}
     },
     "d5d964385f6a427e9dd4de31762c0515": {
      "model_module": "@jupyter-widgets/base",
      "model_module_version": "1.2.0",
      "model_name": "LayoutModel",
      "state": {}
     },
     "d5ef3e3c800b4d7d979ed9545b2e2acc": {
      "model_module": "@jupyter-widgets/base",
      "model_module_version": "1.2.0",
      "model_name": "LayoutModel",
      "state": {}
     },
     "d63019c4687a41dc9e0656838b87fefa": {
      "model_module": "@jupyter-widgets/controls",
      "model_module_version": "1.5.0",
      "model_name": "DropdownModel",
      "state": {
       "_options_labels": [
        "",
        "slashing",
        "piercing",
        "bludgeoning",
        "precision",
        "fire",
        "cold",
        "electricity",
        "acid",
        "poison",
        "sonic",
        "force",
        "mental",
        "lawful",
        "chaotic",
        "good",
        "evil",
        "positive",
        "negative"
       ],
       "description": "Damage type",
       "disabled": true,
       "index": 0,
       "layout": "IPY_MODEL_e8ca86d8b4794b5e855165f2ee08f3de",
       "style": "IPY_MODEL_019a23d594c3491ab47070fbdf6bf018"
      }
     },
     "d68f6b064b1f4d028a9c7d1e4a266a84": {
      "model_module": "@jupyter-widgets/controls",
      "model_module_version": "1.5.0",
      "model_name": "IntTextModel",
      "state": {
       "description": "Value:",
       "disabled": true,
       "layout": "IPY_MODEL_8fc70669b3c6480cbdd9f288e59ec628",
       "step": 1,
       "style": "IPY_MODEL_ea4f52f937c7479fa5deb5588a69ad77"
      }
     },
     "d69244ef97704d7298eee71003af9e3f": {
      "model_module": "@jupyter-widgets/base",
      "model_module_version": "1.2.0",
      "model_name": "LayoutModel",
      "state": {}
     },
     "d75fc172516e4dd7b73ae8cf840f939c": {
      "model_module": "@jupyter-widgets/controls",
      "model_module_version": "1.5.0",
      "model_name": "DropdownModel",
      "state": {
       "_options_labels": [
        "",
        "d4",
        "d6",
        "d8",
        "d10",
        "d12"
       ],
       "description": "Die size:",
       "disabled": true,
       "index": 0,
       "layout": "IPY_MODEL_490e9c326e074971bc9ea56b85761a0f",
       "style": "IPY_MODEL_851857e1bb204845b3f9aa2862cbbe4d"
      }
     },
     "d7ecd49ce42d4bd1851bebaecb21557b": {
      "model_module": "@jupyter-widgets/base",
      "model_module_version": "1.2.0",
      "model_name": "LayoutModel",
      "state": {}
     },
     "d8097e65d2514fd28d8a34541c3f1c2e": {
      "model_module": "@jupyter-widgets/base",
      "model_module_version": "1.2.0",
      "model_name": "LayoutModel",
      "state": {}
     },
     "d836240799ce4c6787484430177bbff3": {
      "model_module": "@jupyter-widgets/controls",
      "model_module_version": "1.5.0",
      "model_name": "ButtonStyleModel",
      "state": {}
     },
     "d8ae668ab1b245869f577bc06cb29800": {
      "model_module": "@jupyter-widgets/base",
      "model_module_version": "1.2.0",
      "model_name": "LayoutModel",
      "state": {}
     },
     "d8ec065f53f04010a51e86f05f3f8017": {
      "model_module": "@jupyter-widgets/base",
      "model_module_version": "1.2.0",
      "model_name": "LayoutModel",
      "state": {}
     },
     "d927b4b6214746ca8a67703db8bf7c2a": {
      "model_module": "@jupyter-widgets/controls",
      "model_module_version": "1.5.0",
      "model_name": "ButtonModel",
      "state": {
       "description": "Create Rule Element",
       "disabled": true,
       "layout": "IPY_MODEL_706c4d66f77443fab1c910758665dc7a",
       "style": "IPY_MODEL_cab75e3dad714e1ca578ceb3dc74b27b"
      }
     },
     "d949081dfe614c7ab5338e62afd6ea64": {
      "model_module": "@jupyter-widgets/base",
      "model_module_version": "1.2.0",
      "model_name": "LayoutModel",
      "state": {}
     },
     "d96896f26f864d51b2c3780055dddf5f": {
      "model_module": "@jupyter-widgets/controls",
      "model_module_version": "1.5.0",
      "model_name": "IntTextModel",
      "state": {
       "description": "Number of dice:",
       "disabled": true,
       "layout": "IPY_MODEL_4d7603cbaa59449cbba26971f53753c7",
       "step": 1,
       "style": "IPY_MODEL_7e9b3d4bbefb47b4a0012dcf3c9ac43e"
      }
     },
     "d994d0b46e674ef29d6ce76704c9e66b": {
      "model_module": "@jupyter-widgets/controls",
      "model_module_version": "1.5.0",
      "model_name": "IntTextModel",
      "state": {
       "description": "Value:",
       "disabled": true,
       "layout": "IPY_MODEL_045fd484e80a4dacae1e0fcc5541fc79",
       "step": 1,
       "style": "IPY_MODEL_50ea33e8a542418b8af787438bd187e2"
      }
     },
     "d9dbd1f79428477c8c7998a5d9f2b3ca": {
      "model_module": "@jupyter-widgets/controls",
      "model_module_version": "1.5.0",
      "model_name": "SelectMultipleModel",
      "state": {
       "_options_labels": [
        "agile",
        "finesse",
        "rage",
        "unarmed",
        "fear",
        "mental",
        "poison",
        "disease",
        "fear",
        "sweep"
       ],
       "description": "Any",
       "disabled": true,
       "index": [],
       "layout": "IPY_MODEL_0daf608a73444d4f927f208c09bee4fb",
       "rows": 5,
       "style": "IPY_MODEL_915e404c9a0449d9ab9807e275f80e75"
      }
     },
     "da7f477f253345238dcac80b15fef0ac": {
      "model_module": "@jupyter-widgets/controls",
      "model_module_version": "1.5.0",
      "model_name": "ButtonModel",
      "state": {
       "description": "Select Key",
       "layout": "IPY_MODEL_24c2183d037540d997175fb1f35702cc",
       "style": "IPY_MODEL_04197216ba3141e7b61c9cfa7e063e86"
      }
     },
     "dac8cad09f46436889fbcd053aa14a6b": {
      "model_module": "@jupyter-widgets/base",
      "model_module_version": "1.2.0",
      "model_name": "LayoutModel",
      "state": {}
     },
     "dafc39c5aeb345a4a5e271815bb9746e": {
      "model_module": "@jupyter-widgets/base",
      "model_module_version": "1.2.0",
      "model_name": "LayoutModel",
      "state": {}
     },
     "db8aaa6f271f48d69361e28e76a51551": {
      "model_module": "@jupyter-widgets/base",
      "model_module_version": "1.2.0",
      "model_name": "LayoutModel",
      "state": {}
     },
     "db9459e0e5384a37a96be14c1537a147": {
      "model_module": "@jupyter-widgets/controls",
      "model_module_version": "1.5.0",
      "model_name": "ButtonModel",
      "state": {
       "description": "Create Rule Element",
       "disabled": true,
       "layout": "IPY_MODEL_35a2643469a34c359e3e40566aebf65d",
       "style": "IPY_MODEL_0d37499ff2b14be899474c51635696f9"
      }
     },
     "dc6737e3f9774564b715ecc0b32af7f7": {
      "model_module": "@jupyter-widgets/controls",
      "model_module_version": "1.5.0",
      "model_name": "BoxModel",
      "state": {
       "children": [
        "IPY_MODEL_b1603baf4e3f40708e40d2ff23c4ec62",
        "IPY_MODEL_5f25f181d6294628ac2659c75d7c2c26",
        "IPY_MODEL_69477da15a394d23b164ae551b2f448d"
       ],
       "layout": "IPY_MODEL_b766b13964204a7e9d2d5004d75988e4"
      }
     },
     "dce8a70a715042d180c0562fafa61c00": {
      "model_module": "@jupyter-widgets/base",
      "model_module_version": "1.2.0",
      "model_name": "LayoutModel",
      "state": {}
     },
     "dd1c168621964ab193bcf5fc8085008c": {
      "model_module": "@jupyter-widgets/base",
      "model_module_version": "1.2.0",
      "model_name": "LayoutModel",
      "state": {}
     },
     "dd342c7f021e45be8197d09001f802a1": {
      "model_module": "@jupyter-widgets/controls",
      "model_module_version": "1.5.0",
      "model_name": "ButtonModel",
      "state": {
       "description": "Select Key",
       "layout": "IPY_MODEL_7830e9d580674b75a8e6447a2ebe70de",
       "style": "IPY_MODEL_5b478b81be844723b47330708533382e"
      }
     },
     "dd65eb95f0594b3aa2050d94d9a32d8e": {
      "model_module": "@jupyter-widgets/base",
      "model_module_version": "1.2.0",
      "model_name": "LayoutModel",
      "state": {}
     },
     "dd9e628d44554d668934d5ef475a48e0": {
      "model_module": "@jupyter-widgets/controls",
      "model_module_version": "1.5.0",
      "model_name": "DropdownModel",
      "state": {
       "_options_labels": [
        "",
        "circumstance",
        "item",
        "status"
       ],
       "description": "Type",
       "disabled": true,
       "index": 0,
       "layout": "IPY_MODEL_ad64ac5cca1e4d7d910aea21d5c54d50",
       "style": "IPY_MODEL_88514d8cb10846faa5e2bc6467749215"
      }
     },
     "ddd7ade677894c10b59fea6ba0719915": {
      "model_module": "@jupyter-widgets/base",
      "model_module_version": "1.2.0",
      "model_name": "LayoutModel",
      "state": {}
     },
     "de6282f03e3e49cba4c67672adc2b85a": {
      "model_module": "@jupyter-widgets/base",
      "model_module_version": "1.2.0",
      "model_name": "LayoutModel",
      "state": {}
     },
     "dea5c8ab542a412fac9ab3b062b965a4": {
      "model_module": "@jupyter-widgets/controls",
      "model_module_version": "1.5.0",
      "model_name": "CheckboxModel",
      "state": {
       "description": "Override base die?",
       "disabled": true,
       "layout": "IPY_MODEL_d8097e65d2514fd28d8a34541c3f1c2e",
       "style": "IPY_MODEL_3c062a38fdf64b9fae44d6cb41d85ba6",
       "value": false
      }
     },
     "df6854d8a0284c5c9dfdb97e5ea09fe3": {
      "model_module": "@jupyter-widgets/base",
      "model_module_version": "1.2.0",
      "model_name": "LayoutModel",
      "state": {}
     },
     "df7011dfecb14154aa94fff885626bb4": {
      "model_module": "@jupyter-widgets/base",
      "model_module_version": "1.2.0",
      "model_name": "LayoutModel",
      "state": {}
     },
     "df932bc4362a48228d456cb1cd90eb3c": {
      "model_module": "@jupyter-widgets/base",
      "model_module_version": "1.2.0",
      "model_name": "LayoutModel",
      "state": {}
     },
     "dfb0c64fcc874f339634abc133cd1ecd": {
      "model_module": "@jupyter-widgets/controls",
      "model_module_version": "1.5.0",
      "model_name": "DropdownModel",
      "state": {
       "_options_labels": [
        "Flat Modifier",
        "Damage Dice",
        "Weapon Potency",
        "Striking rune",
        "Multi Attack Penalty"
       ],
       "description": "Key:",
       "index": 0,
       "layout": "IPY_MODEL_f97f3387026c45c984d55fca32054323",
       "style": "IPY_MODEL_9a45f5ac1d73447681a16d4fc52ed3e4"
      }
     },
     "e0412896120743c1b602f18347566694": {
      "model_module": "@jupyter-widgets/base",
      "model_module_version": "1.2.0",
      "model_name": "LayoutModel",
      "state": {}
     },
     "e09c8d045ecf4d16b10f2219d6628f1c": {
      "model_module": "@jupyter-widgets/controls",
      "model_module_version": "1.5.0",
      "model_name": "DropdownModel",
      "state": {
       "_options_labels": [
        "no advanced selector",
        "Only this item",
        "swords",
        "bows",
        "knives",
        "spears",
        "axes",
        "hammers",
        "picks",
        "flails",
        "brawling",
        "polearms",
        "sling",
        "bombs",
        "shields",
        "darts",
        "clubs"
       ],
       "description": "Advanced Selector",
       "disabled": true,
       "index": 0,
       "layout": "IPY_MODEL_fa797c485da14d698eef659dbc8fead7",
       "style": "IPY_MODEL_55a10227b18c4defacde4d36749e38e3"
      }
     },
     "e112027d742e4f90b178f4eea8719087": {
      "model_module": "@jupyter-widgets/controls",
      "model_module_version": "1.5.0",
      "model_name": "DescriptionStyleModel",
      "state": {
       "description_width": ""
      }
     },
     "e11f12f105514cb19ec075f56c57cec3": {
      "model_module": "@jupyter-widgets/controls",
      "model_module_version": "1.5.0",
      "model_name": "DescriptionStyleModel",
      "state": {
       "description_width": ""
      }
     },
     "e1294760822348c7b287774be11ac0c1": {
      "model_module": "@jupyter-widgets/controls",
      "model_module_version": "1.5.0",
      "model_name": "DescriptionStyleModel",
      "state": {
       "description_width": ""
      }
     },
     "e12a784de30a4114956d53fc9f39648e": {
      "model_module": "@jupyter-widgets/controls",
      "model_module_version": "1.5.0",
      "model_name": "DescriptionStyleModel",
      "state": {
       "description_width": ""
      }
     },
     "e13b4ad3be6b476a993b866e37f401b7": {
      "model_module": "@jupyter-widgets/base",
      "model_module_version": "1.2.0",
      "model_name": "LayoutModel",
      "state": {}
     },
     "e1d2d0c059e0479d9d344b0d61482b29": {
      "model_module": "@jupyter-widgets/base",
      "model_module_version": "1.2.0",
      "model_name": "LayoutModel",
      "state": {}
     },
     "e22eff48616145308ece75123a348f4a": {
      "model_module": "@jupyter-widgets/controls",
      "model_module_version": "1.5.0",
      "model_name": "DescriptionStyleModel",
      "state": {
       "description_width": ""
      }
     },
     "e23b02ed6f824e10bb6a4fe92334c626": {
      "model_module": "@jupyter-widgets/controls",
      "model_module_version": "1.5.0",
      "model_name": "DropdownModel",
      "state": {
       "_options_labels": [
        "",
        "circumstance",
        "item",
        "status"
       ],
       "description": "Type",
       "disabled": true,
       "index": 0,
       "layout": "IPY_MODEL_52c26bcc737e47fcb0ea84f34c5ac33c",
       "style": "IPY_MODEL_8a04fa391fd641b799a34b2f3a334dfc"
      }
     },
     "e2607ea4372f465d8af6a8f2e4521be1": {
      "model_module": "@jupyter-widgets/controls",
      "model_module_version": "1.5.0",
      "model_name": "DescriptionStyleModel",
      "state": {
       "description_width": ""
      }
     },
     "e2687906cc804b51952f3f2a023b8f98": {
      "model_module": "@jupyter-widgets/controls",
      "model_module_version": "1.5.0",
      "model_name": "SelectMultipleModel",
      "state": {
       "_options_labels": [
        "agile",
        "finesse",
        "rage",
        "unarmed",
        "fear",
        "mental",
        "poison",
        "disease",
        "fear",
        "sweep"
       ],
       "description": "Predicate:All",
       "disabled": true,
       "index": [],
       "layout": "IPY_MODEL_a873df8bb2184adea44f184e382f2bfe",
       "rows": 5,
       "style": "IPY_MODEL_bf71c485264a4e6493a8b9cb04125215"
      }
     },
     "e2b47db8486347c5afecc5df3b976f58": {
      "model_module": "@jupyter-widgets/controls",
      "model_module_version": "1.5.0",
      "model_name": "DropdownModel",
      "state": {
       "_options_labels": [
        "no advanced selector",
        "Only this item",
        "swords",
        "bows",
        "knives",
        "spears",
        "axes",
        "hammers",
        "picks",
        "flails",
        "brawling",
        "polearms",
        "sling",
        "bombs",
        "shields",
        "darts",
        "clubs"
       ],
       "description": "Advanced Selector",
       "disabled": true,
       "index": 0,
       "layout": "IPY_MODEL_bffb03ac18b044a59cfd3fa655127403",
       "style": "IPY_MODEL_41a6490cfd7e4e678512358764721b05"
      }
     },
     "e3875fdec1784532b367b4cf924e96c1": {
      "model_module": "@jupyter-widgets/controls",
      "model_module_version": "1.5.0",
      "model_name": "ButtonStyleModel",
      "state": {}
     },
     "e39117a478544c009d6b6691d7870fbf": {
      "model_module": "@jupyter-widgets/base",
      "model_module_version": "1.2.0",
      "model_name": "LayoutModel",
      "state": {}
     },
     "e3beec0975f94dac827925c39e74fb69": {
      "model_module": "@jupyter-widgets/base",
      "model_module_version": "1.2.0",
      "model_name": "LayoutModel",
      "state": {}
     },
     "e4be5fcfbafe46e790cef8af93a7339b": {
      "model_module": "@jupyter-widgets/base",
      "model_module_version": "1.2.0",
      "model_name": "LayoutModel",
      "state": {}
     },
     "e636d460d8de42d49dca84aa0bf35d7f": {
      "model_module": "@jupyter-widgets/base",
      "model_module_version": "1.2.0",
      "model_name": "LayoutModel",
      "state": {}
     },
     "e6982973c0064143bca305651fa5fbc1": {
      "model_module": "@jupyter-widgets/controls",
      "model_module_version": "1.5.0",
      "model_name": "ButtonModel",
      "state": {
       "description": "Set Selectors",
       "disabled": true,
       "layout": "IPY_MODEL_6bb1001dc6d344809b7dcedf9641fbf8",
       "style": "IPY_MODEL_3201d7b88bcd4f9d928abc4022b2742d"
      }
     },
     "e6dc9bab900f470794f901f31dad02f8": {
      "model_module": "@jupyter-widgets/base",
      "model_module_version": "1.2.0",
      "model_name": "LayoutModel",
      "state": {}
     },
     "e6ec342bbf2b43aa9ee455ce22beda49": {
      "model_module": "@jupyter-widgets/controls",
      "model_module_version": "1.5.0",
      "model_name": "DropdownModel",
      "state": {
       "_options_labels": [
        "no advanced selector",
        "Only this item",
        "swords",
        "bows",
        "knives",
        "spears",
        "axes",
        "hammers",
        "picks",
        "flails",
        "brawling",
        "polearms",
        "sling",
        "bombs",
        "shields",
        "darts",
        "clubs"
       ],
       "description": "Advanced Selector",
       "disabled": true,
       "index": 0,
       "layout": "IPY_MODEL_81bdc3acdae1413d8899020ba9b0c387",
       "style": "IPY_MODEL_1a26f5e2d2c146c8bdd93de158a97dbc"
      }
     },
     "e80f792bf4814870b1949a3e916f82c2": {
      "model_module": "@jupyter-widgets/controls",
      "model_module_version": "1.5.0",
      "model_name": "ButtonStyleModel",
      "state": {}
     },
     "e81c851256af422cbc79f750235b8908": {
      "model_module": "@jupyter-widgets/base",
      "model_module_version": "1.2.0",
      "model_name": "LayoutModel",
      "state": {}
     },
     "e824eb7c2b7d443a8725deb5351d7eb3": {
      "model_module": "@jupyter-widgets/controls",
      "model_module_version": "1.5.0",
      "model_name": "ButtonStyleModel",
      "state": {}
     },
     "e860b8f5420e4fb0894ddd3fa1ab967b": {
      "model_module": "@jupyter-widgets/controls",
      "model_module_version": "1.5.0",
      "model_name": "DescriptionStyleModel",
      "state": {
       "description_width": ""
      }
     },
     "e88df9df6d664859b0c8d6b796ce8a15": {
      "model_module": "@jupyter-widgets/base",
      "model_module_version": "1.2.0",
      "model_name": "LayoutModel",
      "state": {}
     },
     "e8ca86d8b4794b5e855165f2ee08f3de": {
      "model_module": "@jupyter-widgets/base",
      "model_module_version": "1.2.0",
      "model_name": "LayoutModel",
      "state": {}
     },
     "e9004aff06944b52b6702fe373bae25b": {
      "model_module": "@jupyter-widgets/base",
      "model_module_version": "1.2.0",
      "model_name": "LayoutModel",
      "state": {}
     },
     "e97a895be6e54b8da434a51ba71553fc": {
      "model_module": "@jupyter-widgets/base",
      "model_module_version": "1.2.0",
      "model_name": "LayoutModel",
      "state": {}
     },
     "e9f2c4a73da44498a934ebc03095b004": {
      "model_module": "@jupyter-widgets/base",
      "model_module_version": "1.2.0",
      "model_name": "LayoutModel",
      "state": {}
     },
     "e9fa7b6322574c6cbe224be232afbb3c": {
      "model_module": "@jupyter-widgets/controls",
      "model_module_version": "1.5.0",
      "model_name": "ButtonStyleModel",
      "state": {}
     },
     "ea31c70163dc483d8bee264e6ff47caa": {
      "model_module": "@jupyter-widgets/controls",
      "model_module_version": "1.5.0",
      "model_name": "DropdownModel",
      "state": {
       "_options_labels": [
        "",
        "slashing",
        "piercing",
        "bludgeoning",
        "precision",
        "fire",
        "cold",
        "electricity",
        "acid",
        "poison",
        "sonic",
        "force",
        "mental",
        "lawful",
        "chaotic",
        "good",
        "evil",
        "positive",
        "negative"
       ],
       "description": "Damage type",
       "disabled": true,
       "index": 0,
       "layout": "IPY_MODEL_b884069504ac47d49e393e09119b00ba",
       "style": "IPY_MODEL_6bfbe9236c1d4e10a26f2ce00e13396f"
      }
     },
     "ea407b1487084708884c538c76900175": {
      "model_module": "@jupyter-widgets/controls",
      "model_module_version": "1.5.0",
      "model_name": "ButtonModel",
      "state": {
       "description": "Reset",
       "layout": "IPY_MODEL_48e0d987524540db8d4a8833753c74b4",
       "style": "IPY_MODEL_b9b489072eac46b68de08fbb0ae6ffe8"
      }
     },
     "ea4a0c4936b04b7895d23de564731798": {
      "model_module": "@jupyter-widgets/base",
      "model_module_version": "1.2.0",
      "model_name": "LayoutModel",
      "state": {}
     },
     "ea4f398763d04d32b170707d30b78190": {
      "model_module": "@jupyter-widgets/base",
      "model_module_version": "1.2.0",
      "model_name": "LayoutModel",
      "state": {}
     },
     "ea4f52f937c7479fa5deb5588a69ad77": {
      "model_module": "@jupyter-widgets/controls",
      "model_module_version": "1.5.0",
      "model_name": "DescriptionStyleModel",
      "state": {
       "description_width": ""
      }
     },
     "eaf7b1fb39824b2a91d17d72a5bee45e": {
      "model_module": "@jupyter-widgets/base",
      "model_module_version": "1.2.0",
      "model_name": "LayoutModel",
      "state": {}
     },
     "eb0ec027a1c449569427edeb53ff5cdf": {
      "model_module": "@jupyter-widgets/base",
      "model_module_version": "1.2.0",
      "model_name": "LayoutModel",
      "state": {}
     },
     "eb62003c2f6a4d208f8580ac800ed35b": {
      "model_module": "@jupyter-widgets/controls",
      "model_module_version": "1.5.0",
      "model_name": "CheckboxModel",
      "state": {
       "description": "Add a Name?",
       "disabled": true,
       "indent": false,
       "layout": "IPY_MODEL_8b16aff6765949d1883bff02c5ef253b",
       "style": "IPY_MODEL_64f85ce2799148998cd58210828be16c",
       "value": false
      }
     },
     "eb8e5afaa93c46debf45a2c362432833": {
      "model_module": "@jupyter-widgets/base",
      "model_module_version": "1.2.0",
      "model_name": "LayoutModel",
      "state": {}
     },
     "eb9d0e14acfb4636a8b34148100c7e89": {
      "model_module": "@jupyter-widgets/base",
      "model_module_version": "1.2.0",
      "model_name": "LayoutModel",
      "state": {}
     },
     "ebaab302091d42ba80beaa8c38700614": {
      "model_module": "@jupyter-widgets/base",
      "model_module_version": "1.2.0",
      "model_name": "LayoutModel",
      "state": {}
     },
     "ec3c05116beb4140bbad66785fe8c2aa": {
      "model_module": "@jupyter-widgets/base",
      "model_module_version": "1.2.0",
      "model_name": "LayoutModel",
      "state": {}
     },
     "ec73e570bee4400291457d7983657154": {
      "model_module": "@jupyter-widgets/base",
      "model_module_version": "1.2.0",
      "model_name": "LayoutModel",
      "state": {}
     },
     "eca8f65fef6047e18694dfdca47ad12b": {
      "model_module": "@jupyter-widgets/base",
      "model_module_version": "1.2.0",
      "model_name": "LayoutModel",
      "state": {}
     },
     "ecdb452b1a1f4f3499f6f302212c2e41": {
      "model_module": "@jupyter-widgets/controls",
      "model_module_version": "1.5.0",
      "model_name": "ButtonStyleModel",
      "state": {}
     },
     "ed113db1344a47e3b656d771099756d9": {
      "model_module": "@jupyter-widgets/base",
      "model_module_version": "1.2.0",
      "model_name": "LayoutModel",
      "state": {}
     },
     "ee03591eed51411ab082664422349176": {
      "model_module": "@jupyter-widgets/base",
      "model_module_version": "1.2.0",
      "model_name": "LayoutModel",
      "state": {}
     },
     "ee74f92df62a4a4e90f08a9544e7dbe0": {
      "model_module": "@jupyter-widgets/controls",
      "model_module_version": "1.5.0",
      "model_name": "ButtonModel",
      "state": {
       "description": "Reset",
       "layout": "IPY_MODEL_9514866617c34240b38a799fae825885",
       "style": "IPY_MODEL_d571d8ea49e546969335d7c8c3a5ebff"
      }
     },
     "eebee0a8e96346a0b78796acd68d7420": {
      "model_module": "@jupyter-widgets/base",
      "model_module_version": "1.2.0",
      "model_name": "LayoutModel",
      "state": {}
     },
     "eeeb4f785d1d4bfa963ffdceded81276": {
      "model_module": "@jupyter-widgets/controls",
      "model_module_version": "1.5.0",
      "model_name": "DescriptionStyleModel",
      "state": {
       "description_width": ""
      }
     },
     "ef292cafa2c247818724b67f67c21534": {
      "model_module": "@jupyter-widgets/base",
      "model_module_version": "1.2.0",
      "model_name": "LayoutModel",
      "state": {}
     },
     "ef33bb01478f4e8b89c97b4e62ab0f4e": {
      "model_module": "@jupyter-widgets/base",
      "model_module_version": "1.2.0",
      "model_name": "LayoutModel",
      "state": {}
     },
     "ef6fcb40899c443398a648c4468a52e0": {
      "model_module": "@jupyter-widgets/controls",
      "model_module_version": "1.5.0",
      "model_name": "DropdownModel",
      "state": {
       "_options_labels": [
        "",
        "circumstance",
        "item",
        "status"
       ],
       "description": "Type",
       "disabled": true,
       "index": 0,
       "layout": "IPY_MODEL_dac8cad09f46436889fbcd053aa14a6b",
       "style": "IPY_MODEL_8762420bd8684153b9e1c0ca9dd28eb1"
      }
     },
     "ef834502bec34a73a33888c0c251409d": {
      "model_module": "@jupyter-widgets/controls",
      "model_module_version": "1.5.0",
      "model_name": "DescriptionStyleModel",
      "state": {
       "description_width": ""
      }
     },
     "efdfb19d66624fdd9f9df9bd51ce5191": {
      "model_module": "@jupyter-widgets/controls",
      "model_module_version": "1.5.0",
      "model_name": "CheckboxModel",
      "state": {
       "description": "Override base die?",
       "disabled": true,
       "layout": "IPY_MODEL_09c6ca003a8448e3b1ce1b98dc74d690",
       "style": "IPY_MODEL_176de21c25514d59850a97ebbf66cbc7",
       "value": false
      }
     },
     "f0014649581e43b18af204a16a4011c1": {
      "model_module": "@jupyter-widgets/controls",
      "model_module_version": "1.5.0",
      "model_name": "ButtonStyleModel",
      "state": {}
     },
     "f00dc882c1474858805d782d6cf55b45": {
      "model_module": "@jupyter-widgets/controls",
      "model_module_version": "1.5.0",
      "model_name": "ButtonStyleModel",
      "state": {}
     },
     "f01dcd48e3914b558c51dc61743cb2da": {
      "model_module": "@jupyter-widgets/controls",
      "model_module_version": "1.5.0",
      "model_name": "DescriptionStyleModel",
      "state": {
       "description_width": ""
      }
     },
     "f0640fd5a5854319a74790ebcf35f8f8": {
      "model_module": "@jupyter-widgets/controls",
      "model_module_version": "1.5.0",
      "model_name": "DescriptionStyleModel",
      "state": {
       "description_width": ""
      }
     },
     "f0765d7d065a43eba1527ba1d1fb4a71": {
      "model_module": "@jupyter-widgets/controls",
      "model_module_version": "1.5.0",
      "model_name": "DescriptionStyleModel",
      "state": {
       "description_width": ""
      }
     },
     "f0a44db613504584bbb86aeeff2ebbb8": {
      "model_module": "@jupyter-widgets/controls",
      "model_module_version": "1.5.0",
      "model_name": "ButtonStyleModel",
      "state": {}
     },
     "f0e6accd331d44359807130511de5444": {
      "model_module": "@jupyter-widgets/controls",
      "model_module_version": "1.5.0",
      "model_name": "DescriptionStyleModel",
      "state": {
       "description_width": ""
      }
     },
     "f0fea838e82f4860874aadf94675007f": {
      "model_module": "@jupyter-widgets/controls",
      "model_module_version": "1.5.0",
      "model_name": "DropdownModel",
      "state": {
       "_options_labels": [
        "",
        "slashing",
        "piercing",
        "bludgeoning",
        "precision",
        "fire",
        "cold",
        "electricity",
        "acid",
        "poison",
        "sonic",
        "force",
        "mental",
        "lawful",
        "chaotic",
        "good",
        "evil",
        "positive",
        "negative"
       ],
       "description": "Damage type",
       "disabled": true,
       "index": 0,
       "layout": "IPY_MODEL_2f7a0382e9874111855b1ee490e34c07",
       "style": "IPY_MODEL_4b053c0d872a4d548f6c6c8893a6e88d"
      }
     },
     "f1610cb0de704493a4b34607be991299": {
      "model_module": "@jupyter-widgets/controls",
      "model_module_version": "1.5.0",
      "model_name": "CheckboxModel",
      "state": {
       "description": "Use Advanced Selector?",
       "disabled": true,
       "layout": "IPY_MODEL_93d5d0df6f094030a5d3810ce5ba0eb2",
       "style": "IPY_MODEL_1714639fcb2b44ecb63d5203c295ea0b",
       "value": false
      }
     },
     "f1bd396e56fc4734bac0c523b3a0325d": {
      "model_module": "@jupyter-widgets/controls",
      "model_module_version": "1.5.0",
      "model_name": "DropdownModel",
      "state": {
       "_options_labels": [
        "",
        "d4",
        "d6",
        "d8",
        "d10",
        "d12"
       ],
       "description": "Die size:",
       "disabled": true,
       "index": 0,
       "layout": "IPY_MODEL_aab60cdf2f204cf9a782ef0f68b471c4",
       "style": "IPY_MODEL_b170d601ec8043b5948f32d03dd8f08d"
      }
     },
     "f22114b2945047919119107184345437": {
      "model_module": "@jupyter-widgets/controls",
      "model_module_version": "1.5.0",
      "model_name": "ButtonModel",
      "state": {
       "description": "Select Key",
       "layout": "IPY_MODEL_2223213a139e43e2b17fa7b9ec6c8ca9",
       "style": "IPY_MODEL_b5163d6084dc4334bb890e7497779635"
      }
     },
     "f236a368e1414fb09fa3a128ad4cbca7": {
      "model_module": "@jupyter-widgets/base",
      "model_module_version": "1.2.0",
      "model_name": "LayoutModel",
      "state": {}
     },
     "f28cb41ed583443bb29ee8795548e6fa": {
      "model_module": "@jupyter-widgets/controls",
      "model_module_version": "1.5.0",
      "model_name": "IntTextModel",
      "state": {
       "description": "Number of dice:",
       "disabled": true,
       "layout": "IPY_MODEL_12a05882b7954df4b7ac979964ee7087",
       "step": 1,
       "style": "IPY_MODEL_8ad77d939619473081863b848199b80b"
      }
     },
     "f31573c38f024054b4a90a9a6903e8ca": {
      "model_module": "@jupyter-widgets/base",
      "model_module_version": "1.2.0",
      "model_name": "LayoutModel",
      "state": {}
     },
     "f37acc1f1e9745608f4391b0eb0dc365": {
      "model_module": "@jupyter-widgets/controls",
      "model_module_version": "1.5.0",
      "model_name": "CheckboxModel",
      "state": {
       "description": "Add a label?",
       "disabled": true,
       "indent": false,
       "layout": "IPY_MODEL_9289e8719b664b2091a4c1c981bb8cc3",
       "style": "IPY_MODEL_50c7b9c947974322b73d60a0723d01c9",
       "value": false
      }
     },
     "f3b2b78771cf42b09f27f9f8b57ff007": {
      "model_module": "@jupyter-widgets/base",
      "model_module_version": "1.2.0",
      "model_name": "LayoutModel",
      "state": {}
     },
     "f3f51a0525384d7d88a105cc16a844a6": {
      "model_module": "@jupyter-widgets/controls",
      "model_module_version": "1.5.0",
      "model_name": "CheckboxModel",
      "state": {
       "description": "Add a Name?",
       "disabled": true,
       "indent": false,
       "layout": "IPY_MODEL_39a1c93f4df14de98b164e08ee15a32f",
       "style": "IPY_MODEL_c46b7b4914664d52b05d28a48335a8a6",
       "value": false
      }
     },
     "f3f643ad8d534d8aacf1d211364a01ca": {
      "model_module": "@jupyter-widgets/controls",
      "model_module_version": "1.5.0",
      "model_name": "ButtonModel",
      "state": {
       "description": "Create Rule Element",
       "disabled": true,
       "layout": "IPY_MODEL_eb8e5afaa93c46debf45a2c362432833",
       "style": "IPY_MODEL_7fd4052df3ef4bccb2ce9b451740f9fc"
      }
     },
     "f41eb0c9be0d42908a3f6adb69866e9e": {
      "model_module": "@jupyter-widgets/base",
      "model_module_version": "1.2.0",
      "model_name": "LayoutModel",
      "state": {}
     },
     "f4273d616b6c49f2b15d98efe47a9774": {
      "model_module": "@jupyter-widgets/controls",
      "model_module_version": "1.5.0",
      "model_name": "DropdownModel",
      "state": {
       "_options_labels": [
        "no advanced selector",
        "Only this item",
        "swords",
        "bows",
        "knives",
        "spears",
        "axes",
        "hammers",
        "picks",
        "flails",
        "brawling",
        "polearms",
        "sling",
        "bombs",
        "shields",
        "darts",
        "clubs"
       ],
       "description": "Advanced Selector",
       "disabled": true,
       "index": 0,
       "layout": "IPY_MODEL_ec3c05116beb4140bbad66785fe8c2aa",
       "style": "IPY_MODEL_c016e2274f0d46d6bf55a301548d8c9b"
      }
     },
     "f4632c2b79224f1690ed4415a3d1541c": {
      "model_module": "@jupyter-widgets/controls",
      "model_module_version": "1.5.0",
      "model_name": "DescriptionStyleModel",
      "state": {
       "description_width": ""
      }
     },
     "f48d0371284e45beaf872790925bd47e": {
      "model_module": "@jupyter-widgets/base",
      "model_module_version": "1.2.0",
      "model_name": "LayoutModel",
      "state": {}
     },
     "f57350256a6b4fb4a17724b49f608b31": {
      "model_module": "@jupyter-widgets/controls",
      "model_module_version": "1.5.0",
      "model_name": "DescriptionStyleModel",
      "state": {
       "description_width": ""
      }
     },
     "f604ae01f2ff4ad8aad557cdfdded1d5": {
      "model_module": "@jupyter-widgets/base",
      "model_module_version": "1.2.0",
      "model_name": "LayoutModel",
      "state": {}
     },
     "f6134b47b68844a383cf2d5132b99b8d": {
      "model_module": "@jupyter-widgets/base",
      "model_module_version": "1.2.0",
      "model_name": "LayoutModel",
      "state": {}
     },
     "f635ab2175454ae4956e615f073a68a4": {
      "model_module": "@jupyter-widgets/base",
      "model_module_version": "1.2.0",
      "model_name": "LayoutModel",
      "state": {}
     },
     "f6abbb5d8fb040c09811224442630473": {
      "model_module": "@jupyter-widgets/controls",
      "model_module_version": "1.5.0",
      "model_name": "ButtonStyleModel",
      "state": {}
     },
     "f6fffa2d214b4e25a719f281e8cf1fa6": {
      "model_module": "@jupyter-widgets/base",
      "model_module_version": "1.2.0",
      "model_name": "LayoutModel",
      "state": {}
     },
     "f7169ef1b0a840d99919a72a5cd0f6a1": {
      "model_module": "@jupyter-widgets/base",
      "model_module_version": "1.2.0",
      "model_name": "LayoutModel",
      "state": {}
     },
     "f860bd31f7054578a16182bf2731afbb": {
      "model_module": "@jupyter-widgets/controls",
      "model_module_version": "1.5.0",
      "model_name": "CheckboxModel",
      "state": {
       "description": "Use Advanced Selector?",
       "disabled": true,
       "layout": "IPY_MODEL_44e9e3720b204f0f8a6a534413cd897a",
       "style": "IPY_MODEL_39e4471315b74e41901962f774b9a94e",
       "value": false
      }
     },
     "f8cb6037f60f4c6f82f258d7aae7a8a7": {
      "model_module": "@jupyter-widgets/base",
      "model_module_version": "1.2.0",
      "model_name": "LayoutModel",
      "state": {}
     },
     "f97f3387026c45c984d55fca32054323": {
      "model_module": "@jupyter-widgets/base",
      "model_module_version": "1.2.0",
      "model_name": "LayoutModel",
      "state": {}
     },
     "fa173b3f9cc243c2babc9ce60d1a5425": {
      "model_module": "@jupyter-widgets/controls",
      "model_module_version": "1.5.0",
      "model_name": "SelectMultipleModel",
      "state": {
       "_options_labels": [
        "agile",
        "finesse",
        "rage",
        "unarmed",
        "fear",
        "mental",
        "poison",
        "disease",
        "fear",
        "sweep"
       ],
       "description": "Any",
       "disabled": true,
       "index": [],
       "layout": "IPY_MODEL_df6854d8a0284c5c9dfdb97e5ea09fe3",
       "rows": 5,
       "style": "IPY_MODEL_6b59dda7b41f4ebfab13db247c7f0fc9"
      }
     },
     "fa797c485da14d698eef659dbc8fead7": {
      "model_module": "@jupyter-widgets/base",
      "model_module_version": "1.2.0",
      "model_name": "LayoutModel",
      "state": {}
     },
     "faaeb0dfc1f84a14a270ddffa8a44784": {
      "model_module": "@jupyter-widgets/base",
      "model_module_version": "1.2.0",
      "model_name": "LayoutModel",
      "state": {}
     },
     "fab73e354581452b9f0c71acc0909b43": {
      "model_module": "@jupyter-widgets/controls",
      "model_module_version": "1.5.0",
      "model_name": "DescriptionStyleModel",
      "state": {
       "description_width": ""
      }
     },
     "fb7c12bc7b5449dcb936ff040a01e607": {
      "model_module": "@jupyter-widgets/controls",
      "model_module_version": "1.5.0",
      "model_name": "IntTextModel",
      "state": {
       "description": "Number of dice:",
       "disabled": true,
       "layout": "IPY_MODEL_996a09f6817049739aef0acee211cae0",
       "step": 1,
       "style": "IPY_MODEL_c647711f12094306adac45c18d3abcd2"
      }
     },
     "fba4779a217b4f63a6d87e66dc5d6d3b": {
      "model_module": "@jupyter-widgets/base",
      "model_module_version": "1.2.0",
      "model_name": "LayoutModel",
      "state": {}
     },
     "fc323983a6664b48a1c7bcebcc2a5555": {
      "model_module": "@jupyter-widgets/controls",
      "model_module_version": "1.5.0",
      "model_name": "ButtonStyleModel",
      "state": {}
     },
     "fc49fb8669284a03bbc5f265b5c15346": {
      "model_module": "@jupyter-widgets/controls",
      "model_module_version": "1.5.0",
      "model_name": "ButtonModel",
      "state": {
       "description": "Set Selectors",
       "disabled": true,
       "layout": "IPY_MODEL_482b734e1a13428897f16c270ef7bb79",
       "style": "IPY_MODEL_8cfc7cdd70f44474b81ae2c5dbe2cbd5"
      }
     },
     "fc5d8fb71060426fa698495b08ec5db1": {
      "model_module": "@jupyter-widgets/controls",
      "model_module_version": "1.5.0",
      "model_name": "DropdownModel",
      "state": {
       "_options_labels": [
        "",
        "circumstance",
        "item",
        "status"
       ],
       "description": "Type",
       "disabled": true,
       "index": 0,
       "layout": "IPY_MODEL_43b540a883da42c0b414774297c1b100",
       "style": "IPY_MODEL_2052c812dc504b0ba0cd9b6e59f6b192"
      }
     },
     "fc74ffe8a55c4056a7d63570dffd0c35": {
      "model_module": "@jupyter-widgets/controls",
      "model_module_version": "1.5.0",
      "model_name": "SelectMultipleModel",
      "state": {
       "_options_labels": [
        "agile",
        "finesse",
        "rage",
        "unarmed",
        "fear",
        "mental",
        "poison",
        "disease",
        "fear",
        "sweep"
       ],
       "description": "Predicate:All",
       "disabled": true,
       "index": [],
       "layout": "IPY_MODEL_20d9a66303fe4d99993eab3e85caecd9",
       "rows": 5,
       "style": "IPY_MODEL_a1218e2deedc41488b344e525869b8fa"
      }
     },
     "fc8bb78bd64f4cfa969edb4fd07af46d": {
      "model_module": "@jupyter-widgets/controls",
      "model_module_version": "1.5.0",
      "model_name": "DescriptionStyleModel",
      "state": {
       "description_width": ""
      }
     },
     "fcd6bda0fb684746a7168acb131ae656": {
      "model_module": "@jupyter-widgets/base",
      "model_module_version": "1.2.0",
      "model_name": "LayoutModel",
      "state": {}
     },
     "fcfc0690b3294b29981f314bbe0e8e49": {
      "model_module": "@jupyter-widgets/controls",
      "model_module_version": "1.5.0",
      "model_name": "DescriptionStyleModel",
      "state": {
       "description_width": ""
      }
     },
     "fd22c942a6cd41c493c492a0b9838684": {
      "model_module": "@jupyter-widgets/controls",
      "model_module_version": "1.5.0",
      "model_name": "ButtonModel",
      "state": {
       "description": "Reset",
       "layout": "IPY_MODEL_270f35daa73b4db09c997367715d2442",
       "style": "IPY_MODEL_0d3764ad430a43788841b8206c252c4c"
      }
     },
     "fe0ff97172464c88baffe33e7a6f3218": {
      "model_module": "@jupyter-widgets/controls",
      "model_module_version": "1.5.0",
      "model_name": "DescriptionStyleModel",
      "state": {
       "description_width": ""
      }
     },
     "fecef6d8cf8b42c29bea1686c4040990": {
      "model_module": "@jupyter-widgets/base",
      "model_module_version": "1.2.0",
      "model_name": "LayoutModel",
      "state": {}
     },
     "ff44d6c2e56e435e9fd1149dd7e8ac3e": {
      "model_module": "@jupyter-widgets/base",
      "model_module_version": "1.2.0",
      "model_name": "LayoutModel",
      "state": {}
     },
     "ff91462e1e3945c6812d51391aaf1f58": {
      "model_module": "@jupyter-widgets/base",
      "model_module_version": "1.2.0",
      "model_name": "LayoutModel",
      "state": {}
     },
     "ffba580b35744f609233ef3038ed0e70": {
      "model_module": "@jupyter-widgets/controls",
      "model_module_version": "1.5.0",
      "model_name": "IntTextModel",
      "state": {
       "description": "Value:",
       "disabled": true,
       "layout": "IPY_MODEL_dd1c168621964ab193bcf5fc8085008c",
       "step": 1,
       "style": "IPY_MODEL_2479235ae637496896f57ff6b1ad8a21"
      }
     },
     "ffe578c4f193435a963a38454eec8a94": {
      "model_module": "@jupyter-widgets/controls",
      "model_module_version": "1.5.0",
      "model_name": "ButtonModel",
      "state": {
       "description": "Set Selectors",
       "disabled": true,
       "layout": "IPY_MODEL_ec73e570bee4400291457d7983657154",
       "style": "IPY_MODEL_95fed0e9637e4d62a44ce8961369335c"
      }
     }
    },
    "version_major": 2,
    "version_minor": 0
   }
  }
 },
 "nbformat": 4,
 "nbformat_minor": 5
}
