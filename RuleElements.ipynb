{
 "cells": [
  {
   "cell_type": "code",
   "execution_count": 2,
   "id": "handled-fairy",
   "metadata": {
    "tags": [
     "hide-input"
    ]
   },
   "outputs": [
    {
     "data": {
      "application/vnd.jupyter.widget-view+json": {
       "model_id": "17e20d6394b84457a941a77678f15947",
       "version_major": 2,
       "version_minor": 0
      },
      "text/plain": [
       "Dropdown(description='Key:', options=('Flat Modifier', 'Damage Dice', 'Weapon Potency', 'Striking rune', 'Mult…"
      ]
     },
     "metadata": {},
     "output_type": "display_data"
    },
    {
     "data": {
      "application/vnd.jupyter.widget-view+json": {
       "model_id": "711ca389337e481b8cc999cf870356cf",
       "version_major": 2,
       "version_minor": 0
      },
      "text/plain": [
       "Button(description='Select Key', style=ButtonStyle())"
      ]
     },
     "metadata": {},
     "output_type": "display_data"
    },
    {
     "data": {
      "application/vnd.jupyter.widget-view+json": {
       "model_id": "d508a41abd0b4904a4af10232f54976c",
       "version_major": 2,
       "version_minor": 0
      },
      "text/plain": [
       "Dropdown(description='Selector', disabled=True, options=('all', 'str-based', 'dex-based', 'con-based', 'int-ba…"
      ]
     },
     "metadata": {},
     "output_type": "display_data"
    },
    {
     "data": {
      "application/vnd.jupyter.widget-view+json": {
       "model_id": "cacdead091284426a2a53ffc90594514",
       "version_major": 2,
       "version_minor": 0
      },
      "text/plain": [
       "Dropdown(description='Advanced Selector', disabled=True, options=(('no advanced selector', ''), ('Only this it…"
      ]
     },
     "metadata": {},
     "output_type": "display_data"
    },
    {
     "data": {
      "application/vnd.jupyter.widget-view+json": {
       "model_id": "4520b23a4086424686b7abd8a8473499",
       "version_major": 2,
       "version_minor": 0
      },
      "text/plain": [
       "Button(description='Set Selectors', disabled=True, style=ButtonStyle())"
      ]
     },
     "metadata": {},
     "output_type": "display_data"
    },
    {
     "data": {
      "application/vnd.jupyter.widget-view+json": {
       "model_id": "6342b84f8d714f399e6a24a2a9940300",
       "version_major": 2,
       "version_minor": 0
      },
      "text/plain": [
       "Dropdown(description='Damage type', disabled=True, options=('', 'slashing', 'piercing', 'bludgeoning', 'precis…"
      ]
     },
     "metadata": {},
     "output_type": "display_data"
    },
    {
     "data": {
      "application/vnd.jupyter.widget-view+json": {
       "model_id": "ae472ed84e944e3b9f805abf91483c8d",
       "version_major": 2,
       "version_minor": 0
      },
      "text/plain": [
       "IntText(value=0, description='Value:', disabled=True)"
      ]
     },
     "metadata": {},
     "output_type": "display_data"
    },
    {
     "data": {
      "application/vnd.jupyter.widget-view+json": {
       "model_id": "289c12d939f54a4c9ceb2d6a2df4ea29",
       "version_major": 2,
       "version_minor": 0
      },
      "text/plain": [
       "IntText(value=0, description='Number of dice:', disabled=True)"
      ]
     },
     "metadata": {},
     "output_type": "display_data"
    },
    {
     "data": {
      "application/vnd.jupyter.widget-view+json": {
       "model_id": "a51312d20906416682bf61d193b7f8b6",
       "version_major": 2,
       "version_minor": 0
      },
      "text/plain": [
       "Dropdown(description='Die size:', disabled=True, options=('', 'd4', 'd6', 'd8', 'd10', 'd12'), value='')"
      ]
     },
     "metadata": {},
     "output_type": "display_data"
    },
    {
     "data": {
      "application/vnd.jupyter.widget-view+json": {
       "model_id": "2ab7e6b2664f43c9ba360d500214a3ef",
       "version_major": 2,
       "version_minor": 0
      },
      "text/plain": [
       "Checkbox(value=False, description='Override base damage?', disabled=True, indent=False)"
      ]
     },
     "metadata": {},
     "output_type": "display_data"
    },
    {
     "data": {
      "application/vnd.jupyter.widget-view+json": {
       "model_id": "6c17452259b94b7fb0cba3e3922152b6",
       "version_major": 2,
       "version_minor": 0
      },
      "text/plain": [
       "Dropdown(description='Type', disabled=True, options=('', 'circumstance', 'item', 'status'), value='')"
      ]
     },
     "metadata": {},
     "output_type": "display_data"
    },
    {
     "data": {
      "application/vnd.jupyter.widget-view+json": {
       "model_id": "6b13ee221e1c4d4fa43551dcbca52727",
       "version_major": 2,
       "version_minor": 0
      },
      "text/plain": [
       "SelectMultiple(description='Predicate:All', disabled=True, options=('agile', 'finesse', 'rage', 'unarmed', 'fe…"
      ]
     },
     "metadata": {},
     "output_type": "display_data"
    },
    {
     "data": {
      "application/vnd.jupyter.widget-view+json": {
       "model_id": "90a022173c574633984aa2de2d536966",
       "version_major": 2,
       "version_minor": 0
      },
      "text/plain": [
       "SelectMultiple(description='Any', disabled=True, options=('agile', 'finesse', 'rage', 'unarmed', 'fear', 'ment…"
      ]
     },
     "metadata": {},
     "output_type": "display_data"
    },
    {
     "data": {
      "application/vnd.jupyter.widget-view+json": {
       "model_id": "c0fbb7daa5d349878fe04d928d9cbc69",
       "version_major": 2,
       "version_minor": 0
      },
      "text/plain": [
       "SelectMultiple(description='Not', disabled=True, options=('agile', 'finesse', 'rage', 'unarmed', 'fear', 'ment…"
      ]
     },
     "metadata": {},
     "output_type": "display_data"
    },
    {
     "data": {
      "application/vnd.jupyter.widget-view+json": {
       "model_id": "9977ce6e67884893909cea0dc25969c2",
       "version_major": 2,
       "version_minor": 0
      },
      "text/plain": [
       "Button(description='Create Rule Element', disabled=True, style=ButtonStyle())"
      ]
     },
     "metadata": {},
     "output_type": "display_data"
    },
    {
     "data": {
      "application/vnd.jupyter.widget-view+json": {
       "model_id": "6a8e0eb2088d469594ee07f1e46fdbc9",
       "version_major": 2,
       "version_minor": 0
      },
      "text/plain": [
       "Button(description='Reset', style=ButtonStyle())"
      ]
     },
     "metadata": {},
     "output_type": "display_data"
    }
   ],
   "source": [
    "import pandas as pd\n",
    "import ipywidgets as widgets\n",
    "import csv\n",
    "from IPython.display import HTML\n",
    "\n",
    "\n",
    "ElementDF = pd.read_csv('RuleElements.csv')\n",
    "SelectorList = pd.read_csv('selectors.csv').columns.to_list()\n",
    "OptionList = pd.read_csv('options.csv').columns.to_list()\n",
    "CommonPredicates = ['agile','finesse','rage','unarmed','fear','mental','poison','disease','fear','sweep']\n",
    "DamageTypes = ['','slashing','piercing','bludgeoning','precision','fire','cold','electricity','acid','poison',\n",
    "               'sonic','force','mental','lawful','chaotic','good','evil','positive','negative']\n",
    "\n",
    "def MakeRuleElement(Key,Options):\n",
    "    ####################################################################\n",
    "    # This takes in a key and options for that key and builds a rule element.\n",
    "    #\n",
    "    # key -- A string giving the key for the rule element.\n",
    "    # options -- An array of strings containing the options for the rule element\n",
    "    ####################################################################\n",
    "    \n",
    "    RuleElement = '{\"key\\\":\\\"' + Key + '\"'\n",
    "    \n",
    "    for Option in Options:\n",
    "        RuleElement += ',' + Option\n",
    "    \n",
    "    RuleElement += '}'\n",
    "    \n",
    "    return print(RuleElement)\n",
    "\n",
    "def GetPropertyList(row):\n",
    "    ####################################################################\n",
    "    # This returns a list of the applicable rule elements.\n",
    "    #\n",
    "    # To be used with df.apply(), this is a utility function and just\n",
    "    # helps to store values.  It does not need to be run except to add \n",
    "    # new properties.\n",
    "    ####################################################################\n",
    "    \n",
    "    row = row[PropertyList]\n",
    "    \n",
    "    passed = row[row == 'y'].index.tolist()\n",
    "    return(passed)\n",
    "\n",
    "def PreparePredicates(All, Any, Not):\n",
    "    ####################################################################\n",
    "    # This puts the predacate lists together into a single entity\n",
    "    #\n",
    "    # All -- List containing predicates which must all be satisfied\n",
    "    # Any -- List containing predicates where one must be satified.\n",
    "    # Not -- !All\n",
    "    ####################################################################\n",
    "    \n",
    "    Predicate = str()\n",
    "    \n",
    "    if len(All + Any + Not) > 0:\n",
    "        Predicate += '\\\"predicate\\\":{'\n",
    "    \n",
    "    if len(All) > 0:\n",
    "        Predicate += '\\\"all\\\":[\\\"'\n",
    "        i = 1\n",
    "        for each in All:\n",
    "            if i == len(All):\n",
    "                Predicate += each + '\\\"'\n",
    "            else:\n",
    "                Predicate += each + '\\\",\\\"'\n",
    "                i += 1\n",
    "        Predicate += ']'\n",
    "        \n",
    "        if len(Any + Not) > 0:\n",
    "            Predicate += ','\n",
    "            \n",
    "    if len(Any) > 0:\n",
    "        Predicate += '\\\"any\\\":[\\\"'\n",
    "        i = 1\n",
    "        for each in Any:\n",
    "            if i == len(Any):\n",
    "                Predicate += each + '\\\"'\n",
    "            else:\n",
    "                Predicate += each + '\\\",\\\"'\n",
    "                i += 1\n",
    "        Predicate += ']'\n",
    "        \n",
    "        if len(Not) > 0:\n",
    "            Predicate += ','\n",
    "            \n",
    "    if len(Not) > 0:\n",
    "        Predicate += '\\\"not\\\":[\\\"'\n",
    "        i = 1\n",
    "        for each in Not:\n",
    "            if i == len(Not):\n",
    "                Predicate += each + '\\\"'\n",
    "            else:\n",
    "                Predicate += each + '\\\",\\\"'\n",
    "                i += 1\n",
    "        Predicate += ']'\n",
    "\n",
    "    if len(All + Any + Not) > 0:\n",
    "        Predicate += '}'\n",
    "        \n",
    "    return Predicate\n",
    "\n",
    "\n",
    "def PrepareOptions(Selector, AdvancedSelector, Value, Type, DamageType, DieSize, DiceNumber, Predicate, Label, Name, Override):\n",
    "    ####################################################################\n",
    "    # This brings each option together and puts them into a single string.\n",
    "    #\n",
    "    # All inputs are strings with the exception of value, which is an integer.\n",
    "    ####################################################################\n",
    "    \n",
    "    Options = []\n",
    "    \n",
    "    if len(Selector) > 0:\n",
    "        Options += ['\"selector\":\"' + AdvancedSelector + Selector + '\"']\n",
    "    \n",
    "    if len(DamageType) > 0:\n",
    "        if DamageType == 'precision':\n",
    "            Options += ['\"damageCategory\":\"' + DamageType + '\"']\n",
    "        else:\n",
    "            Options += ['\"damageType\":\"' + DamageType + '\"']\n",
    "\n",
    "    if len(DieSize) > 0:\n",
    "        if Override:\n",
    "            Options += ['\"override\":{\"dieSize\":\"' + DieSize + '\"}']\n",
    "        else:\n",
    "            Options += ['\"dieSize\":\"' + DieSize + '\"']\n",
    "        \n",
    "    if DiceNumber > 0:\n",
    "        Options += ['\"diceNumber\":' + str(DiceNumber)]\n",
    "    \n",
    "    if abs(Value) > 0:\n",
    "        Options += ['\"value\":' + str(Value)]\n",
    "        \n",
    "    if len(Type) > 0:\n",
    "        Options += ['\"type\":\"' + Type + '\"']\n",
    "        \n",
    "    if len(Predicate) >0:\n",
    "        Options += [Predicate]\n",
    "    \n",
    "    if Label:\n",
    "        Options += ['\"label\":\"YOUR TEXT HERE\"']\n",
    "    \n",
    "    if Name:\n",
    "        Options += ['\"name\":\"YOUR TEXT HERE\"']\n",
    "        \n",
    "    return Options\n",
    "\n",
    "PropertyList = SelectorList\n",
    "ElementDF['ValidSelectors'] = ElementDF.apply(GetPropertyList,axis = 1)\n",
    "\n",
    "PropertyList = OptionList\n",
    "ElementDF['ValidOptions'] = ElementDF.apply(GetPropertyList,axis = 1)\n",
    "\n",
    "Key = widgets.Dropdown(\n",
    "options=ElementDF.FriendlyName.tolist(),\n",
    "value=ElementDF.FriendlyName.tolist()[0],\n",
    "description='Key:',\n",
    "disabled=False\n",
    ")\n",
    "\n",
    "All = widgets.SelectMultiple(\n",
    "options=CommonPredicates,\n",
    "value=[],\n",
    "description='Predicate:All',\n",
    "disabled=True )\n",
    "\n",
    "Any = widgets.SelectMultiple(\n",
    "options=CommonPredicates,\n",
    "value=[],\n",
    "description='Any',\n",
    "disabled=True )\n",
    "\n",
    "Not = widgets.SelectMultiple(\n",
    "options=CommonPredicates,\n",
    "value=[],\n",
    "description='Not',\n",
    "disabled=True )\n",
    "\n",
    "Selector = widgets.Dropdown(\n",
    "options=ElementDF.ValidSelectors[ElementDF.FriendlyName == Key.value].values[0],\n",
    "value='all',\n",
    "description='Selector',\n",
    "disabled=True)\n",
    "\n",
    "AdvancedSelector = widgets.Dropdown(\n",
    "options=[('no advanced selector',''),('Only this item','{item|_id}-'),('swords','sword-weapon-group-'),('bows','bow-weapon-group-'),('knives','knife-weapon-group-'),('spears','spear-weapon-group-'),('axes','axe-weapon-group-'),('hammers','hammer-weapon-group-'),('picks','pick-weapon-group-'),('flails','flail-weapon-group-'),('brawling','brawling-weapon-group-'),('polearms','polearm-weapon-group-'),('sling','sling-weapon-group-'),('bombs','bomb-weapon-group-'),('shields','shield-weapon-group-'),('darts','dart-weapon-group-'),('clubs','clubs-weapon-group-')],\n",
    "value='',\n",
    "description='Advanced Selector',\n",
    "disabled=True )\n",
    "\n",
    "Label = widgets.Checkbox(\n",
    "value=False,\n",
    "description='Add a label?',\n",
    "disabled=True,\n",
    "indent=False\n",
    ")\n",
    "\n",
    "Name = widgets.Checkbox(\n",
    "value=False,\n",
    "description='Add a Name?',\n",
    "disabled=True,\n",
    "indent=False\n",
    ")\n",
    "\n",
    "DamageType = widgets.Dropdown(\n",
    "options=DamageTypes,\n",
    "value='',\n",
    "description='Damage type',\n",
    "disabled=True )\n",
    "\n",
    "Value = widgets.IntText(\n",
    "value=0,\n",
    "description='Value:',\n",
    "disabled=True)\n",
    "\n",
    "DiceNumber = widgets.IntText(\n",
    "value=0,\n",
    "description='Number of dice:',\n",
    "disabled=True )\n",
    "\n",
    "DieSize = widgets.Dropdown(\n",
    "options=['','d4','d6','d8','d10','d12'],\n",
    "value='',\n",
    "description='Die size:',\n",
    "disabled=True )\n",
    "\n",
    "Override = widgets.Checkbox(\n",
    "value=False,\n",
    "description='Override base damage?',\n",
    "disabled=True,\n",
    "indent=False )\n",
    "\n",
    "Type = widgets.Dropdown(\n",
    "options=['','circumstance','item','status'],\n",
    "value='',\n",
    "description='Type',\n",
    "disabled=True )\n",
    "\n",
    "UseAdvancedSelector = widgets.Checkbox(\n",
    "value=False,\n",
    "description = 'Use Advanced Selector?',\n",
    "disabled=True\n",
    ")\n",
    "\n",
    "def ResetState(b):\n",
    "    Selector.options = ElementDF.ValidSelectors[ElementDF.FriendlyName == Key.value].values[0]\n",
    "    Selector.value = ElementDF.ValidSelectors[ElementDF.FriendlyName == Key.value].values[0][0]\n",
    "    \n",
    "    AdvancedSelector.value=''\n",
    "    \n",
    "    Selector.disabled=True\n",
    "    AdvancedSelector.disabled=True\n",
    "    \n",
    "    DamageType.disabled=True\n",
    "    Value.disabled=True\n",
    "    DiceNumber.disabled=True\n",
    "    DieSize.disabled=True\n",
    "    Override.disabled=True\n",
    "    Type.disabled=True\n",
    "    All.disabled=True\n",
    "    Any.disabled=True\n",
    "    Not.disabled=True\n",
    "    Label.disabled=True\n",
    "    Name.disabled=True\n",
    "    FinishButton.disabled=True\n",
    "    \n",
    "    Label.value=False\n",
    "    Name.value=False\n",
    "    DamageType.value=''\n",
    "    Value.value=0\n",
    "    DiceNumber.value=0\n",
    "    DieSize.value=''\n",
    "    Override.value=False\n",
    "    Type.value=''\n",
    "    UseAdvancedSelector.value=False\n",
    "    \n",
    "    return\n",
    "\n",
    "def SetKey(b):\n",
    "    \n",
    "    ResetState(1)\n",
    "    \n",
    "    Selector.disabled=False\n",
    "    AdvancedSelector.disabled=False\n",
    "    SelectorButton.disabled=False\n",
    "    \n",
    "    return \n",
    "\n",
    "def SetSelector(b):\n",
    "    \n",
    "    Label.value=False\n",
    "    Name.value=False\n",
    "    DamageType.value=''\n",
    "    Value.value=0\n",
    "    DiceNumber.value=0\n",
    "    DieSize.value=''\n",
    "    Override.value=False\n",
    "    Type.value=''\n",
    "    UseAdvancedSelector.value=False\n",
    "    \n",
    "    if (('damage' in Selector.value) and (Key.value != 'Striking rune')):\n",
    "        DamageType.disabled=False\n",
    "\n",
    "    if 'value' in ElementDF.ValidOptions[ElementDF.FriendlyName == Key.value].values[0]:\n",
    "        Value.disabled=False\n",
    "\n",
    "    if 'diceNumber' in ElementDF.ValidOptions[ElementDF.FriendlyName == Key.value].values[0]:\n",
    "        DiceNumber.disabled=False\n",
    "\n",
    "    if 'dieSize' in ElementDF.ValidOptions[ElementDF.FriendlyName == Key.value].values[0]:\n",
    "        DieSize.disabled=False\n",
    "        Override.disabled=False\n",
    "\n",
    "    if 'type' in ElementDF.ValidOptions[ElementDF.FriendlyName == Key.value].values[0]:\n",
    "        Type.disabled=False\n",
    "\n",
    "    if 'predicate' in ElementDF.ValidOptions[ElementDF.FriendlyName == Key.value].values[0]:\n",
    "        All.disabled=False\n",
    "        Any.disabled=False\n",
    "        Not.disabled=False\n",
    "\n",
    "    Label.disabled=False\n",
    "    Name.disabled=False\n",
    "    \n",
    "    FinishButton.disabled=False\n",
    "    \n",
    "    return\n",
    "\n",
    "def FinishElement(b):\n",
    "\n",
    "    Predicate = PreparePredicates(All.value, Any.value, Not.value)\n",
    "    Options = PrepareOptions(Selector.value, AdvancedSelector.value, Value.value, Type.value, DamageType.value, DieSize.value, DiceNumber.value, Predicate, Label.value, Name.value, Override.value)\n",
    "\n",
    "    MakeRuleElement(ElementDF.Key[ElementDF.FriendlyName == Key.value].values[0],Options)\n",
    "    \n",
    "    return\n",
    "\n",
    "KeyButton = widgets.Button(description = \"Select Key\")\n",
    "SelectorButton = widgets.Button(description = \"Set Selectors\", disabled=True)\n",
    "FinishButton = widgets.Button(description = \"Create Rule Element\", disabled=True)\n",
    "ResetButton = widgets.Button(description = \"Reset\")\n",
    "\n",
    "display(Key)\n",
    "display(KeyButton)\n",
    "\n",
    "display(Selector)\n",
    "display(AdvancedSelector)\n",
    "display(SelectorButton)\n",
    "\n",
    "display(DamageType)\n",
    "display(Value)\n",
    "display(DiceNumber)\n",
    "display(DieSize)\n",
    "display(Override)\n",
    "display(Type)\n",
    "display(All)\n",
    "display(Any)\n",
    "display(Not)\n",
    "display(FinishButton)\n",
    "display(ResetButton)\n",
    "\n",
    "KeyButton.on_click(SetKey)\n",
    "SelectorButton.on_click(SetSelector)\n",
    "FinishButton.on_click(FinishElement)\n",
    "ResetButton.on_click(ResetState)"
   ]
  },
  {
   "cell_type": "code",
   "execution_count": 3,
   "id": "fabulous-earthquake",
   "metadata": {},
   "outputs": [
    {
     "data": {
      "text/html": [
       "<script>\n",
       "code_show=true; \n",
       "function code_toggle() {\n",
       " if (code_show){\n",
       " $('div.input').hide();\n",
       " } else {\n",
       " $('div.input').show();\n",
       " }\n",
       " code_show = !code_show\n",
       "} \n",
       "$( document ).ready(code_toggle);\n",
       "</script>\n",
       "<form action=\"javascript:code_toggle()\"><input type=\"submit\" value=\"Click here to toggle on/off the raw code.\"></form>"
      ],
      "text/plain": [
       "<IPython.core.display.HTML object>"
      ]
     },
     "execution_count": 3,
     "metadata": {},
     "output_type": "execute_result"
    }
   ],
   "source": [
    "HTML('''<script>\n",
    "code_show=true; \n",
    "function code_toggle() {\n",
    " if (code_show){\n",
    " $('div.input').hide();\n",
    " } else {\n",
    " $('div.input').show();\n",
    " }\n",
    " code_show = !code_show\n",
    "} \n",
    "$( document ).ready(code_toggle);\n",
    "</script>\n",
    "<form action=\"javascript:code_toggle()\"><input type=\"submit\" value=\"Click here to toggle on/off the raw code.\"></form>''')"
   ]
  },
  {
   "cell_type": "code",
   "execution_count": null,
   "id": "binary-adaptation",
   "metadata": {},
   "outputs": [],
   "source": []
  },
  {
   "cell_type": "code",
   "execution_count": null,
   "id": "emerging-preservation",
   "metadata": {},
   "outputs": [],
   "source": []
  },
  {
   "cell_type": "code",
   "execution_count": null,
   "id": "polish-violation",
   "metadata": {},
   "outputs": [],
   "source": []
  },
  {
   "cell_type": "code",
   "execution_count": null,
   "id": "dramatic-notice",
   "metadata": {
    "scrolled": false
   },
   "outputs": [],
   "source": []
  },
  {
   "cell_type": "code",
   "execution_count": null,
   "id": "automatic-depression",
   "metadata": {
    "scrolled": false
   },
   "outputs": [],
   "source": []
  },
  {
   "cell_type": "code",
   "execution_count": null,
   "id": "scenic-portfolio",
   "metadata": {},
   "outputs": [],
   "source": []
  },
  {
   "cell_type": "code",
   "execution_count": null,
   "id": "personalized-gazette",
   "metadata": {
    "scrolled": true
   },
   "outputs": [],
   "source": []
  },
  {
   "cell_type": "code",
   "execution_count": null,
   "id": "discrete-jacket",
   "metadata": {},
   "outputs": [],
   "source": []
  },
  {
   "cell_type": "code",
   "execution_count": null,
   "id": "light-bidder",
   "metadata": {},
   "outputs": [],
   "source": []
  },
  {
   "cell_type": "code",
   "execution_count": null,
   "id": "conceptual-edward",
   "metadata": {},
   "outputs": [],
   "source": []
  },
  {
   "cell_type": "code",
   "execution_count": null,
   "id": "liked-living",
   "metadata": {},
   "outputs": [],
   "source": []
  },
  {
   "cell_type": "code",
   "execution_count": null,
   "id": "micro-timing",
   "metadata": {},
   "outputs": [],
   "source": []
  },
  {
   "cell_type": "code",
   "execution_count": null,
   "id": "celtic-drill",
   "metadata": {},
   "outputs": [],
   "source": []
  },
  {
   "cell_type": "code",
   "execution_count": null,
   "id": "abandoned-danger",
   "metadata": {},
   "outputs": [],
   "source": []
  },
  {
   "cell_type": "code",
   "execution_count": null,
   "id": "russian-indication",
   "metadata": {
    "scrolled": true
   },
   "outputs": [],
   "source": []
  },
  {
   "cell_type": "code",
   "execution_count": null,
   "id": "blocked-grill",
   "metadata": {},
   "outputs": [],
   "source": []
  },
  {
   "cell_type": "code",
   "execution_count": null,
   "id": "damaged-appraisal",
   "metadata": {},
   "outputs": [],
   "source": []
  },
  {
   "cell_type": "code",
   "execution_count": null,
   "id": "cardiac-lender",
   "metadata": {},
   "outputs": [],
   "source": []
  },
  {
   "cell_type": "code",
   "execution_count": null,
   "id": "exotic-relaxation",
   "metadata": {},
   "outputs": [],
   "source": []
  }
 ],
 "metadata": {
  "kernelspec": {
   "display_name": "Python 3",
   "language": "python",
   "name": "python3"
  },
  "language_info": {
   "codemirror_mode": {
    "name": "ipython",
    "version": 3
   },
   "file_extension": ".py",
   "mimetype": "text/x-python",
   "name": "python",
   "nbconvert_exporter": "python",
   "pygments_lexer": "ipython3",
   "version": "3.7.9"
  }
 },
 "nbformat": 4,
 "nbformat_minor": 5
}
