{
 "cells": [
  {
   "cell_type": "code",
   "execution_count": 1,
   "id": "handled-fairy",
   "metadata": {},
   "outputs": [],
   "source": [
    "import pandas as pd\n",
    "import ipywidgets as widgets\n",
    "import csv"
   ]
  },
  {
   "cell_type": "code",
   "execution_count": 2,
   "id": "fabulous-earthquake",
   "metadata": {},
   "outputs": [],
   "source": [
    "ElementDF = pd.read_csv('RuleElements.csv')\n",
    "SelectorList = pd.read_csv('selectors.csv').columns.to_list()\n",
    "OptionList = pd.read_csv('options.csv').columns.to_list()\n",
    "CommonPredicates = ['agile','finesse','rage','unarmed','fear','mental','poison','disease','fear','sweep']\n",
    "DamageTypes = ['','slashing','piercing','bludgeoning','precision','fire','cold','electricity','acid','poison','sonic','force','mental','lawful','chaotic','good','evil','positive','negative']"
   ]
  },
  {
   "cell_type": "code",
   "execution_count": 3,
   "id": "binary-adaptation",
   "metadata": {},
   "outputs": [],
   "source": [
    "def MakeRuleElement(Key,Options):\n",
    "    ####################################################################\n",
    "    # This takes in a key and options for that key and builds a rule element.\n",
    "    #\n",
    "    # key -- A string giving the key for the rule element.\n",
    "    # options -- An array of strings containing the options for the rule element\n",
    "    ####################################################################\n",
    "    \n",
    "    RuleElement = '{\"key\\\":\\\"' + Key + '\"'\n",
    "    \n",
    "    for Option in Options:\n",
    "        RuleElement += ',' + Option\n",
    "    \n",
    "    RuleElement += '}'\n",
    "    \n",
    "    return print(RuleElement)\n",
    "\n",
    "def GetPropertyList(row):\n",
    "    ####################################################################\n",
    "    # This returns a list of the applicable rule elements.\n",
    "    #\n",
    "    # To be used with df.apply(), this is a utility function and just\n",
    "    # helps to store values.  It does not need to be run except to add \n",
    "    # new properties.\n",
    "    ####################################################################\n",
    "    \n",
    "    row = row[PropertyList]\n",
    "    \n",
    "    passed = row[row == 'y'].index.tolist()\n",
    "    return(passed)\n",
    "\n",
    "def PreparePredicates(All, Any, Not):\n",
    "    ####################################################################\n",
    "    # This puts the predacate lists together into a single entity\n",
    "    #\n",
    "    # All -- List containing predicates which must all be satisfied\n",
    "    # Any -- List containing predicates where one must be satified.\n",
    "    # Not -- !All\n",
    "    ####################################################################\n",
    "    \n",
    "    Predicate = str()\n",
    "    \n",
    "    if len(All + Any + Not) > 0:\n",
    "        Predicate += '\\\"predicate\\\":{'\n",
    "    \n",
    "    if len(All) > 0:\n",
    "        Predicate += '\\\"all\\\":[\\\"'\n",
    "        i = 1\n",
    "        for each in All:\n",
    "            if i == len(All):\n",
    "                Predicate += each + '\\\"'\n",
    "            else:\n",
    "                Predicate += each + '\\\",\\\"'\n",
    "                i += 1\n",
    "        Predicate += ']'\n",
    "        \n",
    "        if len(Any + Not) > 0:\n",
    "            Predicate += ','\n",
    "            \n",
    "    if len(Any) > 0:\n",
    "        Predicate += '\\\"any\\\":[\\\"'\n",
    "        i = 1\n",
    "        for each in Any:\n",
    "            if i == len(Any):\n",
    "                Predicate += each + '\\\"'\n",
    "            else:\n",
    "                Predicate += each + '\\\",\\\"'\n",
    "                i += 1\n",
    "        Predicate += ']'\n",
    "        \n",
    "        if len(Not) > 0:\n",
    "            Predicate += ','\n",
    "            \n",
    "    if len(Not) > 0:\n",
    "        Predicate += '\\\"not\\\":[\\\"'\n",
    "        i = 1\n",
    "        for each in Not:\n",
    "            if i == len(Not):\n",
    "                Predicate += each + '\\\"'\n",
    "            else:\n",
    "                Predicate += each + '\\\",\\\"'\n",
    "                i += 1\n",
    "        Predicate += ']'\n",
    "\n",
    "    if len(All + Any + Not) > 0:\n",
    "        Predicate += '}'\n",
    "        \n",
    "    return Predicate\n",
    "\n",
    "\n",
    "def PrepareOptions(Selector, AdvancedSelector, Value, Type, DamageType, DieSize, DiceNumber, Predicate, Label, Name, Override):\n",
    "    ####################################################################\n",
    "    # This brings each option together and puts them into a single string.\n",
    "    #\n",
    "    # All inputs are strings with the exception of value, which is an integer.\n",
    "    ####################################################################\n",
    "    \n",
    "    Options = []\n",
    "    \n",
    "    if len(Selector) > 0:\n",
    "        Options += ['\"selector\":\"' + AdvancedSelector + Selector + '\"']\n",
    "    \n",
    "    if len(DamageType) > 0:\n",
    "        if DamageType == 'precision':\n",
    "            Options += ['\"damageCategory\":\"' + DamageType + '\"']\n",
    "        else:\n",
    "            Options += ['\"damageType\":\"' + DamageType + '\"']\n",
    "\n",
    "    if len(DieSize) > 0:\n",
    "        if Override:\n",
    "            Options += ['\"override\":{\"dieSize\":\"' + DieSize + '\"}']\n",
    "        else:\n",
    "            Options += ['\"dieSize\":\"' + DieSize + '\"']\n",
    "        \n",
    "    if DiceNumber > 0:\n",
    "        Options += ['\"diceNumber\":' + str(DiceNumber)]\n",
    "    \n",
    "    if abs(Value) > 0:\n",
    "        Options += ['\"value\":' + str(Value)]\n",
    "        \n",
    "    if len(Type) > 0:\n",
    "        Options += ['\"type\":\"' + Type + '\"']\n",
    "        \n",
    "    if len(Predicate) >0:\n",
    "        Options += [Predicate]\n",
    "    \n",
    "    if Label:\n",
    "        Options += ['\"label\":\"YOUR TEXT HERE\"']\n",
    "    \n",
    "    if Name:\n",
    "        Options += ['\"name\":\"YOUR TEXT HERE\"']\n",
    "        \n",
    "    return Options"
   ]
  },
  {
   "cell_type": "code",
   "execution_count": 4,
   "id": "emerging-preservation",
   "metadata": {},
   "outputs": [],
   "source": [
    "PropertyList = SelectorList\n",
    "ElementDF['ValidSelectors'] = ElementDF.apply(GetPropertyList,axis = 1)\n",
    "\n",
    "PropertyList = OptionList\n",
    "ElementDF['ValidOptions'] = ElementDF.apply(GetPropertyList,axis = 1)"
   ]
  },
  {
   "cell_type": "code",
   "execution_count": 5,
   "id": "polish-violation",
   "metadata": {},
   "outputs": [],
   "source": [
    "Key = widgets.Dropdown(\n",
    "    options=ElementDF.FriendlyName.tolist(),\n",
    "    value=ElementDF.FriendlyName.tolist()[0],\n",
    "    description='Key:',\n",
    "    disabled=False\n",
    ")\n",
    "\n",
    "All = widgets.SelectMultiple(\n",
    "        options=CommonPredicates,\n",
    "        value=[],\n",
    "        description='Predicate:All',\n",
    "        disabled=False )\n",
    "Any = widgets.SelectMultiple(\n",
    "        options=CommonPredicates,\n",
    "        value=[],\n",
    "        description='Any',\n",
    "        disabled=False )\n",
    "Not = widgets.SelectMultiple(\n",
    "        options=CommonPredicates,\n",
    "        value=[],\n",
    "        description='Not',\n",
    "        disabled=False )\n",
    "\n",
    "Selector = widgets.Dropdown(\n",
    "options=ElementDF.ValidSelectors[ElementDF.FriendlyName == Key.value].values[0],\n",
    "value='all',\n",
    "description='Selector',\n",
    "disabled=False)\n",
    "\n",
    "AdvancedSelector = widgets.Dropdown(\n",
    "options=[('no advanced selector',''),('Only this item','{item|_id}-'),('swords','sword-weapon-group-'),('bows','bow-weapon-group-'),('knives','knife-weapon-group-'),('spears','spear-weapon-group-'),('axes','axe-weapon-group-'),('hammers','hammer-weapon-group-'),('picks','pick-weapon-group-'),('flails','flail-weapon-group-'),('brawling','brawling-weapon-group-'),('polearms','polearm-weapon-group-'),('sling','sling-weapon-group-'),('bombs','bomb-weapon-group-'),('shields','shield-weapon-group-'),('darts','dart-weapon-group-'),('clubs','clubs-weapon-group-')],\n",
    "value='',\n",
    "description='Advanced Selector',\n",
    "disabled=False )\n",
    "\n",
    "Label = widgets.Checkbox(\n",
    "    value=False,\n",
    "    description='Add a label?',\n",
    "    disabled=False,\n",
    "    indent=False\n",
    ")\n",
    "\n",
    "Name = widgets.Checkbox(\n",
    "    value=False,\n",
    "    description='Add a Name?',\n",
    "    disabled=False,\n",
    "    indent=False\n",
    ")\n",
    "\n",
    "DamageType = widgets.Dropdown(\n",
    "options=DamageTypes,\n",
    "value='',\n",
    "description='Damage type',\n",
    "disabled=False )\n",
    "\n",
    "Value = widgets.IntText(\n",
    "value=0,\n",
    "description='Value:',\n",
    "disabled=False)\n",
    "\n",
    "DiceNumber = widgets.IntText(\n",
    "value=0,\n",
    "description='Number of dice:',\n",
    "disabled=False )\n",
    "DieSize = widgets.Dropdown(\n",
    "options=['','d4','d6','d8','d10','d12'],\n",
    "value='',\n",
    "description='Die size:',\n",
    "disabled=False )\n",
    "\n",
    "Override = widgets.Checkbox(\n",
    "value=False,\n",
    "description='Override base damage?',\n",
    "disabled=False,\n",
    "indent=False )\n",
    "\n",
    "Type = widgets.Dropdown(\n",
    "options=['','circumstance','item','status'],\n",
    "value='',\n",
    "description='Type',\n",
    "disabled=False )"
   ]
  },
  {
   "cell_type": "code",
   "execution_count": 6,
   "id": "dramatic-notice",
   "metadata": {
    "scrolled": false
   },
   "outputs": [
    {
     "data": {
      "application/vnd.jupyter.widget-view+json": {
       "model_id": "ae1eef4f499741e99b6d71196e7e1aba",
       "version_major": 2,
       "version_minor": 0
      },
      "text/plain": [
       "Dropdown(description='Key:', options=('Flat Modifier', 'Damage Dice', 'Weapon Potency', 'Striking rune', 'Mult…"
      ]
     },
     "metadata": {},
     "output_type": "display_data"
    },
    {
     "data": {
      "application/vnd.jupyter.widget-view+json": {
       "model_id": "cd89a1212bae4e23889889a965087d82",
       "version_major": 2,
       "version_minor": 0
      },
      "text/plain": [
       "Button(description='Select Key', style=ButtonStyle())"
      ]
     },
     "metadata": {},
     "output_type": "display_data"
    },
    {
     "data": {
      "application/vnd.jupyter.widget-view+json": {
       "model_id": "5597db644f5a490884498f9d0d8387b6",
       "version_major": 2,
       "version_minor": 0
      },
      "text/plain": [
       "Dropdown(description='Selector', options=('all', 'str-based', 'dex-based', 'con-based', 'int-based', 'wis-base…"
      ]
     },
     "metadata": {},
     "output_type": "display_data"
    },
    {
     "data": {
      "application/vnd.jupyter.widget-view+json": {
       "model_id": "fff9fb212c5c47ecae89cdaf8538e8a6",
       "version_major": 2,
       "version_minor": 0
      },
      "text/plain": [
       "Dropdown(description='Advanced Selector', options=(('no advanced selector', ''), ('Only this item', '{item|_id…"
      ]
     },
     "metadata": {},
     "output_type": "display_data"
    },
    {
     "data": {
      "application/vnd.jupyter.widget-view+json": {
       "model_id": "75dc5d5d2e9e4c0dbf546cbcd8ce977d",
       "version_major": 2,
       "version_minor": 0
      },
      "text/plain": [
       "Button(description='Set Selectors', style=ButtonStyle())"
      ]
     },
     "metadata": {},
     "output_type": "display_data"
    },
    {
     "data": {
      "application/vnd.jupyter.widget-view+json": {
       "model_id": "735fc6cd813c4adda9c7aca534732e39",
       "version_major": 2,
       "version_minor": 0
      },
      "text/plain": [
       "IntText(value=0, description='Value:')"
      ]
     },
     "metadata": {},
     "output_type": "display_data"
    },
    {
     "data": {
      "application/vnd.jupyter.widget-view+json": {
       "model_id": "e44ee9039e0c4a52a47155bc6aa3ef40",
       "version_major": 2,
       "version_minor": 0
      },
      "text/plain": [
       "Dropdown(description='Type', options=('', 'circumstance', 'item', 'status'), value='')"
      ]
     },
     "metadata": {},
     "output_type": "display_data"
    },
    {
     "data": {
      "application/vnd.jupyter.widget-view+json": {
       "model_id": "929aefbe36084db5af726fbd15e6706c",
       "version_major": 2,
       "version_minor": 0
      },
      "text/plain": [
       "SelectMultiple(description='Predicate:All', options=('agile', 'finesse', 'rage', 'unarmed', 'fear', 'mental', …"
      ]
     },
     "metadata": {},
     "output_type": "display_data"
    },
    {
     "data": {
      "application/vnd.jupyter.widget-view+json": {
       "model_id": "9f5a01a44bef42398e12a46028635022",
       "version_major": 2,
       "version_minor": 0
      },
      "text/plain": [
       "SelectMultiple(description='Any', options=('agile', 'finesse', 'rage', 'unarmed', 'fear', 'mental', 'poison', …"
      ]
     },
     "metadata": {},
     "output_type": "display_data"
    },
    {
     "data": {
      "application/vnd.jupyter.widget-view+json": {
       "model_id": "22f6b384544748719ae7985b4db2c6ee",
       "version_major": 2,
       "version_minor": 0
      },
      "text/plain": [
       "SelectMultiple(description='Not', options=('agile', 'finesse', 'rage', 'unarmed', 'fear', 'mental', 'poison', …"
      ]
     },
     "metadata": {},
     "output_type": "display_data"
    },
    {
     "data": {
      "application/vnd.jupyter.widget-view+json": {
       "model_id": "bdbe38fc0021466da50c2efc563b92ec",
       "version_major": 2,
       "version_minor": 0
      },
      "text/plain": [
       "Checkbox(value=False, description='Add a label?', indent=False)"
      ]
     },
     "metadata": {},
     "output_type": "display_data"
    },
    {
     "data": {
      "application/vnd.jupyter.widget-view+json": {
       "model_id": "3770af6a2a5943c78765cf6fdef53130",
       "version_major": 2,
       "version_minor": 0
      },
      "text/plain": [
       "Checkbox(value=False, description='Add a Name?', indent=False)"
      ]
     },
     "metadata": {},
     "output_type": "display_data"
    },
    {
     "data": {
      "application/vnd.jupyter.widget-view+json": {
       "model_id": "17f438273dd143598528e7b0ef77247c",
       "version_major": 2,
       "version_minor": 0
      },
      "text/plain": [
       "Button(description='Create Rule Element', style=ButtonStyle())"
      ]
     },
     "metadata": {},
     "output_type": "display_data"
    }
   ],
   "source": [
    "display(Key)\n",
    "\n",
    "KeyButton = widgets.Button(description = \"Select Key\")\n",
    "SelectorButton = widgets.Button(description = \"Set Selectors\")\n",
    "FinishButton = widgets.Button(description = \"Create Rule Element\")\n",
    "\n",
    "def SetKey(b):\n",
    "    \n",
    "    Selector.options = ElementDF.ValidSelectors[ElementDF.FriendlyName == Key.value].values[0]\n",
    "    Selector.value = ElementDF.ValidSelectors[ElementDF.FriendlyName == Key.value].values[0][0]\n",
    "    \n",
    "    return display(Selector), display(AdvancedSelector), display(SelectorButton)\n",
    "\n",
    "def SetSelector(b):\n",
    "    \n",
    "    if (('damage' in Selector.value) and (Key.value != 'Striking rune')):\n",
    "        display(DamageType)\n",
    "\n",
    "    if 'value' in ElementDF.ValidOptions[ElementDF.FriendlyName == Key.value].values[0]:\n",
    "        display(Value)\n",
    "\n",
    "    if 'diceNumber' in ElementDF.ValidOptions[ElementDF.FriendlyName == Key.value].values[0]:\n",
    "        display(DiceNumber)\n",
    "\n",
    "    if 'dieSize' in ElementDF.ValidOptions[ElementDF.FriendlyName == Key.value].values[0]:\n",
    "        display(DieSize)\n",
    "        display(Override)\n",
    "\n",
    "    if 'type' in ElementDF.ValidOptions[ElementDF.FriendlyName == Key.value].values[0]:\n",
    "        display(Type)\n",
    "\n",
    "    if 'predicate' in ElementDF.ValidOptions[ElementDF.FriendlyName == Key.value].values[0]:\n",
    "        display(All)\n",
    "        display(Any)\n",
    "        display(Not)\n",
    "\n",
    "    display(Label)\n",
    "    display(Name)\n",
    "    \n",
    "    display(FinishButton)\n",
    "    \n",
    "    return\n",
    "\n",
    "def FinishElement(b):\n",
    "\n",
    "    Predicate = PreparePredicates(All.value, Any.value, Not.value)\n",
    "    Options = PrepareOptions(Selector.value, AdvancedSelector.value, Value.value, Type.value, DamageType.value, DieSize.value, DiceNumber.value, Predicate, Label.value, Name.value, Override.value)\n",
    "\n",
    "    MakeRuleElement(ElementDF.Key[ElementDF.FriendlyName == Key.value].values[0],Options)\n",
    "    \n",
    "    return\n",
    "\n",
    "display(KeyButton)\n",
    "\n",
    "KeyButton.on_click(SetKey)\n",
    "SelectorButton.on_click(SetSelector)\n",
    "FinishButton.on_click(FinishElement)"
   ]
  },
  {
   "cell_type": "code",
   "execution_count": null,
   "id": "automatic-depression",
   "metadata": {
    "scrolled": false
   },
   "outputs": [],
   "source": []
  },
  {
   "cell_type": "code",
   "execution_count": null,
   "id": "scenic-portfolio",
   "metadata": {},
   "outputs": [],
   "source": []
  },
  {
   "cell_type": "code",
   "execution_count": null,
   "id": "personalized-gazette",
   "metadata": {
    "scrolled": true
   },
   "outputs": [],
   "source": []
  },
  {
   "cell_type": "code",
   "execution_count": null,
   "id": "discrete-jacket",
   "metadata": {},
   "outputs": [],
   "source": []
  },
  {
   "cell_type": "code",
   "execution_count": null,
   "id": "light-bidder",
   "metadata": {},
   "outputs": [],
   "source": []
  },
  {
   "cell_type": "code",
   "execution_count": null,
   "id": "conceptual-edward",
   "metadata": {},
   "outputs": [],
   "source": []
  },
  {
   "cell_type": "code",
   "execution_count": null,
   "id": "liked-living",
   "metadata": {},
   "outputs": [],
   "source": []
  },
  {
   "cell_type": "code",
   "execution_count": null,
   "id": "micro-timing",
   "metadata": {},
   "outputs": [],
   "source": []
  },
  {
   "cell_type": "code",
   "execution_count": null,
   "id": "celtic-drill",
   "metadata": {},
   "outputs": [],
   "source": []
  },
  {
   "cell_type": "code",
   "execution_count": null,
   "id": "abandoned-danger",
   "metadata": {},
   "outputs": [],
   "source": []
  },
  {
   "cell_type": "code",
   "execution_count": null,
   "id": "russian-indication",
   "metadata": {
    "scrolled": true
   },
   "outputs": [],
   "source": []
  },
  {
   "cell_type": "code",
   "execution_count": null,
   "id": "blocked-grill",
   "metadata": {},
   "outputs": [],
   "source": []
  },
  {
   "cell_type": "code",
   "execution_count": null,
   "id": "damaged-appraisal",
   "metadata": {},
   "outputs": [],
   "source": []
  },
  {
   "cell_type": "code",
   "execution_count": null,
   "id": "cardiac-lender",
   "metadata": {},
   "outputs": [],
   "source": []
  },
  {
   "cell_type": "code",
   "execution_count": null,
   "id": "exotic-relaxation",
   "metadata": {},
   "outputs": [],
   "source": []
  }
 ],
 "metadata": {
  "kernelspec": {
   "display_name": "Python 3",
   "language": "python",
   "name": "python3"
  },
  "language_info": {
   "codemirror_mode": {
    "name": "ipython",
    "version": 3
   },
   "file_extension": ".py",
   "mimetype": "text/x-python",
   "name": "python",
   "nbconvert_exporter": "python",
   "pygments_lexer": "ipython3",
   "version": "3.7.9"
  }
 },
 "nbformat": 4,
 "nbformat_minor": 5
}
