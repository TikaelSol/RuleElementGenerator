{
 "cells": [
  {
   "cell_type": "code",
   "execution_count": 2,
   "id": "incredible-estimate",
   "metadata": {},
   "outputs": [
    {
     "name": "stdout",
     "output_type": "stream",
     "text": [
      "Enter number of dice for the bracket starting at level 3\n",
      "1\n",
      "Enter number of dice for the bracket starting at level 7\n",
      "2\n",
      "Enter number of dice for the bracket starting at level 14\n",
      "3\n",
      "\"value\":{\"brackets\":[{\"end\":6,\"start\":3,\"value\":{\"diceNumber\":1}},{\"end\":13,\"start\":7,\"value\":{\"diceNumber\":2}},{\"start\":14,\"value\":{\"diceNumber\":3}}]}\n"
     ]
    }
   ],
   "source": [
    "from IPython.display import clear_output\n",
    "import pandas as pd\n",
    "\n",
    "FieldData = pd.DataFrame({'Name':['level','strength','dexterity','constitution','intelligence','wisdom','charisma','effect level'],\n",
    "                          'ShortName':['','str', 'dex', 'con', 'int', 'wis', 'cha', 'spell'],\n",
    "                          'REName':['','actor|data.abilities.str.value','actor|data.abilities.str.value','actor|data.abilities.str.value',\n",
    "                                   'actor|data.abilities.str.value','actor|data.abilities.str.value','actor|data.abilities.str.value',\n",
    "                                   'item|data.level.value']})\n",
    "\n",
    "print('How many bracket sections?')\n",
    "BracketNumber = int(input())\n",
    "\n",
    "StartAt = []\n",
    "\n",
    "brackets = '\"value\":{\"brackets\":['\n",
    "\n",
    "for i in range(0,BracketNumber):\n",
    "    print('Where does bracket ' + str(i+1) + ' start?')\n",
    "    StartPoint = int(input())\n",
    "    StartAt += [StartPoint]\n",
    "    \n",
    "clear_output()\n",
    "    \n",
    "print('Does this bracket use damage dice? (Y/N)')\n",
    "Dice = str(input())\n",
    "\n",
    "clear_output()\n",
    "\n",
    "print('What field should this use? (enter one of the options below or leave blank to use actor level)')\n",
    "print('Spell refers to the level of the embedded spell or item.')\n",
    "print('(str, dex, con, int, wis, cha, spell)')\n",
    "Field = input()\n",
    "\n",
    "clear_output()\n",
    "\n",
    "if ((Dice == 'Y') | (Dice == 'y')):\n",
    "    for i, number in enumerate(StartAt):\n",
    "        print('Enter number of dice for the bracket starting at ' + FieldData.Name[FieldData.ShortName == Field].values[0] + ' ' + str(number))\n",
    "        Value = int(input())\n",
    "        \n",
    "        if i+1 == BracketNumber:\n",
    "            brackets += '{\"start\":' + str(number) + ',\"value\":{\"diceNumber\":' + str(Value) + '}}]'\n",
    "        else:\n",
    "            brackets += '{\"end\":' + str(StartAt[i+1]-1) + ',\"start\":' + str(StartAt[i]) + ',\"value\":{\"diceNumber\":' + str(Value) + '}},'\n",
    "\n",
    "else:\n",
    "    for i, number in enumerate(StartAt):\n",
    "        print('Enter value for the bracket starting at ' + FieldData.Name[FieldData.ShortName == Field].values[0] + ' ' + str(number))\n",
    "        \n",
    "        Value = int(input())\n",
    "        \n",
    "        if i+1 == BracketNumber:\n",
    "            brackets += '{\"start\":' + str(number) + ',\"value\":' + str(Value) + '}]'\n",
    "        else:\n",
    "            brackets += '{\"end\":' + str(StartAt[i+1]-1) + ',\"start\":' + str(StartAt[i]) + ',\"value\":' + str(Value) + '},'\n",
    "\n",
    "if Field == '':\n",
    "    brackets += '}'\n",
    "else:\n",
    "    brackets += ',\"field\":\"' + FieldData.REName[FieldData.ShortName == Field].values[0] + '\"}'\n",
    "\n",
    "print(brackets)"
   ]
  },
  {
   "cell_type": "code",
   "execution_count": null,
   "id": "rational-prediction",
   "metadata": {},
   "outputs": [],
   "source": []
  },
  {
   "cell_type": "code",
   "execution_count": null,
   "id": "faced-package",
   "metadata": {},
   "outputs": [],
   "source": []
  },
  {
   "cell_type": "code",
   "execution_count": null,
   "id": "annual-garden",
   "metadata": {},
   "outputs": [],
   "source": []
  }
 ],
 "metadata": {
  "kernelspec": {
   "display_name": "Python 3",
   "language": "python",
   "name": "python3"
  },
  "language_info": {
   "codemirror_mode": {
    "name": "ipython",
    "version": 3
   },
   "file_extension": ".py",
   "mimetype": "text/x-python",
   "name": "python",
   "nbconvert_exporter": "python",
   "pygments_lexer": "ipython3",
   "version": "3.7.9"
  }
 },
 "nbformat": 4,
 "nbformat_minor": 5
}
